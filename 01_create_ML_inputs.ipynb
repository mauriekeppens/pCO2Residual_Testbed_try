{
 "cells": [
  {
   "cell_type": "markdown",
   "id": "a2c2d954-9107-43ce-a32d-4c342dde6e17",
   "metadata": {},
   "source": [
    "<span style=\"color:hotpink; font-size:40px; font-weight:bold;\">Packages and imports</span>"
   ]
  },
  {
   "cell_type": "code",
   "execution_count": 2,
   "id": "0c0f50fa-8734-4017-bf34-d45d2eecfb6c",
   "metadata": {},
   "outputs": [],
   "source": [
    "### standard imports ###\n",
    "\n",
    "import numpy as np\n",
    "import pandas as pd\n",
    "import xarray as xr\n",
    "import gcsfs\n",
    "\n",
    "### Python file with supporting functions ###\n",
    "\n",
    "import residual_utils as prerun\n",
    "\n",
    "### set up for getting files from leap bucket ###\n",
    "\n",
    "fs = gcsfs.GCSFileSystem()"
   ]
  },
  {
   "cell_type": "markdown",
   "id": "12b85b39-edd8-4308-80ab-d932e0c00cc0",
   "metadata": {},
   "source": [
    "<span style=\"color:hotpink; font-size:40px; font-weight:bold;\">Setting date range</span>"
   ]
  },
  {
   "cell_type": "code",
   "execution_count": 3,
   "id": "51e85a9b-091c-49b0-a2c5-37c4a8f9dec8",
   "metadata": {},
   "outputs": [],
   "source": [
    "### Setting the date range to unify the date type ###\n",
    "\n",
    "# Define date range\n",
    "date_range_start = '1982-02-01T00:00:00.000000000'\n",
    "date_range_end = '2023-12-31T00:00:00.000000000'\n",
    "\n",
    "# create date vector, adds 14 days to start & end\n",
    "dates = pd.date_range(start=date_range_start, \n",
    "                      end=date_range_end,freq='MS')"
   ]
  },
  {
   "cell_type": "markdown",
   "id": "a48f34c7-f95c-4f5f-8b17-ab2942757657",
   "metadata": {},
   "source": [
    "<span style=\"color:hotpink; font-size:40px; font-weight:bold;\">Setting paths</span>"
   ]
  },
  {
   "cell_type": "code",
   "execution_count": 25,
   "id": "ac7b0da0-1512-4e7b-b254-bfac2ec55622",
   "metadata": {},
   "outputs": [],
   "source": [
    "### set paths ###\n",
    "\n",
    "### paths for loading: ###\n",
    "\n",
    "# directory of regridded members from notebook 00\n",
    "ensemble_dir = \"gs://leap-persistent/abbysh/pco2_all_members_1982-2023/00_regridded_members\" # path to regridded data\n",
    "\n",
    "# directory of reference zarr files\n",
    "zarr_dir = 'gs://leap-persistent/abbysh/zarr_files_'\n",
    "\n",
    "# atmospheric xco2 file\n",
    "xco2_path = f\"{zarr_dir}/xco2_cmip6_183501-224912_monthstart.zarr\"\n",
    "\n",
    "# socat data file\n",
    "socat_path = f\"{zarr_dir}/socat_mask_feb1982-dec2023.zarr\"\n",
    "\n",
    "# topo and land-sea masks\n",
    "topo_path = f\"{zarr_dir}/GEBCO_2014_1x1_global.zarr\"\n",
    "lsmask_path = f\"{zarr_dir}/lsmask.zarr\"\n",
    "\n",
    "#############################################\n",
    "\n",
    "### paths for loading: ###\n",
    "\n",
    "# directory of regridded members from notebook 00\n",
    "ensemble_dir = \"gs://leap-persistent/abbysh/pco2_all_members_1982-2023/00_regridded_members\" # path to regridded data\n",
    "\n",
    "# directory of reference zarr files\n",
    "zarr_dir = 'gs://leap-persistent/abbysh/zarr_files_'\n",
    "\n",
    "# atmospheric xco2 file\n",
    "xco2_path = f\"{zarr_dir}/xco2_cmip6_183501-224912_monthstart.zarr\"\n",
    "\n",
    "# socat data file\n",
    "socat_path = f\"{zarr_dir}/socat_mask_feb1982-dec2023.zarr\"\n",
    "\n",
    "# topo and land-sea masks\n",
    "topo_path = f\"{zarr_dir}/GEBCO_2014_1x1_global.zarr\"\n",
    "lsmask_path = f\"{zarr_dir}/lsmask.zarr\"\n",
    "\n",
    "#############################################\n",
    "\n",
    "### paths for saving: ###\n",
    "\n",
    "your_username = \"mauriekeppens\"\n",
    "\n",
    "# directory of where to save ML inputs from this (01) notebook (save it in your bucket!!)\n",
    "xgb_data_dir = f\"gs://leap-scratch/{your_username}\"\n",
    "# directory of where to save ML inputs from this (01) notebook (save it in your bucket!!)\n",
    "#xgb_data_dir = f\"gs://leap-persistent/{your_username}/pco2_residual/post01_xgb_inputs\" # where to store cleaned data from 01 (this notebook), for use in 02 notebook, for xgboost"
   ]
  },
  {
   "cell_type": "markdown",
   "id": "0ca1bf0f-a66c-4cf0-adfc-2b10c6b544ef",
   "metadata": {},
   "source": [
    "<span style=\"color:hotpink; font-size:40px; font-weight:bold;\">Calculating chlorophyll climatology</span>"
   ]
  },
  {
   "cell_type": "markdown",
   "id": "4ac783a3-0b38-44ca-8934-88dd975dccb7",
   "metadata": {},
   "source": [
    "Here is where clorophyll climatology is calculated. Climatology is calculated from model output 01-1998 through the end of the time period (here, 12-2023), by calculating the monthly average chlorophyll of the whole time period. This climatology is saved in a separate file in the individual regridded member folders. This file is currently used to set feature variables for ML in notebook 02, but those feature variables are not *actually used* for the ML. \n",
    "\n",
    "You do not need to run this code, because chlorophyll climatology is already saved in the regridded members directory that you're loading from."
   ]
  },
  {
   "cell_type": "code",
   "execution_count": 27,
   "id": "25079b36-0329-4c6e-b8b9-088699c42141",
   "metadata": {
    "scrolled": true
   },
   "outputs": [],
   "source": [
    "### chl_clim code here ###\n",
    "\n",
    "# a = fs.ls(ensemble_dir)\n",
    "# for ens_path in a[1:]:\n",
    "#     ens = ens_path.split('/')[-1]\n",
    "#     mems = fs.ls(ens_path)\n",
    "#     for mem in mems:\n",
    "#         memo = mem.split('/')[-1]\n",
    "#         zarrs = fs.ls(mem)\n",
    "#         for z in zarrs:\n",
    "#             zarr_name = z.split('/')[-1]\n",
    "#             d = xr.open_mfdataset('gs://'+z,engine='zarr')\n",
    "#             chl = d.chl\n",
    "\n",
    "#             ### year selection ### remove hard code ###\n",
    "#             chl_clim = chl.sel(time=slice('1998-01-01', '2023-12-30')).groupby(\"time.month\").mean(\"time\")\n",
    "\n",
    "#             if 'lev_partial' in chl_clim.dims:\n",
    "#                 chl_clim = chl_clim.sel({'lev_partial':1},drop=True)\n",
    "            \n",
    "#             chl_out_new = xr.Dataset({'chl_clim':([\"month\",\"lat\",\"lon\"],chl_clim.data)},\n",
    "#                     coords={'time': (['month'],chl_clim.month.data),\n",
    "#                             'lon':(['lon'],chl_clim.xlon.data),\n",
    "#                             'lat': (['lat'],chl_clim.ylat.data)})\n",
    "            \n",
    "#             # print(chl_out_new)\n",
    "#             out_path = f'{ensemble_dir}/{ens}/{memo}/chlclim_{zarr_name}'\n",
    "#             print(out_path,chl_out_new)\n",
    "#             chl_out_new.to_zarr(out_path)\n",
    "#             print(f'finished with {ens}:{memo}')"
   ]
  },
  {
   "cell_type": "markdown",
   "id": "2fa8172a-c36a-4c38-aaea-fcc082406f6c",
   "metadata": {},
   "source": [
    "<span style=\"color:hotpink; font-size:40px; font-weight:bold;\">Loading list of ESMs and members in testbed</span>"
   ]
  },
  {
   "cell_type": "markdown",
   "id": "327a0975-a6ab-466e-baf8-49fc0079ecab",
   "metadata": {},
   "source": [
    "<span style=\"color:lightblue; font-size:30px; font-weight:bold;\">For all members for each ESM</span>"
   ]
  },
  {
   "cell_type": "code",
   "execution_count": 28,
   "id": "1c2aed97-baa6-486a-be0f-017f0abea3db",
   "metadata": {},
   "outputs": [],
   "source": [
    "### loads list of Earth System Models (\"ensembles\") and members for the full testbed ###\n",
    "\n",
    "ensembles = []\n",
    "for path in fs.ls(ensemble_dir):\n",
    "    ens = path.split('/')[-1].split('.')[0]\n",
    "    if ens not in ensembles:\n",
    "        ensembles.append(ens)\n",
    "\n",
    "mems_dict = dict()\n",
    "a = fs.ls(ensemble_dir)\n",
    "for ens_path in a:\n",
    "    ens = ens_path.split('/')[-1]\n",
    "    mems = fs.ls(ens_path)\n",
    "    for mem in mems:\n",
    "        memo = mem.split('/')[-1]\n",
    "        \n",
    "        if ens not in mems_dict:\n",
    "            mems_dict[ens] = [memo]\n",
    "\n",
    "        elif ens in mems_dict:\n",
    "            mems_dict[ens].append(memo)"
   ]
  },
  {
   "cell_type": "code",
   "execution_count": 29,
   "id": "75eed1ea-45b6-478c-938d-460c30e1084f",
   "metadata": {},
   "outputs": [
    {
     "data": {
      "text/plain": [
       "{'00_regridded_members': ['00_regridded_members',\n",
       "  'ACCESS-ESM1-5',\n",
       "  'CESM2',\n",
       "  'CESM2-WACCM',\n",
       "  'CMCC-ESM2',\n",
       "  'CanESM5',\n",
       "  'CanESM5-CanOE',\n",
       "  'GFDL-ESM4',\n",
       "  'MPI-ESM1-2-LR',\n",
       "  'UKESM1-0-LL'],\n",
       " 'ACCESS-ESM1-5': ['member_r10i1p1f1',\n",
       "  'member_r15i1p1f1',\n",
       "  'member_r17i1p1f1',\n",
       "  'member_r1i1p1f1',\n",
       "  'member_r22i1p1f1',\n",
       "  'member_r26i1p1f1',\n",
       "  'member_r27i1p1f1',\n",
       "  'member_r2i1p1f1',\n",
       "  'member_r31i1p1f1',\n",
       "  'member_r32i1p1f1',\n",
       "  'member_r33i1p1f1',\n",
       "  'member_r34i1p1f1',\n",
       "  'member_r35i1p1f1',\n",
       "  'member_r36i1p1f1',\n",
       "  'member_r37i1p1f1',\n",
       "  'member_r38i1p1f1',\n",
       "  'member_r39i1p1f1',\n",
       "  'member_r3i1p1f1',\n",
       "  'member_r40i1p1f1',\n",
       "  'member_r4i1p1f1',\n",
       "  'member_r5i1p1f1',\n",
       "  'member_r7i1p1f1',\n",
       "  'member_r8i1p1f1'],\n",
       " 'CESM2': ['member_r10i1p1f1', 'member_r11i1p1f1', 'member_r4i1p1f1'],\n",
       " 'CESM2-WACCM': ['member_r1i1p1f1', 'member_r2i1p1f1', 'member_r3i1p1f1'],\n",
       " 'CMCC-ESM2': ['member_r1i1p1f1'],\n",
       " 'CanESM5': ['member_r10i1p1f1',\n",
       "  'member_r10i1p2f1',\n",
       "  'member_r1i1p1f1',\n",
       "  'member_r1i1p2f1',\n",
       "  'member_r2i1p1f1',\n",
       "  'member_r2i1p2f1',\n",
       "  'member_r3i1p1f1',\n",
       "  'member_r3i1p2f1',\n",
       "  'member_r4i1p1f1',\n",
       "  'member_r4i1p2f1',\n",
       "  'member_r5i1p1f1',\n",
       "  'member_r5i1p2f1',\n",
       "  'member_r6i1p1f1',\n",
       "  'member_r6i1p2f1',\n",
       "  'member_r7i1p1f1',\n",
       "  'member_r7i1p2f1',\n",
       "  'member_r8i1p1f1',\n",
       "  'member_r8i1p2f1',\n",
       "  'member_r9i1p1f1',\n",
       "  'member_r9i1p2f1'],\n",
       " 'CanESM5-CanOE': ['member_r1i1p2f1', 'member_r2i1p2f1', 'member_r3i1p2f1'],\n",
       " 'GFDL-ESM4': ['member_r1i1p1f1'],\n",
       " 'MPI-ESM1-2-LR': ['member_r10i1p1f1',\n",
       "  'member_r11i1p1f1',\n",
       "  'member_r12i1p1f1',\n",
       "  'member_r13i1p1f1',\n",
       "  'member_r14i1p1f1',\n",
       "  'member_r15i1p1f1',\n",
       "  'member_r16i1p1f1',\n",
       "  'member_r17i1p1f1',\n",
       "  'member_r18i1p1f1',\n",
       "  'member_r19i1p1f1',\n",
       "  'member_r1i1p1f1',\n",
       "  'member_r20i1p1f1',\n",
       "  'member_r21i1p1f1',\n",
       "  'member_r22i1p1f1',\n",
       "  'member_r23i1p1f1',\n",
       "  'member_r24i1p1f1',\n",
       "  'member_r25i1p1f1',\n",
       "  'member_r26i1p1f1',\n",
       "  'member_r27i1p1f1',\n",
       "  'member_r28i1p1f1',\n",
       "  'member_r29i1p1f1',\n",
       "  'member_r2i1p1f1',\n",
       "  'member_r30i1p1f1',\n",
       "  'member_r31i1p1f1',\n",
       "  'member_r32i1p1f1',\n",
       "  'member_r33i1p1f1',\n",
       "  'member_r34i1p1f1',\n",
       "  'member_r35i1p1f1',\n",
       "  'member_r36i1p1f1',\n",
       "  'member_r37i1p1f1',\n",
       "  'member_r38i1p1f1',\n",
       "  'member_r39i1p1f1',\n",
       "  'member_r3i1p1f1',\n",
       "  'member_r40i1p1f1',\n",
       "  'member_r45i1p1f1',\n",
       "  'member_r46i1p1f1',\n",
       "  'member_r47i1p1f1',\n",
       "  'member_r48i1p1f1',\n",
       "  'member_r49i1p1f1',\n",
       "  'member_r4i1p1f1',\n",
       "  'member_r50i1p1f1',\n",
       "  'member_r5i1p1f1',\n",
       "  'member_r6i1p1f1',\n",
       "  'member_r7i1p1f1',\n",
       "  'member_r8i1p1f1',\n",
       "  'member_r9i1p1f1'],\n",
       " 'UKESM1-0-LL': ['member_r1i1p1f2',\n",
       "  'member_r2i1p1f2',\n",
       "  'member_r3i1p1f2',\n",
       "  'member_r4i1p1f2',\n",
       "  'member_r8i1p1f2']}"
      ]
     },
     "execution_count": 29,
     "metadata": {},
     "output_type": "execute_result"
    }
   ],
   "source": [
    "mems_dict"
   ]
  },
  {
   "cell_type": "markdown",
   "id": "4ff0ed15-1e6c-4d03-bae5-08d2c0251460",
   "metadata": {},
   "source": [
    "<span style=\"color:hotpink; font-size:40px; font-weight:bold;\">Running code to make ML inputs</span>"
   ]
  },
  {
   "cell_type": "code",
   "execution_count": 40,
   "id": "c74108d1-c24c-499f-9c31-28bdf2362088",
   "metadata": {},
   "outputs": [
    {
     "name": "stdout",
     "output_type": "stream",
     "text": [
      "Files found: ['leap-persistent/abbysh/pco2_all_members_1982-2023/00_regridded_members/CESM2/member_r10i1p1f1/CESM2.r10i1p1f1.Omon.zarr', 'leap-persistent/abbysh/pco2_all_members_1982-2023/00_regridded_members/CESM2/member_r10i1p1f1/chlclim_CESM2.r10i1p1f1.Omon.zarr']\n"
     ]
    }
   ],
   "source": [
    "import gcsfs\n",
    "fs = gcsfs.GCSFileSystem()\n",
    "\n",
    "ensemble_dir = \"gs://leap-persistent/abbysh/pco2_all_members_1982-2023/00_regridded_members\"\n",
    "ens = \"CESM2\"   # example\n",
    "member = \"member_r10i1p1f1\"\n",
    "\n",
    "files = fs.glob(f\"{ensemble_dir}/{ens}/{member}/*\")\n",
    "print(\"Files found:\", files)\n"
   ]
  },
  {
   "cell_type": "code",
   "execution_count": 37,
   "id": "2decae71-ec96-413c-9c03-787be4647631",
   "metadata": {},
   "outputs": [
    {
     "name": "stdout",
     "output_type": "stream",
     "text": [
      "making dataframe 0: ('00_regridded_members', '00_regridded_members')\n"
     ]
    },
    {
     "ename": "IndexError",
     "evalue": "list index out of range",
     "output_type": "error",
     "traceback": [
      "\u001b[0;31m---------------------------------------------------------------------------\u001b[0m",
      "\u001b[0;31mIndexError\u001b[0m                                Traceback (most recent call last)",
      "Cell \u001b[0;32mIn[37], line 15\u001b[0m\n\u001b[1;32m     12\u001b[0m \u001b[38;5;28mprint\u001b[39m(\u001b[38;5;124mf\u001b[39m\u001b[38;5;124m'\u001b[39m\u001b[38;5;124mmaking dataframe \u001b[39m\u001b[38;5;132;01m{\u001b[39;00mmember_counter\u001b[38;5;132;01m}\u001b[39;00m\u001b[38;5;124m: \u001b[39m\u001b[38;5;132;01m{\u001b[39;00mens,member\u001b[38;5;132;01m}\u001b[39;00m\u001b[38;5;124m'\u001b[39m)\n\u001b[1;32m     14\u001b[0m \u001b[38;5;66;03m### uses utility function file to make data into dataframe for ML use\u001b[39;00m\n\u001b[0;32m---> 15\u001b[0m df \u001b[38;5;241m=\u001b[39m \u001b[43mprerun\u001b[49m\u001b[38;5;241;43m.\u001b[39;49m\u001b[43mcreate_inputs\u001b[49m\u001b[43m(\u001b[49m\u001b[43mensemble_dir\u001b[49m\u001b[43m,\u001b[49m\u001b[43m \u001b[49m\u001b[43mens\u001b[49m\u001b[43m,\u001b[49m\u001b[43m \u001b[49m\u001b[43mmember\u001b[49m\u001b[43m,\u001b[49m\u001b[43m \u001b[49m\u001b[43mdates\u001b[49m\u001b[43m,\u001b[49m\u001b[43m \u001b[49m\u001b[43mN_time\u001b[49m\u001b[43m,\u001b[49m\n\u001b[1;32m     16\u001b[0m \u001b[43m                          \u001b[49m\u001b[43mxco2_path\u001b[49m\u001b[43m,\u001b[49m\n\u001b[1;32m     17\u001b[0m \u001b[43m                          \u001b[49m\u001b[43msocat_path\u001b[49m\u001b[43m,\u001b[49m\n\u001b[1;32m     18\u001b[0m \u001b[43m                          \u001b[49m\u001b[43mtopo_path\u001b[49m\u001b[43m,\u001b[49m\n\u001b[1;32m     19\u001b[0m \u001b[43m                          \u001b[49m\u001b[43mlsmask_path\u001b[49m\u001b[43m)\u001b[49m\n\u001b[1;32m     21\u001b[0m \u001b[38;5;66;03m### Save the pandas dataframe to workspace\u001b[39;00m\n\u001b[1;32m     22\u001b[0m prerun\u001b[38;5;241m.\u001b[39msave_clean_data(df, xgb_data_dir, ens, member, dates)\n",
      "File \u001b[0;32m~/pCO2Residual_Testbed_try/residual_utils.py:411\u001b[0m, in \u001b[0;36mcreate_inputs\u001b[0;34m(ensemble_dir_head, ens, member, dates, N_time, xco2_path, socat_path, topo_path, lsmask_path, N_batch)\u001b[0m\n\u001b[1;32m    372\u001b[0m \u001b[38;5;28;01mdef\u001b[39;00m\u001b[38;5;250m \u001b[39m\u001b[38;5;21mcreate_inputs\u001b[39m(ensemble_dir_head, ens, member, dates, N_time,\n\u001b[1;32m    373\u001b[0m                   xco2_path, socat_path, topo_path, lsmask_path,\n\u001b[1;32m    374\u001b[0m                   N_batch \u001b[38;5;241m=\u001b[39m \u001b[38;5;241m12\u001b[39m): \u001b[38;5;66;03m#N_batch should be number of months\u001b[39;00m\n\u001b[1;32m    375\u001b[0m \u001b[38;5;250m    \u001b[39m\u001b[38;5;124;03m\"\"\"\u001b[39;00m\n\u001b[1;32m    376\u001b[0m \u001b[38;5;124;03m    Creates inputs for machine learning in notebook 02.\u001b[39;00m\n\u001b[1;32m    377\u001b[0m \n\u001b[0;32m   (...)\u001b[0m\n\u001b[1;32m    409\u001b[0m \u001b[38;5;124;03m    \u001b[39;00m\n\u001b[1;32m    410\u001b[0m \u001b[38;5;124;03m    \"\"\"\u001b[39;00m\n\u001b[0;32m--> 411\u001b[0m     DS, DS_xco2 \u001b[38;5;241m=\u001b[39m \u001b[43mimport_member_data\u001b[49m\u001b[43m(\u001b[49m\u001b[43mensemble_dir_head\u001b[49m\u001b[43m,\u001b[49m\u001b[43mens\u001b[49m\u001b[43m,\u001b[49m\u001b[43mmember\u001b[49m\u001b[43m,\u001b[49m\u001b[43mxco2_path\u001b[49m\u001b[43m,\u001b[49m\u001b[43msocat_path\u001b[49m\u001b[43m,\u001b[49m\u001b[43mdates\u001b[49m\u001b[43m)\u001b[49m\n\u001b[1;32m    412\u001b[0m     df \u001b[38;5;241m=\u001b[39m DS\u001b[38;5;241m.\u001b[39mto_dataframe()\n\u001b[1;32m    413\u001b[0m     df \u001b[38;5;241m=\u001b[39m create_features(df, N_time, N_batch \u001b[38;5;241m=\u001b[39m N_batch)\n",
      "File \u001b[0;32m~/pCO2Residual_Testbed_try/residual_utils.py:265\u001b[0m, in \u001b[0;36mimport_member_data\u001b[0;34m(ensemble_dir_head, ens, member, xco2_path, socat_path, dates, files_ext)\u001b[0m\n\u001b[1;32m    262\u001b[0m \u001b[38;5;28;01melif\u001b[39;00m files_ext \u001b[38;5;241m==\u001b[39m \u001b[38;5;124m'\u001b[39m\u001b[38;5;124mzarr\u001b[39m\u001b[38;5;124m'\u001b[39m:\n\u001b[1;32m    263\u001b[0m     file_engine \u001b[38;5;241m=\u001b[39m \u001b[38;5;124m'\u001b[39m\u001b[38;5;124mzarr\u001b[39m\u001b[38;5;124m'\u001b[39m\n\u001b[0;32m--> 265\u001b[0m member_path \u001b[38;5;241m=\u001b[39m \u001b[43mfs\u001b[49m\u001b[38;5;241;43m.\u001b[39;49m\u001b[43mglob\u001b[49m\u001b[43m(\u001b[49m\u001b[38;5;124;43mf\u001b[39;49m\u001b[38;5;124;43m\"\u001b[39;49m\u001b[38;5;132;43;01m{\u001b[39;49;00m\u001b[43mensemble_dir_head\u001b[49m\u001b[38;5;132;43;01m}\u001b[39;49;00m\u001b[38;5;124;43m/\u001b[39;49m\u001b[38;5;132;43;01m{\u001b[39;49;00m\u001b[43mens\u001b[49m\u001b[38;5;132;43;01m}\u001b[39;49;00m\u001b[38;5;124;43m/\u001b[39;49m\u001b[38;5;132;43;01m{\u001b[39;49;00m\u001b[43mmember\u001b[49m\u001b[38;5;132;43;01m}\u001b[39;49;00m\u001b[38;5;124;43m/\u001b[39;49m\u001b[38;5;132;43;01m{\u001b[39;49;00m\u001b[43mens\u001b[49m\u001b[38;5;132;43;01m}\u001b[39;49;00m\u001b[38;5;124;43m*.\u001b[39;49m\u001b[38;5;132;43;01m{\u001b[39;49;00m\u001b[43mfiles_ext\u001b[49m\u001b[38;5;132;43;01m}\u001b[39;49;00m\u001b[38;5;124;43m\"\u001b[39;49m\u001b[43m)\u001b[49m\u001b[43m[\u001b[49m\u001b[38;5;241;43m0\u001b[39;49m\u001b[43m]\u001b[49m\n\u001b[1;32m    267\u001b[0m chl_clim_path \u001b[38;5;241m=\u001b[39m fs\u001b[38;5;241m.\u001b[39mglob(\u001b[38;5;124mf\u001b[39m\u001b[38;5;124m\"\u001b[39m\u001b[38;5;132;01m{\u001b[39;00mensemble_dir_head\u001b[38;5;132;01m}\u001b[39;00m\u001b[38;5;124m/\u001b[39m\u001b[38;5;132;01m{\u001b[39;00mens\u001b[38;5;132;01m}\u001b[39;00m\u001b[38;5;124m/\u001b[39m\u001b[38;5;132;01m{\u001b[39;00mmember\u001b[38;5;132;01m}\u001b[39;00m\u001b[38;5;124m/chlclim*.\u001b[39m\u001b[38;5;132;01m{\u001b[39;00mfiles_ext\u001b[38;5;132;01m}\u001b[39;00m\u001b[38;5;124m\"\u001b[39m)[\u001b[38;5;241m0\u001b[39m]\n\u001b[1;32m    269\u001b[0m member_data \u001b[38;5;241m=\u001b[39m xr\u001b[38;5;241m.\u001b[39mopen_dataset(\u001b[38;5;124m'\u001b[39m\u001b[38;5;124mgs://\u001b[39m\u001b[38;5;124m'\u001b[39m\u001b[38;5;241m+\u001b[39mmember_path, engine\u001b[38;5;241m=\u001b[39mfile_engine)\u001b[38;5;241m.\u001b[39msel(time\u001b[38;5;241m=\u001b[39m\u001b[38;5;28mslice\u001b[39m(\u001b[38;5;28mstr\u001b[39m(dates[\u001b[38;5;241m0\u001b[39m]),\u001b[38;5;28mstr\u001b[39m(dates[\u001b[38;5;241m-\u001b[39m\u001b[38;5;241m1\u001b[39m])))\n",
      "\u001b[0;31mIndexError\u001b[0m: list index out of range"
     ]
    }
   ],
   "source": [
    "### creating pandas dataframes out of \"raw\" data to prep for ML ###\n",
    "\n",
    "N_time = len(dates)\n",
    "member_counter = 0 \n",
    "\n",
    "### loop through each ESM\n",
    "for ens, mem_list in mems_dict.items(): \n",
    "\n",
    "    ### loop through each member of that ESM\n",
    "    for member in mem_list:\n",
    "        \n",
    "        print(f'making dataframe {member_counter}: {ens,member}')\n",
    "\n",
    "        ### uses utility function file to make data into dataframe for ML use\n",
    "        df = prerun.create_inputs(ensemble_dir, ens, member, dates, N_time,\n",
    "                                  xco2_path,\n",
    "                                  socat_path,\n",
    "                                  topo_path,\n",
    "                                  lsmask_path)\n",
    "\n",
    "        ### Save the pandas dataframe to workspace\n",
    "        prerun.save_clean_data(df, xgb_data_dir, ens, member, dates)\n",
    "        member_counter += 1"
   ]
  }
 ],
 "metadata": {
  "kernelspec": {
   "display_name": "Python 3 (ipykernel)",
   "language": "python",
   "name": "python3"
  },
  "language_info": {
   "codemirror_mode": {
    "name": "ipython",
    "version": 3
   },
   "file_extension": ".py",
   "mimetype": "text/x-python",
   "name": "python",
   "nbconvert_exporter": "python",
   "pygments_lexer": "ipython3",
   "version": "3.12.11"
  }
 },
 "nbformat": 4,
 "nbformat_minor": 5
}
