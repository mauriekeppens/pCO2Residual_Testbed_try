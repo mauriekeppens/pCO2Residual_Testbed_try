{
 "cells": [
  {
   "cell_type": "markdown",
   "id": "a2c2d954-9107-43ce-a32d-4c342dde6e17",
   "metadata": {},
   "source": [
    "<span style=\"color:hotpink; font-size:40px; font-weight:bold;\">Packages and imports</span>"
   ]
  },
  {
   "cell_type": "code",
   "execution_count": 39,
   "id": "0c0f50fa-8734-4017-bf34-d45d2eecfb6c",
   "metadata": {},
   "outputs": [],
   "source": [
    "### standard imports ###\n",
    "\n",
    "import numpy as np\n",
    "import pandas as pd\n",
    "import xarray as xr\n",
    "import gcsfs\n",
    "\n",
    "### Python file with supporting functions ###\n",
    "\n",
    "import residual_utils as prerun\n",
    "\n",
    "### set up for getting files from leap bucket ###\n",
    "\n",
    "fs = gcsfs.GCSFileSystem()"
   ]
  },
  {
   "cell_type": "markdown",
   "id": "12b85b39-edd8-4308-80ab-d932e0c00cc0",
   "metadata": {},
   "source": [
    "<span style=\"color:hotpink; font-size:40px; font-weight:bold;\">Setting date range</span>"
   ]
  },
  {
   "cell_type": "code",
   "execution_count": 3,
   "id": "51e85a9b-091c-49b0-a2c5-37c4a8f9dec8",
   "metadata": {},
   "outputs": [],
   "source": [
    "### Setting the date range to unify the date type ###\n",
    "\n",
    "# Define date range\n",
    "date_range_start = '1982-02-01T00:00:00.000000000'\n",
    "date_range_end = '2023-12-31T00:00:00.000000000'\n",
    "\n",
    "# create date vector, adds 14 days to start & end\n",
    "dates = pd.date_range(start=date_range_start, \n",
    "                      end=date_range_end,freq='MS')"
   ]
  },
  {
   "cell_type": "markdown",
   "id": "a48f34c7-f95c-4f5f-8b17-ab2942757657",
   "metadata": {},
   "source": [
    "<span style=\"color:hotpink; font-size:40px; font-weight:bold;\">Setting paths</span>"
   ]
  },
  {
   "cell_type": "code",
   "execution_count": 40,
   "id": "ac7b0da0-1512-4e7b-b254-bfac2ec55622",
   "metadata": {},
   "outputs": [],
   "source": [
    "### set paths ###\n",
    "\n",
    "### paths for loading: ###\n",
    "# directory of regridded members from notebook 00\n",
    "ensemble_dir = 'gs://leap-persistent/mauriekeppens/Ensemble_Testbed_Analysis/00_regridded_members' # includes 121 members\n",
    "# directory of reference zarr files\n",
    "zarr_dir = 'gs://leap-persistent/abbysh/zarr_files_'\n",
    "\n",
    "### loading: ###\n",
    "# atmospheric xco2 file\n",
    "xco2_path = f\"{zarr_dir}/xco2_cmip6_183501-224912_monthstart.zarr\"\n",
    "# socat data file\n",
    "socat_path = f\"{zarr_dir}/socat_mask_feb1982-dec2023.zarr\" \n",
    "            # this is the SOCAT mask that is used to make the \"testbed-truth' -> consistent with the 'real-world' SOCAT coverage (so that the ML reconstructions are based on real-world pCO2 coverages)\n",
    "            # testbed-truth -> we have every 1°x1° monthly a pCO2 value (because of the ESM member pCO2 estimates) -> using that as the \"truth\" so we have the entire world to validate the ML against\n",
    "            # if we would use only the real pCO2 SOCAT data, we wouldn't even be able to validate the performance of the ML products in the southern ocean (becasuse super little data there)\n",
    "# topo and land-sea masks\n",
    "topo_path = f\"{zarr_dir}/GEBCO_2014_1x1_global.zarr\"\n",
    "lsmask_path = f\"{zarr_dir}/lsmask.zarr\"\n",
    "\n",
    "#############################################\n",
    "\n",
    "### paths for saving: ###\n",
    "your_username = \"mauriekeppens\n",
    "# directory of where to save ML inputs from this (01) notebook (save it in your bucket!!)\n",
    "xgb_data_dir = f\"gs://leap-persistent/{your_username}/Ensemble_Testbed_Analysis/01_ML_inputs\" "
   ]
  },
  {
   "cell_type": "markdown",
   "id": "0ca1bf0f-a66c-4cf0-adfc-2b10c6b544ef",
   "metadata": {},
   "source": [
    "<span style=\"color:hotpink; font-size:40px; font-weight:bold;\">Calculating chlorophyll climatology</span>"
   ]
  },
  {
   "cell_type": "markdown",
   "id": "4ac783a3-0b38-44ca-8934-88dd975dccb7",
   "metadata": {},
   "source": [
    "Here is where clorophyll climatology is calculated. Climatology is calculated from model output 01-1998 through the end of the time period (here, 12-2023), by calculating the monthly average chlorophyll of the whole time period. This climatology is saved in a separate file in the individual regridded member folders. This file is currently used to set feature variables for ML in notebook 02, but those feature variables are not *actually used* for the ML. \n",
    "\n",
    "You do not need to run this code, because chlorophyll climatology is already saved in the regridded members directory that you're loading from."
   ]
  },
  {
   "cell_type": "code",
   "execution_count": 5,
   "id": "25079b36-0329-4c6e-b8b9-088699c42141",
   "metadata": {
    "scrolled": true
   },
   "outputs": [],
   "source": [
    "### chl_clim code here ###\n",
    "\n",
    "a = fs.ls(ensemble_dir)\n",
    "for ens_path in a[1:]:\n",
    "    ens = ens_path.split('/')[-1] # goes through all the ESM\n",
    "    mems = fs.ls(ens_path) # all members in that specific ESM\n",
    "    for mem in mems:\n",
    "        memo = mem.split('/')[-1]\n",
    "        zarrs = fs.ls(mem)\n",
    "        for z in zarrs: # Loop through Zarr datasets for each member\n",
    "            zarr_name = z.split('/')[-1]\n",
    "            d = xr.open_mfdataset('gs://'+z,engine='zarr')\n",
    "            chl = d.chl # Open Zarr dataset and extract chlorophyll\n",
    "\n",
    "            ### year selection ### remove hard code ###\n",
    "            chl_clim = chl.sel(time=slice('1998-01-01', '2023-12-30')).groupby(\"time.month\").mean(\"time\") # group by month and take the mean over the time (dimension : 12 x lat x lon, each month)\n",
    "\n",
    "            if 'lev_partial' in chl_clim.dims: # If the dataset has a vertical dimension lev_partial, only keeps the first level.\n",
    "                chl_clim = chl_clim.sel({'lev_partial':1},drop=True)\n",
    "\n",
    "            # Makes a new dataset with dimensions month x lat x lon for the monthly climatology (12 x lat x lon)\n",
    "            chl_out_new = xr.Dataset({'chl_clim':([\"month\",\"lat\",\"lon\"],chl_clim.data)}, \n",
    "                    coords={'time': (['month'],chl_clim.month.data),\n",
    "                            'lon':(['lon'],chl_clim.xlon.data),\n",
    "                            'lat': (['lat'],chl_clim.ylat.data)})\n",
    "            \n",
    "            # print(chl_out_new)\n",
    "            out_path = f'{ensemble_dir}/{ens}/{memo}/chlclim_{zarr_name}' # \"chlclim\" added to the name so we know this is the climatology chl\n",
    "            print(out_path,chl_out_new)\n",
    "            chl_out_new.to_zarr(out_path) # add this zarr file to the ensemble_member zarr file containing all variables (SST, SSS, chla, MLD, pCO2, pCO2_T, pCO2_residual)\n",
    "            print(f'finished with {ens}:{memo}')"
   ]
  },
  {
   "cell_type": "markdown",
   "id": "2fa8172a-c36a-4c38-aaea-fcc082406f6c",
   "metadata": {},
   "source": [
    "<span style=\"color:hotpink; font-size:40px; font-weight:bold;\">Loading list of ESMs and members in testbed</span>"
   ]
  },
  {
   "cell_type": "markdown",
   "id": "327a0975-a6ab-466e-baf8-49fc0079ecab",
   "metadata": {},
   "source": [
    "<span style=\"color:lightblue; font-size:30px; font-weight:bold;\">For all members for each ESM</span>"
   ]
  },
  {
   "cell_type": "code",
   "execution_count": 6,
   "id": "1c2aed97-baa6-486a-be0f-017f0abea3db",
   "metadata": {},
   "outputs": [
    {
     "name": "stdout",
     "output_type": "stream",
     "text": [
      "Ensembles found:\n",
      "['ACCESS-ESM1-5', 'CESM2', 'CESM2-WACCM', 'CMCC-ESM2', 'CanESM5', 'CanESM5-CanOE', 'GFDL-ESM4', 'MPI-ESM1-2-LR', 'UKESM1-0-LL']\n",
      "\n",
      "Members for each ensemble:\n",
      "ACCESS-ESM1-5: ['member_r10i1p1f1', 'member_r15i1p1f1', 'member_r17i1p1f1', 'member_r1i1p1f1', 'member_r22i1p1f1', 'member_r26i1p1f1', 'member_r27i1p1f1', 'member_r2i1p1f1', 'member_r31i1p1f1', 'member_r32i1p1f1', 'member_r33i1p1f1', 'member_r34i1p1f1', 'member_r35i1p1f1', 'member_r36i1p1f1', 'member_r37i1p1f1', 'member_r38i1p1f1', 'member_r39i1p1f1', 'member_r3i1p1f1', 'member_r40i1p1f1', 'member_r4i1p1f1', 'member_r5i1p1f1', 'member_r7i1p1f1', 'member_r8i1p1f1']\n",
      "CESM2: ['member_r10i1p1f1', 'member_r11i1p1f1', 'member_r4i1p1f1']\n",
      "CESM2-WACCM: ['member_r1i1p1f1', 'member_r2i1p1f1', 'member_r3i1p1f1']\n",
      "CMCC-ESM2: ['member_r1i1p1f1']\n",
      "CanESM5: ['member_r10i1p1f1', 'member_r10i1p2f1', 'member_r1i1p1f1', 'member_r1i1p2f1', 'member_r2i1p1f1', 'member_r2i1p2f1', 'member_r3i1p1f1', 'member_r3i1p2f1', 'member_r4i1p1f1', 'member_r4i1p2f1', 'member_r5i1p1f1', 'member_r5i1p2f1', 'member_r6i1p1f1', 'member_r6i1p2f1', 'member_r7i1p1f1', 'member_r7i1p2f1', 'member_r8i1p1f1', 'member_r8i1p2f1', 'member_r9i1p1f1', 'member_r9i1p2f1']\n",
      "CanESM5-CanOE: ['member_r1i1p2f1', 'member_r2i1p2f1', 'member_r3i1p2f1']\n",
      "GFDL-ESM4: ['member_r1i1p1f1']\n",
      "MPI-ESM1-2-LR: ['member_r10i1p1f1', 'member_r11i1p1f1', 'member_r12i1p1f1', 'member_r13i1p1f1', 'member_r14i1p1f1', 'member_r15i1p1f1', 'member_r16i1p1f1', 'member_r17i1p1f1', 'member_r18i1p1f1', 'member_r19i1p1f1', 'member_r1i1p1f1', 'member_r20i1p1f1', 'member_r21i1p1f1', 'member_r22i1p1f1', 'member_r23i1p1f1', 'member_r24i1p1f1', 'member_r25i1p1f1', 'member_r26i1p1f1', 'member_r27i1p1f1', 'member_r28i1p1f1', 'member_r29i1p1f1', 'member_r2i1p1f1', 'member_r30i1p1f1', 'member_r31i1p1f1', 'member_r32i1p1f1', 'member_r33i1p1f1', 'member_r34i1p1f1', 'member_r35i1p1f1', 'member_r36i1p1f1', 'member_r37i1p1f1', 'member_r38i1p1f1', 'member_r39i1p1f1', 'member_r3i1p1f1', 'member_r40i1p1f1', 'member_r45i1p1f1', 'member_r46i1p1f1', 'member_r47i1p1f1', 'member_r48i1p1f1', 'member_r49i1p1f1', 'member_r4i1p1f1', 'member_r50i1p1f1', 'member_r5i1p1f1', 'member_r6i1p1f1', 'member_r7i1p1f1', 'member_r8i1p1f1', 'member_r9i1p1f1']\n",
      "UKESM1-0-LL: ['member_r1i1p1f2', 'member_r2i1p1f2', 'member_r3i1p1f2', 'member_r4i1p1f2', 'member_r8i1p1f2']\n"
     ]
    }
   ],
   "source": [
    "### loads list of Earth System Models (\"ensembles\") and members for the full testbed ###\n",
    "\n",
    "ensembles = []\n",
    "mems_dict = dict()\n",
    "\n",
    "# list of all ensembles in that ensemble_dir\n",
    "for path in fs.ls(ensemble_dir):\n",
    "    ens_name = path.split('/')[-1] \n",
    "    if ens not in ensembles: # Checks if the ensemble is already in the list; if not, adds it.\n",
    "        ensembles.append(ens_name)\n",
    "\n",
    "        # members of that ensemble\n",
    "        members = []\n",
    "        for mem_path in fs.ls(path): # find members of that ensemble\n",
    "            mem_name = mem_path.split('/')[-1]\n",
    "            members.append(mem_name)\n",
    "        mems_dict[ens_name] = members # Adds the member names to the dictionary under that ensemble\n",
    "\n",
    "# Print results\n",
    "print(\"Ensembles found:\")\n",
    "print(ensembles)\n",
    "print(\"\\nMembers for each ensemble:\")\n",
    "for ens, members in mems_dict.items():\n",
    "    print(f\"{ens}: {members}\")"
   ]
  },
  {
   "cell_type": "code",
   "execution_count": null,
   "id": "81f8efd8-64a7-4bb0-8ccb-a71492ae6335",
   "metadata": {},
   "outputs": [],
   "source": [
    "# total number of members\n",
    "total_members = sum(len(members) for members in mems_dict.values())\n",
    "print(f\"Total number of members: {total_members}\")\n",
    "\n",
    "# number of members per ensemble\n",
    "for ens, members in mems_dict.items():\n",
    "    print(f\"{ens}: {len(members)} members\")"
   ]
  },
  {
   "cell_type": "markdown",
   "id": "4ff0ed15-1e6c-4d03-bae5-08d2c0251460",
   "metadata": {},
   "source": [
    "<span style=\"color:hotpink; font-size:40px; font-weight:bold;\">Running code to make ML inputs</span>"
   ]
  },
  {
   "cell_type": "code",
   "execution_count": 18,
   "id": "2decae71-ec96-413c-9c03-787be4647631",
   "metadata": {},
   "outputs": [
    {
     "name": "stdout",
     "output_type": "stream",
     "text": [
      "Skipping ACCESS-ESM1-5, member_r10i1p1f1 (already exists)\n",
      "Skipping ACCESS-ESM1-5, member_r15i1p1f1 (already exists)\n",
      "Skipping ACCESS-ESM1-5, member_r17i1p1f1 (already exists)\n",
      "Skipping ACCESS-ESM1-5, member_r1i1p1f1 (already exists)\n",
      "Skipping ACCESS-ESM1-5, member_r22i1p1f1 (already exists)\n",
      "Skipping ACCESS-ESM1-5, member_r26i1p1f1 (already exists)\n",
      "Skipping ACCESS-ESM1-5, member_r27i1p1f1 (already exists)\n",
      "Skipping ACCESS-ESM1-5, member_r2i1p1f1 (already exists)\n",
      "Skipping ACCESS-ESM1-5, member_r31i1p1f1 (already exists)\n",
      "Skipping ACCESS-ESM1-5, member_r32i1p1f1 (already exists)\n",
      "Skipping ACCESS-ESM1-5, member_r33i1p1f1 (already exists)\n",
      "Skipping ACCESS-ESM1-5, member_r34i1p1f1 (already exists)\n",
      "Skipping ACCESS-ESM1-5, member_r35i1p1f1 (already exists)\n",
      "Skipping ACCESS-ESM1-5, member_r36i1p1f1 (already exists)\n",
      "Skipping ACCESS-ESM1-5, member_r37i1p1f1 (already exists)\n",
      "Skipping ACCESS-ESM1-5, member_r38i1p1f1 (already exists)\n",
      "Skipping ACCESS-ESM1-5, member_r39i1p1f1 (already exists)\n",
      "Skipping ACCESS-ESM1-5, member_r3i1p1f1 (already exists)\n",
      "Skipping ACCESS-ESM1-5, member_r40i1p1f1 (already exists)\n",
      "Skipping ACCESS-ESM1-5, member_r4i1p1f1 (already exists)\n",
      "Skipping ACCESS-ESM1-5, member_r5i1p1f1 (already exists)\n",
      "Skipping ACCESS-ESM1-5, member_r7i1p1f1 (already exists)\n",
      "Skipping ACCESS-ESM1-5, member_r8i1p1f1 (already exists)\n",
      "Skipping CESM2, member_r10i1p1f1 (already exists)\n",
      "Skipping CESM2, member_r11i1p1f1 (already exists)\n",
      "Skipping CESM2, member_r4i1p1f1 (already exists)\n",
      "Skipping CESM2-WACCM, member_r1i1p1f1 (already exists)\n",
      "Skipping CESM2-WACCM, member_r2i1p1f1 (already exists)\n",
      "Skipping CESM2-WACCM, member_r3i1p1f1 (already exists)\n",
      "Skipping CMCC-ESM2, member_r1i1p1f1 (already exists)\n",
      "Skipping CanESM5, member_r10i1p1f1 (already exists)\n",
      "Skipping CanESM5, member_r10i1p2f1 (already exists)\n",
      "Skipping CanESM5, member_r1i1p1f1 (already exists)\n",
      "Skipping CanESM5, member_r1i1p2f1 (already exists)\n",
      "Skipping CanESM5, member_r2i1p1f1 (already exists)\n",
      "Skipping CanESM5, member_r2i1p2f1 (already exists)\n",
      "Skipping CanESM5, member_r3i1p1f1 (already exists)\n",
      "Skipping CanESM5, member_r3i1p2f1 (already exists)\n",
      "Skipping CanESM5, member_r4i1p1f1 (already exists)\n",
      "Skipping CanESM5, member_r4i1p2f1 (already exists)\n",
      "Skipping CanESM5, member_r5i1p1f1 (already exists)\n",
      "Skipping CanESM5, member_r5i1p2f1 (already exists)\n",
      "Skipping CanESM5, member_r6i1p1f1 (already exists)\n",
      "Skipping CanESM5, member_r6i1p2f1 (already exists)\n",
      "Skipping CanESM5, member_r7i1p1f1 (already exists)\n",
      "Skipping CanESM5, member_r7i1p2f1 (already exists)\n",
      "Skipping CanESM5, member_r8i1p1f1 (already exists)\n",
      "Skipping CanESM5, member_r8i1p2f1 (already exists)\n",
      "Skipping CanESM5, member_r9i1p1f1 (already exists)\n",
      "Skipping CanESM5, member_r9i1p2f1 (already exists)\n",
      "Skipping CanESM5-CanOE, member_r1i1p2f1 (already exists)\n",
      "Skipping CanESM5-CanOE, member_r2i1p2f1 (already exists)\n",
      "Skipping CanESM5-CanOE, member_r3i1p2f1 (already exists)\n",
      "Skipping GFDL-ESM4, member_r1i1p1f1 (already exists)\n",
      "Skipping MPI-ESM1-2-LR, member_r10i1p1f1 (already exists)\n",
      "Skipping MPI-ESM1-2-LR, member_r11i1p1f1 (already exists)\n",
      "Skipping MPI-ESM1-2-LR, member_r12i1p1f1 (already exists)\n",
      "Skipping MPI-ESM1-2-LR, member_r13i1p1f1 (already exists)\n",
      "Skipping MPI-ESM1-2-LR, member_r14i1p1f1 (already exists)\n",
      "Skipping MPI-ESM1-2-LR, member_r15i1p1f1 (already exists)\n",
      "Skipping MPI-ESM1-2-LR, member_r16i1p1f1 (already exists)\n",
      "Skipping MPI-ESM1-2-LR, member_r17i1p1f1 (already exists)\n",
      "Skipping MPI-ESM1-2-LR, member_r18i1p1f1 (already exists)\n",
      "Skipping MPI-ESM1-2-LR, member_r19i1p1f1 (already exists)\n",
      "Skipping MPI-ESM1-2-LR, member_r1i1p1f1 (already exists)\n",
      "Skipping MPI-ESM1-2-LR, member_r20i1p1f1 (already exists)\n",
      "Skipping MPI-ESM1-2-LR, member_r21i1p1f1 (already exists)\n",
      "Skipping MPI-ESM1-2-LR, member_r22i1p1f1 (already exists)\n",
      "Skipping MPI-ESM1-2-LR, member_r23i1p1f1 (already exists)\n",
      "Skipping MPI-ESM1-2-LR, member_r24i1p1f1 (already exists)\n",
      "Skipping MPI-ESM1-2-LR, member_r25i1p1f1 (already exists)\n",
      "Skipping MPI-ESM1-2-LR, member_r26i1p1f1 (already exists)\n",
      "Skipping MPI-ESM1-2-LR, member_r27i1p1f1 (already exists)\n",
      "Skipping MPI-ESM1-2-LR, member_r28i1p1f1 (already exists)\n",
      "Skipping MPI-ESM1-2-LR, member_r29i1p1f1 (already exists)\n",
      "Skipping MPI-ESM1-2-LR, member_r2i1p1f1 (already exists)\n",
      "Skipping MPI-ESM1-2-LR, member_r30i1p1f1 (already exists)\n",
      "Skipping MPI-ESM1-2-LR, member_r31i1p1f1 (already exists)\n",
      "Skipping MPI-ESM1-2-LR, member_r32i1p1f1 (already exists)\n",
      "Skipping MPI-ESM1-2-LR, member_r33i1p1f1 (already exists)\n",
      "Skipping MPI-ESM1-2-LR, member_r34i1p1f1 (already exists)\n",
      "Skipping MPI-ESM1-2-LR, member_r35i1p1f1 (already exists)\n",
      "Skipping MPI-ESM1-2-LR, member_r36i1p1f1 (already exists)\n",
      "Skipping MPI-ESM1-2-LR, member_r37i1p1f1 (already exists)\n",
      "Skipping MPI-ESM1-2-LR, member_r38i1p1f1 (already exists)\n",
      "Skipping MPI-ESM1-2-LR, member_r39i1p1f1 (already exists)\n",
      "Skipping MPI-ESM1-2-LR, member_r3i1p1f1 (already exists)\n",
      "Skipping MPI-ESM1-2-LR, member_r40i1p1f1 (already exists)\n",
      "Skipping MPI-ESM1-2-LR, member_r45i1p1f1 (already exists)\n",
      "Skipping MPI-ESM1-2-LR, member_r46i1p1f1 (already exists)\n",
      "Skipping MPI-ESM1-2-LR, member_r47i1p1f1 (already exists)\n",
      "Skipping MPI-ESM1-2-LR, member_r48i1p1f1 (already exists)\n",
      "Skipping MPI-ESM1-2-LR, member_r49i1p1f1 (already exists)\n",
      "Skipping MPI-ESM1-2-LR, member_r4i1p1f1 (already exists)\n",
      "Skipping MPI-ESM1-2-LR, member_r50i1p1f1 (already exists)\n",
      "Skipping MPI-ESM1-2-LR, member_r5i1p1f1 (already exists)\n",
      "Skipping MPI-ESM1-2-LR, member_r6i1p1f1 (already exists)\n",
      "Skipping MPI-ESM1-2-LR, member_r7i1p1f1 (already exists)\n",
      "Skipping MPI-ESM1-2-LR, member_r8i1p1f1 (already exists)\n",
      "Skipping MPI-ESM1-2-LR, member_r9i1p1f1 (already exists)\n",
      "Skipping UKESM1-0-LL, member_r1i1p1f2 (already exists)\n",
      "Skipping UKESM1-0-LL, member_r2i1p1f2 (already exists)\n",
      "Skipping UKESM1-0-LL, member_r3i1p1f2 (already exists)\n",
      "Skipping UKESM1-0-LL, member_r4i1p1f2 (already exists)\n",
      "Skipping UKESM1-0-LL, member_r8i1p1f2 (already exists)\n"
     ]
    }
   ],
   "source": [
    "### creating pandas dataframes out of \"raw\" data to prep for ML ###\n",
    "import os\n",
    "\n",
    "N_time = len(dates)\n",
    "member_counter = 0 \n",
    "\n",
    "### loop through each ESM\n",
    "for ens, mem_list in mems_dict.items(): \n",
    "\n",
    "    ### loop through each member of that ESM\n",
    "    for member in mem_list:\n",
    "        \n",
    "        init_date = str(dates[0].year) + format(dates[0].month,'02d')\n",
    "        fin_date  = str(dates[-1].year) + format(dates[-1].month,'02d')\n",
    "        \n",
    "        output_dir = f\"{xgb_data_dir}/{ens}/{member}\"\n",
    "        save_file = f\"{output_dir}/MLinput_{ens}_{member.split('_')[-1]}_mon_1x1_{init_date}_{fin_date}.pkl\"\n",
    "        \n",
    "        if fs.exists(save_file):\n",
    "            print(f\"Skipping {ens}, {member} (already exists)\")\n",
    "            continue\n",
    "\n",
    "        print(f\"Making dataframe {member_counter}: {ens}, {member}\")\n",
    "        \n",
    "        ### uses utility function file to make data into dataframe for ML use\n",
    "        df = prerun.create_inputs(ensemble_dir, ens, member, dates, N_time,\n",
    "                                  xco2_path,\n",
    "                                  socat_path,\n",
    "                                  topo_path,\n",
    "                                  lsmask_path)\n",
    "\n",
    "        ### Save the pandas dataframe to workspace\n",
    "        prerun.save_clean_data(df, xgb_data_dir, ens, member, dates)\n",
    "        member_counter += 1"
   ]
  },
  {
   "cell_type": "code",
   "execution_count": 28,
   "id": "2a1f81a9-4c9e-4173-8d0f-8c51924e9ba5",
   "metadata": {},
   "outputs": [
    {
     "ename": "FileNotFoundError",
     "evalue": "b/leap-persistent/o/abbysh%2Fpco2_residual%2Fpost01_xgb_inputs",
     "output_type": "error",
     "traceback": [
      "\u001b[0;31m---------------------------------------------------------------------------\u001b[0m",
      "\u001b[0;31mFileNotFoundError\u001b[0m                         Traceback (most recent call last)",
      "Cell \u001b[0;32mIn[28], line 1\u001b[0m\n\u001b[0;32m----> 1\u001b[0m \u001b[43mfs\u001b[49m\u001b[38;5;241;43m.\u001b[39;49m\u001b[43mls\u001b[49m\u001b[43m(\u001b[49m\u001b[38;5;124;43mf\u001b[39;49m\u001b[38;5;124;43m'\u001b[39;49m\u001b[38;5;124;43mgs://leap-persistent/\u001b[39;49m\u001b[38;5;132;43;01m{\u001b[39;49;00m\u001b[43myour_username\u001b[49m\u001b[38;5;132;43;01m}\u001b[39;49;00m\u001b[38;5;124;43m/pco2_residual/post01_xgb_inputs\u001b[39;49m\u001b[38;5;124;43m'\u001b[39;49m\u001b[43m)\u001b[49m\n",
      "File \u001b[0;32m/srv/conda/envs/notebook/lib/python3.12/site-packages/fsspec/asyn.py:118\u001b[0m, in \u001b[0;36msync_wrapper.<locals>.wrapper\u001b[0;34m(*args, **kwargs)\u001b[0m\n\u001b[1;32m    115\u001b[0m \u001b[38;5;129m@functools\u001b[39m\u001b[38;5;241m.\u001b[39mwraps(func)\n\u001b[1;32m    116\u001b[0m \u001b[38;5;28;01mdef\u001b[39;00m\u001b[38;5;250m \u001b[39m\u001b[38;5;21mwrapper\u001b[39m(\u001b[38;5;241m*\u001b[39margs, \u001b[38;5;241m*\u001b[39m\u001b[38;5;241m*\u001b[39mkwargs):\n\u001b[1;32m    117\u001b[0m     \u001b[38;5;28mself\u001b[39m \u001b[38;5;241m=\u001b[39m obj \u001b[38;5;129;01mor\u001b[39;00m args[\u001b[38;5;241m0\u001b[39m]\n\u001b[0;32m--> 118\u001b[0m     \u001b[38;5;28;01mreturn\u001b[39;00m \u001b[43msync\u001b[49m\u001b[43m(\u001b[49m\u001b[38;5;28;43mself\u001b[39;49m\u001b[38;5;241;43m.\u001b[39;49m\u001b[43mloop\u001b[49m\u001b[43m,\u001b[49m\u001b[43m \u001b[49m\u001b[43mfunc\u001b[49m\u001b[43m,\u001b[49m\u001b[43m \u001b[49m\u001b[38;5;241;43m*\u001b[39;49m\u001b[43margs\u001b[49m\u001b[43m,\u001b[49m\u001b[43m \u001b[49m\u001b[38;5;241;43m*\u001b[39;49m\u001b[38;5;241;43m*\u001b[39;49m\u001b[43mkwargs\u001b[49m\u001b[43m)\u001b[49m\n",
      "File \u001b[0;32m/srv/conda/envs/notebook/lib/python3.12/site-packages/fsspec/asyn.py:103\u001b[0m, in \u001b[0;36msync\u001b[0;34m(loop, func, timeout, *args, **kwargs)\u001b[0m\n\u001b[1;32m    101\u001b[0m     \u001b[38;5;28;01mraise\u001b[39;00m FSTimeoutError \u001b[38;5;28;01mfrom\u001b[39;00m\u001b[38;5;250m \u001b[39m\u001b[38;5;21;01mreturn_result\u001b[39;00m\n\u001b[1;32m    102\u001b[0m \u001b[38;5;28;01melif\u001b[39;00m \u001b[38;5;28misinstance\u001b[39m(return_result, \u001b[38;5;167;01mBaseException\u001b[39;00m):\n\u001b[0;32m--> 103\u001b[0m     \u001b[38;5;28;01mraise\u001b[39;00m return_result\n\u001b[1;32m    104\u001b[0m \u001b[38;5;28;01melse\u001b[39;00m:\n\u001b[1;32m    105\u001b[0m     \u001b[38;5;28;01mreturn\u001b[39;00m return_result\n",
      "File \u001b[0;32m/srv/conda/envs/notebook/lib/python3.12/site-packages/fsspec/asyn.py:56\u001b[0m, in \u001b[0;36m_runner\u001b[0;34m(event, coro, result, timeout)\u001b[0m\n\u001b[1;32m     54\u001b[0m     coro \u001b[38;5;241m=\u001b[39m asyncio\u001b[38;5;241m.\u001b[39mwait_for(coro, timeout\u001b[38;5;241m=\u001b[39mtimeout)\n\u001b[1;32m     55\u001b[0m \u001b[38;5;28;01mtry\u001b[39;00m:\n\u001b[0;32m---> 56\u001b[0m     result[\u001b[38;5;241m0\u001b[39m] \u001b[38;5;241m=\u001b[39m \u001b[38;5;28;01mawait\u001b[39;00m coro\n\u001b[1;32m     57\u001b[0m \u001b[38;5;28;01mexcept\u001b[39;00m \u001b[38;5;167;01mException\u001b[39;00m \u001b[38;5;28;01mas\u001b[39;00m ex:\n\u001b[1;32m     58\u001b[0m     result[\u001b[38;5;241m0\u001b[39m] \u001b[38;5;241m=\u001b[39m ex\n",
      "File \u001b[0;32m/srv/conda/envs/notebook/lib/python3.12/site-packages/gcsfs/core.py:1066\u001b[0m, in \u001b[0;36mGCSFileSystem._ls\u001b[0;34m(self, path, detail, prefix, versions, refresh, **kwargs)\u001b[0m\n\u001b[1;32m   1064\u001b[0m out \u001b[38;5;241m=\u001b[39m []\n\u001b[1;32m   1065\u001b[0m dir_names \u001b[38;5;241m=\u001b[39m \u001b[38;5;28mset\u001b[39m()\n\u001b[0;32m-> 1066\u001b[0m \u001b[38;5;28;01mfor\u001b[39;00m entry \u001b[38;5;129;01min\u001b[39;00m \u001b[38;5;28;01mawait\u001b[39;00m \u001b[38;5;28mself\u001b[39m\u001b[38;5;241m.\u001b[39m_list_objects(\n\u001b[1;32m   1067\u001b[0m     path, prefix\u001b[38;5;241m=\u001b[39mprefix, versions\u001b[38;5;241m=\u001b[39mversions, \u001b[38;5;241m*\u001b[39m\u001b[38;5;241m*\u001b[39mkwargs\n\u001b[1;32m   1068\u001b[0m ):\n\u001b[1;32m   1069\u001b[0m     \u001b[38;5;28;01mif\u001b[39;00m _is_directory_marker(entry):\n\u001b[1;32m   1070\u001b[0m         entry \u001b[38;5;241m=\u001b[39m {\n\u001b[1;32m   1071\u001b[0m             \u001b[38;5;124m\"\u001b[39m\u001b[38;5;124mbucket\u001b[39m\u001b[38;5;124m\"\u001b[39m: entry[\u001b[38;5;124m\"\u001b[39m\u001b[38;5;124mbucket\u001b[39m\u001b[38;5;124m\"\u001b[39m],\n\u001b[1;32m   1072\u001b[0m             \u001b[38;5;124m\"\u001b[39m\u001b[38;5;124mname\u001b[39m\u001b[38;5;124m\"\u001b[39m: path\u001b[38;5;241m.\u001b[39mrstrip(\u001b[38;5;124m\"\u001b[39m\u001b[38;5;124m/\u001b[39m\u001b[38;5;124m\"\u001b[39m),\n\u001b[0;32m   (...)\u001b[0m\n\u001b[1;32m   1075\u001b[0m             \u001b[38;5;124m\"\u001b[39m\u001b[38;5;124mtype\u001b[39m\u001b[38;5;124m\"\u001b[39m: \u001b[38;5;124m\"\u001b[39m\u001b[38;5;124mdirectory\u001b[39m\u001b[38;5;124m\"\u001b[39m,\n\u001b[1;32m   1076\u001b[0m         }\n",
      "File \u001b[0;32m/srv/conda/envs/notebook/lib/python3.12/site-packages/gcsfs/core.py:625\u001b[0m, in \u001b[0;36mGCSFileSystem._list_objects\u001b[0;34m(self, path, prefix, versions, **kwargs)\u001b[0m\n\u001b[1;32m    623\u001b[0m \u001b[38;5;28;01mif\u001b[39;00m \u001b[38;5;129;01mnot\u001b[39;00m (items \u001b[38;5;241m+\u001b[39m pseudodirs):\n\u001b[1;32m    624\u001b[0m     \u001b[38;5;28;01mif\u001b[39;00m key:\n\u001b[0;32m--> 625\u001b[0m         \u001b[38;5;28;01mreturn\u001b[39;00m [\u001b[38;5;28;01mawait\u001b[39;00m \u001b[38;5;28mself\u001b[39m\u001b[38;5;241m.\u001b[39m_get_object(path)]\n\u001b[1;32m    626\u001b[0m     \u001b[38;5;28;01melse\u001b[39;00m:\n\u001b[1;32m    627\u001b[0m         \u001b[38;5;28;01mreturn\u001b[39;00m []\n",
      "File \u001b[0;32m/srv/conda/envs/notebook/lib/python3.12/site-packages/gcsfs/core.py:561\u001b[0m, in \u001b[0;36mGCSFileSystem._get_object\u001b[0;34m(self, path)\u001b[0m\n\u001b[1;32m    558\u001b[0m \u001b[38;5;66;03m# Work around various permission settings. Prefer an object get (storage.objects.get), but\u001b[39;00m\n\u001b[1;32m    559\u001b[0m \u001b[38;5;66;03m# fall back to a bucket list + filter to object name (storage.objects.list).\u001b[39;00m\n\u001b[1;32m    560\u001b[0m \u001b[38;5;28;01mtry\u001b[39;00m:\n\u001b[0;32m--> 561\u001b[0m     res \u001b[38;5;241m=\u001b[39m \u001b[38;5;28;01mawait\u001b[39;00m \u001b[38;5;28mself\u001b[39m\u001b[38;5;241m.\u001b[39m_call(\n\u001b[1;32m    562\u001b[0m         \u001b[38;5;124m\"\u001b[39m\u001b[38;5;124mGET\u001b[39m\u001b[38;5;124m\"\u001b[39m, \u001b[38;5;124m\"\u001b[39m\u001b[38;5;124mb/\u001b[39m\u001b[38;5;132;01m{}\u001b[39;00m\u001b[38;5;124m/o/\u001b[39m\u001b[38;5;132;01m{}\u001b[39;00m\u001b[38;5;124m\"\u001b[39m, bucket, key, json_out\u001b[38;5;241m=\u001b[39m\u001b[38;5;28;01mTrue\u001b[39;00m, generation\u001b[38;5;241m=\u001b[39mgeneration\n\u001b[1;32m    563\u001b[0m     )\n\u001b[1;32m    564\u001b[0m \u001b[38;5;28;01mexcept\u001b[39;00m \u001b[38;5;167;01mOSError\u001b[39;00m \u001b[38;5;28;01mas\u001b[39;00m e:\n\u001b[1;32m    565\u001b[0m     \u001b[38;5;28;01mif\u001b[39;00m \u001b[38;5;129;01mnot\u001b[39;00m \u001b[38;5;28mstr\u001b[39m(e)\u001b[38;5;241m.\u001b[39mstartswith(\u001b[38;5;124m\"\u001b[39m\u001b[38;5;124mForbidden\u001b[39m\u001b[38;5;124m\"\u001b[39m):\n",
      "File \u001b[0;32m/srv/conda/envs/notebook/lib/python3.12/site-packages/gcsfs/core.py:481\u001b[0m, in \u001b[0;36mGCSFileSystem._call\u001b[0;34m(self, method, path, json_out, info_out, *args, **kwargs)\u001b[0m\n\u001b[1;32m    477\u001b[0m \u001b[38;5;28;01masync\u001b[39;00m \u001b[38;5;28;01mdef\u001b[39;00m\u001b[38;5;250m \u001b[39m\u001b[38;5;21m_call\u001b[39m(\n\u001b[1;32m    478\u001b[0m     \u001b[38;5;28mself\u001b[39m, method, path, \u001b[38;5;241m*\u001b[39margs, json_out\u001b[38;5;241m=\u001b[39m\u001b[38;5;28;01mFalse\u001b[39;00m, info_out\u001b[38;5;241m=\u001b[39m\u001b[38;5;28;01mFalse\u001b[39;00m, \u001b[38;5;241m*\u001b[39m\u001b[38;5;241m*\u001b[39mkwargs\n\u001b[1;32m    479\u001b[0m ):\n\u001b[1;32m    480\u001b[0m     logger\u001b[38;5;241m.\u001b[39mdebug(\u001b[38;5;124mf\u001b[39m\u001b[38;5;124m\"\u001b[39m\u001b[38;5;132;01m{\u001b[39;00mmethod\u001b[38;5;241m.\u001b[39mupper()\u001b[38;5;132;01m}\u001b[39;00m\u001b[38;5;124m: \u001b[39m\u001b[38;5;132;01m{\u001b[39;00mpath\u001b[38;5;132;01m}\u001b[39;00m\u001b[38;5;124m, \u001b[39m\u001b[38;5;132;01m{\u001b[39;00margs\u001b[38;5;132;01m}\u001b[39;00m\u001b[38;5;124m, \u001b[39m\u001b[38;5;132;01m{\u001b[39;00mkwargs\u001b[38;5;241m.\u001b[39mget(\u001b[38;5;124m'\u001b[39m\u001b[38;5;124mheaders\u001b[39m\u001b[38;5;124m'\u001b[39m)\u001b[38;5;132;01m}\u001b[39;00m\u001b[38;5;124m\"\u001b[39m)\n\u001b[0;32m--> 481\u001b[0m     status, headers, info, contents \u001b[38;5;241m=\u001b[39m \u001b[38;5;28;01mawait\u001b[39;00m \u001b[38;5;28mself\u001b[39m\u001b[38;5;241m.\u001b[39m_request(\n\u001b[1;32m    482\u001b[0m         method, path, \u001b[38;5;241m*\u001b[39margs, \u001b[38;5;241m*\u001b[39m\u001b[38;5;241m*\u001b[39mkwargs\n\u001b[1;32m    483\u001b[0m     )\n\u001b[1;32m    484\u001b[0m     \u001b[38;5;28;01mif\u001b[39;00m json_out:\n\u001b[1;32m    485\u001b[0m         \u001b[38;5;28;01mreturn\u001b[39;00m json\u001b[38;5;241m.\u001b[39mloads(contents)\n",
      "File \u001b[0;32m/srv/conda/envs/notebook/lib/python3.12/site-packages/decorator.py:224\u001b[0m, in \u001b[0;36mdecorate.<locals>.fun\u001b[0;34m(*args, **kw)\u001b[0m\n\u001b[1;32m    222\u001b[0m \u001b[38;5;28;01mif\u001b[39;00m \u001b[38;5;129;01mnot\u001b[39;00m kwsyntax:\n\u001b[1;32m    223\u001b[0m     args, kw \u001b[38;5;241m=\u001b[39m fix(args, kw, sig)\n\u001b[0;32m--> 224\u001b[0m \u001b[38;5;28;01mreturn\u001b[39;00m \u001b[38;5;28;01mawait\u001b[39;00m caller(func, \u001b[38;5;241m*\u001b[39m(extras \u001b[38;5;241m+\u001b[39m args), \u001b[38;5;241m*\u001b[39m\u001b[38;5;241m*\u001b[39mkw)\n",
      "File \u001b[0;32m/srv/conda/envs/notebook/lib/python3.12/site-packages/gcsfs/retry.py:135\u001b[0m, in \u001b[0;36mretry_request\u001b[0;34m(func, retries, *args, **kwargs)\u001b[0m\n\u001b[1;32m    133\u001b[0m     \u001b[38;5;28;01mif\u001b[39;00m retry \u001b[38;5;241m>\u001b[39m \u001b[38;5;241m0\u001b[39m:\n\u001b[1;32m    134\u001b[0m         \u001b[38;5;28;01mawait\u001b[39;00m asyncio\u001b[38;5;241m.\u001b[39msleep(\u001b[38;5;28mmin\u001b[39m(random\u001b[38;5;241m.\u001b[39mrandom() \u001b[38;5;241m+\u001b[39m \u001b[38;5;241m2\u001b[39m \u001b[38;5;241m*\u001b[39m\u001b[38;5;241m*\u001b[39m (retry \u001b[38;5;241m-\u001b[39m \u001b[38;5;241m1\u001b[39m), \u001b[38;5;241m32\u001b[39m))\n\u001b[0;32m--> 135\u001b[0m     \u001b[38;5;28;01mreturn\u001b[39;00m \u001b[38;5;28;01mawait\u001b[39;00m func(\u001b[38;5;241m*\u001b[39margs, \u001b[38;5;241m*\u001b[39m\u001b[38;5;241m*\u001b[39mkwargs)\n\u001b[1;32m    136\u001b[0m \u001b[38;5;28;01mexcept\u001b[39;00m (\n\u001b[1;32m    137\u001b[0m     HttpError,\n\u001b[1;32m    138\u001b[0m     requests\u001b[38;5;241m.\u001b[39mexceptions\u001b[38;5;241m.\u001b[39mRequestException,\n\u001b[0;32m   (...)\u001b[0m\n\u001b[1;32m    141\u001b[0m     aiohttp\u001b[38;5;241m.\u001b[39mclient_exceptions\u001b[38;5;241m.\u001b[39mClientError,\n\u001b[1;32m    142\u001b[0m ) \u001b[38;5;28;01mas\u001b[39;00m e:\n\u001b[1;32m    143\u001b[0m     \u001b[38;5;28;01mif\u001b[39;00m (\n\u001b[1;32m    144\u001b[0m         \u001b[38;5;28misinstance\u001b[39m(e, HttpError)\n\u001b[1;32m    145\u001b[0m         \u001b[38;5;129;01mand\u001b[39;00m e\u001b[38;5;241m.\u001b[39mcode \u001b[38;5;241m==\u001b[39m \u001b[38;5;241m400\u001b[39m\n\u001b[1;32m    146\u001b[0m         \u001b[38;5;129;01mand\u001b[39;00m \u001b[38;5;124m\"\u001b[39m\u001b[38;5;124mrequester pays\u001b[39m\u001b[38;5;124m\"\u001b[39m \u001b[38;5;129;01min\u001b[39;00m e\u001b[38;5;241m.\u001b[39mmessage\n\u001b[1;32m    147\u001b[0m     ):\n",
      "File \u001b[0;32m/srv/conda/envs/notebook/lib/python3.12/site-packages/gcsfs/core.py:474\u001b[0m, in \u001b[0;36mGCSFileSystem._request\u001b[0;34m(self, method, path, headers, json, data, *args, **kwargs)\u001b[0m\n\u001b[1;32m    471\u001b[0m info \u001b[38;5;241m=\u001b[39m r\u001b[38;5;241m.\u001b[39mrequest_info  \u001b[38;5;66;03m# for debug only\u001b[39;00m\n\u001b[1;32m    472\u001b[0m contents \u001b[38;5;241m=\u001b[39m \u001b[38;5;28;01mawait\u001b[39;00m r\u001b[38;5;241m.\u001b[39mread()\n\u001b[0;32m--> 474\u001b[0m \u001b[43mvalidate_response\u001b[49m\u001b[43m(\u001b[49m\u001b[43mstatus\u001b[49m\u001b[43m,\u001b[49m\u001b[43m \u001b[49m\u001b[43mcontents\u001b[49m\u001b[43m,\u001b[49m\u001b[43m \u001b[49m\u001b[43mpath\u001b[49m\u001b[43m,\u001b[49m\u001b[43m \u001b[49m\u001b[43margs\u001b[49m\u001b[43m)\u001b[49m\n\u001b[1;32m    475\u001b[0m \u001b[38;5;28;01mreturn\u001b[39;00m status, headers, info, contents\n",
      "File \u001b[0;32m/srv/conda/envs/notebook/lib/python3.12/site-packages/gcsfs/retry.py:98\u001b[0m, in \u001b[0;36mvalidate_response\u001b[0;34m(status, content, path, args)\u001b[0m\n\u001b[1;32m     96\u001b[0m     path \u001b[38;5;241m=\u001b[39m path\u001b[38;5;241m.\u001b[39mformat(\u001b[38;5;241m*\u001b[39m[quote(p) \u001b[38;5;28;01mfor\u001b[39;00m p \u001b[38;5;129;01min\u001b[39;00m args])\n\u001b[1;32m     97\u001b[0m \u001b[38;5;28;01mif\u001b[39;00m status \u001b[38;5;241m==\u001b[39m \u001b[38;5;241m404\u001b[39m:\n\u001b[0;32m---> 98\u001b[0m     \u001b[38;5;28;01mraise\u001b[39;00m \u001b[38;5;167;01mFileNotFoundError\u001b[39;00m(path)\n\u001b[1;32m    100\u001b[0m error \u001b[38;5;241m=\u001b[39m \u001b[38;5;28;01mNone\u001b[39;00m\n\u001b[1;32m    101\u001b[0m \u001b[38;5;28;01mif\u001b[39;00m \u001b[38;5;28mhasattr\u001b[39m(content, \u001b[38;5;124m\"\u001b[39m\u001b[38;5;124mdecode\u001b[39m\u001b[38;5;124m\"\u001b[39m):\n",
      "\u001b[0;31mFileNotFoundError\u001b[0m: b/leap-persistent/o/abbysh%2Fpco2_residual%2Fpost01_xgb_inputs"
     ]
    }
   ],
   "source": [
    "fs.ls(f'gs://leap-persistent/{your_username}/pco2_residual/post01_xgb_inputs')"
   ]
  },
  {
   "cell_type": "code",
   "execution_count": 41,
   "id": "84175311-f065-4ab3-9bba-525445220afc",
   "metadata": {},
   "outputs": [
    {
     "data": {
      "text/plain": [
       "['leap-persistent/mauriekeppens/pco2_residual/post01_xgb_inputs/ACCESS-ESM1-5',\n",
       " 'leap-persistent/mauriekeppens/pco2_residual/post01_xgb_inputs/CESM2',\n",
       " 'leap-persistent/mauriekeppens/pco2_residual/post01_xgb_inputs/CESM2-WACCM',\n",
       " 'leap-persistent/mauriekeppens/pco2_residual/post01_xgb_inputs/CMCC-ESM2',\n",
       " 'leap-persistent/mauriekeppens/pco2_residual/post01_xgb_inputs/CanESM5',\n",
       " 'leap-persistent/mauriekeppens/pco2_residual/post01_xgb_inputs/CanESM5-CanOE',\n",
       " 'leap-persistent/mauriekeppens/pco2_residual/post01_xgb_inputs/GFDL-ESM4',\n",
       " 'leap-persistent/mauriekeppens/pco2_residual/post01_xgb_inputs/MPI-ESM1-2-LR',\n",
       " 'leap-persistent/mauriekeppens/pco2_residual/post01_xgb_inputs/UKESM1-0-LL']"
      ]
     },
     "execution_count": 41,
     "metadata": {},
     "output_type": "execute_result"
    }
   ],
   "source": [
    "fs.ls(f'gs://leap-persistent/{your_username}/pco2_residual/post01_xgb_inputs')"
   ]
  },
  {
   "cell_type": "code",
   "execution_count": 42,
   "id": "f51064de-f8be-4bf5-a0d1-c937908a6f38",
   "metadata": {},
   "outputs": [
    {
     "name": "stdout",
     "output_type": "stream",
     "text": [
      "Ensembles found: ['leap-persistent/mauriekeppens/pco2_residual/post01_xgb_inputs/ACCESS-ESM1-5', 'leap-persistent/mauriekeppens/pco2_residual/post01_xgb_inputs/CESM2', 'leap-persistent/mauriekeppens/pco2_residual/post01_xgb_inputs/CESM2-WACCM', 'leap-persistent/mauriekeppens/pco2_residual/post01_xgb_inputs/CMCC-ESM2', 'leap-persistent/mauriekeppens/pco2_residual/post01_xgb_inputs/CanESM5', 'leap-persistent/mauriekeppens/pco2_residual/post01_xgb_inputs/CanESM5-CanOE', 'leap-persistent/mauriekeppens/pco2_residual/post01_xgb_inputs/GFDL-ESM4', 'leap-persistent/mauriekeppens/pco2_residual/post01_xgb_inputs/MPI-ESM1-2-LR', 'leap-persistent/mauriekeppens/pco2_residual/post01_xgb_inputs/UKESM1-0-LL']\n",
      "leap-persistent/mauriekeppens/pco2_residual/post01_xgb_inputs/ACCESS-ESM1-5 members: ['member_r10i1p1f1', 'member_r15i1p1f1', 'member_r17i1p1f1', 'member_r1i1p1f1', 'member_r22i1p1f1', 'member_r26i1p1f1', 'member_r27i1p1f1', 'member_r2i1p1f1', 'member_r31i1p1f1', 'member_r32i1p1f1', 'member_r33i1p1f1', 'member_r34i1p1f1', 'member_r35i1p1f1', 'member_r36i1p1f1', 'member_r37i1p1f1', 'member_r38i1p1f1', 'member_r39i1p1f1', 'member_r3i1p1f1', 'member_r40i1p1f1', 'member_r4i1p1f1', 'member_r5i1p1f1', 'member_r7i1p1f1', 'member_r8i1p1f1']\n",
      "leap-persistent/mauriekeppens/pco2_residual/post01_xgb_inputs/CESM2 members: ['member_r10i1p1f1', 'member_r11i1p1f1', 'member_r4i1p1f1']\n",
      "leap-persistent/mauriekeppens/pco2_residual/post01_xgb_inputs/CESM2-WACCM members: ['member_r1i1p1f1', 'member_r2i1p1f1', 'member_r3i1p1f1']\n",
      "leap-persistent/mauriekeppens/pco2_residual/post01_xgb_inputs/CMCC-ESM2 members: ['member_r1i1p1f1']\n",
      "leap-persistent/mauriekeppens/pco2_residual/post01_xgb_inputs/CanESM5 members: ['member_r10i1p1f1', 'member_r10i1p2f1', 'member_r1i1p1f1', 'member_r1i1p2f1', 'member_r2i1p1f1', 'member_r2i1p2f1', 'member_r3i1p1f1', 'member_r3i1p2f1', 'member_r4i1p1f1', 'member_r4i1p2f1', 'member_r5i1p1f1', 'member_r5i1p2f1', 'member_r6i1p1f1', 'member_r6i1p2f1', 'member_r7i1p1f1', 'member_r7i1p2f1', 'member_r8i1p1f1', 'member_r8i1p2f1', 'member_r9i1p1f1', 'member_r9i1p2f1']\n",
      "leap-persistent/mauriekeppens/pco2_residual/post01_xgb_inputs/CanESM5-CanOE members: ['member_r1i1p2f1', 'member_r2i1p2f1', 'member_r3i1p2f1']\n",
      "leap-persistent/mauriekeppens/pco2_residual/post01_xgb_inputs/GFDL-ESM4 members: ['member_r1i1p1f1']\n",
      "leap-persistent/mauriekeppens/pco2_residual/post01_xgb_inputs/MPI-ESM1-2-LR members: ['member_r10i1p1f1', 'member_r11i1p1f1', 'member_r12i1p1f1', 'member_r13i1p1f1', 'member_r14i1p1f1', 'member_r15i1p1f1', 'member_r16i1p1f1', 'member_r17i1p1f1', 'member_r18i1p1f1', 'member_r19i1p1f1', 'member_r1i1p1f1', 'member_r20i1p1f1', 'member_r21i1p1f1', 'member_r22i1p1f1', 'member_r23i1p1f1', 'member_r24i1p1f1', 'member_r25i1p1f1', 'member_r26i1p1f1', 'member_r27i1p1f1', 'member_r28i1p1f1', 'member_r29i1p1f1', 'member_r2i1p1f1', 'member_r30i1p1f1', 'member_r31i1p1f1', 'member_r32i1p1f1', 'member_r33i1p1f1', 'member_r34i1p1f1', 'member_r35i1p1f1', 'member_r36i1p1f1', 'member_r37i1p1f1', 'member_r38i1p1f1', 'member_r39i1p1f1', 'member_r3i1p1f1', 'member_r40i1p1f1', 'member_r45i1p1f1', 'member_r46i1p1f1', 'member_r47i1p1f1', 'member_r48i1p1f1', 'member_r49i1p1f1', 'member_r4i1p1f1', 'member_r50i1p1f1', 'member_r5i1p1f1', 'member_r6i1p1f1', 'member_r7i1p1f1', 'member_r8i1p1f1', 'member_r9i1p1f1']\n",
      "leap-persistent/mauriekeppens/pco2_residual/post01_xgb_inputs/UKESM1-0-LL members: ['member_r1i1p1f2', 'member_r2i1p1f2', 'member_r3i1p1f2', 'member_r4i1p1f2', 'member_r8i1p1f2']\n",
      "Total members: 105\n"
     ]
    }
   ],
   "source": [
    "# Check whether we have all members saved\n",
    "import gcsfs\n",
    "\n",
    "fs = gcsfs.GCSFileSystem()\n",
    "\n",
    "base_path = f'gs://leap-persistent/{your_username}/pco2_residual/post01_xgb_inputs'\n",
    "ensembles = fs.ls(base_path)\n",
    "print(\"Ensembles found:\", ensembles)\n",
    "\n",
    "total_members = 0\n",
    "for ens_path in ensembles:\n",
    "    members = fs.ls(ens_path)\n",
    "    print(f\"{ens_path} members:\", [m.split('/')[-1] for m in members])\n",
    "    total_members += len(members)\n",
    "\n",
    "print(\"Total members:\", total_members)"
   ]
  },
  {
   "cell_type": "code",
   "execution_count": null,
   "id": "5b58908a-2e31-4838-b04d-3c629876f5ba",
   "metadata": {},
   "outputs": [],
   "source": []
  }
 ],
 "metadata": {
  "kernelspec": {
   "display_name": "Python 3 (ipykernel)",
   "language": "python",
   "name": "python3"
  },
  "language_info": {
   "codemirror_mode": {
    "name": "ipython",
    "version": 3
   },
   "file_extension": ".py",
   "mimetype": "text/x-python",
   "name": "python",
   "nbconvert_exporter": "python",
   "pygments_lexer": "ipython3",
   "version": "3.12.11"
  }
 },
 "nbformat": 4,
 "nbformat_minor": 5
}
