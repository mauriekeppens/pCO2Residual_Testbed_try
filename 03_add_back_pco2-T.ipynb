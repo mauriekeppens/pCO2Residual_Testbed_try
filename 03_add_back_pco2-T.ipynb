{
 "cells": [
  {
   "cell_type": "markdown",
   "id": "b49d9b4f-b061-4bab-97b5-3b7cc7c34d5f",
   "metadata": {},
   "source": [
    "<span style=\"color:hotpink; font-size:40px; font-weight:bold;\">Packages and imports</span>"
   ]
  },
  {
   "cell_type": "code",
   "execution_count": 1,
   "id": "58c52a4e-ed7b-4d2e-a50a-85524ef59b86",
   "metadata": {},
   "outputs": [],
   "source": [
    "# Standard imports\n",
    "\n",
    "import pandas as pd\n",
    "import xarray as xr\n",
    "import numpy as np\n",
    "import numpy.ma as ma\n",
    "from matplotlib.ticker import AutoMinorLocator\n",
    "import matplotlib.pyplot as plt\n",
    "import scipy\n",
    "import sklearn.linear_model \n",
    "import pickle\n",
    "import cmocean as cm\n",
    "import os\n",
    "\n",
    "import gcsfs\n",
    "fs = gcsfs.GCSFileSystem()\n",
    "\n",
    "%matplotlib inline"
   ]
  },
  {
   "cell_type": "markdown",
   "id": "f7f78325-07ce-4e83-a329-557db8fb02fe",
   "metadata": {},
   "source": [
    "<span style=\"color:hotpink; font-size:40px; font-weight:bold;\">Setting date range</span>"
   ]
  },
  {
   "cell_type": "code",
   "execution_count": 2,
   "id": "a9329d15-d354-4431-bb43-03b1aa3a3cd2",
   "metadata": {},
   "outputs": [],
   "source": [
    "# Define date range\n",
    "date_range_start = '1982-02-01T00:00:00.000000000'\n",
    "date_range_end = '2023-12-31T00:00:00.000000000'\n",
    "\n",
    "# create date vector, adds 14 days to start & end\n",
    "dates = pd.date_range(start=date_range_start, \n",
    "                      end=date_range_end,freq='MS')\n",
    "\n",
    "init_date = str(dates[0].year) + format(dates[0].month,'02d')\n",
    "fin_date = str(dates[-1].year) + format(dates[-1].month,'02d')"
   ]
  },
  {
   "cell_type": "markdown",
   "id": "aa609631-0878-41e0-970c-3e0c6bbea4da",
   "metadata": {},
   "source": [
    "<span style=\"color:hotpink; font-size:40px; font-weight:bold;\">Setting paths</span>"
   ]
  },
  {
   "cell_type": "code",
   "execution_count": null,
   "id": "d202a9ce-0192-4ebe-9dee-5b882f4822a6",
   "metadata": {},
   "outputs": [],
   "source": [
    "### set paths ###\n",
    "\n",
    "your_username = # leap pangeo username, for bucket. should be your github username\n",
    "\n",
    "### paths for loading: ###\n",
    "\n",
    "regridded_members_dir = 'gs://leap-persistent/abbysh/pco2_residual_1982-2023/00_regridded_members' # path to directory of output from notebook 00\n",
    "pco2_recon_dir = f'gs://leap-persistent/{your_username}/pco2_residual/post02_xgb/reconstructions' # path to directory of ML output from notebook 02"
   ]
  },
  {
   "cell_type": "markdown",
   "id": "f7934792-cb5e-4167-93b5-18ec7d2667c6",
   "metadata": {},
   "source": [
    "<span style=\"color:hotpink; font-size:40px; font-weight:bold;\">Loading list of ESMs and members in testbed</span>"
   ]
  },
  {
   "cell_type": "code",
   "execution_count": null,
   "id": "645d8ded-a823-44f1-bdeb-02718021904a",
   "metadata": {},
   "outputs": [],
   "source": [
    "### loads list of Earth System Models (\"ensembles\") and members for the full testbed ###\n",
    "\n",
    "ensembles = []\n",
    "for path in fs.ls(pco2_recon_dir):\n",
    "    ens = path.split('/')[-1].split('.')[0]\n",
    "    if ens not in ensembles:\n",
    "        ensembles.append(ens)\n",
    "\n",
    "mems_dict = dict()\n",
    "a = fs.ls(pco2_recon_dir)\n",
    "for ens_path in a:\n",
    "    ens = ens_path.split('/')[-1]\n",
    "    mems = fs.ls(pco2_recon_dir + '/' + ens)\n",
    "    for mem in mems:\n",
    "        memo = mem.split('/')[-1]\n",
    "        \n",
    "        if ens not in mems_dict:\n",
    "            mems_dict[ens] = [memo]\n",
    "\n",
    "        elif ens in mems_dict:\n",
    "            mems_dict[ens].append(memo)"
   ]
  },
  {
   "cell_type": "markdown",
   "id": "783b71f4-28e5-4708-8a41-d32936d61b78",
   "metadata": {},
   "source": [
    "<span style=\"color:hotpink; font-size:40px; font-weight:bold;\">Adding temperature to reconstructed pCO2 residual to get total pCO2</span>"
   ]
  },
  {
   "cell_type": "markdown",
   "id": "5b01984e-61ec-406a-a8a9-04606c13c512",
   "metadata": {},
   "source": [
    "We broke pco2 into its temperature and non-temperature components (pco2-T and pco2-residual, respecitvely, and saved them in notebook 00.\n",
    "The ML reconstructed pco2-residual (the non temperature component of pco2). \n",
    "Here, we add the temperature component (pco2-T) back, to get total pco2.\n",
    "\n",
    " <center><span style=font-weight:bold> pCO2 = pCO2-residual + pCO2-temperature </center></span>"
   ]
  },
  {
   "cell_type": "markdown",
   "id": "47fc2db8-a244-49aa-bbda-574aa01a5ad3",
   "metadata": {},
   "source": [
    "<span style=\"color:lightblue; font-size:30px; font-weight:bold;\">Function to add pco2-T back:</span>"
   ]
  },
  {
   "cell_type": "code",
   "execution_count": null,
   "id": "1d79874c-ae2c-43e8-a2cf-2aaea21ba86d",
   "metadata": {},
   "outputs": [],
   "source": [
    "def calc_recon_pco2(regridded_members_dir, pco2_recon_dir):\n",
    "    \n",
    "    \"\"\"\n",
    "    Calculates reconstructed pco2 per member.\n",
    "    \n",
    "    Parameters\n",
    "    ----------\n",
    "    regridded_members_dir : str\n",
    "        Path to regridded data from notebook 00, which contains pco2T.\n",
    "    \n",
    "    pco2_recon_dir : str\n",
    "        Path to directory where ML reconstructions from notebook 02 are saved.\n",
    "    \"\"\"\n",
    "\n",
    "    for ens, mem_list in mems_dict.items():\n",
    "        print(f\"Current ESM: {ens}\")\n",
    "\n",
    "        for member in mem_list:\n",
    "            print(f\"On member {member}\")\n",
    "\n",
    "            ### File paths ###\n",
    "            \n",
    "            ### Path to regridded data from notebook 00, so we can get the pCO2-T we calculated in 00\n",
    "            ### pCO2-T calculated from model pCO2 and SST\n",
    "            pco2T_path = f'{regridded_members_dir}/{ens}/{member}/{ens}.{member.split(\"_\")[-1]}.Omon.zarr'\n",
    "            print('pco2T path:',pco2T_path)    \n",
    "\n",
    "            ### Path to reconstruction (ML output from notebook 02), where pCO2-residual was reconstructed\n",
    "            pco2D_path = f\"{pco2_recon_dir}/{ens}/{member}/recon_pC02residual_{ens}_{member}_mon_1x1_{init_date}_{fin_date}.zarr\"\n",
    "            print('pco2D path:',pco2D_path)\n",
    "\n",
    "            ### Path to save calculated pCO2 (reconstructed pCO2-residual PLUS pCO2-T: Total pCO2 =  pCO2-residual + pCO2-T)\n",
    "            file_out = f\"{pco2_recon_dir}/{ens}/{member}/recon_pCO2_{ens}_{member}_mon_1x1_{init_date}_{fin_date}.zarr\" # change this to just pco2\n",
    "            print('save path:',file_out)\n",
    "\n",
    "            ### Loading pCO2-T and reconstructed pCO2-residual:\n",
    "            pco2T_series = xr.open_mfdataset(pco2T_path,engine='zarr').pco2_T.transpose(\"time\",\"ylat\",\"xlon\")\n",
    "            pco2_ml_output = xr.open_mfdataset(pco2D_path,engine='zarr')\n",
    "\n",
    "            ### unseen reconstructed pCO2-Residual from XGB\n",
    "            pco2D_unseen_series = pco2_ml_output.pCO2_recon_unseen.transpose(\"time\",\"ylat\",\"xlon\")\n",
    "            \n",
    "            ### Full (seen and unseen) reconstructed pCO2-Residual from XGB\n",
    "            pco2D_full_series = pco2_ml_output.pCO2_recon_full.transpose(\"time\",\"ylat\",\"xlon\")\n",
    "            \n",
    "            ### training set for pco2 residual\n",
    "            pco2D_train_series = pco2_ml_output.pCO2_recon_train.transpose(\"time\",\"ylat\",\"xlon\")\n",
    "            \n",
    "            ### testing set for pco2 residual\n",
    "            pco2D_test_series = pco2_ml_output.pCO2_recon_test.transpose(\"time\",\"ylat\",\"xlon\")\n",
    "            \n",
    "            ### Get time coordinate correct\n",
    "            pco2T_series = pco2T_series.assign_coords({\"time\":(\"time\",pco2D_unseen_series.time.data)})\n",
    "\n",
    "            ### Total pCO2 =  pCO2-residual + pCO2-T\n",
    "            pco2_unseen = pco2T_series + pco2D_unseen_series   \n",
    "            pco2_full =  pco2T_series + pco2D_full_series\n",
    "            pco2_train =  pco2T_series + pco2D_train_series\n",
    "            pco2_test =  pco2T_series + pco2D_test_series\n",
    "\n",
    "            ### Creating xarray of pco2 ML output, but with temperature added back \n",
    "            comp = xr.Dataset({'pCO2_recon_unseen':([\"time\",\"ylat\",\"xlon\"],pco2_unseen.data), \n",
    "                            'pCO2_recon_full':([\"time\",\"ylat\",\"xlon\"],pco2_full.data),\n",
    "                              'pCO2_recon_train':([\"time\",\"ylat\",\"xlon\"],pco2_train.data),\n",
    "                              'pCO2_recon_test':([\"time\",\"ylat\",\"xlon\"],pco2_test.data)},\n",
    "                            coords={'time': (['time'],pco2T_series.time.values),\n",
    "                            'ylat': (['ylat'],pco2T_series.ylat.values),\n",
    "                            'xlon':(['xlon'],pco2T_series.xlon.values)})\n",
    "\n",
    "            ### to overwrite file if it exists already\n",
    "            if fs.exists(file_out):\n",
    "                fs.rm(file_out,recursive=True)\n",
    "\n",
    "            ### for saving:\n",
    "            comp = comp.chunk({'time':100,'ylat':45,'xlon':90})\n",
    "            comp.to_zarr(file_out)\n",
    "\n",
    "            print(f'finished with {member}')"
   ]
  },
  {
   "cell_type": "markdown",
   "id": "ce2507f2-0502-42b5-ae11-39ccb6f4ef3e",
   "metadata": {},
   "source": [
    "<span style=\"color:lightblue; font-size:30px; font-weight:bold;\">Adding pco2-T back to get total pco2 for all members</span>"
   ]
  },
  {
   "cell_type": "code",
   "execution_count": null,
   "id": "7753b67a-bba6-428b-901c-9a39dd282cc1",
   "metadata": {
    "scrolled": true,
    "tags": []
   },
   "outputs": [],
   "source": [
    "calc_recon_pco2(regridded_members_dir, pco2_recon_dir)"
   ]
  }
 ],
 "metadata": {
  "kernelspec": {
   "display_name": "Python 3 (ipykernel)",
   "language": "python",
   "name": "python3"
  },
  "language_info": {
   "codemirror_mode": {
    "name": "ipython",
    "version": 3
   },
   "file_extension": ".py",
   "mimetype": "text/x-python",
   "name": "python",
   "nbconvert_exporter": "python",
   "pygments_lexer": "ipython3",
   "version": "3.12.11"
  }
 },
 "nbformat": 4,
 "nbformat_minor": 5
}
