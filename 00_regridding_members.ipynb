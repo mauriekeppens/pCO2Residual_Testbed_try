{
 "cells": [
  {
   "cell_type": "markdown",
   "id": "3d5c1892-fd91-4483-a420-713bbcacfa64",
   "metadata": {},
   "source": [
    "<span style=\"color:hotpink; font-size:40px; font-weight:bold;\">Packages and imports</span>"
   ]
  },
  {
   "cell_type": "code",
   "execution_count": 36,
   "id": "a40d1015-e183-4d6a-8570-0de697d637ed",
   "metadata": {},
   "outputs": [
    {
     "data": {
      "application/javascript": [
       "navigator.clipboard.writeText(\"9727-7AC4\");"
      ],
      "text/plain": [
       "<IPython.core.display.Javascript object>"
      ]
     },
     "metadata": {},
     "output_type": "display_data"
    },
    {
     "name": "stdout",
     "output_type": "stream",
     "text": [
      "The code 9727-7AC4 has been copied to your clipboard.\n",
      "You have 15 minutes to go to https://github.com/login/device and paste it there.\n",
      "\n",
      "Waiting......\n"
     ]
    },
    {
     "data": {
      "text/html": [
       "<p style=\"background-color:lightgreen;\">Success! Authentication will expire in 8.0 hours.<br /></p>"
      ],
      "text/plain": [
       "<IPython.core.display.HTML object>"
      ]
     },
     "metadata": {},
     "output_type": "display_data"
    },
    {
     "name": "stdout",
     "output_type": "stream",
     "text": [
      "Visit https://github.com/apps/leap-hub-push-access to manage list of repositories you can push to from this location\n",
      "Tip: Use https:// URLs to clone and push to repos, not ssh URLs!\n"
     ]
    }
   ],
   "source": [
    "# Configuration settings\n",
    "!git config --global user.name \"mauriekeppens\"\n",
    "!git config --global user.email \"keppens_maurie@hotmail.com\"\n",
    "import gh_scoped_creds\n",
    "%ghscopedcreds"
   ]
  },
  {
   "cell_type": "code",
   "execution_count": 39,
   "id": "6318411e-1e93-45da-b76d-e4bf84c7dcbd",
   "metadata": {},
   "outputs": [],
   "source": [
    "# Import packages\n",
    "from xmip.preprocessing import combined_preprocessing\n",
    "from xmip.postprocessing import concat_experiments, merge_variables\n",
    "from xmip.utils import cmip6_dataset_id\n",
    "\n",
    "from dask.diagnostics import ProgressBar\n",
    "import xarray as xr\n",
    "import numpy as np\n",
    "import matplotlib.pyplot as plt\n",
    "import xesmf as xe\n",
    "import pandas as pd\n",
    "import intake\n",
    "\n",
    "import gcsfs\n",
    "fs = gcsfs.GCSFileSystem()"
   ]
  },
  {
   "cell_type": "markdown",
   "id": "83a8b833-dfdc-44ea-9f6c-83857407bda5",
   "metadata": {},
   "source": [
    "<span style=\"color:hotpink; font-size:40px; font-weight:bold;\">Setting path for saving cleaned CMIP6 testbed files</span>"
   ]
  },
  {
   "cell_type": "code",
   "execution_count": 42,
   "id": "df79f24f-da3f-4465-920d-90221f6ffc73",
   "metadata": {},
   "outputs": [],
   "source": [
    "### set paths ###\n",
    "\n",
    "# this is the path to the 1982-2023 testbed, already saved\n",
    "# ensemble_dir = 'gs://leap-persistent/abbysh/pco2_all_members_1982-2023/post00_regridded_members'\n",
    "\n",
    "# if you'd like to save your own version of the testbed, \n",
    "# for instance, change the year range (a few cells below) or include other variables,\n",
    "# define your own path here:\n",
    "\n",
    "your_username = \"mauriekeppens\" # leap pangeo bucket name, also should be your github username\n",
    "ensemble_dir = f'gs://leap-persistent/{your_username}/Ensemble_Testbed_Analysis/00_regridded_members'"
   ]
  },
  {
   "cell_type": "markdown",
   "id": "140c4ccd-912a-4af4-ac3b-d91f1fae3a34",
   "metadata": {},
   "source": [
    "<span style=\"color:hotpink; font-size:40px; font-weight:bold;\">Load CMIP6 datasets from cloud that satisfy our requirements</span>"
   ]
  },
  {
   "cell_type": "markdown",
   "id": "dbb60eac-e829-463f-84e4-c9f3104564d9",
   "metadata": {},
   "source": [
    "<span style=\"color:lightblue; font-size:30px; font-weight:bold;\">CMIP6 Earth System Models (ESMs) we want, called \"source_id\"</span>"
   ]
  },
  {
   "cell_type": "code",
   "execution_count": 43,
   "id": "ea8726a1-2b13-45dd-ad28-5a7589482769",
   "metadata": {},
   "outputs": [],
   "source": [
    "# Define all ESMs that we want to use to make our reconstructions\n",
    "source_id=['ACCESS-ESM1-5','UKESM1-0-LL','CMCC-ESM2','CESM2-WACCM','CESM2','CanESM5-CanOE','CanESM5','MPI-ESM1-2-LR','GFDL-ESM4']"
   ]
  },
  {
   "cell_type": "markdown",
   "id": "0ac19933-fbe1-4ca5-a737-fdb7fd77c6e8",
   "metadata": {},
   "source": [
    "<span style=\"color:lightblue; font-size:30px; font-weight:bold;\">Searching CMIP6 catalog</span>"
   ]
  },
  {
   "cell_type": "markdown",
   "id": "846741ff-019d-487c-870b-09702dc2e44d",
   "metadata": {},
   "source": [
    "<span style=\"color:thistle; font-size:25px; font-weight:bold;\">Definitions and units</span>\n",
    "\n",
    "Note: To convert pascals to microatm: 1 atmosphere (atm) = 101325 pascal (Pa) and then 10^6uatm = 1atm."
   ]
  },
  {
   "cell_type": "markdown",
   "id": "c4b0966c-48b0-4682-b682-bc0152cb146a",
   "metadata": {},
   "source": [
    "| Our variable name | CMIP6 output name  | Description                      | Units                                  |\n",
    "|-------------------|--------------------|----------------------------------|----------------------------------------|\n",
    "| pCO2              | spco2              | sea surface co2 partial pressure |pascals, CONVERTS TO MICROATM LATER     |\n",
    "| SST               | tos                | sea surface temperature          |degrees Celsius                         |\n",
    "| SSS               | sos                | sea surface salinity             |.001 (parts per thousand)               |\n",
    "| Chl               | chl                | sea surface chlorophyll          |kilograms per cubic meter               |\n",
    "| MLD               | mlotst             | mixed layer depth                |meters (defined by sigma T criterion)   |"
   ]
  },
  {
   "cell_type": "code",
   "execution_count": 57,
   "id": "074ce676-612f-414f-8456-ad843a1b064e",
   "metadata": {},
   "outputs": [
    {
     "name": "stdout",
     "output_type": "stream",
     "text": [
      "      activity_id institution_id      source_id experiment_id  member_id  \\\n",
      "0     ScenarioMIP          CSIRO  ACCESS-ESM1-5        ssp245  r10i1p1f1   \n",
      "1     ScenarioMIP          CSIRO  ACCESS-ESM1-5        ssp245  r10i1p1f1   \n",
      "2     ScenarioMIP          CSIRO  ACCESS-ESM1-5        ssp245  r10i1p1f1   \n",
      "3            CMIP          CSIRO  ACCESS-ESM1-5    historical  r10i1p1f1   \n",
      "4     ScenarioMIP          CSIRO  ACCESS-ESM1-5        ssp245  r10i1p1f1   \n",
      "...           ...            ...            ...           ...        ...   \n",
      "1206         CMIP           MOHC    UKESM1-0-LL    historical   r8i1p1f2   \n",
      "1207         CMIP           MOHC    UKESM1-0-LL    historical   r8i1p1f2   \n",
      "1208  ScenarioMIP           MOHC    UKESM1-0-LL        ssp245   r8i1p1f2   \n",
      "1209  ScenarioMIP           MOHC    UKESM1-0-LL        ssp245   r8i1p1f2   \n",
      "1210         CMIP           MOHC    UKESM1-0-LL    historical   r8i1p1f2   \n",
      "\n",
      "     table_id variable_id grid_label sub_experiment_id variant_label  \\\n",
      "0        Omon         tos         gn              none     r10i1p1f1   \n",
      "1        Omon      mlotst         gn              none     r10i1p1f1   \n",
      "2        Omon         chl         gn              none     r10i1p1f1   \n",
      "3        Omon      mlotst         gn              none     r10i1p1f1   \n",
      "4        Omon         sos         gn              none     r10i1p1f1   \n",
      "...       ...         ...        ...               ...           ...   \n",
      "1206     Omon       spco2         gn              none      r8i1p1f2   \n",
      "1207     Omon         tos         gn              none      r8i1p1f2   \n",
      "1208     Omon       spco2         gn              none      r8i1p1f2   \n",
      "1209     Omon         chl         gn              none      r8i1p1f2   \n",
      "1210     Omon         chl         gn              none      r8i1p1f2   \n",
      "\n",
      "        version                                             zstore  \n",
      "0     v20200810  gs://cmip6/cmip6-pgf-ingestion-test/zarr_store...  \n",
      "1     v20200810  gs://cmip6/CMIP6_LEAP_legacy/a618127503-609993...  \n",
      "2     v20200810  gs://cmip6/CMIP6_LEAP_legacy/a618127503-609993...  \n",
      "3     v20200605  gs://cmip6/CMIP6_LEAP_legacy/a618127503-609993...  \n",
      "4     v20200810  gs://cmip6/CMIP6_LEAP_legacy/a618127503-609993...  \n",
      "...         ...                                                ...  \n",
      "1206  v20190708  gs://cmip6/CMIP6/CMIP/MOHC/UKESM1-0-LL/histori...  \n",
      "1207  v20190708  gs://cmip6/CMIP6/CMIP/MOHC/UKESM1-0-LL/histori...  \n",
      "1208  v20190801  gs://cmip6/CMIP6/ScenarioMIP/MOHC/UKESM1-0-LL/...  \n",
      "1209  v20190801  gs://cmip6/CMIP6/ScenarioMIP/MOHC/UKESM1-0-LL/...  \n",
      "1210  v20200204  gs://cmip6/CMIP6/CMIP/MOHC/UKESM1-0-LL/histori...  \n",
      "\n",
      "[1211 rows x 12 columns]\n"
     ]
    }
   ],
   "source": [
    "# filter the full catalog for data we could use\n",
    "\n",
    "# This is the store for CMIP6 datasets that pass ingestion tests. For more information: https://github.com/leap-stc/cmip6-leap-feedstock\n",
    "url = \"https://storage.googleapis.com/cmip6/cmip6-pgf-ingestion-test/catalog/catalog.json\"\n",
    "col = intake.open_esm_datastore(url)\n",
    "\n",
    "##search for data##\n",
    "cat = col.search(\n",
    "    source_id = source_id, # ESM list\n",
    "    variable_id=['tos', 'sos', 'chl', 'mlotst', 'spco2'], #variables we want, descriptions written above\n",
    "    table_id=['Omon'], # monthly ocean output only\n",
    "    experiment_id=['ssp245','historical'], # ssp scenario of choice, plus historical for pre-2014 model output\n",
    "    # \"each ensemble member has undergone the same forcing, namely solar, volcanic, and historical atmospheric CO2 through 2015, followed by RCP4.5 \n",
    "    # through 2022 (according to the article, here 2023 also included)\". \n",
    "    require_all_on=['source_id', 'member_id', 'grid_label'] # this ensures that results will have all variables and experiments available\n",
    ")\n",
    "\n",
    "print(cat.df)"
   ]
  },
  {
   "cell_type": "markdown",
   "id": "8066e54a-fb27-4878-b653-2c5d59971370",
   "metadata": {},
   "source": [
    "<span style=\"color:thistle; font-size:25px; font-weight:bold;\">To view available datasets, number of members per ESM</span>"
   ]
  },
  {
   "cell_type": "code",
   "execution_count": 61,
   "id": "70c95f84-ba04-4668-9619-49bc9100eb87",
   "metadata": {},
   "outputs": [
    {
     "name": "stdout",
     "output_type": "stream",
     "text": [
      "                                   member_id\n",
      "source_id     grid_label table_id           \n",
      "ACCESS-ESM1-5 gn         Omon             35\n",
      "CESM2         gn         Omon              3\n",
      "CESM2-WACCM   gn         Omon              3\n",
      "              gr         Omon              3\n",
      "CMCC-ESM2     gn         Omon              1\n",
      "CanESM5       gn         Omon             20\n",
      "CanESM5-CanOE gn         Omon              3\n",
      "GFDL-ESM4     gr         Omon              1\n",
      "MPI-ESM1-2-LR gn         Omon             47\n",
      "UKESM1-0-LL   gn         Omon              5\n",
      "Total ensemble members: 121\n"
     ]
    }
   ],
   "source": [
    "members_count = cat.df.groupby(['source_id', 'grid_label','table_id'])[['member_id']].nunique()\n",
    "print(members_count)\n",
    "# grid_label = gn -> model's original grid\n",
    "\n",
    "# Calculate total number of members overall \n",
    "total_members = members_count['member_id'].sum()\n",
    "print(\"Total ensemble members:\", total_members)"
   ]
  },
  {
   "cell_type": "markdown",
   "id": "64031e33-66bc-4157-8474-a359407c206f",
   "metadata": {},
   "source": [
    "<span style=\"color:hotpink; font-size:40px; font-weight:bold;\">Regridding</span>"
   ]
  },
  {
   "cell_type": "markdown",
   "id": "3005ef8a-4512-49e0-9284-61cbd9130e4b",
   "metadata": {},
   "source": [
    "<span style=\"color:lightblue; font-size:30px; font-weight:bold;\">Turn catalog of ESM datasets into dictionary</span>"
   ]
  },
  {
   "cell_type": "code",
   "execution_count": 63,
   "id": "5c57307e-88e3-47c2-b80e-8e4f2264dee4",
   "metadata": {
    "scrolled": true
   },
   "outputs": [
    {
     "name": "stdout",
     "output_type": "stream",
     "text": [
      "\n",
      "--> The keys in the returned dictionary of datasets are constructed as follows:\n",
      "\t'activity_id.institution_id.source_id.experiment_id.member_id.table_id.variable_id.grid_label.sub_experiment_id.variant_label.version.zstore'\n"
     ]
    },
    {
     "data": {
      "text/html": [
       "\n",
       "<style>\n",
       "    /* Turns off some styling */\n",
       "    progress {\n",
       "        /* gets rid of default border in Firefox and Opera. */\n",
       "        border: none;\n",
       "        /* Needs to be in here for Safari polyfill so background images work as expected. */\n",
       "        background-size: auto;\n",
       "    }\n",
       "    progress:not([value]), progress:not([value])::-webkit-progress-bar {\n",
       "        background: repeating-linear-gradient(45deg, #7e7e7e, #7e7e7e 10px, #5c5c5c 10px, #5c5c5c 20px);\n",
       "    }\n",
       "    .progress-bar-interrupted, .progress-bar-interrupted::-webkit-progress-bar {\n",
       "        background: #F44336;\n",
       "    }\n",
       "</style>\n"
      ],
      "text/plain": [
       "<IPython.core.display.HTML object>"
      ]
     },
     "metadata": {},
     "output_type": "display_data"
    },
    {
     "data": {
      "text/html": [
       "\n",
       "    <div>\n",
       "      <progress value='1211' class='' max='1211' style='width:300px; height:20px; vertical-align: middle;'></progress>\n",
       "      100.00% [1211/1211 03:21&lt;00:00]\n",
       "    </div>\n",
       "    "
      ],
      "text/plain": [
       "<IPython.core.display.HTML object>"
      ]
     },
     "metadata": {},
     "output_type": "display_data"
    },
    {
     "name": "stderr",
     "output_type": "stream",
     "text": [
      "/srv/conda/envs/notebook/lib/python3.12/site-packages/xmip/preprocessing.py:229: UserWarning: ScenarioMIP.MPI-M.MPI-ESM1-2-LR.ssp245.r2i1p1f1.Omon.gn.none.chl: Unit correction failed with: Cannot convert variables:\n",
      "    incompatible units for variable ('lev',): cannot use 'm' as a unit\n",
      "  warnings.warn(\n",
      "/srv/conda/envs/notebook/lib/python3.12/site-packages/xmip/preprocessing.py:229: UserWarning: ScenarioMIP.NCAR.CESM2.ssp245.r4i1p1f1.Omon.gn.none.sos: Unit correction failed with: Cannot parse units:\n",
      "    invalid units for variable 'sos': 0.001 (attribute) (reason: Unit expression cannot have a scaling factor.)\n",
      "  warnings.warn(\n",
      "/srv/conda/envs/notebook/lib/python3.12/site-packages/xmip/preprocessing.py:229: UserWarning: ScenarioMIP.MPI-M.MPI-ESM1-2-LR.ssp245.r16i1p1f1.Omon.gn.none.sos: Unit correction failed with: Cannot parse units:\n",
      "    invalid units for variable 'sos': 0.001 (attribute) (reason: Unit expression cannot have a scaling factor.)\n",
      "  warnings.warn(\n",
      "/srv/conda/envs/notebook/lib/python3.12/site-packages/xmip/preprocessing.py:229: UserWarning: CMIP.NOAA-GFDL.GFDL-ESM4.historical.r1i1p1f1.Omon.gr.none.chl: Unit correction failed with: Cannot convert variables:\n",
      "    incompatible units for variable ('lev',): cannot use 'm' as a unit\n",
      "  warnings.warn(\n",
      "/srv/conda/envs/notebook/lib/python3.12/site-packages/xmip/preprocessing.py:229: UserWarning: CMIP.CSIRO.ACCESS-ESM1-5.historical.r37i1p1f1.Omon.gn.v20210525.sos: Unit correction failed with: Cannot parse units:\n",
      "    invalid units for variable 'sos': 0.001 (attribute) (reason: Unit expression cannot have a scaling factor.)\n",
      "  warnings.warn(\n",
      "/srv/conda/envs/notebook/lib/python3.12/site-packages/xmip/preprocessing.py:229: UserWarning: CMIP.MPI-M.MPI-ESM1-2-LR.historical.r18i1p1f1.Omon.gn.none.chl: Unit correction failed with: Cannot convert variables:\n",
      "    incompatible units for variable ('lev',): cannot use 'm' as a unit\n",
      "  warnings.warn(\n",
      "/srv/conda/envs/notebook/lib/python3.12/site-packages/xmip/preprocessing.py:229: UserWarning: CMIP.CSIRO.ACCESS-ESM1-5.historical.r27i1p1f1.Omon.gn.v20200922.chl: Unit correction failed with: Cannot convert variables:\n",
      "    incompatible units for variable ('lev',): cannot use 'm' as a unit\n",
      "  warnings.warn(\n",
      "/srv/conda/envs/notebook/lib/python3.12/site-packages/xmip/preprocessing.py:229: UserWarning: CMIP.CSIRO.ACCESS-ESM1-5.historical.r32i1p1f1.Omon.gn.v20210525.sos: Unit correction failed with: Cannot parse units:\n",
      "    invalid units for variable 'sos': 0.001 (attribute) (reason: Unit expression cannot have a scaling factor.)\n",
      "  warnings.warn(\n",
      "/srv/conda/envs/notebook/lib/python3.12/site-packages/xmip/preprocessing.py:229: UserWarning: ScenarioMIP.NCAR.CESM2.ssp245.r10i1p1f1.Omon.gn.none.sos: Unit correction failed with: Cannot parse units:\n",
      "    invalid units for variable 'sos': 0.001 (attribute) (reason: Unit expression cannot have a scaling factor.)\n",
      "  warnings.warn(\n",
      "/srv/conda/envs/notebook/lib/python3.12/site-packages/xmip/preprocessing.py:229: UserWarning: CMIP.MPI-M.MPI-ESM1-2-LR.historical.r21i1p1f1.Omon.gn.none.sos: Unit correction failed with: Cannot parse units:\n",
      "    invalid units for variable 'sos': 0.001 (attribute) (reason: Unit expression cannot have a scaling factor.)\n",
      "  warnings.warn(\n",
      "/srv/conda/envs/notebook/lib/python3.12/site-packages/xmip/preprocessing.py:229: UserWarning: CMIP.CCCma.CanESM5.historical.r2i1p1f1.Omon.gn.v20190429.sos: Unit correction failed with: Cannot parse units:\n",
      "    invalid units for variable 'sos': 0.001 (attribute) (reason: Unit expression cannot have a scaling factor.)\n",
      "  warnings.warn(\n",
      "/srv/conda/envs/notebook/lib/python3.12/site-packages/xmip/preprocessing.py:229: UserWarning: ScenarioMIP.NCAR.CESM2-WACCM.ssp245.r3i1p1f1.Omon.gr.none.sos: Unit correction failed with: Cannot parse units:\n",
      "    invalid units for variable 'sos': 0.001 (attribute) (reason: Unit expression cannot have a scaling factor.)\n",
      "  warnings.warn(\n",
      "/srv/conda/envs/notebook/lib/python3.12/site-packages/xmip/preprocessing.py:229: UserWarning: CMIP.CCCma.CanESM5.historical.r2i1p1f1.Omon.gn.v20190429.chl: Unit correction failed with: Cannot convert variables:\n",
      "    incompatible units for variable ('lev',): cannot use 'm' as a unit\n",
      "  warnings.warn(\n",
      "/srv/conda/envs/notebook/lib/python3.12/site-packages/xmip/preprocessing.py:229: UserWarning: ScenarioMIP.MPI-M.MPI-ESM1-2-LR.ssp245.r17i1p1f1.Omon.gn.none.chl: Unit correction failed with: Cannot convert variables:\n",
      "    incompatible units for variable ('lev',): cannot use 'm' as a unit\n",
      "  warnings.warn(\n",
      "/srv/conda/envs/notebook/lib/python3.12/site-packages/xmip/preprocessing.py:229: UserWarning: ScenarioMIP.CSIRO.ACCESS-ESM1-5.ssp245.r7i1p1f1.Omon.gn.v20200810.chl: Unit correction failed with: Cannot convert variables:\n",
      "    incompatible units for variable ('lev',): cannot use 'm' as a unit\n",
      "  warnings.warn(\n",
      "/srv/conda/envs/notebook/lib/python3.12/site-packages/xmip/preprocessing.py:229: UserWarning: ScenarioMIP.MPI-M.MPI-ESM1-2-LR.ssp245.r21i1p1f1.Omon.gn.none.chl: Unit correction failed with: Cannot convert variables:\n",
      "    incompatible units for variable ('lev',): cannot use 'm' as a unit\n",
      "  warnings.warn(\n",
      "/srv/conda/envs/notebook/lib/python3.12/site-packages/xmip/preprocessing.py:229: UserWarning: CMIP.CSIRO.ACCESS-ESM1-5.historical.r8i1p1f1.Omon.gn.v20200529.chl: Unit correction failed with: Cannot convert variables:\n",
      "    incompatible units for variable ('lev',): cannot use 'm' as a unit\n",
      "  warnings.warn(\n",
      "/srv/conda/envs/notebook/lib/python3.12/site-packages/xmip/preprocessing.py:229: UserWarning: CMIP.MPI-M.MPI-ESM1-2-LR.historical.r11i1p1f1.Omon.gn.none.chl: Unit correction failed with: Cannot convert variables:\n",
      "    incompatible units for variable ('lev',): cannot use 'm' as a unit\n",
      "  warnings.warn(\n",
      "/srv/conda/envs/notebook/lib/python3.12/site-packages/xmip/preprocessing.py:229: UserWarning: CMIP.CSIRO.ACCESS-ESM1-5.historical.r25i1p1f1.Omon.gn.v20200922.chl: Unit correction failed with: Cannot convert variables:\n",
      "    incompatible units for variable ('lev',): cannot use 'm' as a unit\n",
      "  warnings.warn(\n",
      "/srv/conda/envs/notebook/lib/python3.12/site-packages/xmip/preprocessing.py:229: UserWarning: CMIP.MPI-M.MPI-ESM1-2-LR.historical.r32i1p1f1.Omon.gn.none.sos: Unit correction failed with: Cannot parse units:\n",
      "    invalid units for variable 'sos': 0.001 (attribute) (reason: Unit expression cannot have a scaling factor.)\n",
      "  warnings.warn(\n",
      "/srv/conda/envs/notebook/lib/python3.12/site-packages/xmip/preprocessing.py:229: UserWarning: ScenarioMIP.CSIRO.ACCESS-ESM1-5.ssp245.r10i1p1f1.Omon.gn.v20200810.chl: Unit correction failed with: Cannot convert variables:\n",
      "    incompatible units for variable ('lev',): cannot use 'm' as a unit\n",
      "  warnings.warn(\n",
      "/srv/conda/envs/notebook/lib/python3.12/site-packages/xmip/preprocessing.py:229: UserWarning: CMIP.CSIRO.ACCESS-ESM1-5.historical.r22i1p1f1.Omon.gn.v20200922.chl: Unit correction failed with: Cannot convert variables:\n",
      "    incompatible units for variable ('lev',): cannot use 'm' as a unit\n",
      "  warnings.warn(\n",
      "/srv/conda/envs/notebook/lib/python3.12/site-packages/xmip/preprocessing.py:229: UserWarning: ScenarioMIP.CSIRO.ACCESS-ESM1-5.ssp245.r14i1p1f1.Omon.gn.v20200922.chl: Unit correction failed with: Cannot convert variables:\n",
      "    incompatible units for variable ('lev',): cannot use 'm' as a unit\n",
      "  warnings.warn(\n",
      "/srv/conda/envs/notebook/lib/python3.12/site-packages/xmip/preprocessing.py:229: UserWarning: ScenarioMIP.CSIRO.ACCESS-ESM1-5.ssp245.r15i1p1f1.Omon.gn.v20200922.sos: Unit correction failed with: Cannot parse units:\n",
      "    invalid units for variable 'sos': 0.001 (attribute) (reason: Unit expression cannot have a scaling factor.)\n",
      "  warnings.warn(\n",
      "/srv/conda/envs/notebook/lib/python3.12/site-packages/xmip/preprocessing.py:229: UserWarning: CMIP.NCAR.CESM2-WACCM.historical.r2i1p1f1.Omon.gr.none.sos: Unit correction failed with: Cannot parse units:\n",
      "    invalid units for variable 'sos': 0.001 (attribute) (reason: Unit expression cannot have a scaling factor.)\n",
      "  warnings.warn(\n",
      "/srv/conda/envs/notebook/lib/python3.12/site-packages/xmip/preprocessing.py:229: UserWarning: CMIP.NCAR.CESM2.historical.r4i1p1f1.Omon.gn.none.sos: Unit correction failed with: Cannot parse units:\n",
      "    invalid units for variable 'sos': 0.001 (attribute) (reason: Unit expression cannot have a scaling factor.)\n",
      "  warnings.warn(\n",
      "/srv/conda/envs/notebook/lib/python3.12/site-packages/xmip/preprocessing.py:229: UserWarning: CMIP.MPI-M.MPI-ESM1-2-LR.historical.r41i1p1f1.Omon.gn.none.chl: Unit correction failed with: Cannot convert variables:\n",
      "    incompatible units for variable ('lev',): cannot use 'm' as a unit\n",
      "  warnings.warn(\n",
      "/srv/conda/envs/notebook/lib/python3.12/site-packages/xmip/preprocessing.py:229: UserWarning: ScenarioMIP.CSIRO.ACCESS-ESM1-5.ssp245.r5i1p1f1.Omon.gn.v20200810.chl: Unit correction failed with: Cannot convert variables:\n",
      "    incompatible units for variable ('lev',): cannot use 'm' as a unit\n",
      "  warnings.warn(\n",
      "/srv/conda/envs/notebook/lib/python3.12/site-packages/xmip/preprocessing.py:229: UserWarning: ScenarioMIP.CSIRO.ACCESS-ESM1-5.ssp245.r24i1p1f1.Omon.gn.v20200922.chl: Unit correction failed with: Cannot convert variables:\n",
      "    incompatible units for variable ('lev',): cannot use 'm' as a unit\n",
      "  warnings.warn(\n",
      "/srv/conda/envs/notebook/lib/python3.12/site-packages/xmip/preprocessing.py:229: UserWarning: CMIP.MPI-M.MPI-ESM1-2-LR.historical.r30i1p1f1.Omon.gn.none.chl: Unit correction failed with: Cannot convert variables:\n",
      "    incompatible units for variable ('lev',): cannot use 'm' as a unit\n",
      "  warnings.warn(\n",
      "/srv/conda/envs/notebook/lib/python3.12/site-packages/xmip/preprocessing.py:229: UserWarning: CMIP.CSIRO.ACCESS-ESM1-5.historical.r29i1p1f1.Omon.gn.v20200922.chl: Unit correction failed with: Cannot convert variables:\n",
      "    incompatible units for variable ('lev',): cannot use 'm' as a unit\n",
      "  warnings.warn(\n",
      "/srv/conda/envs/notebook/lib/python3.12/site-packages/xmip/preprocessing.py:229: UserWarning: CMIP.CCCma.CanESM5-CanOE.historical.r2i1p2f1.Omon.gn.v20190429.sos: Unit correction failed with: Cannot parse units:\n",
      "    invalid units for variable 'sos': 0.001 (attribute) (reason: Unit expression cannot have a scaling factor.)\n",
      "  warnings.warn(\n",
      "/srv/conda/envs/notebook/lib/python3.12/site-packages/xmip/preprocessing.py:229: UserWarning: ScenarioMIP.MPI-M.MPI-ESM1-2-LR.ssp245.r38i1p1f1.Omon.gn.none.sos: Unit correction failed with: Cannot parse units:\n",
      "    invalid units for variable 'sos': 0.001 (attribute) (reason: Unit expression cannot have a scaling factor.)\n",
      "  warnings.warn(\n",
      "/srv/conda/envs/notebook/lib/python3.12/site-packages/xmip/preprocessing.py:229: UserWarning: CMIP.CSIRO.ACCESS-ESM1-5.historical.r39i1p1f1.Omon.gn.v20210525.sos: Unit correction failed with: Cannot parse units:\n",
      "    invalid units for variable 'sos': 0.001 (attribute) (reason: Unit expression cannot have a scaling factor.)\n",
      "  warnings.warn(\n",
      "/srv/conda/envs/notebook/lib/python3.12/site-packages/xmip/preprocessing.py:229: UserWarning: ScenarioMIP.MPI-M.MPI-ESM1-2-LR.ssp245.r19i1p1f1.Omon.gn.none.sos: Unit correction failed with: Cannot parse units:\n",
      "    invalid units for variable 'sos': 0.001 (attribute) (reason: Unit expression cannot have a scaling factor.)\n",
      "  warnings.warn(\n",
      "/srv/conda/envs/notebook/lib/python3.12/site-packages/xmip/preprocessing.py:229: UserWarning: ScenarioMIP.MPI-M.MPI-ESM1-2-LR.ssp245.r8i1p1f1.Omon.gn.none.sos: Unit correction failed with: Cannot parse units:\n",
      "    invalid units for variable 'sos': 0.001 (attribute) (reason: Unit expression cannot have a scaling factor.)\n",
      "  warnings.warn(\n",
      "/srv/conda/envs/notebook/lib/python3.12/site-packages/xmip/preprocessing.py:229: UserWarning: ScenarioMIP.CCCma.CanESM5.ssp245.r4i1p1f1.Omon.gn.v20190429.sos: Unit correction failed with: Cannot parse units:\n",
      "    invalid units for variable 'sos': 0.001 (attribute) (reason: Unit expression cannot have a scaling factor.)\n",
      "  warnings.warn(\n",
      "/srv/conda/envs/notebook/lib/python3.12/site-packages/xmip/preprocessing.py:229: UserWarning: CMIP.CCCma.CanESM5.historical.r1i1p2f1.Omon.gn.v20190429.sos: Unit correction failed with: Cannot parse units:\n",
      "    invalid units for variable 'sos': 0.001 (attribute) (reason: Unit expression cannot have a scaling factor.)\n",
      "  warnings.warn(\n",
      "/srv/conda/envs/notebook/lib/python3.12/site-packages/xmip/preprocessing.py:229: UserWarning: ScenarioMIP.MPI-M.MPI-ESM1-2-LR.ssp245.r7i1p1f1.Omon.gn.none.sos: Unit correction failed with: Cannot parse units:\n",
      "    invalid units for variable 'sos': 0.001 (attribute) (reason: Unit expression cannot have a scaling factor.)\n",
      "  warnings.warn(\n",
      "/srv/conda/envs/notebook/lib/python3.12/site-packages/xmip/preprocessing.py:229: UserWarning: CMIP.CSIRO.ACCESS-ESM1-5.historical.r27i1p1f1.Omon.gn.v20200922.sos: Unit correction failed with: Cannot parse units:\n",
      "    invalid units for variable 'sos': 0.001 (attribute) (reason: Unit expression cannot have a scaling factor.)\n",
      "  warnings.warn(\n",
      "/srv/conda/envs/notebook/lib/python3.12/site-packages/xmip/preprocessing.py:229: UserWarning: ScenarioMIP.MPI-M.MPI-ESM1-2-LR.ssp245.r29i1p1f1.Omon.gn.none.chl: Unit correction failed with: Cannot convert variables:\n",
      "    incompatible units for variable ('lev',): cannot use 'm' as a unit\n",
      "  warnings.warn(\n",
      "/srv/conda/envs/notebook/lib/python3.12/site-packages/xmip/preprocessing.py:229: UserWarning: CMIP.CSIRO.ACCESS-ESM1-5.historical.r23i1p1f1.Omon.gn.v20200922.sos: Unit correction failed with: Cannot parse units:\n",
      "    invalid units for variable 'sos': 0.001 (attribute) (reason: Unit expression cannot have a scaling factor.)\n",
      "  warnings.warn(\n",
      "/srv/conda/envs/notebook/lib/python3.12/site-packages/xmip/preprocessing.py:229: UserWarning: CMIP.CCCma.CanESM5.historical.r1i1p2f1.Omon.gn.v20190429.chl: Unit correction failed with: Cannot convert variables:\n",
      "    incompatible units for variable ('lev',): cannot use 'm' as a unit\n",
      "  warnings.warn(\n",
      "/srv/conda/envs/notebook/lib/python3.12/site-packages/xmip/preprocessing.py:229: UserWarning: CMIP.MPI-M.MPI-ESM1-2-LR.historical.r14i1p1f1.Omon.gn.none.sos: Unit correction failed with: Cannot parse units:\n",
      "    invalid units for variable 'sos': 0.001 (attribute) (reason: Unit expression cannot have a scaling factor.)\n",
      "  warnings.warn(\n",
      "/srv/conda/envs/notebook/lib/python3.12/site-packages/xmip/preprocessing.py:229: UserWarning: ScenarioMIP.CCCma.CanESM5.ssp245.r7i1p2f1.Omon.gn.v20190429.sos: Unit correction failed with: Cannot parse units:\n",
      "    invalid units for variable 'sos': 0.001 (attribute) (reason: Unit expression cannot have a scaling factor.)\n",
      "  warnings.warn(\n",
      "/srv/conda/envs/notebook/lib/python3.12/site-packages/xmip/preprocessing.py:229: UserWarning: CMIP.MPI-M.MPI-ESM1-2-LR.historical.r27i1p1f1.Omon.gn.none.chl: Unit correction failed with: Cannot convert variables:\n",
      "    incompatible units for variable ('lev',): cannot use 'm' as a unit\n",
      "  warnings.warn(\n",
      "/srv/conda/envs/notebook/lib/python3.12/site-packages/xmip/preprocessing.py:229: UserWarning: ScenarioMIP.CCCma.CanESM5.ssp245.r10i1p2f1.Omon.gn.v20190429.chl: Unit correction failed with: Cannot convert variables:\n",
      "    incompatible units for variable ('lev',): cannot use 'm' as a unit\n",
      "  warnings.warn(\n",
      "/srv/conda/envs/notebook/lib/python3.12/site-packages/xmip/preprocessing.py:229: UserWarning: CMIP.MPI-M.MPI-ESM1-2-LR.historical.r49i1p1f1.Omon.gn.none.sos: Unit correction failed with: Cannot parse units:\n",
      "    invalid units for variable 'sos': 0.001 (attribute) (reason: Unit expression cannot have a scaling factor.)\n",
      "  warnings.warn(\n",
      "/srv/conda/envs/notebook/lib/python3.12/site-packages/xmip/preprocessing.py:229: UserWarning: ScenarioMIP.CSIRO.ACCESS-ESM1-5.ssp245.r18i1p1f1.Omon.gn.v20200922.chl: Unit correction failed with: Cannot convert variables:\n",
      "    incompatible units for variable ('lev',): cannot use 'm' as a unit\n",
      "  warnings.warn(\n",
      "/srv/conda/envs/notebook/lib/python3.12/site-packages/xmip/preprocessing.py:229: UserWarning: ScenarioMIP.MPI-M.MPI-ESM1-2-LR.ssp245.r22i1p1f1.Omon.gn.none.sos: Unit correction failed with: Cannot parse units:\n",
      "    invalid units for variable 'sos': 0.001 (attribute) (reason: Unit expression cannot have a scaling factor.)\n",
      "  warnings.warn(\n",
      "/srv/conda/envs/notebook/lib/python3.12/site-packages/xmip/preprocessing.py:229: UserWarning: CMIP.MPI-M.MPI-ESM1-2-LR.historical.r50i1p1f1.Omon.gn.none.sos: Unit correction failed with: Cannot parse units:\n",
      "    invalid units for variable 'sos': 0.001 (attribute) (reason: Unit expression cannot have a scaling factor.)\n",
      "  warnings.warn(\n",
      "/srv/conda/envs/notebook/lib/python3.12/site-packages/xmip/preprocessing.py:229: UserWarning: CMIP.MPI-M.MPI-ESM1-2-LR.historical.r26i1p1f1.Omon.gn.none.chl: Unit correction failed with: Cannot convert variables:\n",
      "    incompatible units for variable ('lev',): cannot use 'm' as a unit\n",
      "  warnings.warn(\n",
      "/srv/conda/envs/notebook/lib/python3.12/site-packages/xmip/preprocessing.py:229: UserWarning: CMIP.CSIRO.ACCESS-ESM1-5.historical.r1i1p1f1.Omon.gn.v20191115.sos: Unit correction failed with: Cannot parse units:\n",
      "    invalid units for variable 'sos': 0.001 (attribute) (reason: Unit expression cannot have a scaling factor.)\n",
      "  warnings.warn(\n",
      "/srv/conda/envs/notebook/lib/python3.12/site-packages/xmip/preprocessing.py:229: UserWarning: ScenarioMIP.MPI-M.MPI-ESM1-2-LR.ssp245.r29i1p1f1.Omon.gn.none.sos: Unit correction failed with: Cannot parse units:\n",
      "    invalid units for variable 'sos': 0.001 (attribute) (reason: Unit expression cannot have a scaling factor.)\n",
      "  warnings.warn(\n",
      "/srv/conda/envs/notebook/lib/python3.12/site-packages/xmip/preprocessing.py:229: UserWarning: CMIP.CCCma.CanESM5-CanOE.historical.r3i1p2f1.Omon.gn.v20190429.sos: Unit correction failed with: Cannot parse units:\n",
      "    invalid units for variable 'sos': 0.001 (attribute) (reason: Unit expression cannot have a scaling factor.)\n",
      "  warnings.warn(\n",
      "/srv/conda/envs/notebook/lib/python3.12/site-packages/xmip/preprocessing.py:229: UserWarning: CMIP.CCCma.CanESM5.historical.r9i1p2f1.Omon.gn.v20190429.sos: Unit correction failed with: Cannot parse units:\n",
      "    invalid units for variable 'sos': 0.001 (attribute) (reason: Unit expression cannot have a scaling factor.)\n",
      "  warnings.warn(\n",
      "/srv/conda/envs/notebook/lib/python3.12/site-packages/xmip/preprocessing.py:229: UserWarning: CMIP.MPI-M.MPI-ESM1-2-LR.historical.r33i1p1f1.Omon.gn.none.chl: Unit correction failed with: Cannot convert variables:\n",
      "    incompatible units for variable ('lev',): cannot use 'm' as a unit\n",
      "  warnings.warn(\n",
      "/srv/conda/envs/notebook/lib/python3.12/site-packages/xmip/preprocessing.py:229: UserWarning: ScenarioMIP.MPI-M.MPI-ESM1-2-LR.ssp245.r23i1p1f1.Omon.gn.none.chl: Unit correction failed with: Cannot convert variables:\n",
      "    incompatible units for variable ('lev',): cannot use 'm' as a unit\n",
      "  warnings.warn(\n",
      "/srv/conda/envs/notebook/lib/python3.12/site-packages/xmip/preprocessing.py:229: UserWarning: ScenarioMIP.CSIRO.ACCESS-ESM1-5.ssp245.r3i1p1f1.Omon.gn.v20191203.chl: Unit correction failed with: Cannot convert variables:\n",
      "    incompatible units for variable ('lev',): cannot use 'm' as a unit\n",
      "  warnings.warn(\n",
      "/srv/conda/envs/notebook/lib/python3.12/site-packages/xmip/preprocessing.py:229: UserWarning: ScenarioMIP.CCCma.CanESM5.ssp245.r8i1p1f1.Omon.gn.v20190429.sos: Unit correction failed with: Cannot parse units:\n",
      "    invalid units for variable 'sos': 0.001 (attribute) (reason: Unit expression cannot have a scaling factor.)\n",
      "  warnings.warn(\n",
      "/srv/conda/envs/notebook/lib/python3.12/site-packages/xmip/preprocessing.py:229: UserWarning: ScenarioMIP.NCAR.CESM2-WACCM.ssp245.r1i1p1f1.Omon.gn.none.chl: Unit correction failed with: Cannot convert variables:\n",
      "    incompatible units for variable ('lev',): cannot use 'm' as a unit\n",
      "  warnings.warn(\n",
      "/srv/conda/envs/notebook/lib/python3.12/site-packages/xmip/preprocessing.py:229: UserWarning: CMIP.CSIRO.ACCESS-ESM1-5.historical.r7i1p1f1.Omon.gn.v20200529.sos: Unit correction failed with: Cannot parse units:\n",
      "    invalid units for variable 'sos': 0.001 (attribute) (reason: Unit expression cannot have a scaling factor.)\n",
      "  warnings.warn(\n",
      "/srv/conda/envs/notebook/lib/python3.12/site-packages/xmip/preprocessing.py:229: UserWarning: ScenarioMIP.CCCma.CanESM5.ssp245.r5i1p1f1.Omon.gn.v20190429.chl: Unit correction failed with: Cannot convert variables:\n",
      "    incompatible units for variable ('lev',): cannot use 'm' as a unit\n",
      "  warnings.warn(\n",
      "/srv/conda/envs/notebook/lib/python3.12/site-packages/xmip/preprocessing.py:229: UserWarning: ScenarioMIP.MPI-M.MPI-ESM1-2-LR.ssp245.r27i1p1f1.Omon.gn.none.sos: Unit correction failed with: Cannot parse units:\n",
      "    invalid units for variable 'sos': 0.001 (attribute) (reason: Unit expression cannot have a scaling factor.)\n",
      "  warnings.warn(\n",
      "/srv/conda/envs/notebook/lib/python3.12/site-packages/xmip/preprocessing.py:229: UserWarning: ScenarioMIP.CSIRO.ACCESS-ESM1-5.ssp245.r31i1p1f1.Omon.gn.v20210712.chl: Unit correction failed with: Cannot convert variables:\n",
      "    incompatible units for variable ('lev',): cannot use 'm' as a unit\n",
      "  warnings.warn(\n",
      "/srv/conda/envs/notebook/lib/python3.12/site-packages/xmip/preprocessing.py:229: UserWarning: CMIP.CCCma.CanESM5.historical.r7i1p2f1.Omon.gn.v20190429.chl: Unit correction failed with: Cannot convert variables:\n",
      "    incompatible units for variable ('lev',): cannot use 'm' as a unit\n",
      "  warnings.warn(\n",
      "/srv/conda/envs/notebook/lib/python3.12/site-packages/xmip/preprocessing.py:229: UserWarning: ScenarioMIP.MPI-M.MPI-ESM1-2-LR.ssp245.r30i1p1f1.Omon.gn.none.sos: Unit correction failed with: Cannot parse units:\n",
      "    invalid units for variable 'sos': 0.001 (attribute) (reason: Unit expression cannot have a scaling factor.)\n",
      "  warnings.warn(\n",
      "/srv/conda/envs/notebook/lib/python3.12/site-packages/xmip/preprocessing.py:229: UserWarning: ScenarioMIP.CCCma.CanESM5.ssp245.r5i1p2f1.Omon.gn.v20190429.chl: Unit correction failed with: Cannot convert variables:\n",
      "    incompatible units for variable ('lev',): cannot use 'm' as a unit\n",
      "  warnings.warn(\n",
      "/srv/conda/envs/notebook/lib/python3.12/site-packages/xmip/preprocessing.py:229: UserWarning: CMIP.CSIRO.ACCESS-ESM1-5.historical.r5i1p1f1.Omon.gn.v20200601.chl: Unit correction failed with: Cannot convert variables:\n",
      "    incompatible units for variable ('lev',): cannot use 'm' as a unit\n",
      "  warnings.warn(\n",
      "/srv/conda/envs/notebook/lib/python3.12/site-packages/xmip/preprocessing.py:229: UserWarning: ScenarioMIP.CCCma.CanESM5.ssp245.r2i1p2f1.Omon.gn.v20190429.chl: Unit correction failed with: Cannot convert variables:\n",
      "    incompatible units for variable ('lev',): cannot use 'm' as a unit\n",
      "  warnings.warn(\n",
      "/srv/conda/envs/notebook/lib/python3.12/site-packages/xmip/preprocessing.py:229: UserWarning: CMIP.MPI-M.MPI-ESM1-2-LR.historical.r34i1p1f1.Omon.gn.none.sos: Unit correction failed with: Cannot parse units:\n",
      "    invalid units for variable 'sos': 0.001 (attribute) (reason: Unit expression cannot have a scaling factor.)\n",
      "  warnings.warn(\n",
      "/srv/conda/envs/notebook/lib/python3.12/site-packages/xmip/preprocessing.py:229: UserWarning: CMIP.CCCma.CanESM5.historical.r1i1p1f1.Omon.gn.v20190429.sos: Unit correction failed with: Cannot parse units:\n",
      "    invalid units for variable 'sos': 0.001 (attribute) (reason: Unit expression cannot have a scaling factor.)\n",
      "  warnings.warn(\n",
      "/srv/conda/envs/notebook/lib/python3.12/site-packages/xmip/preprocessing.py:229: UserWarning: CMIP.MPI-M.MPI-ESM1-2-LR.historical.r40i1p1f1.Omon.gn.none.sos: Unit correction failed with: Cannot parse units:\n",
      "    invalid units for variable 'sos': 0.001 (attribute) (reason: Unit expression cannot have a scaling factor.)\n",
      "  warnings.warn(\n",
      "/srv/conda/envs/notebook/lib/python3.12/site-packages/xmip/preprocessing.py:229: UserWarning: ScenarioMIP.MPI-M.MPI-ESM1-2-LR.ssp245.r22i1p1f1.Omon.gn.none.chl: Unit correction failed with: Cannot convert variables:\n",
      "    incompatible units for variable ('lev',): cannot use 'm' as a unit\n",
      "  warnings.warn(\n",
      "/srv/conda/envs/notebook/lib/python3.12/site-packages/xmip/preprocessing.py:229: UserWarning: CMIP.MPI-M.MPI-ESM1-2-LR.historical.r9i1p1f1.Omon.gn.none.sos: Unit correction failed with: Cannot parse units:\n",
      "    invalid units for variable 'sos': 0.001 (attribute) (reason: Unit expression cannot have a scaling factor.)\n",
      "  warnings.warn(\n",
      "/srv/conda/envs/notebook/lib/python3.12/site-packages/xmip/preprocessing.py:229: UserWarning: CMIP.CSIRO.ACCESS-ESM1-5.historical.r25i1p1f1.Omon.gn.v20200922.sos: Unit correction failed with: Cannot parse units:\n",
      "    invalid units for variable 'sos': 0.001 (attribute) (reason: Unit expression cannot have a scaling factor.)\n",
      "  warnings.warn(\n",
      "/srv/conda/envs/notebook/lib/python3.12/site-packages/xmip/preprocessing.py:229: UserWarning: CMIP.MPI-M.MPI-ESM1-2-LR.historical.r15i1p1f1.Omon.gn.none.sos: Unit correction failed with: Cannot parse units:\n",
      "    invalid units for variable 'sos': 0.001 (attribute) (reason: Unit expression cannot have a scaling factor.)\n",
      "  warnings.warn(\n",
      "/srv/conda/envs/notebook/lib/python3.12/site-packages/xmip/preprocessing.py:229: UserWarning: ScenarioMIP.CCCma.CanESM5.ssp245.r5i1p1f1.Omon.gn.v20190429.sos: Unit correction failed with: Cannot parse units:\n",
      "    invalid units for variable 'sos': 0.001 (attribute) (reason: Unit expression cannot have a scaling factor.)\n",
      "  warnings.warn(\n",
      "/srv/conda/envs/notebook/lib/python3.12/site-packages/xmip/preprocessing.py:229: UserWarning: CMIP.CCCma.CanESM5.historical.r4i1p2f1.Omon.gn.v20190429.chl: Unit correction failed with: Cannot convert variables:\n",
      "    incompatible units for variable ('lev',): cannot use 'm' as a unit\n",
      "  warnings.warn(\n",
      "/srv/conda/envs/notebook/lib/python3.12/site-packages/xmip/preprocessing.py:229: UserWarning: ScenarioMIP.MPI-M.MPI-ESM1-2-LR.ssp245.r46i1p1f1.Omon.gn.none.sos: Unit correction failed with: Cannot parse units:\n",
      "    invalid units for variable 'sos': 0.001 (attribute) (reason: Unit expression cannot have a scaling factor.)\n",
      "  warnings.warn(\n",
      "/srv/conda/envs/notebook/lib/python3.12/site-packages/xmip/preprocessing.py:229: UserWarning: ScenarioMIP.CSIRO.ACCESS-ESM1-5.ssp245.r29i1p1f1.Omon.gn.v20200922.chl: Unit correction failed with: Cannot convert variables:\n",
      "    incompatible units for variable ('lev',): cannot use 'm' as a unit\n",
      "  warnings.warn(\n",
      "/srv/conda/envs/notebook/lib/python3.12/site-packages/xmip/preprocessing.py:229: UserWarning: ScenarioMIP.CCCma.CanESM5-CanOE.ssp245.r1i1p2f1.Omon.gn.v20190429.chl: Unit correction failed with: Cannot convert variables:\n",
      "    incompatible units for variable ('lev',): cannot use 'm' as a unit\n",
      "  warnings.warn(\n",
      "/srv/conda/envs/notebook/lib/python3.12/site-packages/xmip/preprocessing.py:229: UserWarning: CMIP.MOHC.UKESM1-0-LL.historical.r8i1p1f2.Omon.gn.none.sos: Unit correction failed with: Cannot parse units:\n",
      "    invalid units for variable 'sos': 0.001 (attribute) (reason: Unit expression cannot have a scaling factor.)\n",
      "  warnings.warn(\n",
      "/srv/conda/envs/notebook/lib/python3.12/site-packages/xmip/preprocessing.py:229: UserWarning: ScenarioMIP.CSIRO.ACCESS-ESM1-5.ssp245.r30i1p1f1.Omon.gn.v20200922.sos: Unit correction failed with: Cannot parse units:\n",
      "    invalid units for variable 'sos': 0.001 (attribute) (reason: Unit expression cannot have a scaling factor.)\n",
      "  warnings.warn(\n",
      "/srv/conda/envs/notebook/lib/python3.12/site-packages/xmip/preprocessing.py:229: UserWarning: ScenarioMIP.MPI-M.MPI-ESM1-2-LR.ssp245.r3i1p1f1.Omon.gn.none.chl: Unit correction failed with: Cannot convert variables:\n",
      "    incompatible units for variable ('lev',): cannot use 'm' as a unit\n",
      "  warnings.warn(\n",
      "/srv/conda/envs/notebook/lib/python3.12/site-packages/xmip/preprocessing.py:229: UserWarning: ScenarioMIP.MPI-M.MPI-ESM1-2-LR.ssp245.r46i1p1f1.Omon.gn.none.chl: Unit correction failed with: Cannot convert variables:\n",
      "    incompatible units for variable ('lev',): cannot use 'm' as a unit\n",
      "  warnings.warn(\n",
      "/srv/conda/envs/notebook/lib/python3.12/site-packages/xmip/preprocessing.py:229: UserWarning: ScenarioMIP.CCCma.CanESM5.ssp245.r2i1p2f1.Omon.gn.v20190429.sos: Unit correction failed with: Cannot parse units:\n",
      "    invalid units for variable 'sos': 0.001 (attribute) (reason: Unit expression cannot have a scaling factor.)\n",
      "  warnings.warn(\n",
      "/srv/conda/envs/notebook/lib/python3.12/site-packages/xmip/preprocessing.py:229: UserWarning: CMIP.CSIRO.ACCESS-ESM1-5.historical.r24i1p1f1.Omon.gn.v20200922.chl: Unit correction failed with: Cannot convert variables:\n",
      "    incompatible units for variable ('lev',): cannot use 'm' as a unit\n",
      "  warnings.warn(\n",
      "/srv/conda/envs/notebook/lib/python3.12/site-packages/xmip/preprocessing.py:229: UserWarning: ScenarioMIP.MPI-M.MPI-ESM1-2-LR.ssp245.r32i1p1f1.Omon.gn.none.sos: Unit correction failed with: Cannot parse units:\n",
      "    invalid units for variable 'sos': 0.001 (attribute) (reason: Unit expression cannot have a scaling factor.)\n",
      "  warnings.warn(\n",
      "/srv/conda/envs/notebook/lib/python3.12/site-packages/xmip/preprocessing.py:229: UserWarning: ScenarioMIP.CCCma.CanESM5.ssp245.r6i1p2f1.Omon.gn.v20190429.chl: Unit correction failed with: Cannot convert variables:\n",
      "    incompatible units for variable ('lev',): cannot use 'm' as a unit\n",
      "  warnings.warn(\n",
      "/srv/conda/envs/notebook/lib/python3.12/site-packages/xmip/preprocessing.py:229: UserWarning: ScenarioMIP.MPI-M.MPI-ESM1-2-LR.ssp245.r48i1p1f1.Omon.gn.none.sos: Unit correction failed with: Cannot parse units:\n",
      "    invalid units for variable 'sos': 0.001 (attribute) (reason: Unit expression cannot have a scaling factor.)\n",
      "  warnings.warn(\n",
      "/srv/conda/envs/notebook/lib/python3.12/site-packages/xmip/preprocessing.py:229: UserWarning: ScenarioMIP.CSIRO.ACCESS-ESM1-5.ssp245.r12i1p1f1.Omon.gn.v20200922.sos: Unit correction failed with: Cannot parse units:\n",
      "    invalid units for variable 'sos': 0.001 (attribute) (reason: Unit expression cannot have a scaling factor.)\n",
      "  warnings.warn(\n",
      "/srv/conda/envs/notebook/lib/python3.12/site-packages/xmip/preprocessing.py:229: UserWarning: CMIP.NCAR.CESM2.historical.r10i1p1f1.Omon.gn.none.chl: Unit correction failed with: Cannot convert variables:\n",
      "    incompatible units for variable ('lev',): cannot use 'm' as a unit\n",
      "  warnings.warn(\n",
      "/srv/conda/envs/notebook/lib/python3.12/site-packages/xmip/preprocessing.py:229: UserWarning: CMIP.MPI-M.MPI-ESM1-2-LR.historical.r7i1p1f1.Omon.gn.none.sos: Unit correction failed with: Cannot parse units:\n",
      "    invalid units for variable 'sos': 0.001 (attribute) (reason: Unit expression cannot have a scaling factor.)\n",
      "  warnings.warn(\n",
      "/srv/conda/envs/notebook/lib/python3.12/site-packages/xmip/preprocessing.py:229: UserWarning: ScenarioMIP.MPI-M.MPI-ESM1-2-LR.ssp245.r24i1p1f1.Omon.gn.none.chl: Unit correction failed with: Cannot convert variables:\n",
      "    incompatible units for variable ('lev',): cannot use 'm' as a unit\n",
      "  warnings.warn(\n",
      "/srv/conda/envs/notebook/lib/python3.12/site-packages/xmip/preprocessing.py:229: UserWarning: ScenarioMIP.CSIRO.ACCESS-ESM1-5.ssp245.r19i1p1f1.Omon.gn.v20200922.sos: Unit correction failed with: Cannot parse units:\n",
      "    invalid units for variable 'sos': 0.001 (attribute) (reason: Unit expression cannot have a scaling factor.)\n",
      "  warnings.warn(\n",
      "/srv/conda/envs/notebook/lib/python3.12/site-packages/xmip/preprocessing.py:229: UserWarning: CMIP.CSIRO.ACCESS-ESM1-5.historical.r35i1p1f1.Omon.gn.v20210525.sos: Unit correction failed with: Cannot parse units:\n",
      "    invalid units for variable 'sos': 0.001 (attribute) (reason: Unit expression cannot have a scaling factor.)\n",
      "  warnings.warn(\n",
      "/srv/conda/envs/notebook/lib/python3.12/site-packages/xmip/preprocessing.py:229: UserWarning: CMIP.CCCma.CanESM5.historical.r1i1p1f1.Omon.gn.v20190429.chl: Unit correction failed with: Cannot convert variables:\n",
      "    incompatible units for variable ('lev',): cannot use 'm' as a unit\n",
      "  warnings.warn(\n",
      "/srv/conda/envs/notebook/lib/python3.12/site-packages/xmip/preprocessing.py:229: UserWarning: CMIP.MPI-M.MPI-ESM1-2-LR.historical.r4i1p1f1.Omon.gn.none.chl: Unit correction failed with: Cannot convert variables:\n",
      "    incompatible units for variable ('lev',): cannot use 'm' as a unit\n",
      "  warnings.warn(\n",
      "/srv/conda/envs/notebook/lib/python3.12/site-packages/xmip/preprocessing.py:229: UserWarning: CMIP.NOAA-GFDL.GFDL-ESM4.historical.r1i1p1f1.Omon.gr.none.sos: Unit correction failed with: Cannot parse units:\n",
      "    invalid units for variable 'sos': 0.001 (attribute) (reason: Unit expression cannot have a scaling factor.)\n",
      "  warnings.warn(\n",
      "/srv/conda/envs/notebook/lib/python3.12/site-packages/xmip/preprocessing.py:229: UserWarning: ScenarioMIP.MPI-M.MPI-ESM1-2-LR.ssp245.r32i1p1f1.Omon.gn.none.chl: Unit correction failed with: Cannot convert variables:\n",
      "    incompatible units for variable ('lev',): cannot use 'm' as a unit\n",
      "  warnings.warn(\n",
      "/srv/conda/envs/notebook/lib/python3.12/site-packages/xmip/preprocessing.py:229: UserWarning: ScenarioMIP.CSIRO.ACCESS-ESM1-5.ssp245.r19i1p1f1.Omon.gn.v20200922.chl: Unit correction failed with: Cannot convert variables:\n",
      "    incompatible units for variable ('lev',): cannot use 'm' as a unit\n",
      "  warnings.warn(\n",
      "/srv/conda/envs/notebook/lib/python3.12/site-packages/xmip/preprocessing.py:229: UserWarning: ScenarioMIP.CSIRO.ACCESS-ESM1-5.ssp245.r27i1p1f1.Omon.gn.v20200922.sos: Unit correction failed with: Cannot parse units:\n",
      "    invalid units for variable 'sos': 0.001 (attribute) (reason: Unit expression cannot have a scaling factor.)\n",
      "  warnings.warn(\n",
      "/srv/conda/envs/notebook/lib/python3.12/site-packages/xmip/preprocessing.py:229: UserWarning: CMIP.CCCma.CanESM5.historical.r2i1p2f1.Omon.gn.v20190429.sos: Unit correction failed with: Cannot parse units:\n",
      "    invalid units for variable 'sos': 0.001 (attribute) (reason: Unit expression cannot have a scaling factor.)\n",
      "  warnings.warn(\n",
      "/srv/conda/envs/notebook/lib/python3.12/site-packages/xmip/preprocessing.py:229: UserWarning: ScenarioMIP.MOHC.UKESM1-0-LL.ssp245.r3i1p1f2.Omon.gn.none.chl: Unit correction failed with: Cannot convert variables:\n",
      "    incompatible units for variable ('lev',): cannot use 'm' as a unit\n",
      "  warnings.warn(\n",
      "/srv/conda/envs/notebook/lib/python3.12/site-packages/xmip/preprocessing.py:229: UserWarning: ScenarioMIP.CSIRO.ACCESS-ESM1-5.ssp245.r2i1p1f1.Omon.gn.v20191129.sos: Unit correction failed with: Cannot parse units:\n",
      "    invalid units for variable 'sos': 0.001 (attribute) (reason: Unit expression cannot have a scaling factor.)\n",
      "  warnings.warn(\n",
      "/srv/conda/envs/notebook/lib/python3.12/site-packages/xmip/preprocessing.py:229: UserWarning: ScenarioMIP.NOAA-GFDL.GFDL-ESM4.ssp245.r1i1p1f1.Omon.gr.none.sos: Unit correction failed with: Cannot parse units:\n",
      "    invalid units for variable 'sos': 0.001 (attribute) (reason: Unit expression cannot have a scaling factor.)\n",
      "  warnings.warn(\n",
      "/srv/conda/envs/notebook/lib/python3.12/site-packages/xmip/preprocessing.py:229: UserWarning: CMIP.CSIRO.ACCESS-ESM1-5.historical.r21i1p1f1.Omon.gn.v20200922.chl: Unit correction failed with: Cannot convert variables:\n",
      "    incompatible units for variable ('lev',): cannot use 'm' as a unit\n",
      "  warnings.warn(\n",
      "/srv/conda/envs/notebook/lib/python3.12/site-packages/xmip/preprocessing.py:229: UserWarning: ScenarioMIP.MPI-M.MPI-ESM1-2-LR.ssp245.r15i1p1f1.Omon.gn.none.sos: Unit correction failed with: Cannot parse units:\n",
      "    invalid units for variable 'sos': 0.001 (attribute) (reason: Unit expression cannot have a scaling factor.)\n",
      "  warnings.warn(\n",
      "/srv/conda/envs/notebook/lib/python3.12/site-packages/xmip/preprocessing.py:229: UserWarning: ScenarioMIP.CCCma.CanESM5-CanOE.ssp245.r2i1p2f1.Omon.gn.v20190429.chl: Unit correction failed with: Cannot convert variables:\n",
      "    incompatible units for variable ('lev',): cannot use 'm' as a unit\n",
      "  warnings.warn(\n",
      "/srv/conda/envs/notebook/lib/python3.12/site-packages/xmip/preprocessing.py:229: UserWarning: ScenarioMIP.CSIRO.ACCESS-ESM1-5.ssp245.r33i1p1f1.Omon.gn.v20210712.chl: Unit correction failed with: Cannot convert variables:\n",
      "    incompatible units for variable ('lev',): cannot use 'm' as a unit\n",
      "  warnings.warn(\n",
      "/srv/conda/envs/notebook/lib/python3.12/site-packages/xmip/preprocessing.py:229: UserWarning: ScenarioMIP.CSIRO.ACCESS-ESM1-5.ssp245.r23i1p1f1.Omon.gn.v20200922.chl: Unit correction failed with: Cannot convert variables:\n",
      "    incompatible units for variable ('lev',): cannot use 'm' as a unit\n",
      "  warnings.warn(\n",
      "/srv/conda/envs/notebook/lib/python3.12/site-packages/xmip/preprocessing.py:229: UserWarning: ScenarioMIP.CSIRO.ACCESS-ESM1-5.ssp245.r15i1p1f1.Omon.gn.v20200922.chl: Unit correction failed with: Cannot convert variables:\n",
      "    incompatible units for variable ('lev',): cannot use 'm' as a unit\n",
      "  warnings.warn(\n",
      "/srv/conda/envs/notebook/lib/python3.12/site-packages/xmip/preprocessing.py:229: UserWarning: CMIP.MPI-M.MPI-ESM1-2-LR.historical.r6i1p1f1.Omon.gn.none.sos: Unit correction failed with: Cannot parse units:\n",
      "    invalid units for variable 'sos': 0.001 (attribute) (reason: Unit expression cannot have a scaling factor.)\n",
      "  warnings.warn(\n",
      "/srv/conda/envs/notebook/lib/python3.12/site-packages/xmip/preprocessing.py:229: UserWarning: CMIP.CSIRO.ACCESS-ESM1-5.historical.r14i1p1f1.Omon.gn.v20200803.sos: Unit correction failed with: Cannot parse units:\n",
      "    invalid units for variable 'sos': 0.001 (attribute) (reason: Unit expression cannot have a scaling factor.)\n",
      "  warnings.warn(\n",
      "/srv/conda/envs/notebook/lib/python3.12/site-packages/xmip/preprocessing.py:229: UserWarning: CMIP.NCAR.CESM2.historical.r11i1p1f1.Omon.gn.none.sos: Unit correction failed with: Cannot parse units:\n",
      "    invalid units for variable 'sos': 0.001 (attribute) (reason: Unit expression cannot have a scaling factor.)\n",
      "  warnings.warn(\n",
      "/srv/conda/envs/notebook/lib/python3.12/site-packages/xmip/preprocessing.py:229: UserWarning: CMIP.CCCma.CanESM5.historical.r5i1p2f1.Omon.gn.v20190429.sos: Unit correction failed with: Cannot parse units:\n",
      "    invalid units for variable 'sos': 0.001 (attribute) (reason: Unit expression cannot have a scaling factor.)\n",
      "  warnings.warn(\n",
      "/srv/conda/envs/notebook/lib/python3.12/site-packages/xmip/preprocessing.py:229: UserWarning: ScenarioMIP.MPI-M.MPI-ESM1-2-LR.ssp245.r20i1p1f1.Omon.gn.none.sos: Unit correction failed with: Cannot parse units:\n",
      "    invalid units for variable 'sos': 0.001 (attribute) (reason: Unit expression cannot have a scaling factor.)\n",
      "  warnings.warn(\n",
      "/srv/conda/envs/notebook/lib/python3.12/site-packages/xmip/preprocessing.py:229: UserWarning: ScenarioMIP.CSIRO.ACCESS-ESM1-5.ssp245.r24i1p1f1.Omon.gn.v20200922.sos: Unit correction failed with: Cannot parse units:\n",
      "    invalid units for variable 'sos': 0.001 (attribute) (reason: Unit expression cannot have a scaling factor.)\n",
      "  warnings.warn(\n",
      "/srv/conda/envs/notebook/lib/python3.12/site-packages/xmip/preprocessing.py:229: UserWarning: ScenarioMIP.CCCma.CanESM5.ssp245.r8i1p2f1.Omon.gn.v20190429.chl: Unit correction failed with: Cannot convert variables:\n",
      "    incompatible units for variable ('lev',): cannot use 'm' as a unit\n",
      "  warnings.warn(\n",
      "/srv/conda/envs/notebook/lib/python3.12/site-packages/xmip/preprocessing.py:229: UserWarning: ScenarioMIP.CSIRO.ACCESS-ESM1-5.ssp245.r25i1p1f1.Omon.gn.v20200922.sos: Unit correction failed with: Cannot parse units:\n",
      "    invalid units for variable 'sos': 0.001 (attribute) (reason: Unit expression cannot have a scaling factor.)\n",
      "  warnings.warn(\n",
      "/srv/conda/envs/notebook/lib/python3.12/site-packages/xmip/preprocessing.py:229: UserWarning: CMIP.MPI-M.MPI-ESM1-2-LR.historical.r28i1p1f1.Omon.gn.none.chl: Unit correction failed with: Cannot convert variables:\n",
      "    incompatible units for variable ('lev',): cannot use 'm' as a unit\n",
      "  warnings.warn(\n",
      "/srv/conda/envs/notebook/lib/python3.12/site-packages/xmip/preprocessing.py:229: UserWarning: ScenarioMIP.CSIRO.ACCESS-ESM1-5.ssp245.r4i1p1f1.Omon.gn.v20200810.sos: Unit correction failed with: Cannot parse units:\n",
      "    invalid units for variable 'sos': 0.001 (attribute) (reason: Unit expression cannot have a scaling factor.)\n",
      "  warnings.warn(\n",
      "/srv/conda/envs/notebook/lib/python3.12/site-packages/xmip/preprocessing.py:229: UserWarning: ScenarioMIP.CSIRO.ACCESS-ESM1-5.ssp245.r39i1p1f1.Omon.gn.v20210712.chl: Unit correction failed with: Cannot convert variables:\n",
      "    incompatible units for variable ('lev',): cannot use 'm' as a unit\n",
      "  warnings.warn(\n",
      "/srv/conda/envs/notebook/lib/python3.12/site-packages/xmip/preprocessing.py:229: UserWarning: CMIP.CSIRO.ACCESS-ESM1-5.historical.r2i1p1f1.Omon.gn.v20191128.chl: Unit correction failed with: Cannot convert variables:\n",
      "    incompatible units for variable ('lev',): cannot use 'm' as a unit\n",
      "  warnings.warn(\n",
      "/srv/conda/envs/notebook/lib/python3.12/site-packages/xmip/preprocessing.py:229: UserWarning: CMIP.CCCma.CanESM5.historical.r7i1p1f1.Omon.gn.v20190429.chl: Unit correction failed with: Cannot convert variables:\n",
      "    incompatible units for variable ('lev',): cannot use 'm' as a unit\n",
      "  warnings.warn(\n",
      "/srv/conda/envs/notebook/lib/python3.12/site-packages/xmip/preprocessing.py:229: UserWarning: ScenarioMIP.CSIRO.ACCESS-ESM1-5.ssp245.r8i1p1f1.Omon.gn.v20200810.sos: Unit correction failed with: Cannot parse units:\n",
      "    invalid units for variable 'sos': 0.001 (attribute) (reason: Unit expression cannot have a scaling factor.)\n",
      "  warnings.warn(\n",
      "/srv/conda/envs/notebook/lib/python3.12/site-packages/xmip/preprocessing.py:229: UserWarning: CMIP.CSIRO.ACCESS-ESM1-5.historical.r34i1p1f1.Omon.gn.v20210525.sos: Unit correction failed with: Cannot parse units:\n",
      "    invalid units for variable 'sos': 0.001 (attribute) (reason: Unit expression cannot have a scaling factor.)\n",
      "  warnings.warn(\n",
      "/srv/conda/envs/notebook/lib/python3.12/site-packages/xmip/preprocessing.py:229: UserWarning: CMIP.NCAR.CESM2-WACCM.historical.r3i1p1f1.Omon.gn.none.sos: Unit correction failed with: Cannot parse units:\n",
      "    invalid units for variable 'sos': 0.001 (attribute) (reason: Unit expression cannot have a scaling factor.)\n",
      "  warnings.warn(\n",
      "/srv/conda/envs/notebook/lib/python3.12/site-packages/xmip/preprocessing.py:229: UserWarning: ScenarioMIP.CSIRO.ACCESS-ESM1-5.ssp245.r34i1p1f1.Omon.gn.v20210712.sos: Unit correction failed with: Cannot parse units:\n",
      "    invalid units for variable 'sos': 0.001 (attribute) (reason: Unit expression cannot have a scaling factor.)\n",
      "  warnings.warn(\n",
      "/srv/conda/envs/notebook/lib/python3.12/site-packages/xmip/preprocessing.py:229: UserWarning: CMIP.MOHC.UKESM1-0-LL.historical.r3i1p1f2.Omon.gn.none.chl: Unit correction failed with: Cannot convert variables:\n",
      "    incompatible units for variable ('lev',): cannot use 'm' as a unit\n",
      "  warnings.warn(\n",
      "/srv/conda/envs/notebook/lib/python3.12/site-packages/xmip/preprocessing.py:229: UserWarning: ScenarioMIP.MPI-M.MPI-ESM1-2-LR.ssp245.r31i1p1f1.Omon.gn.none.chl: Unit correction failed with: Cannot convert variables:\n",
      "    incompatible units for variable ('lev',): cannot use 'm' as a unit\n",
      "  warnings.warn(\n",
      "/srv/conda/envs/notebook/lib/python3.12/site-packages/xmip/preprocessing.py:229: UserWarning: ScenarioMIP.CCCma.CanESM5.ssp245.r6i1p2f1.Omon.gn.v20190429.sos: Unit correction failed with: Cannot parse units:\n",
      "    invalid units for variable 'sos': 0.001 (attribute) (reason: Unit expression cannot have a scaling factor.)\n",
      "  warnings.warn(\n",
      "/srv/conda/envs/notebook/lib/python3.12/site-packages/xmip/preprocessing.py:229: UserWarning: CMIP.MPI-M.MPI-ESM1-2-LR.historical.r24i1p1f1.Omon.gn.none.chl: Unit correction failed with: Cannot convert variables:\n",
      "    incompatible units for variable ('lev',): cannot use 'm' as a unit\n",
      "  warnings.warn(\n",
      "/srv/conda/envs/notebook/lib/python3.12/site-packages/xmip/preprocessing.py:229: UserWarning: ScenarioMIP.NCAR.CESM2-WACCM.ssp245.r1i1p1f1.Omon.gr.none.sos: Unit correction failed with: Cannot parse units:\n",
      "    invalid units for variable 'sos': 0.001 (attribute) (reason: Unit expression cannot have a scaling factor.)\n",
      "  warnings.warn(\n",
      "/srv/conda/envs/notebook/lib/python3.12/site-packages/xmip/preprocessing.py:229: UserWarning: ScenarioMIP.CCCma.CanESM5.ssp245.r3i1p2f1.Omon.gn.v20190429.chl: Unit correction failed with: Cannot convert variables:\n",
      "    incompatible units for variable ('lev',): cannot use 'm' as a unit\n",
      "  warnings.warn(\n",
      "/srv/conda/envs/notebook/lib/python3.12/site-packages/xmip/preprocessing.py:229: UserWarning: ScenarioMIP.CCCma.CanESM5.ssp245.r10i1p2f1.Omon.gn.v20190429.sos: Unit correction failed with: Cannot parse units:\n",
      "    invalid units for variable 'sos': 0.001 (attribute) (reason: Unit expression cannot have a scaling factor.)\n",
      "  warnings.warn(\n",
      "/srv/conda/envs/notebook/lib/python3.12/site-packages/xmip/preprocessing.py:229: UserWarning: ScenarioMIP.CSIRO.ACCESS-ESM1-5.ssp245.r18i1p1f1.Omon.gn.v20200922.sos: Unit correction failed with: Cannot parse units:\n",
      "    invalid units for variable 'sos': 0.001 (attribute) (reason: Unit expression cannot have a scaling factor.)\n",
      "  warnings.warn(\n",
      "/srv/conda/envs/notebook/lib/python3.12/site-packages/xmip/preprocessing.py:229: UserWarning: ScenarioMIP.CCCma.CanESM5.ssp245.r1i1p2f1.Omon.gn.v20190429.sos: Unit correction failed with: Cannot parse units:\n",
      "    invalid units for variable 'sos': 0.001 (attribute) (reason: Unit expression cannot have a scaling factor.)\n",
      "  warnings.warn(\n",
      "/srv/conda/envs/notebook/lib/python3.12/site-packages/xmip/preprocessing.py:229: UserWarning: ScenarioMIP.NCAR.CESM2-WACCM.ssp245.r2i1p1f1.Omon.gn.none.sos: Unit correction failed with: Cannot parse units:\n",
      "    invalid units for variable 'sos': 0.001 (attribute) (reason: Unit expression cannot have a scaling factor.)\n",
      "  warnings.warn(\n",
      "/srv/conda/envs/notebook/lib/python3.12/site-packages/xmip/preprocessing.py:229: UserWarning: CMIP.CCCma.CanESM5.historical.r6i1p1f1.Omon.gn.v20190429.sos: Unit correction failed with: Cannot parse units:\n",
      "    invalid units for variable 'sos': 0.001 (attribute) (reason: Unit expression cannot have a scaling factor.)\n",
      "  warnings.warn(\n",
      "/srv/conda/envs/notebook/lib/python3.12/site-packages/xmip/preprocessing.py:229: UserWarning: CMIP.MPI-M.MPI-ESM1-2-LR.historical.r38i1p1f1.Omon.gn.none.sos: Unit correction failed with: Cannot parse units:\n",
      "    invalid units for variable 'sos': 0.001 (attribute) (reason: Unit expression cannot have a scaling factor.)\n",
      "  warnings.warn(\n",
      "/srv/conda/envs/notebook/lib/python3.12/site-packages/xmip/preprocessing.py:229: UserWarning: CMIP.CCCma.CanESM5.historical.r4i1p1f1.Omon.gn.v20190429.chl: Unit correction failed with: Cannot convert variables:\n",
      "    incompatible units for variable ('lev',): cannot use 'm' as a unit\n",
      "  warnings.warn(\n",
      "/srv/conda/envs/notebook/lib/python3.12/site-packages/xmip/preprocessing.py:229: UserWarning: CMIP.CSIRO.ACCESS-ESM1-5.historical.r33i1p1f1.Omon.gn.v20210525.sos: Unit correction failed with: Cannot parse units:\n",
      "    invalid units for variable 'sos': 0.001 (attribute) (reason: Unit expression cannot have a scaling factor.)\n",
      "  warnings.warn(\n",
      "/srv/conda/envs/notebook/lib/python3.12/site-packages/xmip/preprocessing.py:229: UserWarning: CMIP.CCCma.CanESM5-CanOE.historical.r2i1p2f1.Omon.gn.v20190429.chl: Unit correction failed with: Cannot convert variables:\n",
      "    incompatible units for variable ('lev',): cannot use 'm' as a unit\n",
      "  warnings.warn(\n",
      "/srv/conda/envs/notebook/lib/python3.12/site-packages/xmip/preprocessing.py:229: UserWarning: ScenarioMIP.MPI-M.MPI-ESM1-2-LR.ssp245.r2i1p1f1.Omon.gn.none.sos: Unit correction failed with: Cannot parse units:\n",
      "    invalid units for variable 'sos': 0.001 (attribute) (reason: Unit expression cannot have a scaling factor.)\n",
      "  warnings.warn(\n",
      "/srv/conda/envs/notebook/lib/python3.12/site-packages/xmip/preprocessing.py:229: UserWarning: ScenarioMIP.MPI-M.MPI-ESM1-2-LR.ssp245.r14i1p1f1.Omon.gn.none.sos: Unit correction failed with: Cannot parse units:\n",
      "    invalid units for variable 'sos': 0.001 (attribute) (reason: Unit expression cannot have a scaling factor.)\n",
      "  warnings.warn(\n",
      "/srv/conda/envs/notebook/lib/python3.12/site-packages/xmip/preprocessing.py:229: UserWarning: ScenarioMIP.MPI-M.MPI-ESM1-2-LR.ssp245.r26i1p1f1.Omon.gn.none.chl: Unit correction failed with: Cannot convert variables:\n",
      "    incompatible units for variable ('lev',): cannot use 'm' as a unit\n",
      "  warnings.warn(\n",
      "/srv/conda/envs/notebook/lib/python3.12/site-packages/xmip/preprocessing.py:229: UserWarning: CMIP.CCCma.CanESM5.historical.r6i1p2f1.Omon.gn.v20190429.chl: Unit correction failed with: Cannot convert variables:\n",
      "    incompatible units for variable ('lev',): cannot use 'm' as a unit\n",
      "  warnings.warn(\n",
      "/srv/conda/envs/notebook/lib/python3.12/site-packages/xmip/preprocessing.py:229: UserWarning: CMIP.CSIRO.ACCESS-ESM1-5.historical.r12i1p1f1.Omon.gn.v20200803.sos: Unit correction failed with: Cannot parse units:\n",
      "    invalid units for variable 'sos': 0.001 (attribute) (reason: Unit expression cannot have a scaling factor.)\n",
      "  warnings.warn(\n",
      "/srv/conda/envs/notebook/lib/python3.12/site-packages/xmip/preprocessing.py:229: UserWarning: ScenarioMIP.MPI-M.MPI-ESM1-2-LR.ssp245.r15i1p1f1.Omon.gn.none.chl: Unit correction failed with: Cannot convert variables:\n",
      "    incompatible units for variable ('lev',): cannot use 'm' as a unit\n",
      "  warnings.warn(\n",
      "/srv/conda/envs/notebook/lib/python3.12/site-packages/xmip/preprocessing.py:229: UserWarning: ScenarioMIP.MPI-M.MPI-ESM1-2-LR.ssp245.r5i1p1f1.Omon.gn.none.chl: Unit correction failed with: Cannot convert variables:\n",
      "    incompatible units for variable ('lev',): cannot use 'm' as a unit\n",
      "  warnings.warn(\n",
      "/srv/conda/envs/notebook/lib/python3.12/site-packages/xmip/preprocessing.py:229: UserWarning: CMIP.MPI-M.MPI-ESM1-2-LR.historical.r10i1p1f1.Omon.gn.none.chl: Unit correction failed with: Cannot convert variables:\n",
      "    incompatible units for variable ('lev',): cannot use 'm' as a unit\n",
      "  warnings.warn(\n",
      "/srv/conda/envs/notebook/lib/python3.12/site-packages/xmip/preprocessing.py:229: UserWarning: CMIP.CSIRO.ACCESS-ESM1-5.historical.r15i1p1f1.Omon.gn.v20200803.sos: Unit correction failed with: Cannot parse units:\n",
      "    invalid units for variable 'sos': 0.001 (attribute) (reason: Unit expression cannot have a scaling factor.)\n",
      "  warnings.warn(\n",
      "/srv/conda/envs/notebook/lib/python3.12/site-packages/xmip/preprocessing.py:229: UserWarning: CMIP.MPI-M.MPI-ESM1-2-LR.historical.r30i1p1f1.Omon.gn.none.sos: Unit correction failed with: Cannot parse units:\n",
      "    invalid units for variable 'sos': 0.001 (attribute) (reason: Unit expression cannot have a scaling factor.)\n",
      "  warnings.warn(\n",
      "/srv/conda/envs/notebook/lib/python3.12/site-packages/xmip/preprocessing.py:229: UserWarning: CMIP.CCCma.CanESM5.historical.r4i1p2f1.Omon.gn.v20190429.sos: Unit correction failed with: Cannot parse units:\n",
      "    invalid units for variable 'sos': 0.001 (attribute) (reason: Unit expression cannot have a scaling factor.)\n",
      "  warnings.warn(\n",
      "/srv/conda/envs/notebook/lib/python3.12/site-packages/xmip/preprocessing.py:229: UserWarning: CMIP.CSIRO.ACCESS-ESM1-5.historical.r12i1p1f1.Omon.gn.v20200803.chl: Unit correction failed with: Cannot convert variables:\n",
      "    incompatible units for variable ('lev',): cannot use 'm' as a unit\n",
      "  warnings.warn(\n",
      "/srv/conda/envs/notebook/lib/python3.12/site-packages/xmip/preprocessing.py:229: UserWarning: CMIP.NCAR.CESM2-WACCM.historical.r2i1p1f1.Omon.gn.none.chl: Unit correction failed with: Cannot convert variables:\n",
      "    incompatible units for variable ('lev',): cannot use 'm' as a unit\n",
      "  warnings.warn(\n",
      "/srv/conda/envs/notebook/lib/python3.12/site-packages/xmip/preprocessing.py:229: UserWarning: CMIP.CCCma.CanESM5.historical.r5i1p2f1.Omon.gn.v20190429.chl: Unit correction failed with: Cannot convert variables:\n",
      "    incompatible units for variable ('lev',): cannot use 'm' as a unit\n",
      "  warnings.warn(\n",
      "/srv/conda/envs/notebook/lib/python3.12/site-packages/xmip/preprocessing.py:229: UserWarning: ScenarioMIP.CCCma.CanESM5.ssp245.r7i1p1f1.Omon.gn.v20190429.chl: Unit correction failed with: Cannot convert variables:\n",
      "    incompatible units for variable ('lev',): cannot use 'm' as a unit\n",
      "  warnings.warn(\n",
      "/srv/conda/envs/notebook/lib/python3.12/site-packages/xmip/preprocessing.py:229: UserWarning: ScenarioMIP.CSIRO.ACCESS-ESM1-5.ssp245.r32i1p1f1.Omon.gn.v20210712.sos: Unit correction failed with: Cannot parse units:\n",
      "    invalid units for variable 'sos': 0.001 (attribute) (reason: Unit expression cannot have a scaling factor.)\n",
      "  warnings.warn(\n",
      "/srv/conda/envs/notebook/lib/python3.12/site-packages/xmip/preprocessing.py:229: UserWarning: CMIP.MPI-M.MPI-ESM1-2-LR.historical.r29i1p1f1.Omon.gn.none.chl: Unit correction failed with: Cannot convert variables:\n",
      "    incompatible units for variable ('lev',): cannot use 'm' as a unit\n",
      "  warnings.warn(\n",
      "/srv/conda/envs/notebook/lib/python3.12/site-packages/xmip/preprocessing.py:229: UserWarning: ScenarioMIP.CMCC.CMCC-ESM2.ssp245.r1i1p1f1.Omon.gn.none.sos: Unit correction failed with: Cannot parse units:\n",
      "    invalid units for variable 'sos': 0.001 (attribute) (reason: Unit expression cannot have a scaling factor.)\n",
      "  warnings.warn(\n",
      "/srv/conda/envs/notebook/lib/python3.12/site-packages/xmip/preprocessing.py:229: UserWarning: ScenarioMIP.CCCma.CanESM5.ssp245.r2i1p1f1.Omon.gn.v20190429.chl: Unit correction failed with: Cannot convert variables:\n",
      "    incompatible units for variable ('lev',): cannot use 'm' as a unit\n",
      "  warnings.warn(\n",
      "/srv/conda/envs/notebook/lib/python3.12/site-packages/xmip/preprocessing.py:229: UserWarning: CMIP.CSIRO.ACCESS-ESM1-5.historical.r15i1p1f1.Omon.gn.v20200803.chl: Unit correction failed with: Cannot convert variables:\n",
      "    incompatible units for variable ('lev',): cannot use 'm' as a unit\n",
      "  warnings.warn(\n",
      "/srv/conda/envs/notebook/lib/python3.12/site-packages/xmip/preprocessing.py:229: UserWarning: ScenarioMIP.MPI-M.MPI-ESM1-2-LR.ssp245.r33i1p1f1.Omon.gn.none.chl: Unit correction failed with: Cannot convert variables:\n",
      "    incompatible units for variable ('lev',): cannot use 'm' as a unit\n",
      "  warnings.warn(\n",
      "/srv/conda/envs/notebook/lib/python3.12/site-packages/xmip/preprocessing.py:229: UserWarning: CMIP.CCCma.CanESM5.historical.r9i1p1f1.Omon.gn.v20190429.chl: Unit correction failed with: Cannot convert variables:\n",
      "    incompatible units for variable ('lev',): cannot use 'm' as a unit\n",
      "  warnings.warn(\n",
      "/srv/conda/envs/notebook/lib/python3.12/site-packages/xmip/preprocessing.py:229: UserWarning: ScenarioMIP.MOHC.UKESM1-0-LL.ssp245.r3i1p1f2.Omon.gn.none.sos: Unit correction failed with: Cannot parse units:\n",
      "    invalid units for variable 'sos': 0.001 (attribute) (reason: Unit expression cannot have a scaling factor.)\n",
      "  warnings.warn(\n",
      "/srv/conda/envs/notebook/lib/python3.12/site-packages/xmip/preprocessing.py:229: UserWarning: ScenarioMIP.NCAR.CESM2-WACCM.ssp245.r2i1p1f1.Omon.gn.none.chl: Unit correction failed with: Cannot convert variables:\n",
      "    incompatible units for variable ('lev',): cannot use 'm' as a unit\n",
      "  warnings.warn(\n",
      "/srv/conda/envs/notebook/lib/python3.12/site-packages/xmip/preprocessing.py:229: UserWarning: CMIP.MPI-M.MPI-ESM1-2-LR.historical.r4i1p1f1.Omon.gn.none.sos: Unit correction failed with: Cannot parse units:\n",
      "    invalid units for variable 'sos': 0.001 (attribute) (reason: Unit expression cannot have a scaling factor.)\n",
      "  warnings.warn(\n",
      "/srv/conda/envs/notebook/lib/python3.12/site-packages/xmip/preprocessing.py:229: UserWarning: CMIP.NCAR.CESM2-WACCM.historical.r1i1p1f1.Omon.gn.none.sos: Unit correction failed with: Cannot parse units:\n",
      "    invalid units for variable 'sos': 0.001 (attribute) (reason: Unit expression cannot have a scaling factor.)\n",
      "  warnings.warn(\n",
      "/srv/conda/envs/notebook/lib/python3.12/site-packages/xmip/preprocessing.py:229: UserWarning: ScenarioMIP.MPI-M.MPI-ESM1-2-LR.ssp245.r9i1p1f1.Omon.gn.none.chl: Unit correction failed with: Cannot convert variables:\n",
      "    incompatible units for variable ('lev',): cannot use 'm' as a unit\n",
      "  warnings.warn(\n",
      "/srv/conda/envs/notebook/lib/python3.12/site-packages/xmip/preprocessing.py:229: UserWarning: CMIP.MOHC.UKESM1-0-LL.historical.r1i1p1f2.Omon.gn.none.chl: Unit correction failed with: Cannot convert variables:\n",
      "    incompatible units for variable ('lev',): cannot use 'm' as a unit\n",
      "  warnings.warn(\n",
      "/srv/conda/envs/notebook/lib/python3.12/site-packages/xmip/preprocessing.py:229: UserWarning: CMIP.MPI-M.MPI-ESM1-2-LR.historical.r50i1p1f1.Omon.gn.none.chl: Unit correction failed with: Cannot convert variables:\n",
      "    incompatible units for variable ('lev',): cannot use 'm' as a unit\n",
      "  warnings.warn(\n",
      "/srv/conda/envs/notebook/lib/python3.12/site-packages/xmip/preprocessing.py:229: UserWarning: CMIP.MPI-M.MPI-ESM1-2-LR.historical.r22i1p1f1.Omon.gn.none.chl: Unit correction failed with: Cannot convert variables:\n",
      "    incompatible units for variable ('lev',): cannot use 'm' as a unit\n",
      "  warnings.warn(\n",
      "/srv/conda/envs/notebook/lib/python3.12/site-packages/xmip/preprocessing.py:229: UserWarning: ScenarioMIP.CSIRO.ACCESS-ESM1-5.ssp245.r1i1p1f1.Omon.gn.v20191115.sos: Unit correction failed with: Cannot parse units:\n",
      "    invalid units for variable 'sos': 0.001 (attribute) (reason: Unit expression cannot have a scaling factor.)\n",
      "  warnings.warn(\n",
      "/srv/conda/envs/notebook/lib/python3.12/site-packages/xmip/preprocessing.py:229: UserWarning: CMIP.MPI-M.MPI-ESM1-2-LR.historical.r11i1p1f1.Omon.gn.none.sos: Unit correction failed with: Cannot parse units:\n",
      "    invalid units for variable 'sos': 0.001 (attribute) (reason: Unit expression cannot have a scaling factor.)\n",
      "  warnings.warn(\n",
      "/srv/conda/envs/notebook/lib/python3.12/site-packages/xmip/preprocessing.py:229: UserWarning: ScenarioMIP.CCCma.CanESM5-CanOE.ssp245.r3i1p2f1.Omon.gn.v20190429.chl: Unit correction failed with: Cannot convert variables:\n",
      "    incompatible units for variable ('lev',): cannot use 'm' as a unit\n",
      "  warnings.warn(\n",
      "/srv/conda/envs/notebook/lib/python3.12/site-packages/xmip/preprocessing.py:229: UserWarning: CMIP.CSIRO.ACCESS-ESM1-5.historical.r32i1p1f1.Omon.gn.v20210525.chl: Unit correction failed with: Cannot convert variables:\n",
      "    incompatible units for variable ('lev',): cannot use 'm' as a unit\n",
      "  warnings.warn(\n",
      "/srv/conda/envs/notebook/lib/python3.12/site-packages/xmip/preprocessing.py:229: UserWarning: ScenarioMIP.NCAR.CESM2.ssp245.r4i1p1f1.Omon.gn.none.chl: Unit correction failed with: Cannot convert variables:\n",
      "    incompatible units for variable ('lev',): cannot use 'm' as a unit\n",
      "  warnings.warn(\n",
      "/srv/conda/envs/notebook/lib/python3.12/site-packages/xmip/preprocessing.py:229: UserWarning: ScenarioMIP.CSIRO.ACCESS-ESM1-5.ssp245.r11i1p1f1.Omon.gn.v20200922.chl: Unit correction failed with: Cannot convert variables:\n",
      "    incompatible units for variable ('lev',): cannot use 'm' as a unit\n",
      "  warnings.warn(\n",
      "/srv/conda/envs/notebook/lib/python3.12/site-packages/xmip/preprocessing.py:229: UserWarning: CMIP.MPI-M.MPI-ESM1-2-LR.historical.r16i1p1f1.Omon.gn.none.sos: Unit correction failed with: Cannot parse units:\n",
      "    invalid units for variable 'sos': 0.001 (attribute) (reason: Unit expression cannot have a scaling factor.)\n",
      "  warnings.warn(\n",
      "/srv/conda/envs/notebook/lib/python3.12/site-packages/xmip/preprocessing.py:229: UserWarning: ScenarioMIP.MPI-M.MPI-ESM1-2-LR.ssp245.r45i1p1f1.Omon.gn.none.sos: Unit correction failed with: Cannot parse units:\n",
      "    invalid units for variable 'sos': 0.001 (attribute) (reason: Unit expression cannot have a scaling factor.)\n",
      "  warnings.warn(\n",
      "/srv/conda/envs/notebook/lib/python3.12/site-packages/xmip/preprocessing.py:229: UserWarning: ScenarioMIP.CSIRO.ACCESS-ESM1-5.ssp245.r14i1p1f1.Omon.gn.v20200922.sos: Unit correction failed with: Cannot parse units:\n",
      "    invalid units for variable 'sos': 0.001 (attribute) (reason: Unit expression cannot have a scaling factor.)\n",
      "  warnings.warn(\n",
      "/srv/conda/envs/notebook/lib/python3.12/site-packages/xmip/preprocessing.py:229: UserWarning: CMIP.MPI-M.MPI-ESM1-2-LR.historical.r19i1p1f1.Omon.gn.none.sos: Unit correction failed with: Cannot parse units:\n",
      "    invalid units for variable 'sos': 0.001 (attribute) (reason: Unit expression cannot have a scaling factor.)\n",
      "  warnings.warn(\n",
      "/srv/conda/envs/notebook/lib/python3.12/site-packages/xmip/preprocessing.py:229: UserWarning: ScenarioMIP.CCCma.CanESM5.ssp245.r3i1p2f1.Omon.gn.v20190429.sos: Unit correction failed with: Cannot parse units:\n",
      "    invalid units for variable 'sos': 0.001 (attribute) (reason: Unit expression cannot have a scaling factor.)\n",
      "  warnings.warn(\n",
      "/srv/conda/envs/notebook/lib/python3.12/site-packages/xmip/preprocessing.py:229: UserWarning: ScenarioMIP.CCCma.CanESM5.ssp245.r2i1p1f1.Omon.gn.v20190429.sos: Unit correction failed with: Cannot parse units:\n",
      "    invalid units for variable 'sos': 0.001 (attribute) (reason: Unit expression cannot have a scaling factor.)\n",
      "  warnings.warn(\n",
      "/srv/conda/envs/notebook/lib/python3.12/site-packages/xmip/preprocessing.py:229: UserWarning: CMIP.MOHC.UKESM1-0-LL.historical.r4i1p1f2.Omon.gn.none.sos: Unit correction failed with: Cannot parse units:\n",
      "    invalid units for variable 'sos': 0.001 (attribute) (reason: Unit expression cannot have a scaling factor.)\n",
      "  warnings.warn(\n",
      "/srv/conda/envs/notebook/lib/python3.12/site-packages/xmip/preprocessing.py:229: UserWarning: ScenarioMIP.MPI-M.MPI-ESM1-2-LR.ssp245.r23i1p1f1.Omon.gn.none.sos: Unit correction failed with: Cannot parse units:\n",
      "    invalid units for variable 'sos': 0.001 (attribute) (reason: Unit expression cannot have a scaling factor.)\n",
      "  warnings.warn(\n",
      "/srv/conda/envs/notebook/lib/python3.12/site-packages/xmip/preprocessing.py:229: UserWarning: CMIP.CCCma.CanESM5.historical.r10i1p2f1.Omon.gn.v20190429.chl: Unit correction failed with: Cannot convert variables:\n",
      "    incompatible units for variable ('lev',): cannot use 'm' as a unit\n",
      "  warnings.warn(\n",
      "/srv/conda/envs/notebook/lib/python3.12/site-packages/xmip/preprocessing.py:229: UserWarning: ScenarioMIP.CSIRO.ACCESS-ESM1-5.ssp245.r38i1p1f1.Omon.gn.v20210712.chl: Unit correction failed with: Cannot convert variables:\n",
      "    incompatible units for variable ('lev',): cannot use 'm' as a unit\n",
      "  warnings.warn(\n",
      "/srv/conda/envs/notebook/lib/python3.12/site-packages/xmip/preprocessing.py:229: UserWarning: ScenarioMIP.MPI-M.MPI-ESM1-2-LR.ssp245.r10i1p1f1.Omon.gn.none.chl: Unit correction failed with: Cannot convert variables:\n",
      "    incompatible units for variable ('lev',): cannot use 'm' as a unit\n",
      "  warnings.warn(\n",
      "/srv/conda/envs/notebook/lib/python3.12/site-packages/xmip/preprocessing.py:229: UserWarning: ScenarioMIP.MPI-M.MPI-ESM1-2-LR.ssp245.r48i1p1f1.Omon.gn.none.chl: Unit correction failed with: Cannot convert variables:\n",
      "    incompatible units for variable ('lev',): cannot use 'm' as a unit\n",
      "  warnings.warn(\n",
      "/srv/conda/envs/notebook/lib/python3.12/site-packages/xmip/preprocessing.py:229: UserWarning: ScenarioMIP.MPI-M.MPI-ESM1-2-LR.ssp245.r14i1p1f1.Omon.gn.none.chl: Unit correction failed with: Cannot convert variables:\n",
      "    incompatible units for variable ('lev',): cannot use 'm' as a unit\n",
      "  warnings.warn(\n",
      "/srv/conda/envs/notebook/lib/python3.12/site-packages/xmip/preprocessing.py:229: UserWarning: ScenarioMIP.MPI-M.MPI-ESM1-2-LR.ssp245.r36i1p1f1.Omon.gn.none.chl: Unit correction failed with: Cannot convert variables:\n",
      "    incompatible units for variable ('lev',): cannot use 'm' as a unit\n",
      "  warnings.warn(\n",
      "/srv/conda/envs/notebook/lib/python3.12/site-packages/xmip/preprocessing.py:229: UserWarning: CMIP.NCAR.CESM2-WACCM.historical.r1i1p1f1.Omon.gn.none.sos: Unit correction failed with: Cannot parse units:\n",
      "    invalid units for variable 'sos': 0.001 (attribute) (reason: Unit expression cannot have a scaling factor.)\n",
      "  warnings.warn(\n",
      "/srv/conda/envs/notebook/lib/python3.12/site-packages/xmip/preprocessing.py:229: UserWarning: CMIP.CSIRO.ACCESS-ESM1-5.historical.r2i1p1f1.Omon.gn.v20191128.sos: Unit correction failed with: Cannot parse units:\n",
      "    invalid units for variable 'sos': 0.001 (attribute) (reason: Unit expression cannot have a scaling factor.)\n",
      "  warnings.warn(\n",
      "/srv/conda/envs/notebook/lib/python3.12/site-packages/xmip/preprocessing.py:229: UserWarning: CMIP.MPI-M.MPI-ESM1-2-LR.historical.r45i1p1f1.Omon.gn.none.chl: Unit correction failed with: Cannot convert variables:\n",
      "    incompatible units for variable ('lev',): cannot use 'm' as a unit\n",
      "  warnings.warn(\n",
      "/srv/conda/envs/notebook/lib/python3.12/site-packages/xmip/preprocessing.py:229: UserWarning: CMIP.CSIRO.ACCESS-ESM1-5.historical.r17i1p1f1.Omon.gn.v20200803.chl: Unit correction failed with: Cannot convert variables:\n",
      "    incompatible units for variable ('lev',): cannot use 'm' as a unit\n",
      "  warnings.warn(\n",
      "/srv/conda/envs/notebook/lib/python3.12/site-packages/xmip/preprocessing.py:229: UserWarning: CMIP.CSIRO.ACCESS-ESM1-5.historical.r11i1p1f1.Omon.gn.v20200803.chl: Unit correction failed with: Cannot convert variables:\n",
      "    incompatible units for variable ('lev',): cannot use 'm' as a unit\n",
      "  warnings.warn(\n",
      "/srv/conda/envs/notebook/lib/python3.12/site-packages/xmip/preprocessing.py:229: UserWarning: CMIP.MPI-M.MPI-ESM1-2-LR.historical.r46i1p1f1.Omon.gn.none.sos: Unit correction failed with: Cannot parse units:\n",
      "    invalid units for variable 'sos': 0.001 (attribute) (reason: Unit expression cannot have a scaling factor.)\n",
      "  warnings.warn(\n",
      "/srv/conda/envs/notebook/lib/python3.12/site-packages/xmip/preprocessing.py:229: UserWarning: CMIP.MPI-M.MPI-ESM1-2-LR.historical.r6i1p1f1.Omon.gn.none.chl: Unit correction failed with: Cannot convert variables:\n",
      "    incompatible units for variable ('lev',): cannot use 'm' as a unit\n",
      "  warnings.warn(\n",
      "/srv/conda/envs/notebook/lib/python3.12/site-packages/xmip/preprocessing.py:229: UserWarning: CMIP.MPI-M.MPI-ESM1-2-LR.historical.r24i1p1f1.Omon.gn.none.sos: Unit correction failed with: Cannot parse units:\n",
      "    invalid units for variable 'sos': 0.001 (attribute) (reason: Unit expression cannot have a scaling factor.)\n",
      "  warnings.warn(\n",
      "/srv/conda/envs/notebook/lib/python3.12/site-packages/xmip/preprocessing.py:229: UserWarning: CMIP.MPI-M.MPI-ESM1-2-LR.historical.r34i1p1f1.Omon.gn.none.chl: Unit correction failed with: Cannot convert variables:\n",
      "    incompatible units for variable ('lev',): cannot use 'm' as a unit\n",
      "  warnings.warn(\n",
      "/srv/conda/envs/notebook/lib/python3.12/site-packages/xmip/preprocessing.py:229: UserWarning: ScenarioMIP.CMCC.CMCC-ESM2.ssp245.r1i1p1f1.Omon.gn.none.chl: Unit correction failed with: Cannot convert variables:\n",
      "    incompatible units for variable ('lev',): cannot use 'm' as a unit\n",
      "  warnings.warn(\n",
      "/srv/conda/envs/notebook/lib/python3.12/site-packages/xmip/preprocessing.py:229: UserWarning: ScenarioMIP.MPI-M.MPI-ESM1-2-LR.ssp245.r12i1p1f1.Omon.gn.none.sos: Unit correction failed with: Cannot parse units:\n",
      "    invalid units for variable 'sos': 0.001 (attribute) (reason: Unit expression cannot have a scaling factor.)\n",
      "  warnings.warn(\n",
      "/srv/conda/envs/notebook/lib/python3.12/site-packages/xmip/preprocessing.py:229: UserWarning: CMIP.MPI-M.MPI-ESM1-2-LR.historical.r25i1p1f1.Omon.gn.none.chl: Unit correction failed with: Cannot convert variables:\n",
      "    incompatible units for variable ('lev',): cannot use 'm' as a unit\n",
      "  warnings.warn(\n",
      "/srv/conda/envs/notebook/lib/python3.12/site-packages/xmip/preprocessing.py:229: UserWarning: CMIP.MOHC.UKESM1-0-LL.historical.r8i1p1f2.Omon.gn.none.chl: Unit correction failed with: Cannot convert variables:\n",
      "    incompatible units for variable ('lev',): cannot use 'm' as a unit\n",
      "  warnings.warn(\n",
      "/srv/conda/envs/notebook/lib/python3.12/site-packages/xmip/preprocessing.py:229: UserWarning: ScenarioMIP.MPI-M.MPI-ESM1-2-LR.ssp245.r50i1p1f1.Omon.gn.none.chl: Unit correction failed with: Cannot convert variables:\n",
      "    incompatible units for variable ('lev',): cannot use 'm' as a unit\n",
      "  warnings.warn(\n",
      "/srv/conda/envs/notebook/lib/python3.12/site-packages/xmip/preprocessing.py:229: UserWarning: ScenarioMIP.CSIRO.ACCESS-ESM1-5.ssp245.r40i1p1f1.Omon.gn.v20210712.sos: Unit correction failed with: Cannot parse units:\n",
      "    invalid units for variable 'sos': 0.001 (attribute) (reason: Unit expression cannot have a scaling factor.)\n",
      "  warnings.warn(\n",
      "/srv/conda/envs/notebook/lib/python3.12/site-packages/xmip/preprocessing.py:229: UserWarning: ScenarioMIP.MPI-M.MPI-ESM1-2-LR.ssp245.r16i1p1f1.Omon.gn.none.chl: Unit correction failed with: Cannot convert variables:\n",
      "    incompatible units for variable ('lev',): cannot use 'm' as a unit\n",
      "  warnings.warn(\n",
      "/srv/conda/envs/notebook/lib/python3.12/site-packages/xmip/preprocessing.py:229: UserWarning: CMIP.MPI-M.MPI-ESM1-2-LR.historical.r17i1p1f1.Omon.gn.none.sos: Unit correction failed with: Cannot parse units:\n",
      "    invalid units for variable 'sos': 0.001 (attribute) (reason: Unit expression cannot have a scaling factor.)\n",
      "  warnings.warn(\n",
      "/srv/conda/envs/notebook/lib/python3.12/site-packages/xmip/preprocessing.py:229: UserWarning: CMIP.MOHC.UKESM1-0-LL.historical.r1i1p1f2.Omon.gn.none.sos: Unit correction failed with: Cannot parse units:\n",
      "    invalid units for variable 'sos': 0.001 (attribute) (reason: Unit expression cannot have a scaling factor.)\n",
      "  warnings.warn(\n",
      "/srv/conda/envs/notebook/lib/python3.12/site-packages/xmip/preprocessing.py:229: UserWarning: ScenarioMIP.CSIRO.ACCESS-ESM1-5.ssp245.r21i1p1f1.Omon.gn.v20200922.sos: Unit correction failed with: Cannot parse units:\n",
      "    invalid units for variable 'sos': 0.001 (attribute) (reason: Unit expression cannot have a scaling factor.)\n",
      "  warnings.warn(\n",
      "/srv/conda/envs/notebook/lib/python3.12/site-packages/xmip/preprocessing.py:229: UserWarning: ScenarioMIP.CCCma.CanESM5.ssp245.r4i1p2f1.Omon.gn.v20190429.chl: Unit correction failed with: Cannot convert variables:\n",
      "    incompatible units for variable ('lev',): cannot use 'm' as a unit\n",
      "  warnings.warn(\n",
      "/srv/conda/envs/notebook/lib/python3.12/site-packages/xmip/preprocessing.py:229: UserWarning: CMIP.MPI-M.MPI-ESM1-2-LR.historical.r36i1p1f1.Omon.gn.none.chl: Unit correction failed with: Cannot convert variables:\n",
      "    incompatible units for variable ('lev',): cannot use 'm' as a unit\n",
      "  warnings.warn(\n",
      "/srv/conda/envs/notebook/lib/python3.12/site-packages/xmip/preprocessing.py:229: UserWarning: CMIP.CSIRO.ACCESS-ESM1-5.historical.r30i1p1f1.Omon.gn.v20200922.sos: Unit correction failed with: Cannot parse units:\n",
      "    invalid units for variable 'sos': 0.001 (attribute) (reason: Unit expression cannot have a scaling factor.)\n",
      "  warnings.warn(\n",
      "/srv/conda/envs/notebook/lib/python3.12/site-packages/xmip/preprocessing.py:229: UserWarning: CMIP.CSIRO.ACCESS-ESM1-5.historical.r13i1p1f1.Omon.gn.v20200803.sos: Unit correction failed with: Cannot parse units:\n",
      "    invalid units for variable 'sos': 0.001 (attribute) (reason: Unit expression cannot have a scaling factor.)\n",
      "  warnings.warn(\n",
      "/srv/conda/envs/notebook/lib/python3.12/site-packages/xmip/preprocessing.py:229: UserWarning: CMIP.MPI-M.MPI-ESM1-2-LR.historical.r37i1p1f1.Omon.gn.none.chl: Unit correction failed with: Cannot convert variables:\n",
      "    incompatible units for variable ('lev',): cannot use 'm' as a unit\n",
      "  warnings.warn(\n",
      "/srv/conda/envs/notebook/lib/python3.12/site-packages/xmip/preprocessing.py:229: UserWarning: ScenarioMIP.MPI-M.MPI-ESM1-2-LR.ssp245.r18i1p1f1.Omon.gn.none.chl: Unit correction failed with: Cannot convert variables:\n",
      "    incompatible units for variable ('lev',): cannot use 'm' as a unit\n",
      "  warnings.warn(\n",
      "/srv/conda/envs/notebook/lib/python3.12/site-packages/xmip/preprocessing.py:229: UserWarning: ScenarioMIP.CSIRO.ACCESS-ESM1-5.ssp245.r34i1p1f1.Omon.gn.v20210712.chl: Unit correction failed with: Cannot convert variables:\n",
      "    incompatible units for variable ('lev',): cannot use 'm' as a unit\n",
      "  warnings.warn(\n",
      "/srv/conda/envs/notebook/lib/python3.12/site-packages/xmip/preprocessing.py:229: UserWarning: CMIP.CCCma.CanESM5.historical.r3i1p2f1.Omon.gn.v20190429.sos: Unit correction failed with: Cannot parse units:\n",
      "    invalid units for variable 'sos': 0.001 (attribute) (reason: Unit expression cannot have a scaling factor.)\n",
      "  warnings.warn(\n",
      "/srv/conda/envs/notebook/lib/python3.12/site-packages/xmip/preprocessing.py:229: UserWarning: ScenarioMIP.MPI-M.MPI-ESM1-2-LR.ssp245.r36i1p1f1.Omon.gn.none.sos: Unit correction failed with: Cannot parse units:\n",
      "    invalid units for variable 'sos': 0.001 (attribute) (reason: Unit expression cannot have a scaling factor.)\n",
      "  warnings.warn(\n",
      "/srv/conda/envs/notebook/lib/python3.12/site-packages/xmip/preprocessing.py:229: UserWarning: CMIP.CSIRO.ACCESS-ESM1-5.historical.r26i1p1f1.Omon.gn.v20200922.sos: Unit correction failed with: Cannot parse units:\n",
      "    invalid units for variable 'sos': 0.001 (attribute) (reason: Unit expression cannot have a scaling factor.)\n",
      "  warnings.warn(\n",
      "/srv/conda/envs/notebook/lib/python3.12/site-packages/xmip/preprocessing.py:229: UserWarning: ScenarioMIP.CSIRO.ACCESS-ESM1-5.ssp245.r32i1p1f1.Omon.gn.v20210712.chl: Unit correction failed with: Cannot convert variables:\n",
      "    incompatible units for variable ('lev',): cannot use 'm' as a unit\n",
      "  warnings.warn(\n",
      "/srv/conda/envs/notebook/lib/python3.12/site-packages/xmip/preprocessing.py:229: UserWarning: CMIP.CSIRO.ACCESS-ESM1-5.historical.r34i1p1f1.Omon.gn.v20210525.chl: Unit correction failed with: Cannot convert variables:\n",
      "    incompatible units for variable ('lev',): cannot use 'm' as a unit\n",
      "  warnings.warn(\n",
      "/srv/conda/envs/notebook/lib/python3.12/site-packages/xmip/preprocessing.py:229: UserWarning: CMIP.MPI-M.MPI-ESM1-2-LR.historical.r28i1p1f1.Omon.gn.none.sos: Unit correction failed with: Cannot parse units:\n",
      "    invalid units for variable 'sos': 0.001 (attribute) (reason: Unit expression cannot have a scaling factor.)\n",
      "  warnings.warn(\n",
      "/srv/conda/envs/notebook/lib/python3.12/site-packages/xmip/preprocessing.py:229: UserWarning: ScenarioMIP.CCCma.CanESM5.ssp245.r3i1p1f1.Omon.gn.v20190429.sos: Unit correction failed with: Cannot parse units:\n",
      "    invalid units for variable 'sos': 0.001 (attribute) (reason: Unit expression cannot have a scaling factor.)\n",
      "  warnings.warn(\n",
      "/srv/conda/envs/notebook/lib/python3.12/site-packages/xmip/preprocessing.py:229: UserWarning: ScenarioMIP.CSIRO.ACCESS-ESM1-5.ssp245.r10i1p1f1.Omon.gn.v20200810.sos: Unit correction failed with: Cannot parse units:\n",
      "    invalid units for variable 'sos': 0.001 (attribute) (reason: Unit expression cannot have a scaling factor.)\n",
      "  warnings.warn(\n",
      "/srv/conda/envs/notebook/lib/python3.12/site-packages/xmip/preprocessing.py:229: UserWarning: ScenarioMIP.MPI-M.MPI-ESM1-2-LR.ssp245.r25i1p1f1.Omon.gn.none.chl: Unit correction failed with: Cannot convert variables:\n",
      "    incompatible units for variable ('lev',): cannot use 'm' as a unit\n",
      "  warnings.warn(\n",
      "/srv/conda/envs/notebook/lib/python3.12/site-packages/xmip/preprocessing.py:229: UserWarning: CMIP.NCAR.CESM2-WACCM.historical.r2i1p1f1.Omon.gn.none.sos: Unit correction failed with: Cannot parse units:\n",
      "    invalid units for variable 'sos': 0.001 (attribute) (reason: Unit expression cannot have a scaling factor.)\n",
      "  warnings.warn(\n",
      "/srv/conda/envs/notebook/lib/python3.12/site-packages/xmip/preprocessing.py:229: UserWarning: ScenarioMIP.CSIRO.ACCESS-ESM1-5.ssp245.r26i1p1f1.Omon.gn.v20200922.sos: Unit correction failed with: Cannot parse units:\n",
      "    invalid units for variable 'sos': 0.001 (attribute) (reason: Unit expression cannot have a scaling factor.)\n",
      "  warnings.warn(\n",
      "/srv/conda/envs/notebook/lib/python3.12/site-packages/xmip/preprocessing.py:229: UserWarning: CMIP.MPI-M.MPI-ESM1-2-LR.historical.r35i1p1f1.Omon.gn.none.chl: Unit correction failed with: Cannot convert variables:\n",
      "    incompatible units for variable ('lev',): cannot use 'm' as a unit\n",
      "  warnings.warn(\n",
      "/srv/conda/envs/notebook/lib/python3.12/site-packages/xmip/preprocessing.py:229: UserWarning: ScenarioMIP.MPI-M.MPI-ESM1-2-LR.ssp245.r13i1p1f1.Omon.gn.none.chl: Unit correction failed with: Cannot convert variables:\n",
      "    incompatible units for variable ('lev',): cannot use 'm' as a unit\n",
      "  warnings.warn(\n",
      "/srv/conda/envs/notebook/lib/python3.12/site-packages/xmip/preprocessing.py:229: UserWarning: ScenarioMIP.CSIRO.ACCESS-ESM1-5.ssp245.r22i1p1f1.Omon.gn.v20200922.sos: Unit correction failed with: Cannot parse units:\n",
      "    invalid units for variable 'sos': 0.001 (attribute) (reason: Unit expression cannot have a scaling factor.)\n",
      "  warnings.warn(\n",
      "/srv/conda/envs/notebook/lib/python3.12/site-packages/xmip/preprocessing.py:229: UserWarning: CMIP.MPI-M.MPI-ESM1-2-LR.historical.r12i1p1f1.Omon.gn.none.sos: Unit correction failed with: Cannot parse units:\n",
      "    invalid units for variable 'sos': 0.001 (attribute) (reason: Unit expression cannot have a scaling factor.)\n",
      "  warnings.warn(\n",
      "/srv/conda/envs/notebook/lib/python3.12/site-packages/xmip/preprocessing.py:229: UserWarning: ScenarioMIP.CCCma.CanESM5.ssp245.r6i1p1f1.Omon.gn.v20190429.sos: Unit correction failed with: Cannot parse units:\n",
      "    invalid units for variable 'sos': 0.001 (attribute) (reason: Unit expression cannot have a scaling factor.)\n",
      "  warnings.warn(\n",
      "/srv/conda/envs/notebook/lib/python3.12/site-packages/xmip/preprocessing.py:229: UserWarning: ScenarioMIP.CSIRO.ACCESS-ESM1-5.ssp245.r25i1p1f1.Omon.gn.v20200922.chl: Unit correction failed with: Cannot convert variables:\n",
      "    incompatible units for variable ('lev',): cannot use 'm' as a unit\n",
      "  warnings.warn(\n",
      "/srv/conda/envs/notebook/lib/python3.12/site-packages/xmip/preprocessing.py:229: UserWarning: ScenarioMIP.CCCma.CanESM5.ssp245.r1i1p2f1.Omon.gn.v20190429.chl: Unit correction failed with: Cannot convert variables:\n",
      "    incompatible units for variable ('lev',): cannot use 'm' as a unit\n",
      "  warnings.warn(\n",
      "/srv/conda/envs/notebook/lib/python3.12/site-packages/xmip/preprocessing.py:229: UserWarning: ScenarioMIP.MPI-M.MPI-ESM1-2-LR.ssp245.r39i1p1f1.Omon.gn.none.chl: Unit correction failed with: Cannot convert variables:\n",
      "    incompatible units for variable ('lev',): cannot use 'm' as a unit\n",
      "  warnings.warn(\n",
      "/srv/conda/envs/notebook/lib/python3.12/site-packages/xmip/preprocessing.py:229: UserWarning: CMIP.MPI-M.MPI-ESM1-2-LR.historical.r48i1p1f1.Omon.gn.none.sos: Unit correction failed with: Cannot parse units:\n",
      "    invalid units for variable 'sos': 0.001 (attribute) (reason: Unit expression cannot have a scaling factor.)\n",
      "  warnings.warn(\n",
      "/srv/conda/envs/notebook/lib/python3.12/site-packages/xmip/preprocessing.py:229: UserWarning: ScenarioMIP.CSIRO.ACCESS-ESM1-5.ssp245.r7i1p1f1.Omon.gn.v20200810.sos: Unit correction failed with: Cannot parse units:\n",
      "    invalid units for variable 'sos': 0.001 (attribute) (reason: Unit expression cannot have a scaling factor.)\n",
      "  warnings.warn(\n",
      "/srv/conda/envs/notebook/lib/python3.12/site-packages/xmip/preprocessing.py:229: UserWarning: CMIP.CSIRO.ACCESS-ESM1-5.historical.r4i1p1f1.Omon.gn.v20200529.sos: Unit correction failed with: Cannot parse units:\n",
      "    invalid units for variable 'sos': 0.001 (attribute) (reason: Unit expression cannot have a scaling factor.)\n",
      "  warnings.warn(\n",
      "/srv/conda/envs/notebook/lib/python3.12/site-packages/xmip/preprocessing.py:229: UserWarning: CMIP.CSIRO.ACCESS-ESM1-5.historical.r19i1p1f1.Omon.gn.v20200803.chl: Unit correction failed with: Cannot convert variables:\n",
      "    incompatible units for variable ('lev',): cannot use 'm' as a unit\n",
      "  warnings.warn(\n",
      "/srv/conda/envs/notebook/lib/python3.12/site-packages/xmip/preprocessing.py:229: UserWarning: ScenarioMIP.MPI-M.MPI-ESM1-2-LR.ssp245.r9i1p1f1.Omon.gn.none.sos: Unit correction failed with: Cannot parse units:\n",
      "    invalid units for variable 'sos': 0.001 (attribute) (reason: Unit expression cannot have a scaling factor.)\n",
      "  warnings.warn(\n",
      "/srv/conda/envs/notebook/lib/python3.12/site-packages/xmip/preprocessing.py:229: UserWarning: ScenarioMIP.MPI-M.MPI-ESM1-2-LR.ssp245.r28i1p1f1.Omon.gn.none.chl: Unit correction failed with: Cannot convert variables:\n",
      "    incompatible units for variable ('lev',): cannot use 'm' as a unit\n",
      "  warnings.warn(\n",
      "/srv/conda/envs/notebook/lib/python3.12/site-packages/xmip/preprocessing.py:229: UserWarning: ScenarioMIP.MPI-M.MPI-ESM1-2-LR.ssp245.r41i1p1f1.Omon.gn.none.sos: Unit correction failed with: Cannot parse units:\n",
      "    invalid units for variable 'sos': 0.001 (attribute) (reason: Unit expression cannot have a scaling factor.)\n",
      "  warnings.warn(\n",
      "/srv/conda/envs/notebook/lib/python3.12/site-packages/xmip/preprocessing.py:229: UserWarning: CMIP.MPI-M.MPI-ESM1-2-LR.historical.r2i1p1f1.Omon.gn.none.sos: Unit correction failed with: Cannot parse units:\n",
      "    invalid units for variable 'sos': 0.001 (attribute) (reason: Unit expression cannot have a scaling factor.)\n",
      "  warnings.warn(\n",
      "/srv/conda/envs/notebook/lib/python3.12/site-packages/xmip/preprocessing.py:229: UserWarning: ScenarioMIP.MPI-M.MPI-ESM1-2-LR.ssp245.r31i1p1f1.Omon.gn.none.sos: Unit correction failed with: Cannot parse units:\n",
      "    invalid units for variable 'sos': 0.001 (attribute) (reason: Unit expression cannot have a scaling factor.)\n",
      "  warnings.warn(\n",
      "/srv/conda/envs/notebook/lib/python3.12/site-packages/xmip/preprocessing.py:229: UserWarning: CMIP.MPI-M.MPI-ESM1-2-LR.historical.r46i1p1f1.Omon.gn.none.chl: Unit correction failed with: Cannot convert variables:\n",
      "    incompatible units for variable ('lev',): cannot use 'm' as a unit\n",
      "  warnings.warn(\n",
      "/srv/conda/envs/notebook/lib/python3.12/site-packages/xmip/preprocessing.py:229: UserWarning: CMIP.CSIRO.ACCESS-ESM1-5.historical.r11i1p1f1.Omon.gn.v20200803.sos: Unit correction failed with: Cannot parse units:\n",
      "    invalid units for variable 'sos': 0.001 (attribute) (reason: Unit expression cannot have a scaling factor.)\n",
      "  warnings.warn(\n",
      "/srv/conda/envs/notebook/lib/python3.12/site-packages/xmip/preprocessing.py:229: UserWarning: ScenarioMIP.CSIRO.ACCESS-ESM1-5.ssp245.r30i1p1f1.Omon.gn.v20200922.chl: Unit correction failed with: Cannot convert variables:\n",
      "    incompatible units for variable ('lev',): cannot use 'm' as a unit\n",
      "  warnings.warn(\n",
      "/srv/conda/envs/notebook/lib/python3.12/site-packages/xmip/preprocessing.py:229: UserWarning: CMIP.CSIRO.ACCESS-ESM1-5.historical.r24i1p1f1.Omon.gn.v20200922.sos: Unit correction failed with: Cannot parse units:\n",
      "    invalid units for variable 'sos': 0.001 (attribute) (reason: Unit expression cannot have a scaling factor.)\n",
      "  warnings.warn(\n",
      "/srv/conda/envs/notebook/lib/python3.12/site-packages/xmip/preprocessing.py:229: UserWarning: CMIP.CCCma.CanESM5.historical.r5i1p1f1.Omon.gn.v20190429.chl: Unit correction failed with: Cannot convert variables:\n",
      "    incompatible units for variable ('lev',): cannot use 'm' as a unit\n",
      "  warnings.warn(\n",
      "/srv/conda/envs/notebook/lib/python3.12/site-packages/xmip/preprocessing.py:229: UserWarning: CMIP.MPI-M.MPI-ESM1-2-LR.historical.r29i1p1f1.Omon.gn.none.sos: Unit correction failed with: Cannot parse units:\n",
      "    invalid units for variable 'sos': 0.001 (attribute) (reason: Unit expression cannot have a scaling factor.)\n",
      "  warnings.warn(\n",
      "/srv/conda/envs/notebook/lib/python3.12/site-packages/xmip/preprocessing.py:229: UserWarning: ScenarioMIP.MPI-M.MPI-ESM1-2-LR.ssp245.r37i1p1f1.Omon.gn.none.sos: Unit correction failed with: Cannot parse units:\n",
      "    invalid units for variable 'sos': 0.001 (attribute) (reason: Unit expression cannot have a scaling factor.)\n",
      "  warnings.warn(\n",
      "/srv/conda/envs/notebook/lib/python3.12/site-packages/xmip/preprocessing.py:229: UserWarning: CMIP.CSIRO.ACCESS-ESM1-5.historical.r19i1p1f1.Omon.gn.v20200803.sos: Unit correction failed with: Cannot parse units:\n",
      "    invalid units for variable 'sos': 0.001 (attribute) (reason: Unit expression cannot have a scaling factor.)\n",
      "  warnings.warn(\n",
      "/srv/conda/envs/notebook/lib/python3.12/site-packages/xmip/preprocessing.py:229: UserWarning: CMIP.MPI-M.MPI-ESM1-2-LR.historical.r23i1p1f1.Omon.gn.none.sos: Unit correction failed with: Cannot parse units:\n",
      "    invalid units for variable 'sos': 0.001 (attribute) (reason: Unit expression cannot have a scaling factor.)\n",
      "  warnings.warn(\n",
      "/srv/conda/envs/notebook/lib/python3.12/site-packages/xmip/preprocessing.py:229: UserWarning: CMIP.MPI-M.MPI-ESM1-2-LR.historical.r37i1p1f1.Omon.gn.none.sos: Unit correction failed with: Cannot parse units:\n",
      "    invalid units for variable 'sos': 0.001 (attribute) (reason: Unit expression cannot have a scaling factor.)\n",
      "  warnings.warn(\n",
      "/srv/conda/envs/notebook/lib/python3.12/site-packages/xmip/preprocessing.py:229: UserWarning: ScenarioMIP.NCAR.CESM2-WACCM.ssp245.r3i1p1f1.Omon.gn.none.chl: Unit correction failed with: Cannot convert variables:\n",
      "    incompatible units for variable ('lev',): cannot use 'm' as a unit\n",
      "  warnings.warn(\n",
      "/srv/conda/envs/notebook/lib/python3.12/site-packages/xmip/preprocessing.py:229: UserWarning: CMIP.MPI-M.MPI-ESM1-2-LR.historical.r32i1p1f1.Omon.gn.none.chl: Unit correction failed with: Cannot convert variables:\n",
      "    incompatible units for variable ('lev',): cannot use 'm' as a unit\n",
      "  warnings.warn(\n",
      "/srv/conda/envs/notebook/lib/python3.12/site-packages/xmip/preprocessing.py:229: UserWarning: ScenarioMIP.MOHC.UKESM1-0-LL.ssp245.r4i1p1f2.Omon.gn.none.chl: Unit correction failed with: Cannot convert variables:\n",
      "    incompatible units for variable ('lev',): cannot use 'm' as a unit\n",
      "  warnings.warn(\n",
      "/srv/conda/envs/notebook/lib/python3.12/site-packages/xmip/preprocessing.py:229: UserWarning: CMIP.CSIRO.ACCESS-ESM1-5.historical.r10i1p1f1.Omon.gn.v20200605.sos: Unit correction failed with: Cannot parse units:\n",
      "    invalid units for variable 'sos': 0.001 (attribute) (reason: Unit expression cannot have a scaling factor.)\n",
      "  warnings.warn(\n",
      "/srv/conda/envs/notebook/lib/python3.12/site-packages/xmip/preprocessing.py:229: UserWarning: ScenarioMIP.MPI-M.MPI-ESM1-2-LR.ssp245.r6i1p1f1.Omon.gn.none.chl: Unit correction failed with: Cannot convert variables:\n",
      "    incompatible units for variable ('lev',): cannot use 'm' as a unit\n",
      "  warnings.warn(\n",
      "/srv/conda/envs/notebook/lib/python3.12/site-packages/xmip/preprocessing.py:229: UserWarning: ScenarioMIP.MPI-M.MPI-ESM1-2-LR.ssp245.r20i1p1f1.Omon.gn.none.chl: Unit correction failed with: Cannot convert variables:\n",
      "    incompatible units for variable ('lev',): cannot use 'm' as a unit\n",
      "  warnings.warn(\n",
      "/srv/conda/envs/notebook/lib/python3.12/site-packages/xmip/preprocessing.py:229: UserWarning: ScenarioMIP.CSIRO.ACCESS-ESM1-5.ssp245.r5i1p1f1.Omon.gn.v20200810.sos: Unit correction failed with: Cannot parse units:\n",
      "    invalid units for variable 'sos': 0.001 (attribute) (reason: Unit expression cannot have a scaling factor.)\n",
      "  warnings.warn(\n",
      "/srv/conda/envs/notebook/lib/python3.12/site-packages/xmip/preprocessing.py:229: UserWarning: ScenarioMIP.CCCma.CanESM5.ssp245.r4i1p1f1.Omon.gn.v20190429.chl: Unit correction failed with: Cannot convert variables:\n",
      "    incompatible units for variable ('lev',): cannot use 'm' as a unit\n",
      "  warnings.warn(\n",
      "/srv/conda/envs/notebook/lib/python3.12/site-packages/xmip/preprocessing.py:229: UserWarning: ScenarioMIP.MPI-M.MPI-ESM1-2-LR.ssp245.r8i1p1f1.Omon.gn.none.chl: Unit correction failed with: Cannot convert variables:\n",
      "    incompatible units for variable ('lev',): cannot use 'm' as a unit\n",
      "  warnings.warn(\n",
      "/srv/conda/envs/notebook/lib/python3.12/site-packages/xmip/preprocessing.py:229: UserWarning: ScenarioMIP.MPI-M.MPI-ESM1-2-LR.ssp245.r45i1p1f1.Omon.gn.none.chl: Unit correction failed with: Cannot convert variables:\n",
      "    incompatible units for variable ('lev',): cannot use 'm' as a unit\n",
      "  warnings.warn(\n",
      "/srv/conda/envs/notebook/lib/python3.12/site-packages/xmip/preprocessing.py:229: UserWarning: ScenarioMIP.MPI-M.MPI-ESM1-2-LR.ssp245.r26i1p1f1.Omon.gn.none.sos: Unit correction failed with: Cannot parse units:\n",
      "    invalid units for variable 'sos': 0.001 (attribute) (reason: Unit expression cannot have a scaling factor.)\n",
      "  warnings.warn(\n",
      "/srv/conda/envs/notebook/lib/python3.12/site-packages/xmip/preprocessing.py:229: UserWarning: ScenarioMIP.CCCma.CanESM5.ssp245.r9i1p1f1.Omon.gn.v20190429.chl: Unit correction failed with: Cannot convert variables:\n",
      "    incompatible units for variable ('lev',): cannot use 'm' as a unit\n",
      "  warnings.warn(\n",
      "/srv/conda/envs/notebook/lib/python3.12/site-packages/xmip/preprocessing.py:229: UserWarning: CMIP.NCAR.CESM2.historical.r4i1p1f1.Omon.gn.none.chl: Unit correction failed with: Cannot convert variables:\n",
      "    incompatible units for variable ('lev',): cannot use 'm' as a unit\n",
      "  warnings.warn(\n",
      "/srv/conda/envs/notebook/lib/python3.12/site-packages/xmip/preprocessing.py:229: UserWarning: ScenarioMIP.NCAR.CESM2.ssp245.r10i1p1f1.Omon.gn.none.chl: Unit correction failed with: Cannot convert variables:\n",
      "    incompatible units for variable ('lev',): cannot use 'm' as a unit\n",
      "  warnings.warn(\n",
      "/srv/conda/envs/notebook/lib/python3.12/site-packages/xmip/preprocessing.py:229: UserWarning: CMIP.CSIRO.ACCESS-ESM1-5.historical.r38i1p1f1.Omon.gn.v20210525.sos: Unit correction failed with: Cannot parse units:\n",
      "    invalid units for variable 'sos': 0.001 (attribute) (reason: Unit expression cannot have a scaling factor.)\n",
      "  warnings.warn(\n",
      "/srv/conda/envs/notebook/lib/python3.12/site-packages/xmip/preprocessing.py:229: UserWarning: ScenarioMIP.CSIRO.ACCESS-ESM1-5.ssp245.r1i1p1f1.Omon.gn.v20191115.chl: Unit correction failed with: Cannot convert variables:\n",
      "    incompatible units for variable ('lev',): cannot use 'm' as a unit\n",
      "  warnings.warn(\n",
      "/srv/conda/envs/notebook/lib/python3.12/site-packages/xmip/preprocessing.py:229: UserWarning: ScenarioMIP.CCCma.CanESM5-CanOE.ssp245.r2i1p2f1.Omon.gn.v20190429.sos: Unit correction failed with: Cannot parse units:\n",
      "    invalid units for variable 'sos': 0.001 (attribute) (reason: Unit expression cannot have a scaling factor.)\n",
      "  warnings.warn(\n",
      "/srv/conda/envs/notebook/lib/python3.12/site-packages/xmip/preprocessing.py:229: UserWarning: CMIP.CCCma.CanESM5.historical.r10i1p2f1.Omon.gn.v20190429.sos: Unit correction failed with: Cannot parse units:\n",
      "    invalid units for variable 'sos': 0.001 (attribute) (reason: Unit expression cannot have a scaling factor.)\n",
      "  warnings.warn(\n",
      "/srv/conda/envs/notebook/lib/python3.12/site-packages/xmip/preprocessing.py:229: UserWarning: ScenarioMIP.CSIRO.ACCESS-ESM1-5.ssp245.r35i1p1f1.Omon.gn.v20210712.chl: Unit correction failed with: Cannot convert variables:\n",
      "    incompatible units for variable ('lev',): cannot use 'm' as a unit\n",
      "  warnings.warn(\n",
      "/srv/conda/envs/notebook/lib/python3.12/site-packages/xmip/preprocessing.py:229: UserWarning: ScenarioMIP.MOHC.UKESM1-0-LL.ssp245.r1i1p1f2.Omon.gn.none.chl: Unit correction failed with: Cannot convert variables:\n",
      "    incompatible units for variable ('lev',): cannot use 'm' as a unit\n",
      "  warnings.warn(\n",
      "/srv/conda/envs/notebook/lib/python3.12/site-packages/xmip/preprocessing.py:229: UserWarning: CMIP.CSIRO.ACCESS-ESM1-5.historical.r29i1p1f1.Omon.gn.v20200922.sos: Unit correction failed with: Cannot parse units:\n",
      "    invalid units for variable 'sos': 0.001 (attribute) (reason: Unit expression cannot have a scaling factor.)\n",
      "  warnings.warn(\n",
      "/srv/conda/envs/notebook/lib/python3.12/site-packages/xmip/preprocessing.py:229: UserWarning: ScenarioMIP.MOHC.UKESM1-0-LL.ssp245.r8i1p1f2.Omon.gn.none.sos: Unit correction failed with: Cannot parse units:\n",
      "    invalid units for variable 'sos': 0.001 (attribute) (reason: Unit expression cannot have a scaling factor.)\n",
      "  warnings.warn(\n",
      "/srv/conda/envs/notebook/lib/python3.12/site-packages/xmip/preprocessing.py:229: UserWarning: CMIP.CSIRO.ACCESS-ESM1-5.historical.r21i1p1f1.Omon.gn.v20200922.sos: Unit correction failed with: Cannot parse units:\n",
      "    invalid units for variable 'sos': 0.001 (attribute) (reason: Unit expression cannot have a scaling factor.)\n",
      "  warnings.warn(\n",
      "/srv/conda/envs/notebook/lib/python3.12/site-packages/xmip/preprocessing.py:229: UserWarning: CMIP.CCCma.CanESM5.historical.r10i1p1f1.Omon.gn.v20190429.sos: Unit correction failed with: Cannot parse units:\n",
      "    invalid units for variable 'sos': 0.001 (attribute) (reason: Unit expression cannot have a scaling factor.)\n",
      "  warnings.warn(\n",
      "/srv/conda/envs/notebook/lib/python3.12/site-packages/xmip/preprocessing.py:229: UserWarning: CMIP.CSIRO.ACCESS-ESM1-5.historical.r38i1p1f1.Omon.gn.v20210525.chl: Unit correction failed with: Cannot convert variables:\n",
      "    incompatible units for variable ('lev',): cannot use 'm' as a unit\n",
      "  warnings.warn(\n",
      "/srv/conda/envs/notebook/lib/python3.12/site-packages/xmip/preprocessing.py:229: UserWarning: CMIP.CSIRO.ACCESS-ESM1-5.historical.r13i1p1f1.Omon.gn.v20200803.chl: Unit correction failed with: Cannot convert variables:\n",
      "    incompatible units for variable ('lev',): cannot use 'm' as a unit\n",
      "  warnings.warn(\n",
      "/srv/conda/envs/notebook/lib/python3.12/site-packages/xmip/preprocessing.py:229: UserWarning: ScenarioMIP.MPI-M.MPI-ESM1-2-LR.ssp245.r35i1p1f1.Omon.gn.none.sos: Unit correction failed with: Cannot parse units:\n",
      "    invalid units for variable 'sos': 0.001 (attribute) (reason: Unit expression cannot have a scaling factor.)\n",
      "  warnings.warn(\n",
      "/srv/conda/envs/notebook/lib/python3.12/site-packages/xmip/preprocessing.py:229: UserWarning: ScenarioMIP.CCCma.CanESM5.ssp245.r3i1p1f1.Omon.gn.v20190429.chl: Unit correction failed with: Cannot convert variables:\n",
      "    incompatible units for variable ('lev',): cannot use 'm' as a unit\n",
      "  warnings.warn(\n",
      "/srv/conda/envs/notebook/lib/python3.12/site-packages/xmip/preprocessing.py:229: UserWarning: ScenarioMIP.NCAR.CESM2-WACCM.ssp245.r3i1p1f1.Omon.gn.none.sos: Unit correction failed with: Cannot parse units:\n",
      "    invalid units for variable 'sos': 0.001 (attribute) (reason: Unit expression cannot have a scaling factor.)\n",
      "  warnings.warn(\n",
      "/srv/conda/envs/notebook/lib/python3.12/site-packages/xmip/preprocessing.py:229: UserWarning: CMIP.CCCma.CanESM5.historical.r6i1p1f1.Omon.gn.v20190429.chl: Unit correction failed with: Cannot convert variables:\n",
      "    incompatible units for variable ('lev',): cannot use 'm' as a unit\n",
      "  warnings.warn(\n",
      "/srv/conda/envs/notebook/lib/python3.12/site-packages/xmip/preprocessing.py:229: UserWarning: CMIP.CSIRO.ACCESS-ESM1-5.historical.r3i1p1f1.Omon.gn.v20191203.sos: Unit correction failed with: Cannot parse units:\n",
      "    invalid units for variable 'sos': 0.001 (attribute) (reason: Unit expression cannot have a scaling factor.)\n",
      "  warnings.warn(\n",
      "/srv/conda/envs/notebook/lib/python3.12/site-packages/xmip/preprocessing.py:229: UserWarning: CMIP.CCCma.CanESM5-CanOE.historical.r1i1p2f1.Omon.gn.v20190429.sos: Unit correction failed with: Cannot parse units:\n",
      "    invalid units for variable 'sos': 0.001 (attribute) (reason: Unit expression cannot have a scaling factor.)\n",
      "  warnings.warn(\n",
      "/srv/conda/envs/notebook/lib/python3.12/site-packages/xmip/preprocessing.py:229: UserWarning: CMIP.MPI-M.MPI-ESM1-2-LR.historical.r35i1p1f1.Omon.gn.none.sos: Unit correction failed with: Cannot parse units:\n",
      "    invalid units for variable 'sos': 0.001 (attribute) (reason: Unit expression cannot have a scaling factor.)\n",
      "  warnings.warn(\n",
      "/srv/conda/envs/notebook/lib/python3.12/site-packages/xmip/preprocessing.py:229: UserWarning: CMIP.CSIRO.ACCESS-ESM1-5.historical.r14i1p1f1.Omon.gn.v20200803.chl: Unit correction failed with: Cannot convert variables:\n",
      "    incompatible units for variable ('lev',): cannot use 'm' as a unit\n",
      "  warnings.warn(\n",
      "/srv/conda/envs/notebook/lib/python3.12/site-packages/xmip/preprocessing.py:229: UserWarning: CMIP.MPI-M.MPI-ESM1-2-LR.historical.r39i1p1f1.Omon.gn.none.chl: Unit correction failed with: Cannot convert variables:\n",
      "    incompatible units for variable ('lev',): cannot use 'm' as a unit\n",
      "  warnings.warn(\n",
      "/srv/conda/envs/notebook/lib/python3.12/site-packages/xmip/preprocessing.py:229: UserWarning: CMIP.MPI-M.MPI-ESM1-2-LR.historical.r7i1p1f1.Omon.gn.none.chl: Unit correction failed with: Cannot convert variables:\n",
      "    incompatible units for variable ('lev',): cannot use 'm' as a unit\n",
      "  warnings.warn(\n",
      "/srv/conda/envs/notebook/lib/python3.12/site-packages/xmip/preprocessing.py:229: UserWarning: CMIP.MPI-M.MPI-ESM1-2-LR.historical.r1i1p1f1.Omon.gn.none.sos: Unit correction failed with: Cannot parse units:\n",
      "    invalid units for variable 'sos': 0.001 (attribute) (reason: Unit expression cannot have a scaling factor.)\n",
      "  warnings.warn(\n",
      "/srv/conda/envs/notebook/lib/python3.12/site-packages/xmip/preprocessing.py:229: UserWarning: CMIP.CSIRO.ACCESS-ESM1-5.historical.r31i1p1f1.Omon.gn.v20210525.chl: Unit correction failed with: Cannot convert variables:\n",
      "    incompatible units for variable ('lev',): cannot use 'm' as a unit\n",
      "  warnings.warn(\n",
      "/srv/conda/envs/notebook/lib/python3.12/site-packages/xmip/preprocessing.py:229: UserWarning: ScenarioMIP.CSIRO.ACCESS-ESM1-5.ssp245.r35i1p1f1.Omon.gn.v20210712.sos: Unit correction failed with: Cannot parse units:\n",
      "    invalid units for variable 'sos': 0.001 (attribute) (reason: Unit expression cannot have a scaling factor.)\n",
      "  warnings.warn(\n",
      "/srv/conda/envs/notebook/lib/python3.12/site-packages/xmip/preprocessing.py:229: UserWarning: CMIP.MPI-M.MPI-ESM1-2-LR.historical.r14i1p1f1.Omon.gn.none.chl: Unit correction failed with: Cannot convert variables:\n",
      "    incompatible units for variable ('lev',): cannot use 'm' as a unit\n",
      "  warnings.warn(\n",
      "/srv/conda/envs/notebook/lib/python3.12/site-packages/xmip/preprocessing.py:229: UserWarning: CMIP.CSIRO.ACCESS-ESM1-5.historical.r39i1p1f1.Omon.gn.v20210525.chl: Unit correction failed with: Cannot convert variables:\n",
      "    incompatible units for variable ('lev',): cannot use 'm' as a unit\n",
      "  warnings.warn(\n",
      "/srv/conda/envs/notebook/lib/python3.12/site-packages/xmip/preprocessing.py:229: UserWarning: CMIP.MPI-M.MPI-ESM1-2-LR.historical.r36i1p1f1.Omon.gn.none.sos: Unit correction failed with: Cannot parse units:\n",
      "    invalid units for variable 'sos': 0.001 (attribute) (reason: Unit expression cannot have a scaling factor.)\n",
      "  warnings.warn(\n",
      "/srv/conda/envs/notebook/lib/python3.12/site-packages/xmip/preprocessing.py:229: UserWarning: ScenarioMIP.MPI-M.MPI-ESM1-2-LR.ssp245.r4i1p1f1.Omon.gn.none.chl: Unit correction failed with: Cannot convert variables:\n",
      "    incompatible units for variable ('lev',): cannot use 'm' as a unit\n",
      "  warnings.warn(\n",
      "/srv/conda/envs/notebook/lib/python3.12/site-packages/xmip/preprocessing.py:229: UserWarning: CMIP.NCAR.CESM2-WACCM.historical.r1i1p1f1.Omon.gn.none.chl: Unit correction failed with: Cannot convert variables:\n",
      "    incompatible units for variable ('lev',): cannot use 'm' as a unit\n",
      "  warnings.warn(\n",
      "/srv/conda/envs/notebook/lib/python3.12/site-packages/xmip/preprocessing.py:229: UserWarning: ScenarioMIP.CSIRO.ACCESS-ESM1-5.ssp245.r22i1p1f1.Omon.gn.v20200922.chl: Unit correction failed with: Cannot convert variables:\n",
      "    incompatible units for variable ('lev',): cannot use 'm' as a unit\n",
      "  warnings.warn(\n",
      "/srv/conda/envs/notebook/lib/python3.12/site-packages/xmip/preprocessing.py:229: UserWarning: ScenarioMIP.MPI-M.MPI-ESM1-2-LR.ssp245.r49i1p1f1.Omon.gn.none.chl: Unit correction failed with: Cannot convert variables:\n",
      "    incompatible units for variable ('lev',): cannot use 'm' as a unit\n",
      "  warnings.warn(\n",
      "/srv/conda/envs/notebook/lib/python3.12/site-packages/xmip/preprocessing.py:229: UserWarning: ScenarioMIP.MPI-M.MPI-ESM1-2-LR.ssp245.r17i1p1f1.Omon.gn.none.sos: Unit correction failed with: Cannot parse units:\n",
      "    invalid units for variable 'sos': 0.001 (attribute) (reason: Unit expression cannot have a scaling factor.)\n",
      "  warnings.warn(\n",
      "/srv/conda/envs/notebook/lib/python3.12/site-packages/xmip/preprocessing.py:229: UserWarning: ScenarioMIP.NCAR.CESM2-WACCM.ssp245.r1i1p1f1.Omon.gn.none.sos: Unit correction failed with: Cannot parse units:\n",
      "    invalid units for variable 'sos': 0.001 (attribute) (reason: Unit expression cannot have a scaling factor.)\n",
      "  warnings.warn(\n",
      "/srv/conda/envs/notebook/lib/python3.12/site-packages/xmip/preprocessing.py:229: UserWarning: CMIP.MOHC.UKESM1-0-LL.historical.r4i1p1f2.Omon.gn.none.chl: Unit correction failed with: Cannot convert variables:\n",
      "    incompatible units for variable ('lev',): cannot use 'm' as a unit\n",
      "  warnings.warn(\n",
      "/srv/conda/envs/notebook/lib/python3.12/site-packages/xmip/preprocessing.py:229: UserWarning: CMIP.NCAR.CESM2-WACCM.historical.r3i1p1f1.Omon.gr.none.sos: Unit correction failed with: Cannot parse units:\n",
      "    invalid units for variable 'sos': 0.001 (attribute) (reason: Unit expression cannot have a scaling factor.)\n",
      "  warnings.warn(\n",
      "/srv/conda/envs/notebook/lib/python3.12/site-packages/xmip/preprocessing.py:229: UserWarning: CMIP.CMCC.CMCC-ESM2.historical.r1i1p1f1.Omon.gn.none.sos: Unit correction failed with: Cannot parse units:\n",
      "    invalid units for variable 'sos': 0.001 (attribute) (reason: Unit expression cannot have a scaling factor.)\n",
      "  warnings.warn(\n",
      "/srv/conda/envs/notebook/lib/python3.12/site-packages/xmip/preprocessing.py:229: UserWarning: ScenarioMIP.MPI-M.MPI-ESM1-2-LR.ssp245.r1i1p1f1.Omon.gn.none.sos: Unit correction failed with: Cannot parse units:\n",
      "    invalid units for variable 'sos': 0.001 (attribute) (reason: Unit expression cannot have a scaling factor.)\n",
      "  warnings.warn(\n",
      "/srv/conda/envs/notebook/lib/python3.12/site-packages/xmip/preprocessing.py:229: UserWarning: CMIP.CCCma.CanESM5.historical.r2i1p2f1.Omon.gn.v20190429.chl: Unit correction failed with: Cannot convert variables:\n",
      "    incompatible units for variable ('lev',): cannot use 'm' as a unit\n",
      "  warnings.warn(\n",
      "/srv/conda/envs/notebook/lib/python3.12/site-packages/xmip/preprocessing.py:229: UserWarning: ScenarioMIP.CCCma.CanESM5-CanOE.ssp245.r3i1p2f1.Omon.gn.v20190429.sos: Unit correction failed with: Cannot parse units:\n",
      "    invalid units for variable 'sos': 0.001 (attribute) (reason: Unit expression cannot have a scaling factor.)\n",
      "  warnings.warn(\n",
      "/srv/conda/envs/notebook/lib/python3.12/site-packages/xmip/preprocessing.py:229: UserWarning: ScenarioMIP.CCCma.CanESM5-CanOE.ssp245.r1i1p2f1.Omon.gn.v20190429.sos: Unit correction failed with: Cannot parse units:\n",
      "    invalid units for variable 'sos': 0.001 (attribute) (reason: Unit expression cannot have a scaling factor.)\n",
      "  warnings.warn(\n",
      "/srv/conda/envs/notebook/lib/python3.12/site-packages/xmip/preprocessing.py:229: UserWarning: CMIP.MPI-M.MPI-ESM1-2-LR.historical.r10i1p1f1.Omon.gn.none.sos: Unit correction failed with: Cannot parse units:\n",
      "    invalid units for variable 'sos': 0.001 (attribute) (reason: Unit expression cannot have a scaling factor.)\n",
      "  warnings.warn(\n",
      "/srv/conda/envs/notebook/lib/python3.12/site-packages/xmip/preprocessing.py:229: UserWarning: ScenarioMIP.MPI-M.MPI-ESM1-2-LR.ssp245.r49i1p1f1.Omon.gn.none.sos: Unit correction failed with: Cannot parse units:\n",
      "    invalid units for variable 'sos': 0.001 (attribute) (reason: Unit expression cannot have a scaling factor.)\n",
      "  warnings.warn(\n",
      "/srv/conda/envs/notebook/lib/python3.12/site-packages/xmip/preprocessing.py:229: UserWarning: ScenarioMIP.MPI-M.MPI-ESM1-2-LR.ssp245.r6i1p1f1.Omon.gn.none.sos: Unit correction failed with: Cannot parse units:\n",
      "    invalid units for variable 'sos': 0.001 (attribute) (reason: Unit expression cannot have a scaling factor.)\n",
      "  warnings.warn(\n",
      "/srv/conda/envs/notebook/lib/python3.12/site-packages/xmip/preprocessing.py:229: UserWarning: ScenarioMIP.MPI-M.MPI-ESM1-2-LR.ssp245.r38i1p1f1.Omon.gn.none.chl: Unit correction failed with: Cannot convert variables:\n",
      "    incompatible units for variable ('lev',): cannot use 'm' as a unit\n",
      "  warnings.warn(\n",
      "/srv/conda/envs/notebook/lib/python3.12/site-packages/xmip/preprocessing.py:229: UserWarning: ScenarioMIP.NOAA-GFDL.GFDL-ESM4.ssp245.r1i1p1f1.Omon.gr.none.chl: Unit correction failed with: Cannot convert variables:\n",
      "    incompatible units for variable ('lev',): cannot use 'm' as a unit\n",
      "  warnings.warn(\n",
      "/srv/conda/envs/notebook/lib/python3.12/site-packages/xmip/preprocessing.py:229: UserWarning: CMIP.MPI-M.MPI-ESM1-2-LR.historical.r20i1p1f1.Omon.gn.none.sos: Unit correction failed with: Cannot parse units:\n",
      "    invalid units for variable 'sos': 0.001 (attribute) (reason: Unit expression cannot have a scaling factor.)\n",
      "  warnings.warn(\n",
      "/srv/conda/envs/notebook/lib/python3.12/site-packages/xmip/preprocessing.py:229: UserWarning: CMIP.CSIRO.ACCESS-ESM1-5.historical.r5i1p1f1.Omon.gn.v20200601.sos: Unit correction failed with: Cannot parse units:\n",
      "    invalid units for variable 'sos': 0.001 (attribute) (reason: Unit expression cannot have a scaling factor.)\n",
      "  warnings.warn(\n",
      "/srv/conda/envs/notebook/lib/python3.12/site-packages/xmip/preprocessing.py:229: UserWarning: ScenarioMIP.CSIRO.ACCESS-ESM1-5.ssp245.r8i1p1f1.Omon.gn.v20200810.chl: Unit correction failed with: Cannot convert variables:\n",
      "    incompatible units for variable ('lev',): cannot use 'm' as a unit\n",
      "  warnings.warn(\n",
      "/srv/conda/envs/notebook/lib/python3.12/site-packages/xmip/preprocessing.py:229: UserWarning: CMIP.MPI-M.MPI-ESM1-2-LR.historical.r39i1p1f1.Omon.gn.none.sos: Unit correction failed with: Cannot parse units:\n",
      "    invalid units for variable 'sos': 0.001 (attribute) (reason: Unit expression cannot have a scaling factor.)\n",
      "  warnings.warn(\n",
      "/srv/conda/envs/notebook/lib/python3.12/site-packages/xmip/preprocessing.py:229: UserWarning: ScenarioMIP.CCCma.CanESM5.ssp245.r10i1p1f1.Omon.gn.v20190429.chl: Unit correction failed with: Cannot convert variables:\n",
      "    incompatible units for variable ('lev',): cannot use 'm' as a unit\n",
      "  warnings.warn(\n",
      "/srv/conda/envs/notebook/lib/python3.12/site-packages/xmip/preprocessing.py:229: UserWarning: ScenarioMIP.MPI-M.MPI-ESM1-2-LR.ssp245.r37i1p1f1.Omon.gn.none.chl: Unit correction failed with: Cannot convert variables:\n",
      "    incompatible units for variable ('lev',): cannot use 'm' as a unit\n",
      "  warnings.warn(\n",
      "/srv/conda/envs/notebook/lib/python3.12/site-packages/xmip/preprocessing.py:229: UserWarning: CMIP.NCAR.CESM2.historical.r11i1p1f1.Omon.gn.none.chl: Unit correction failed with: Cannot convert variables:\n",
      "    incompatible units for variable ('lev',): cannot use 'm' as a unit\n",
      "  warnings.warn(\n",
      "/srv/conda/envs/notebook/lib/python3.12/site-packages/xmip/preprocessing.py:229: UserWarning: CMIP.MPI-M.MPI-ESM1-2-LR.historical.r15i1p1f1.Omon.gn.none.chl: Unit correction failed with: Cannot convert variables:\n",
      "    incompatible units for variable ('lev',): cannot use 'm' as a unit\n",
      "  warnings.warn(\n",
      "/srv/conda/envs/notebook/lib/python3.12/site-packages/xmip/preprocessing.py:229: UserWarning: ScenarioMIP.CSIRO.ACCESS-ESM1-5.ssp245.r4i1p1f1.Omon.gn.v20200810.chl: Unit correction failed with: Cannot convert variables:\n",
      "    incompatible units for variable ('lev',): cannot use 'm' as a unit\n",
      "  warnings.warn(\n",
      "/srv/conda/envs/notebook/lib/python3.12/site-packages/xmip/preprocessing.py:229: UserWarning: CMIP.MOHC.UKESM1-0-LL.historical.r2i1p1f2.Omon.gn.none.chl: Unit correction failed with: Cannot convert variables:\n",
      "    incompatible units for variable ('lev',): cannot use 'm' as a unit\n",
      "  warnings.warn(\n",
      "/srv/conda/envs/notebook/lib/python3.12/site-packages/xmip/preprocessing.py:229: UserWarning: CMIP.CSIRO.ACCESS-ESM1-5.historical.r26i1p1f1.Omon.gn.v20200922.chl: Unit correction failed with: Cannot convert variables:\n",
      "    incompatible units for variable ('lev',): cannot use 'm' as a unit\n",
      "  warnings.warn(\n",
      "/srv/conda/envs/notebook/lib/python3.12/site-packages/xmip/preprocessing.py:229: UserWarning: ScenarioMIP.CSIRO.ACCESS-ESM1-5.ssp245.r29i1p1f1.Omon.gn.v20200922.sos: Unit correction failed with: Cannot parse units:\n",
      "    invalid units for variable 'sos': 0.001 (attribute) (reason: Unit expression cannot have a scaling factor.)\n",
      "  warnings.warn(\n",
      "/srv/conda/envs/notebook/lib/python3.12/site-packages/xmip/preprocessing.py:229: UserWarning: ScenarioMIP.MPI-M.MPI-ESM1-2-LR.ssp245.r11i1p1f1.Omon.gn.none.sos: Unit correction failed with: Cannot parse units:\n",
      "    invalid units for variable 'sos': 0.001 (attribute) (reason: Unit expression cannot have a scaling factor.)\n",
      "  warnings.warn(\n",
      "/srv/conda/envs/notebook/lib/python3.12/site-packages/xmip/preprocessing.py:229: UserWarning: CMIP.CSIRO.ACCESS-ESM1-5.historical.r4i1p1f1.Omon.gn.v20200529.chl: Unit correction failed with: Cannot convert variables:\n",
      "    incompatible units for variable ('lev',): cannot use 'm' as a unit\n",
      "  warnings.warn(\n",
      "/srv/conda/envs/notebook/lib/python3.12/site-packages/xmip/preprocessing.py:229: UserWarning: CMIP.CCCma.CanESM5.historical.r8i1p2f1.Omon.gn.v20190429.chl: Unit correction failed with: Cannot convert variables:\n",
      "    incompatible units for variable ('lev',): cannot use 'm' as a unit\n",
      "  warnings.warn(\n",
      "/srv/conda/envs/notebook/lib/python3.12/site-packages/xmip/preprocessing.py:229: UserWarning: CMIP.MPI-M.MPI-ESM1-2-LR.historical.r13i1p1f1.Omon.gn.none.sos: Unit correction failed with: Cannot parse units:\n",
      "    invalid units for variable 'sos': 0.001 (attribute) (reason: Unit expression cannot have a scaling factor.)\n",
      "  warnings.warn(\n",
      "/srv/conda/envs/notebook/lib/python3.12/site-packages/xmip/preprocessing.py:229: UserWarning: CMIP.MPI-M.MPI-ESM1-2-LR.historical.r19i1p1f1.Omon.gn.none.chl: Unit correction failed with: Cannot convert variables:\n",
      "    incompatible units for variable ('lev',): cannot use 'm' as a unit\n",
      "  warnings.warn(\n",
      "/srv/conda/envs/notebook/lib/python3.12/site-packages/xmip/preprocessing.py:229: UserWarning: CMIP.MOHC.UKESM1-0-LL.historical.r2i1p1f2.Omon.gn.none.sos: Unit correction failed with: Cannot parse units:\n",
      "    invalid units for variable 'sos': 0.001 (attribute) (reason: Unit expression cannot have a scaling factor.)\n",
      "  warnings.warn(\n",
      "/srv/conda/envs/notebook/lib/python3.12/site-packages/xmip/preprocessing.py:229: UserWarning: ScenarioMIP.MPI-M.MPI-ESM1-2-LR.ssp245.r27i1p1f1.Omon.gn.none.chl: Unit correction failed with: Cannot convert variables:\n",
      "    incompatible units for variable ('lev',): cannot use 'm' as a unit\n",
      "  warnings.warn(\n",
      "/srv/conda/envs/notebook/lib/python3.12/site-packages/xmip/preprocessing.py:229: UserWarning: ScenarioMIP.CSIRO.ACCESS-ESM1-5.ssp245.r39i1p1f1.Omon.gn.v20210712.sos: Unit correction failed with: Cannot parse units:\n",
      "    invalid units for variable 'sos': 0.001 (attribute) (reason: Unit expression cannot have a scaling factor.)\n",
      "  warnings.warn(\n",
      "/srv/conda/envs/notebook/lib/python3.12/site-packages/xmip/preprocessing.py:229: UserWarning: CMIP.MPI-M.MPI-ESM1-2-LR.historical.r26i1p1f1.Omon.gn.none.sos: Unit correction failed with: Cannot parse units:\n",
      "    invalid units for variable 'sos': 0.001 (attribute) (reason: Unit expression cannot have a scaling factor.)\n",
      "  warnings.warn(\n",
      "/srv/conda/envs/notebook/lib/python3.12/site-packages/xmip/preprocessing.py:229: UserWarning: ScenarioMIP.NCAR.CESM2.ssp245.r11i1p1f1.Omon.gn.none.chl: Unit correction failed with: Cannot convert variables:\n",
      "    incompatible units for variable ('lev',): cannot use 'm' as a unit\n",
      "  warnings.warn(\n",
      "/srv/conda/envs/notebook/lib/python3.12/site-packages/xmip/preprocessing.py:229: UserWarning: ScenarioMIP.CSIRO.ACCESS-ESM1-5.ssp245.r27i1p1f1.Omon.gn.v20200922.chl: Unit correction failed with: Cannot convert variables:\n",
      "    incompatible units for variable ('lev',): cannot use 'm' as a unit\n",
      "  warnings.warn(\n",
      "/srv/conda/envs/notebook/lib/python3.12/site-packages/xmip/preprocessing.py:229: UserWarning: CMIP.MPI-M.MPI-ESM1-2-LR.historical.r22i1p1f1.Omon.gn.none.sos: Unit correction failed with: Cannot parse units:\n",
      "    invalid units for variable 'sos': 0.001 (attribute) (reason: Unit expression cannot have a scaling factor.)\n",
      "  warnings.warn(\n",
      "/srv/conda/envs/notebook/lib/python3.12/site-packages/xmip/preprocessing.py:229: UserWarning: ScenarioMIP.MPI-M.MPI-ESM1-2-LR.ssp245.r41i1p1f1.Omon.gn.none.chl: Unit correction failed with: Cannot convert variables:\n",
      "    incompatible units for variable ('lev',): cannot use 'm' as a unit\n",
      "  warnings.warn(\n",
      "/srv/conda/envs/notebook/lib/python3.12/site-packages/xmip/preprocessing.py:229: UserWarning: ScenarioMIP.CCCma.CanESM5.ssp245.r9i1p2f1.Omon.gn.v20190429.sos: Unit correction failed with: Cannot parse units:\n",
      "    invalid units for variable 'sos': 0.001 (attribute) (reason: Unit expression cannot have a scaling factor.)\n",
      "  warnings.warn(\n",
      "/srv/conda/envs/notebook/lib/python3.12/site-packages/xmip/preprocessing.py:229: UserWarning: ScenarioMIP.MPI-M.MPI-ESM1-2-LR.ssp245.r1i1p1f1.Omon.gn.none.chl: Unit correction failed with: Cannot convert variables:\n",
      "    incompatible units for variable ('lev',): cannot use 'm' as a unit\n",
      "  warnings.warn(\n",
      "/srv/conda/envs/notebook/lib/python3.12/site-packages/xmip/preprocessing.py:229: UserWarning: CMIP.CCCma.CanESM5.historical.r3i1p1f1.Omon.gn.v20190429.chl: Unit correction failed with: Cannot convert variables:\n",
      "    incompatible units for variable ('lev',): cannot use 'm' as a unit\n",
      "  warnings.warn(\n",
      "/srv/conda/envs/notebook/lib/python3.12/site-packages/xmip/preprocessing.py:229: UserWarning: ScenarioMIP.CCCma.CanESM5.ssp245.r5i1p2f1.Omon.gn.v20190429.sos: Unit correction failed with: Cannot parse units:\n",
      "    invalid units for variable 'sos': 0.001 (attribute) (reason: Unit expression cannot have a scaling factor.)\n",
      "  warnings.warn(\n",
      "/srv/conda/envs/notebook/lib/python3.12/site-packages/xmip/preprocessing.py:229: UserWarning: ScenarioMIP.CSIRO.ACCESS-ESM1-5.ssp245.r17i1p1f1.Omon.gn.v20200922.sos: Unit correction failed with: Cannot parse units:\n",
      "    invalid units for variable 'sos': 0.001 (attribute) (reason: Unit expression cannot have a scaling factor.)\n",
      "  warnings.warn(\n",
      "/srv/conda/envs/notebook/lib/python3.12/site-packages/xmip/preprocessing.py:229: UserWarning: CMIP.CSIRO.ACCESS-ESM1-5.historical.r30i1p1f1.Omon.gn.v20200922.chl: Unit correction failed with: Cannot convert variables:\n",
      "    incompatible units for variable ('lev',): cannot use 'm' as a unit\n",
      "  warnings.warn(\n",
      "/srv/conda/envs/notebook/lib/python3.12/site-packages/xmip/preprocessing.py:229: UserWarning: CMIP.CCCma.CanESM5.historical.r8i1p1f1.Omon.gn.v20190429.sos: Unit correction failed with: Cannot parse units:\n",
      "    invalid units for variable 'sos': 0.001 (attribute) (reason: Unit expression cannot have a scaling factor.)\n",
      "  warnings.warn(\n",
      "/srv/conda/envs/notebook/lib/python3.12/site-packages/xmip/preprocessing.py:229: UserWarning: CMIP.CSIRO.ACCESS-ESM1-5.historical.r7i1p1f1.Omon.gn.v20200529.chl: Unit correction failed with: Cannot convert variables:\n",
      "    incompatible units for variable ('lev',): cannot use 'm' as a unit\n",
      "  warnings.warn(\n",
      "/srv/conda/envs/notebook/lib/python3.12/site-packages/xmip/preprocessing.py:229: UserWarning: ScenarioMIP.CSIRO.ACCESS-ESM1-5.ssp245.r13i1p1f1.Omon.gn.v20200922.chl: Unit correction failed with: Cannot convert variables:\n",
      "    incompatible units for variable ('lev',): cannot use 'm' as a unit\n",
      "  warnings.warn(\n",
      "/srv/conda/envs/notebook/lib/python3.12/site-packages/xmip/preprocessing.py:229: UserWarning: CMIP.MPI-M.MPI-ESM1-2-LR.historical.r17i1p1f1.Omon.gn.none.chl: Unit correction failed with: Cannot convert variables:\n",
      "    incompatible units for variable ('lev',): cannot use 'm' as a unit\n",
      "  warnings.warn(\n",
      "/srv/conda/envs/notebook/lib/python3.12/site-packages/xmip/preprocessing.py:229: UserWarning: CMIP.NCAR.CESM2-WACCM.historical.r3i1p1f1.Omon.gn.none.chl: Unit correction failed with: Cannot convert variables:\n",
      "    incompatible units for variable ('lev',): cannot use 'm' as a unit\n",
      "  warnings.warn(\n",
      "/srv/conda/envs/notebook/lib/python3.12/site-packages/xmip/preprocessing.py:229: UserWarning: CMIP.CCCma.CanESM5.historical.r5i1p1f1.Omon.gn.v20190429.sos: Unit correction failed with: Cannot parse units:\n",
      "    invalid units for variable 'sos': 0.001 (attribute) (reason: Unit expression cannot have a scaling factor.)\n",
      "  warnings.warn(\n",
      "/srv/conda/envs/notebook/lib/python3.12/site-packages/xmip/preprocessing.py:229: UserWarning: CMIP.CSIRO.ACCESS-ESM1-5.historical.r37i1p1f1.Omon.gn.v20210525.chl: Unit correction failed with: Cannot convert variables:\n",
      "    incompatible units for variable ('lev',): cannot use 'm' as a unit\n",
      "  warnings.warn(\n",
      "/srv/conda/envs/notebook/lib/python3.12/site-packages/xmip/preprocessing.py:229: UserWarning: CMIP.CCCma.CanESM5-CanOE.historical.r3i1p2f1.Omon.gn.v20190429.chl: Unit correction failed with: Cannot convert variables:\n",
      "    incompatible units for variable ('lev',): cannot use 'm' as a unit\n",
      "  warnings.warn(\n",
      "/srv/conda/envs/notebook/lib/python3.12/site-packages/xmip/preprocessing.py:229: UserWarning: CMIP.MPI-M.MPI-ESM1-2-LR.historical.r33i1p1f1.Omon.gn.none.sos: Unit correction failed with: Cannot parse units:\n",
      "    invalid units for variable 'sos': 0.001 (attribute) (reason: Unit expression cannot have a scaling factor.)\n",
      "  warnings.warn(\n",
      "/srv/conda/envs/notebook/lib/python3.12/site-packages/xmip/preprocessing.py:229: UserWarning: ScenarioMIP.CSIRO.ACCESS-ESM1-5.ssp245.r38i1p1f1.Omon.gn.v20210712.sos: Unit correction failed with: Cannot parse units:\n",
      "    invalid units for variable 'sos': 0.001 (attribute) (reason: Unit expression cannot have a scaling factor.)\n",
      "  warnings.warn(\n",
      "/srv/conda/envs/notebook/lib/python3.12/site-packages/xmip/preprocessing.py:229: UserWarning: CMIP.MPI-M.MPI-ESM1-2-LR.historical.r41i1p1f1.Omon.gn.none.sos: Unit correction failed with: Cannot parse units:\n",
      "    invalid units for variable 'sos': 0.001 (attribute) (reason: Unit expression cannot have a scaling factor.)\n",
      "  warnings.warn(\n",
      "/srv/conda/envs/notebook/lib/python3.12/site-packages/xmip/preprocessing.py:229: UserWarning: ScenarioMIP.MPI-M.MPI-ESM1-2-LR.ssp245.r18i1p1f1.Omon.gn.none.sos: Unit correction failed with: Cannot parse units:\n",
      "    invalid units for variable 'sos': 0.001 (attribute) (reason: Unit expression cannot have a scaling factor.)\n",
      "  warnings.warn(\n",
      "/srv/conda/envs/notebook/lib/python3.12/site-packages/xmip/preprocessing.py:229: UserWarning: CMIP.MPI-M.MPI-ESM1-2-LR.historical.r47i1p1f1.Omon.gn.none.chl: Unit correction failed with: Cannot convert variables:\n",
      "    incompatible units for variable ('lev',): cannot use 'm' as a unit\n",
      "  warnings.warn(\n",
      "/srv/conda/envs/notebook/lib/python3.12/site-packages/xmip/preprocessing.py:229: UserWarning: ScenarioMIP.NCAR.CESM2.ssp245.r11i1p1f1.Omon.gn.none.sos: Unit correction failed with: Cannot parse units:\n",
      "    invalid units for variable 'sos': 0.001 (attribute) (reason: Unit expression cannot have a scaling factor.)\n",
      "  warnings.warn(\n",
      "/srv/conda/envs/notebook/lib/python3.12/site-packages/xmip/preprocessing.py:229: UserWarning: CMIP.MPI-M.MPI-ESM1-2-LR.historical.r3i1p1f1.Omon.gn.none.sos: Unit correction failed with: Cannot parse units:\n",
      "    invalid units for variable 'sos': 0.001 (attribute) (reason: Unit expression cannot have a scaling factor.)\n",
      "  warnings.warn(\n",
      "/srv/conda/envs/notebook/lib/python3.12/site-packages/xmip/preprocessing.py:229: UserWarning: ScenarioMIP.CSIRO.ACCESS-ESM1-5.ssp245.r12i1p1f1.Omon.gn.v20200922.chl: Unit correction failed with: Cannot convert variables:\n",
      "    incompatible units for variable ('lev',): cannot use 'm' as a unit\n",
      "  warnings.warn(\n",
      "/srv/conda/envs/notebook/lib/python3.12/site-packages/xmip/preprocessing.py:229: UserWarning: CMIP.MPI-M.MPI-ESM1-2-LR.historical.r18i1p1f1.Omon.gn.none.sos: Unit correction failed with: Cannot parse units:\n",
      "    invalid units for variable 'sos': 0.001 (attribute) (reason: Unit expression cannot have a scaling factor.)\n",
      "  warnings.warn(\n",
      "/srv/conda/envs/notebook/lib/python3.12/site-packages/xmip/preprocessing.py:229: UserWarning: CMIP.MPI-M.MPI-ESM1-2-LR.historical.r2i1p1f1.Omon.gn.none.chl: Unit correction failed with: Cannot convert variables:\n",
      "    incompatible units for variable ('lev',): cannot use 'm' as a unit\n",
      "  warnings.warn(\n",
      "/srv/conda/envs/notebook/lib/python3.12/site-packages/xmip/preprocessing.py:229: UserWarning: ScenarioMIP.CSIRO.ACCESS-ESM1-5.ssp245.r40i1p1f1.Omon.gn.v20210712.chl: Unit correction failed with: Cannot convert variables:\n",
      "    incompatible units for variable ('lev',): cannot use 'm' as a unit\n",
      "  warnings.warn(\n",
      "/srv/conda/envs/notebook/lib/python3.12/site-packages/xmip/preprocessing.py:229: UserWarning: ScenarioMIP.MOHC.UKESM1-0-LL.ssp245.r4i1p1f2.Omon.gn.none.sos: Unit correction failed with: Cannot parse units:\n",
      "    invalid units for variable 'sos': 0.001 (attribute) (reason: Unit expression cannot have a scaling factor.)\n",
      "  warnings.warn(\n",
      "/srv/conda/envs/notebook/lib/python3.12/site-packages/xmip/preprocessing.py:229: UserWarning: ScenarioMIP.MPI-M.MPI-ESM1-2-LR.ssp245.r34i1p1f1.Omon.gn.none.chl: Unit correction failed with: Cannot convert variables:\n",
      "    incompatible units for variable ('lev',): cannot use 'm' as a unit\n",
      "  warnings.warn(\n",
      "/srv/conda/envs/notebook/lib/python3.12/site-packages/xmip/preprocessing.py:229: UserWarning: CMIP.CSIRO.ACCESS-ESM1-5.historical.r17i1p1f1.Omon.gn.v20200803.sos: Unit correction failed with: Cannot parse units:\n",
      "    invalid units for variable 'sos': 0.001 (attribute) (reason: Unit expression cannot have a scaling factor.)\n",
      "  warnings.warn(\n",
      "/srv/conda/envs/notebook/lib/python3.12/site-packages/xmip/preprocessing.py:229: UserWarning: CMIP.MPI-M.MPI-ESM1-2-LR.historical.r23i1p1f1.Omon.gn.none.chl: Unit correction failed with: Cannot convert variables:\n",
      "    incompatible units for variable ('lev',): cannot use 'm' as a unit\n",
      "  warnings.warn(\n",
      "/srv/conda/envs/notebook/lib/python3.12/site-packages/xmip/preprocessing.py:229: UserWarning: CMIP.CSIRO.ACCESS-ESM1-5.historical.r33i1p1f1.Omon.gn.v20210525.chl: Unit correction failed with: Cannot convert variables:\n",
      "    incompatible units for variable ('lev',): cannot use 'm' as a unit\n",
      "  warnings.warn(\n",
      "/srv/conda/envs/notebook/lib/python3.12/site-packages/xmip/preprocessing.py:229: UserWarning: CMIP.CSIRO.ACCESS-ESM1-5.historical.r1i1p1f1.Omon.gn.v20191115.chl: Unit correction failed with: Cannot convert variables:\n",
      "    incompatible units for variable ('lev',): cannot use 'm' as a unit\n",
      "  warnings.warn(\n",
      "/srv/conda/envs/notebook/lib/python3.12/site-packages/xmip/preprocessing.py:229: UserWarning: ScenarioMIP.CSIRO.ACCESS-ESM1-5.ssp245.r37i1p1f1.Omon.gn.v20210712.chl: Unit correction failed with: Cannot convert variables:\n",
      "    incompatible units for variable ('lev',): cannot use 'm' as a unit\n",
      "  warnings.warn(\n",
      "/srv/conda/envs/notebook/lib/python3.12/site-packages/xmip/preprocessing.py:229: UserWarning: CMIP.MPI-M.MPI-ESM1-2-LR.historical.r13i1p1f1.Omon.gn.none.chl: Unit correction failed with: Cannot convert variables:\n",
      "    incompatible units for variable ('lev',): cannot use 'm' as a unit\n",
      "  warnings.warn(\n",
      "/srv/conda/envs/notebook/lib/python3.12/site-packages/xmip/preprocessing.py:229: UserWarning: ScenarioMIP.MPI-M.MPI-ESM1-2-LR.ssp245.r21i1p1f1.Omon.gn.none.sos: Unit correction failed with: Cannot parse units:\n",
      "    invalid units for variable 'sos': 0.001 (attribute) (reason: Unit expression cannot have a scaling factor.)\n",
      "  warnings.warn(\n",
      "/srv/conda/envs/notebook/lib/python3.12/site-packages/xmip/preprocessing.py:229: UserWarning: ScenarioMIP.CCCma.CanESM5.ssp245.r9i1p1f1.Omon.gn.v20190429.sos: Unit correction failed with: Cannot parse units:\n",
      "    invalid units for variable 'sos': 0.001 (attribute) (reason: Unit expression cannot have a scaling factor.)\n",
      "  warnings.warn(\n",
      "/srv/conda/envs/notebook/lib/python3.12/site-packages/xmip/preprocessing.py:229: UserWarning: CMIP.CSIRO.ACCESS-ESM1-5.historical.r35i1p1f1.Omon.gn.v20210525.chl: Unit correction failed with: Cannot convert variables:\n",
      "    incompatible units for variable ('lev',): cannot use 'm' as a unit\n",
      "  warnings.warn(\n",
      "/srv/conda/envs/notebook/lib/python3.12/site-packages/xmip/preprocessing.py:229: UserWarning: CMIP.CSIRO.ACCESS-ESM1-5.historical.r36i1p1f1.Omon.gn.v20210525.chl: Unit correction failed with: Cannot convert variables:\n",
      "    incompatible units for variable ('lev',): cannot use 'm' as a unit\n",
      "  warnings.warn(\n",
      "/srv/conda/envs/notebook/lib/python3.12/site-packages/xmip/preprocessing.py:229: UserWarning: CMIP.MPI-M.MPI-ESM1-2-LR.historical.r49i1p1f1.Omon.gn.none.chl: Unit correction failed with: Cannot convert variables:\n",
      "    incompatible units for variable ('lev',): cannot use 'm' as a unit\n",
      "  warnings.warn(\n",
      "/srv/conda/envs/notebook/lib/python3.12/site-packages/xmip/preprocessing.py:229: UserWarning: ScenarioMIP.MPI-M.MPI-ESM1-2-LR.ssp245.r11i1p1f1.Omon.gn.none.chl: Unit correction failed with: Cannot convert variables:\n",
      "    incompatible units for variable ('lev',): cannot use 'm' as a unit\n",
      "  warnings.warn(\n",
      "/srv/conda/envs/notebook/lib/python3.12/site-packages/xmip/preprocessing.py:229: UserWarning: CMIP.CCCma.CanESM5.historical.r8i1p1f1.Omon.gn.v20190429.chl: Unit correction failed with: Cannot convert variables:\n",
      "    incompatible units for variable ('lev',): cannot use 'm' as a unit\n",
      "  warnings.warn(\n",
      "/srv/conda/envs/notebook/lib/python3.12/site-packages/xmip/preprocessing.py:229: UserWarning: CMIP.CCCma.CanESM5.historical.r7i1p2f1.Omon.gn.v20190429.sos: Unit correction failed with: Cannot parse units:\n",
      "    invalid units for variable 'sos': 0.001 (attribute) (reason: Unit expression cannot have a scaling factor.)\n",
      "  warnings.warn(\n",
      "/srv/conda/envs/notebook/lib/python3.12/site-packages/xmip/preprocessing.py:229: UserWarning: CMIP.CSIRO.ACCESS-ESM1-5.historical.r40i1p1f1.Omon.gn.v20210525.chl: Unit correction failed with: Cannot convert variables:\n",
      "    incompatible units for variable ('lev',): cannot use 'm' as a unit\n",
      "  warnings.warn(\n",
      "/srv/conda/envs/notebook/lib/python3.12/site-packages/xmip/preprocessing.py:229: UserWarning: CMIP.NCAR.CESM2-WACCM.historical.r1i1p1f1.Omon.gr.none.sos: Unit correction failed with: Cannot parse units:\n",
      "    invalid units for variable 'sos': 0.001 (attribute) (reason: Unit expression cannot have a scaling factor.)\n",
      "  warnings.warn(\n",
      "/srv/conda/envs/notebook/lib/python3.12/site-packages/xmip/preprocessing.py:229: UserWarning: ScenarioMIP.CSIRO.ACCESS-ESM1-5.ssp245.r21i1p1f1.Omon.gn.v20200922.chl: Unit correction failed with: Cannot convert variables:\n",
      "    incompatible units for variable ('lev',): cannot use 'm' as a unit\n",
      "  warnings.warn(\n",
      "/srv/conda/envs/notebook/lib/python3.12/site-packages/xmip/preprocessing.py:229: UserWarning: CMIP.MPI-M.MPI-ESM1-2-LR.historical.r47i1p1f1.Omon.gn.none.sos: Unit correction failed with: Cannot parse units:\n",
      "    invalid units for variable 'sos': 0.001 (attribute) (reason: Unit expression cannot have a scaling factor.)\n",
      "  warnings.warn(\n",
      "/srv/conda/envs/notebook/lib/python3.12/site-packages/xmip/preprocessing.py:229: UserWarning: CMIP.CCCma.CanESM5.historical.r3i1p1f1.Omon.gn.v20190429.sos: Unit correction failed with: Cannot parse units:\n",
      "    invalid units for variable 'sos': 0.001 (attribute) (reason: Unit expression cannot have a scaling factor.)\n",
      "  warnings.warn(\n",
      "/srv/conda/envs/notebook/lib/python3.12/site-packages/xmip/preprocessing.py:229: UserWarning: ScenarioMIP.CSIRO.ACCESS-ESM1-5.ssp245.r33i1p1f1.Omon.gn.v20210712.sos: Unit correction failed with: Cannot parse units:\n",
      "    invalid units for variable 'sos': 0.001 (attribute) (reason: Unit expression cannot have a scaling factor.)\n",
      "  warnings.warn(\n",
      "/srv/conda/envs/notebook/lib/python3.12/site-packages/xmip/preprocessing.py:229: UserWarning: CMIP.CSIRO.ACCESS-ESM1-5.historical.r18i1p1f1.Omon.gn.v20200803.sos: Unit correction failed with: Cannot parse units:\n",
      "    invalid units for variable 'sos': 0.001 (attribute) (reason: Unit expression cannot have a scaling factor.)\n",
      "  warnings.warn(\n",
      "/srv/conda/envs/notebook/lib/python3.12/site-packages/xmip/preprocessing.py:229: UserWarning: ScenarioMIP.MPI-M.MPI-ESM1-2-LR.ssp245.r19i1p1f1.Omon.gn.none.chl: Unit correction failed with: Cannot convert variables:\n",
      "    incompatible units for variable ('lev',): cannot use 'm' as a unit\n",
      "  warnings.warn(\n",
      "/srv/conda/envs/notebook/lib/python3.12/site-packages/xmip/preprocessing.py:229: UserWarning: ScenarioMIP.MPI-M.MPI-ESM1-2-LR.ssp245.r50i1p1f1.Omon.gn.none.sos: Unit correction failed with: Cannot parse units:\n",
      "    invalid units for variable 'sos': 0.001 (attribute) (reason: Unit expression cannot have a scaling factor.)\n",
      "  warnings.warn(\n",
      "/srv/conda/envs/notebook/lib/python3.12/site-packages/xmip/preprocessing.py:229: UserWarning: CMIP.MPI-M.MPI-ESM1-2-LR.historical.r8i1p1f1.Omon.gn.none.chl: Unit correction failed with: Cannot convert variables:\n",
      "    incompatible units for variable ('lev',): cannot use 'm' as a unit\n",
      "  warnings.warn(\n",
      "/srv/conda/envs/notebook/lib/python3.12/site-packages/xmip/preprocessing.py:229: UserWarning: CMIP.MPI-M.MPI-ESM1-2-LR.historical.r1i1p1f1.Omon.gn.none.chl: Unit correction failed with: Cannot convert variables:\n",
      "    incompatible units for variable ('lev',): cannot use 'm' as a unit\n",
      "  warnings.warn(\n",
      "/srv/conda/envs/notebook/lib/python3.12/site-packages/xmip/preprocessing.py:229: UserWarning: ScenarioMIP.MPI-M.MPI-ESM1-2-LR.ssp245.r10i1p1f1.Omon.gn.none.sos: Unit correction failed with: Cannot parse units:\n",
      "    invalid units for variable 'sos': 0.001 (attribute) (reason: Unit expression cannot have a scaling factor.)\n",
      "  warnings.warn(\n",
      "/srv/conda/envs/notebook/lib/python3.12/site-packages/xmip/preprocessing.py:229: UserWarning: CMIP.MPI-M.MPI-ESM1-2-LR.historical.r5i1p1f1.Omon.gn.none.sos: Unit correction failed with: Cannot parse units:\n",
      "    invalid units for variable 'sos': 0.001 (attribute) (reason: Unit expression cannot have a scaling factor.)\n",
      "  warnings.warn(\n",
      "/srv/conda/envs/notebook/lib/python3.12/site-packages/xmip/preprocessing.py:229: UserWarning: ScenarioMIP.MPI-M.MPI-ESM1-2-LR.ssp245.r28i1p1f1.Omon.gn.none.sos: Unit correction failed with: Cannot parse units:\n",
      "    invalid units for variable 'sos': 0.001 (attribute) (reason: Unit expression cannot have a scaling factor.)\n",
      "  warnings.warn(\n",
      "/srv/conda/envs/notebook/lib/python3.12/site-packages/xmip/preprocessing.py:229: UserWarning: CMIP.CSIRO.ACCESS-ESM1-5.historical.r10i1p1f1.Omon.gn.v20200605.chl: Unit correction failed with: Cannot convert variables:\n",
      "    incompatible units for variable ('lev',): cannot use 'm' as a unit\n",
      "  warnings.warn(\n",
      "/srv/conda/envs/notebook/lib/python3.12/site-packages/xmip/preprocessing.py:229: UserWarning: CMIP.MPI-M.MPI-ESM1-2-LR.historical.r25i1p1f1.Omon.gn.none.sos: Unit correction failed with: Cannot parse units:\n",
      "    invalid units for variable 'sos': 0.001 (attribute) (reason: Unit expression cannot have a scaling factor.)\n",
      "  warnings.warn(\n",
      "/srv/conda/envs/notebook/lib/python3.12/site-packages/xmip/preprocessing.py:229: UserWarning: ScenarioMIP.MOHC.UKESM1-0-LL.ssp245.r8i1p1f2.Omon.gn.none.chl: Unit correction failed with: Cannot convert variables:\n",
      "    incompatible units for variable ('lev',): cannot use 'm' as a unit\n",
      "  warnings.warn(\n",
      "/srv/conda/envs/notebook/lib/python3.12/site-packages/xmip/preprocessing.py:229: UserWarning: CMIP.CCCma.CanESM5.historical.r4i1p1f1.Omon.gn.v20190429.sos: Unit correction failed with: Cannot parse units:\n",
      "    invalid units for variable 'sos': 0.001 (attribute) (reason: Unit expression cannot have a scaling factor.)\n",
      "  warnings.warn(\n",
      "/srv/conda/envs/notebook/lib/python3.12/site-packages/xmip/preprocessing.py:229: UserWarning: ScenarioMIP.CCCma.CanESM5.ssp245.r1i1p1f1.Omon.gn.v20190429.chl: Unit correction failed with: Cannot convert variables:\n",
      "    incompatible units for variable ('lev',): cannot use 'm' as a unit\n",
      "  warnings.warn(\n",
      "/srv/conda/envs/notebook/lib/python3.12/site-packages/xmip/preprocessing.py:229: UserWarning: ScenarioMIP.MPI-M.MPI-ESM1-2-LR.ssp245.r5i1p1f1.Omon.gn.none.sos: Unit correction failed with: Cannot parse units:\n",
      "    invalid units for variable 'sos': 0.001 (attribute) (reason: Unit expression cannot have a scaling factor.)\n",
      "  warnings.warn(\n",
      "/srv/conda/envs/notebook/lib/python3.12/site-packages/xmip/preprocessing.py:229: UserWarning: CMIP.CSIRO.ACCESS-ESM1-5.historical.r31i1p1f1.Omon.gn.v20210525.sos: Unit correction failed with: Cannot parse units:\n",
      "    invalid units for variable 'sos': 0.001 (attribute) (reason: Unit expression cannot have a scaling factor.)\n",
      "  warnings.warn(\n",
      "/srv/conda/envs/notebook/lib/python3.12/site-packages/xmip/preprocessing.py:229: UserWarning: ScenarioMIP.CSIRO.ACCESS-ESM1-5.ssp245.r11i1p1f1.Omon.gn.v20200922.sos: Unit correction failed with: Cannot parse units:\n",
      "    invalid units for variable 'sos': 0.001 (attribute) (reason: Unit expression cannot have a scaling factor.)\n",
      "  warnings.warn(\n",
      "/srv/conda/envs/notebook/lib/python3.12/site-packages/xmip/preprocessing.py:229: UserWarning: CMIP.MPI-M.MPI-ESM1-2-LR.historical.r40i1p1f1.Omon.gn.none.chl: Unit correction failed with: Cannot convert variables:\n",
      "    incompatible units for variable ('lev',): cannot use 'm' as a unit\n",
      "  warnings.warn(\n",
      "/srv/conda/envs/notebook/lib/python3.12/site-packages/xmip/preprocessing.py:229: UserWarning: CMIP.MPI-M.MPI-ESM1-2-LR.historical.r8i1p1f1.Omon.gn.none.sos: Unit correction failed with: Cannot parse units:\n",
      "    invalid units for variable 'sos': 0.001 (attribute) (reason: Unit expression cannot have a scaling factor.)\n",
      "  warnings.warn(\n",
      "/srv/conda/envs/notebook/lib/python3.12/site-packages/xmip/preprocessing.py:229: UserWarning: CMIP.CCCma.CanESM5.historical.r3i1p2f1.Omon.gn.v20190429.chl: Unit correction failed with: Cannot convert variables:\n",
      "    incompatible units for variable ('lev',): cannot use 'm' as a unit\n",
      "  warnings.warn(\n",
      "/srv/conda/envs/notebook/lib/python3.12/site-packages/xmip/preprocessing.py:229: UserWarning: ScenarioMIP.CSIRO.ACCESS-ESM1-5.ssp245.r31i1p1f1.Omon.gn.v20210712.sos: Unit correction failed with: Cannot parse units:\n",
      "    invalid units for variable 'sos': 0.001 (attribute) (reason: Unit expression cannot have a scaling factor.)\n",
      "  warnings.warn(\n",
      "/srv/conda/envs/notebook/lib/python3.12/site-packages/xmip/preprocessing.py:229: UserWarning: CMIP.CCCma.CanESM5.historical.r7i1p1f1.Omon.gn.v20190429.sos: Unit correction failed with: Cannot parse units:\n",
      "    invalid units for variable 'sos': 0.001 (attribute) (reason: Unit expression cannot have a scaling factor.)\n",
      "  warnings.warn(\n",
      "/srv/conda/envs/notebook/lib/python3.12/site-packages/xmip/preprocessing.py:229: UserWarning: CMIP.CCCma.CanESM5.historical.r6i1p2f1.Omon.gn.v20190429.sos: Unit correction failed with: Cannot parse units:\n",
      "    invalid units for variable 'sos': 0.001 (attribute) (reason: Unit expression cannot have a scaling factor.)\n",
      "  warnings.warn(\n",
      "/srv/conda/envs/notebook/lib/python3.12/site-packages/xmip/preprocessing.py:229: UserWarning: ScenarioMIP.CCCma.CanESM5.ssp245.r8i1p2f1.Omon.gn.v20190429.sos: Unit correction failed with: Cannot parse units:\n",
      "    invalid units for variable 'sos': 0.001 (attribute) (reason: Unit expression cannot have a scaling factor.)\n",
      "  warnings.warn(\n",
      "/srv/conda/envs/notebook/lib/python3.12/site-packages/xmip/preprocessing.py:229: UserWarning: ScenarioMIP.MPI-M.MPI-ESM1-2-LR.ssp245.r12i1p1f1.Omon.gn.none.chl: Unit correction failed with: Cannot convert variables:\n",
      "    incompatible units for variable ('lev',): cannot use 'm' as a unit\n",
      "  warnings.warn(\n",
      "/srv/conda/envs/notebook/lib/python3.12/site-packages/xmip/preprocessing.py:229: UserWarning: ScenarioMIP.MPI-M.MPI-ESM1-2-LR.ssp245.r47i1p1f1.Omon.gn.none.sos: Unit correction failed with: Cannot parse units:\n",
      "    invalid units for variable 'sos': 0.001 (attribute) (reason: Unit expression cannot have a scaling factor.)\n",
      "  warnings.warn(\n",
      "/srv/conda/envs/notebook/lib/python3.12/site-packages/xmip/preprocessing.py:229: UserWarning: ScenarioMIP.CCCma.CanESM5.ssp245.r1i1p1f1.Omon.gn.v20190429.sos: Unit correction failed with: Cannot parse units:\n",
      "    invalid units for variable 'sos': 0.001 (attribute) (reason: Unit expression cannot have a scaling factor.)\n",
      "  warnings.warn(\n",
      "/srv/conda/envs/notebook/lib/python3.12/site-packages/xmip/preprocessing.py:229: UserWarning: CMIP.MPI-M.MPI-ESM1-2-LR.historical.r31i1p1f1.Omon.gn.none.chl: Unit correction failed with: Cannot convert variables:\n",
      "    incompatible units for variable ('lev',): cannot use 'm' as a unit\n",
      "  warnings.warn(\n",
      "/srv/conda/envs/notebook/lib/python3.12/site-packages/xmip/preprocessing.py:229: UserWarning: CMIP.CCCma.CanESM5.historical.r9i1p1f1.Omon.gn.v20190429.sos: Unit correction failed with: Cannot parse units:\n",
      "    invalid units for variable 'sos': 0.001 (attribute) (reason: Unit expression cannot have a scaling factor.)\n",
      "  warnings.warn(\n",
      "/srv/conda/envs/notebook/lib/python3.12/site-packages/xmip/preprocessing.py:229: UserWarning: ScenarioMIP.CCCma.CanESM5.ssp245.r4i1p2f1.Omon.gn.v20190429.sos: Unit correction failed with: Cannot parse units:\n",
      "    invalid units for variable 'sos': 0.001 (attribute) (reason: Unit expression cannot have a scaling factor.)\n",
      "  warnings.warn(\n",
      "/srv/conda/envs/notebook/lib/python3.12/site-packages/xmip/preprocessing.py:229: UserWarning: ScenarioMIP.MPI-M.MPI-ESM1-2-LR.ssp245.r13i1p1f1.Omon.gn.none.sos: Unit correction failed with: Cannot parse units:\n",
      "    invalid units for variable 'sos': 0.001 (attribute) (reason: Unit expression cannot have a scaling factor.)\n",
      "  warnings.warn(\n",
      "/srv/conda/envs/notebook/lib/python3.12/site-packages/xmip/preprocessing.py:229: UserWarning: ScenarioMIP.MOHC.UKESM1-0-LL.ssp245.r1i1p1f2.Omon.gn.none.sos: Unit correction failed with: Cannot parse units:\n",
      "    invalid units for variable 'sos': 0.001 (attribute) (reason: Unit expression cannot have a scaling factor.)\n",
      "  warnings.warn(\n",
      "/srv/conda/envs/notebook/lib/python3.12/site-packages/xmip/preprocessing.py:229: UserWarning: CMIP.CCCma.CanESM5-CanOE.historical.r1i1p2f1.Omon.gn.v20190429.chl: Unit correction failed with: Cannot convert variables:\n",
      "    incompatible units for variable ('lev',): cannot use 'm' as a unit\n",
      "  warnings.warn(\n",
      "/srv/conda/envs/notebook/lib/python3.12/site-packages/xmip/preprocessing.py:229: UserWarning: CMIP.MPI-M.MPI-ESM1-2-LR.historical.r21i1p1f1.Omon.gn.none.chl: Unit correction failed with: Cannot convert variables:\n",
      "    incompatible units for variable ('lev',): cannot use 'm' as a unit\n",
      "  warnings.warn(\n",
      "/srv/conda/envs/notebook/lib/python3.12/site-packages/xmip/preprocessing.py:229: UserWarning: ScenarioMIP.CSIRO.ACCESS-ESM1-5.ssp245.r17i1p1f1.Omon.gn.v20200922.chl: Unit correction failed with: Cannot convert variables:\n",
      "    incompatible units for variable ('lev',): cannot use 'm' as a unit\n",
      "  warnings.warn(\n",
      "/srv/conda/envs/notebook/lib/python3.12/site-packages/xmip/preprocessing.py:229: UserWarning: CMIP.MPI-M.MPI-ESM1-2-LR.historical.r45i1p1f1.Omon.gn.none.sos: Unit correction failed with: Cannot parse units:\n",
      "    invalid units for variable 'sos': 0.001 (attribute) (reason: Unit expression cannot have a scaling factor.)\n",
      "  warnings.warn(\n",
      "/srv/conda/envs/notebook/lib/python3.12/site-packages/xmip/preprocessing.py:229: UserWarning: CMIP.CCCma.CanESM5.historical.r8i1p2f1.Omon.gn.v20190429.sos: Unit correction failed with: Cannot parse units:\n",
      "    invalid units for variable 'sos': 0.001 (attribute) (reason: Unit expression cannot have a scaling factor.)\n",
      "  warnings.warn(\n",
      "/srv/conda/envs/notebook/lib/python3.12/site-packages/xmip/preprocessing.py:229: UserWarning: ScenarioMIP.MPI-M.MPI-ESM1-2-LR.ssp245.r3i1p1f1.Omon.gn.none.sos: Unit correction failed with: Cannot parse units:\n",
      "    invalid units for variable 'sos': 0.001 (attribute) (reason: Unit expression cannot have a scaling factor.)\n",
      "  warnings.warn(\n",
      "/srv/conda/envs/notebook/lib/python3.12/site-packages/xmip/preprocessing.py:229: UserWarning: CMIP.MOHC.UKESM1-0-LL.historical.r3i1p1f2.Omon.gn.none.sos: Unit correction failed with: Cannot parse units:\n",
      "    invalid units for variable 'sos': 0.001 (attribute) (reason: Unit expression cannot have a scaling factor.)\n",
      "  warnings.warn(\n",
      "/srv/conda/envs/notebook/lib/python3.12/site-packages/xmip/preprocessing.py:229: UserWarning: ScenarioMIP.CSIRO.ACCESS-ESM1-5.ssp245.r13i1p1f1.Omon.gn.v20200922.sos: Unit correction failed with: Cannot parse units:\n",
      "    invalid units for variable 'sos': 0.001 (attribute) (reason: Unit expression cannot have a scaling factor.)\n",
      "  warnings.warn(\n",
      "/srv/conda/envs/notebook/lib/python3.12/site-packages/xmip/preprocessing.py:229: UserWarning: CMIP.NCAR.CESM2.historical.r10i1p1f1.Omon.gn.none.sos: Unit correction failed with: Cannot parse units:\n",
      "    invalid units for variable 'sos': 0.001 (attribute) (reason: Unit expression cannot have a scaling factor.)\n",
      "  warnings.warn(\n",
      "/srv/conda/envs/notebook/lib/python3.12/site-packages/xmip/preprocessing.py:229: UserWarning: ScenarioMIP.CCCma.CanESM5.ssp245.r6i1p1f1.Omon.gn.v20190429.chl: Unit correction failed with: Cannot convert variables:\n",
      "    incompatible units for variable ('lev',): cannot use 'm' as a unit\n",
      "  warnings.warn(\n",
      "/srv/conda/envs/notebook/lib/python3.12/site-packages/xmip/preprocessing.py:229: UserWarning: ScenarioMIP.MPI-M.MPI-ESM1-2-LR.ssp245.r40i1p1f1.Omon.gn.none.chl: Unit correction failed with: Cannot convert variables:\n",
      "    incompatible units for variable ('lev',): cannot use 'm' as a unit\n",
      "  warnings.warn(\n",
      "/srv/conda/envs/notebook/lib/python3.12/site-packages/xmip/preprocessing.py:229: UserWarning: CMIP.MPI-M.MPI-ESM1-2-LR.historical.r38i1p1f1.Omon.gn.none.chl: Unit correction failed with: Cannot convert variables:\n",
      "    incompatible units for variable ('lev',): cannot use 'm' as a unit\n",
      "  warnings.warn(\n",
      "/srv/conda/envs/notebook/lib/python3.12/site-packages/xmip/preprocessing.py:229: UserWarning: ScenarioMIP.CCCma.CanESM5.ssp245.r10i1p1f1.Omon.gn.v20190429.sos: Unit correction failed with: Cannot parse units:\n",
      "    invalid units for variable 'sos': 0.001 (attribute) (reason: Unit expression cannot have a scaling factor.)\n",
      "  warnings.warn(\n",
      "/srv/conda/envs/notebook/lib/python3.12/site-packages/xmip/preprocessing.py:229: UserWarning: ScenarioMIP.MPI-M.MPI-ESM1-2-LR.ssp245.r24i1p1f1.Omon.gn.none.sos: Unit correction failed with: Cannot parse units:\n",
      "    invalid units for variable 'sos': 0.001 (attribute) (reason: Unit expression cannot have a scaling factor.)\n",
      "  warnings.warn(\n",
      "/srv/conda/envs/notebook/lib/python3.12/site-packages/xmip/preprocessing.py:229: UserWarning: ScenarioMIP.MPI-M.MPI-ESM1-2-LR.ssp245.r7i1p1f1.Omon.gn.none.chl: Unit correction failed with: Cannot convert variables:\n",
      "    incompatible units for variable ('lev',): cannot use 'm' as a unit\n",
      "  warnings.warn(\n",
      "/srv/conda/envs/notebook/lib/python3.12/site-packages/xmip/preprocessing.py:229: UserWarning: ScenarioMIP.MPI-M.MPI-ESM1-2-LR.ssp245.r33i1p1f1.Omon.gn.none.sos: Unit correction failed with: Cannot parse units:\n",
      "    invalid units for variable 'sos': 0.001 (attribute) (reason: Unit expression cannot have a scaling factor.)\n",
      "  warnings.warn(\n",
      "/srv/conda/envs/notebook/lib/python3.12/site-packages/xmip/preprocessing.py:229: UserWarning: ScenarioMIP.MPI-M.MPI-ESM1-2-LR.ssp245.r30i1p1f1.Omon.gn.none.chl: Unit correction failed with: Cannot convert variables:\n",
      "    incompatible units for variable ('lev',): cannot use 'm' as a unit\n",
      "  warnings.warn(\n",
      "/srv/conda/envs/notebook/lib/python3.12/site-packages/xmip/preprocessing.py:229: UserWarning: ScenarioMIP.MPI-M.MPI-ESM1-2-LR.ssp245.r39i1p1f1.Omon.gn.none.sos: Unit correction failed with: Cannot parse units:\n",
      "    invalid units for variable 'sos': 0.001 (attribute) (reason: Unit expression cannot have a scaling factor.)\n",
      "  warnings.warn(\n",
      "/srv/conda/envs/notebook/lib/python3.12/site-packages/xmip/preprocessing.py:229: UserWarning: ScenarioMIP.MPI-M.MPI-ESM1-2-LR.ssp245.r47i1p1f1.Omon.gn.none.chl: Unit correction failed with: Cannot convert variables:\n",
      "    incompatible units for variable ('lev',): cannot use 'm' as a unit\n",
      "  warnings.warn(\n",
      "/srv/conda/envs/notebook/lib/python3.12/site-packages/xmip/preprocessing.py:229: UserWarning: ScenarioMIP.CSIRO.ACCESS-ESM1-5.ssp245.r36i1p1f1.Omon.gn.v20210712.sos: Unit correction failed with: Cannot parse units:\n",
      "    invalid units for variable 'sos': 0.001 (attribute) (reason: Unit expression cannot have a scaling factor.)\n",
      "  warnings.warn(\n",
      "/srv/conda/envs/notebook/lib/python3.12/site-packages/xmip/preprocessing.py:229: UserWarning: CMIP.MPI-M.MPI-ESM1-2-LR.historical.r31i1p1f1.Omon.gn.none.sos: Unit correction failed with: Cannot parse units:\n",
      "    invalid units for variable 'sos': 0.001 (attribute) (reason: Unit expression cannot have a scaling factor.)\n",
      "  warnings.warn(\n",
      "/srv/conda/envs/notebook/lib/python3.12/site-packages/xmip/preprocessing.py:229: UserWarning: ScenarioMIP.MPI-M.MPI-ESM1-2-LR.ssp245.r34i1p1f1.Omon.gn.none.sos: Unit correction failed with: Cannot parse units:\n",
      "    invalid units for variable 'sos': 0.001 (attribute) (reason: Unit expression cannot have a scaling factor.)\n",
      "  warnings.warn(\n",
      "/srv/conda/envs/notebook/lib/python3.12/site-packages/xmip/preprocessing.py:229: UserWarning: ScenarioMIP.MPI-M.MPI-ESM1-2-LR.ssp245.r40i1p1f1.Omon.gn.none.sos: Unit correction failed with: Cannot parse units:\n",
      "    invalid units for variable 'sos': 0.001 (attribute) (reason: Unit expression cannot have a scaling factor.)\n",
      "  warnings.warn(\n",
      "/srv/conda/envs/notebook/lib/python3.12/site-packages/xmip/preprocessing.py:229: UserWarning: ScenarioMIP.CSIRO.ACCESS-ESM1-5.ssp245.r23i1p1f1.Omon.gn.v20200922.sos: Unit correction failed with: Cannot parse units:\n",
      "    invalid units for variable 'sos': 0.001 (attribute) (reason: Unit expression cannot have a scaling factor.)\n",
      "  warnings.warn(\n",
      "/srv/conda/envs/notebook/lib/python3.12/site-packages/xmip/preprocessing.py:229: UserWarning: ScenarioMIP.CSIRO.ACCESS-ESM1-5.ssp245.r3i1p1f1.Omon.gn.v20191203.sos: Unit correction failed with: Cannot parse units:\n",
      "    invalid units for variable 'sos': 0.001 (attribute) (reason: Unit expression cannot have a scaling factor.)\n",
      "  warnings.warn(\n",
      "/srv/conda/envs/notebook/lib/python3.12/site-packages/xmip/preprocessing.py:229: UserWarning: ScenarioMIP.CSIRO.ACCESS-ESM1-5.ssp245.r2i1p1f1.Omon.gn.v20191129.chl: Unit correction failed with: Cannot convert variables:\n",
      "    incompatible units for variable ('lev',): cannot use 'm' as a unit\n",
      "  warnings.warn(\n",
      "/srv/conda/envs/notebook/lib/python3.12/site-packages/xmip/preprocessing.py:229: UserWarning: CMIP.MPI-M.MPI-ESM1-2-LR.historical.r20i1p1f1.Omon.gn.none.chl: Unit correction failed with: Cannot convert variables:\n",
      "    incompatible units for variable ('lev',): cannot use 'm' as a unit\n",
      "  warnings.warn(\n",
      "/srv/conda/envs/notebook/lib/python3.12/site-packages/xmip/preprocessing.py:229: UserWarning: ScenarioMIP.CSIRO.ACCESS-ESM1-5.ssp245.r36i1p1f1.Omon.gn.v20210712.chl: Unit correction failed with: Cannot convert variables:\n",
      "    incompatible units for variable ('lev',): cannot use 'm' as a unit\n",
      "  warnings.warn(\n",
      "/srv/conda/envs/notebook/lib/python3.12/site-packages/xmip/preprocessing.py:229: UserWarning: CMIP.MPI-M.MPI-ESM1-2-LR.historical.r12i1p1f1.Omon.gn.none.chl: Unit correction failed with: Cannot convert variables:\n",
      "    incompatible units for variable ('lev',): cannot use 'm' as a unit\n",
      "  warnings.warn(\n",
      "/srv/conda/envs/notebook/lib/python3.12/site-packages/xmip/preprocessing.py:229: UserWarning: CMIP.CCCma.CanESM5.historical.r9i1p2f1.Omon.gn.v20190429.chl: Unit correction failed with: Cannot convert variables:\n",
      "    incompatible units for variable ('lev',): cannot use 'm' as a unit\n",
      "  warnings.warn(\n",
      "/srv/conda/envs/notebook/lib/python3.12/site-packages/xmip/preprocessing.py:229: UserWarning: ScenarioMIP.CSIRO.ACCESS-ESM1-5.ssp245.r37i1p1f1.Omon.gn.v20210712.sos: Unit correction failed with: Cannot parse units:\n",
      "    invalid units for variable 'sos': 0.001 (attribute) (reason: Unit expression cannot have a scaling factor.)\n",
      "  warnings.warn(\n",
      "/srv/conda/envs/notebook/lib/python3.12/site-packages/xmip/preprocessing.py:229: UserWarning: ScenarioMIP.MOHC.UKESM1-0-LL.ssp245.r2i1p1f2.Omon.gn.none.sos: Unit correction failed with: Cannot parse units:\n",
      "    invalid units for variable 'sos': 0.001 (attribute) (reason: Unit expression cannot have a scaling factor.)\n",
      "  warnings.warn(\n",
      "/srv/conda/envs/notebook/lib/python3.12/site-packages/xmip/preprocessing.py:229: UserWarning: CMIP.MPI-M.MPI-ESM1-2-LR.historical.r9i1p1f1.Omon.gn.none.chl: Unit correction failed with: Cannot convert variables:\n",
      "    incompatible units for variable ('lev',): cannot use 'm' as a unit\n",
      "  warnings.warn(\n",
      "/srv/conda/envs/notebook/lib/python3.12/site-packages/xmip/preprocessing.py:229: UserWarning: CMIP.CSIRO.ACCESS-ESM1-5.historical.r18i1p1f1.Omon.gn.v20200803.chl: Unit correction failed with: Cannot convert variables:\n",
      "    incompatible units for variable ('lev',): cannot use 'm' as a unit\n",
      "  warnings.warn(\n",
      "/srv/conda/envs/notebook/lib/python3.12/site-packages/xmip/preprocessing.py:229: UserWarning: CMIP.MPI-M.MPI-ESM1-2-LR.historical.r16i1p1f1.Omon.gn.none.chl: Unit correction failed with: Cannot convert variables:\n",
      "    incompatible units for variable ('lev',): cannot use 'm' as a unit\n",
      "  warnings.warn(\n",
      "/srv/conda/envs/notebook/lib/python3.12/site-packages/xmip/preprocessing.py:229: UserWarning: ScenarioMIP.CCCma.CanESM5.ssp245.r7i1p1f1.Omon.gn.v20190429.sos: Unit correction failed with: Cannot parse units:\n",
      "    invalid units for variable 'sos': 0.001 (attribute) (reason: Unit expression cannot have a scaling factor.)\n",
      "  warnings.warn(\n",
      "/srv/conda/envs/notebook/lib/python3.12/site-packages/xmip/preprocessing.py:229: UserWarning: CMIP.CSIRO.ACCESS-ESM1-5.historical.r8i1p1f1.Omon.gn.v20200529.sos: Unit correction failed with: Cannot parse units:\n",
      "    invalid units for variable 'sos': 0.001 (attribute) (reason: Unit expression cannot have a scaling factor.)\n",
      "  warnings.warn(\n",
      "/srv/conda/envs/notebook/lib/python3.12/site-packages/xmip/preprocessing.py:229: UserWarning: ScenarioMIP.MPI-M.MPI-ESM1-2-LR.ssp245.r35i1p1f1.Omon.gn.none.chl: Unit correction failed with: Cannot convert variables:\n",
      "    incompatible units for variable ('lev',): cannot use 'm' as a unit\n",
      "  warnings.warn(\n",
      "/srv/conda/envs/notebook/lib/python3.12/site-packages/xmip/preprocessing.py:229: UserWarning: CMIP.MPI-M.MPI-ESM1-2-LR.historical.r27i1p1f1.Omon.gn.none.sos: Unit correction failed with: Cannot parse units:\n",
      "    invalid units for variable 'sos': 0.001 (attribute) (reason: Unit expression cannot have a scaling factor.)\n",
      "  warnings.warn(\n",
      "/srv/conda/envs/notebook/lib/python3.12/site-packages/xmip/preprocessing.py:229: UserWarning: ScenarioMIP.NCAR.CESM2-WACCM.ssp245.r2i1p1f1.Omon.gr.none.sos: Unit correction failed with: Cannot parse units:\n",
      "    invalid units for variable 'sos': 0.001 (attribute) (reason: Unit expression cannot have a scaling factor.)\n",
      "  warnings.warn(\n",
      "/srv/conda/envs/notebook/lib/python3.12/site-packages/xmip/preprocessing.py:229: UserWarning: ScenarioMIP.MOHC.UKESM1-0-LL.ssp245.r2i1p1f2.Omon.gn.none.chl: Unit correction failed with: Cannot convert variables:\n",
      "    incompatible units for variable ('lev',): cannot use 'm' as a unit\n",
      "  warnings.warn(\n",
      "/srv/conda/envs/notebook/lib/python3.12/site-packages/xmip/preprocessing.py:229: UserWarning: ScenarioMIP.CSIRO.ACCESS-ESM1-5.ssp245.r26i1p1f1.Omon.gn.v20200922.chl: Unit correction failed with: Cannot convert variables:\n",
      "    incompatible units for variable ('lev',): cannot use 'm' as a unit\n",
      "  warnings.warn(\n",
      "/srv/conda/envs/notebook/lib/python3.12/site-packages/xmip/preprocessing.py:229: UserWarning: ScenarioMIP.MPI-M.MPI-ESM1-2-LR.ssp245.r4i1p1f1.Omon.gn.none.sos: Unit correction failed with: Cannot parse units:\n",
      "    invalid units for variable 'sos': 0.001 (attribute) (reason: Unit expression cannot have a scaling factor.)\n",
      "  warnings.warn(\n",
      "/srv/conda/envs/notebook/lib/python3.12/site-packages/xmip/preprocessing.py:229: UserWarning: CMIP.CMCC.CMCC-ESM2.historical.r1i1p1f1.Omon.gn.none.chl: Unit correction failed with: Cannot convert variables:\n",
      "    incompatible units for variable ('lev',): cannot use 'm' as a unit\n",
      "  warnings.warn(\n",
      "/srv/conda/envs/notebook/lib/python3.12/site-packages/xmip/preprocessing.py:229: UserWarning: CMIP.CSIRO.ACCESS-ESM1-5.historical.r22i1p1f1.Omon.gn.v20200922.sos: Unit correction failed with: Cannot parse units:\n",
      "    invalid units for variable 'sos': 0.001 (attribute) (reason: Unit expression cannot have a scaling factor.)\n",
      "  warnings.warn(\n",
      "/srv/conda/envs/notebook/lib/python3.12/site-packages/xmip/preprocessing.py:229: UserWarning: CMIP.CSIRO.ACCESS-ESM1-5.historical.r36i1p1f1.Omon.gn.v20210525.sos: Unit correction failed with: Cannot parse units:\n",
      "    invalid units for variable 'sos': 0.001 (attribute) (reason: Unit expression cannot have a scaling factor.)\n",
      "  warnings.warn(\n",
      "/srv/conda/envs/notebook/lib/python3.12/site-packages/xmip/preprocessing.py:229: UserWarning: ScenarioMIP.CCCma.CanESM5.ssp245.r8i1p1f1.Omon.gn.v20190429.chl: Unit correction failed with: Cannot convert variables:\n",
      "    incompatible units for variable ('lev',): cannot use 'm' as a unit\n",
      "  warnings.warn(\n",
      "/srv/conda/envs/notebook/lib/python3.12/site-packages/xmip/preprocessing.py:229: UserWarning: CMIP.CSIRO.ACCESS-ESM1-5.historical.r23i1p1f1.Omon.gn.v20200922.chl: Unit correction failed with: Cannot convert variables:\n",
      "    incompatible units for variable ('lev',): cannot use 'm' as a unit\n",
      "  warnings.warn(\n",
      "/srv/conda/envs/notebook/lib/python3.12/site-packages/xmip/preprocessing.py:229: UserWarning: CMIP.MPI-M.MPI-ESM1-2-LR.historical.r3i1p1f1.Omon.gn.none.chl: Unit correction failed with: Cannot convert variables:\n",
      "    incompatible units for variable ('lev',): cannot use 'm' as a unit\n",
      "  warnings.warn(\n",
      "/srv/conda/envs/notebook/lib/python3.12/site-packages/xmip/preprocessing.py:229: UserWarning: ScenarioMIP.MPI-M.MPI-ESM1-2-LR.ssp245.r25i1p1f1.Omon.gn.none.sos: Unit correction failed with: Cannot parse units:\n",
      "    invalid units for variable 'sos': 0.001 (attribute) (reason: Unit expression cannot have a scaling factor.)\n",
      "  warnings.warn(\n",
      "/srv/conda/envs/notebook/lib/python3.12/site-packages/xmip/preprocessing.py:229: UserWarning: ScenarioMIP.CCCma.CanESM5.ssp245.r9i1p2f1.Omon.gn.v20190429.chl: Unit correction failed with: Cannot convert variables:\n",
      "    incompatible units for variable ('lev',): cannot use 'm' as a unit\n",
      "  warnings.warn(\n",
      "/srv/conda/envs/notebook/lib/python3.12/site-packages/xmip/preprocessing.py:229: UserWarning: ScenarioMIP.CCCma.CanESM5.ssp245.r7i1p2f1.Omon.gn.v20190429.chl: Unit correction failed with: Cannot convert variables:\n",
      "    incompatible units for variable ('lev',): cannot use 'm' as a unit\n",
      "  warnings.warn(\n",
      "/srv/conda/envs/notebook/lib/python3.12/site-packages/xmip/preprocessing.py:229: UserWarning: CMIP.CSIRO.ACCESS-ESM1-5.historical.r40i1p1f1.Omon.gn.v20210525.sos: Unit correction failed with: Cannot parse units:\n",
      "    invalid units for variable 'sos': 0.001 (attribute) (reason: Unit expression cannot have a scaling factor.)\n",
      "  warnings.warn(\n",
      "/srv/conda/envs/notebook/lib/python3.12/site-packages/xmip/preprocessing.py:229: UserWarning: CMIP.MPI-M.MPI-ESM1-2-LR.historical.r5i1p1f1.Omon.gn.none.chl: Unit correction failed with: Cannot convert variables:\n",
      "    incompatible units for variable ('lev',): cannot use 'm' as a unit\n",
      "  warnings.warn(\n",
      "/srv/conda/envs/notebook/lib/python3.12/site-packages/xmip/preprocessing.py:229: UserWarning: CMIP.MPI-M.MPI-ESM1-2-LR.historical.r48i1p1f1.Omon.gn.none.chl: Unit correction failed with: Cannot convert variables:\n",
      "    incompatible units for variable ('lev',): cannot use 'm' as a unit\n",
      "  warnings.warn(\n",
      "/srv/conda/envs/notebook/lib/python3.12/site-packages/xmip/preprocessing.py:229: UserWarning: CMIP.CCCma.CanESM5.historical.r10i1p1f1.Omon.gn.v20190429.chl: Unit correction failed with: Cannot convert variables:\n",
      "    incompatible units for variable ('lev',): cannot use 'm' as a unit\n",
      "  warnings.warn(\n",
      "/srv/conda/envs/notebook/lib/python3.12/site-packages/xmip/preprocessing.py:229: UserWarning: CMIP.CSIRO.ACCESS-ESM1-5.historical.r3i1p1f1.Omon.gn.v20191203.chl: Unit correction failed with: Cannot convert variables:\n",
      "    incompatible units for variable ('lev',): cannot use 'm' as a unit\n",
      "  warnings.warn(\n"
     ]
    }
   ],
   "source": [
    "##turn data into dataset dictionary##\n",
    "ddict = cat.to_dataset_dict(            # loads the selected datasets into a Python dictionary of xarray.Dataset objects\n",
    "    preprocess=combined_preprocessing,  # combined_preprocessing is a Python function (or sometimes a small chain of functions) that is applied to each dataset\n",
    "                                        # Its role is to clean, standardize, or subset the data before you start working with it (Renaiming variables to standard names, handling missing values...)\n",
    "    xarray_open_kwargs=dict(use_cftime=True),\n",
    "    aggregate=False                  # not to combine datasets from multiple files automatically.\n",
    ")\n",
    "\n",
    "## some arrays have an \"area\" variable. This is to drop that variable:\n",
    "for item in ddict:\n",
    "    if 'area' in ddict[item]:\n",
    "        ddict[item] = ddict[item].drop_vars('area')\n",
    "\n",
    "## ignore the warnings!\n"
   ]
  },
  {
   "cell_type": "markdown",
   "id": "d9dcac79-c9d7-4bc7-b90a-424cbc9505bd",
   "metadata": {},
   "source": [
    "<span style=\"color:lightblue; font-size:30px; font-weight:bold;\">Filltering out members with buggy times</span>"
   ]
  },
  {
   "cell_type": "markdown",
   "id": "e46c4556-e142-4a88-a963-382c700c6294",
   "metadata": {},
   "source": [
    "What the following hack does is take the \"time\" data from a historical member, and a scenario member, that have no bugs.\n",
    "\n",
    "We then apply the non-buggy historical \"time\" data to all the historical members, and apply the non-buggy scenario \"time\" data to all the scenario members. \n",
    "\n",
    "If a member does not satisfy the necessary requirements (historical \"time\" data starts in 1850 and ends in 2014, for example), it is removed from our list of members."
   ]
  },
  {
   "cell_type": "code",
   "execution_count": 68,
   "id": "d1e9a233-aa8f-495a-9c4c-410b25a5221d",
   "metadata": {},
   "outputs": [
    {
     "name": "stdout",
     "output_type": "stream",
     "text": [
      "<xarray.DataArray 'time' (time: 1980)> Size: 16kB\n",
      "array([cftime.DatetimeNoLeap(1850, 1, 16, 12, 0, 0, 0, has_year_zero=True),\n",
      "       cftime.DatetimeNoLeap(1850, 2, 15, 0, 0, 0, 0, has_year_zero=True),\n",
      "       cftime.DatetimeNoLeap(1850, 3, 16, 12, 0, 0, 0, has_year_zero=True),\n",
      "       ...,\n",
      "       cftime.DatetimeNoLeap(2014, 10, 16, 12, 0, 0, 0, has_year_zero=True),\n",
      "       cftime.DatetimeNoLeap(2014, 11, 16, 0, 0, 0, 0, has_year_zero=True),\n",
      "       cftime.DatetimeNoLeap(2014, 12, 16, 12, 0, 0, 0, has_year_zero=True)],\n",
      "      dtype=object)\n",
      "Coordinates:\n",
      "  * time     (time) object 16kB 1850-01-16 12:00:00 ... 2014-12-16 12:00:00\n",
      "Attributes:\n",
      "    axis:           T\n",
      "    bounds:         time_bnds\n",
      "    long_name:      time\n",
      "    standard_name:  time\n",
      "<xarray.DataArray 'time' (time: 1032)> Size: 8kB\n",
      "array([cftime.DatetimeNoLeap(2015, 1, 16, 12, 0, 0, 0, has_year_zero=True),\n",
      "       cftime.DatetimeNoLeap(2015, 2, 15, 0, 0, 0, 0, has_year_zero=True),\n",
      "       cftime.DatetimeNoLeap(2015, 3, 16, 12, 0, 0, 0, has_year_zero=True),\n",
      "       ...,\n",
      "       cftime.DatetimeNoLeap(2100, 10, 16, 12, 0, 0, 0, has_year_zero=True),\n",
      "       cftime.DatetimeNoLeap(2100, 11, 16, 0, 0, 0, 0, has_year_zero=True),\n",
      "       cftime.DatetimeNoLeap(2100, 12, 16, 12, 0, 0, 0, has_year_zero=True)],\n",
      "      dtype=object)\n",
      "Coordinates:\n",
      "  * time     (time) object 8kB 2015-01-16 12:00:00 ... 2100-12-16 12:00:00\n",
      "Attributes:\n",
      "    axis:           T\n",
      "    bounds:         time_bnds\n",
      "    long_name:      time\n",
      "    standard_name:  time\n"
     ]
    }
   ],
   "source": [
    "## temporary time hack due to time bugs ###\n",
    "\n",
    "hist_time = ddict['CMIP.CCCma.CanESM5.historical.r6i1p1f1.Omon.sos.gn.none.r6i1p1f1.v20190429.gs://cmip6/CMIP6/CMIP/CCCma/CanESM5/historical/r6i1p1f1/Omon/sos/gn/v20190429/'].time\n",
    "fut_time = ddict['ScenarioMIP.CCCma.CanESM5.ssp245.r3i1p1f1.Omon.sos.gn.none.r3i1p1f1.v20190429.gs://cmip6/CMIP6/ScenarioMIP/CCCma/CanESM5/ssp245/r3i1p1f1/Omon/sos/gn/v20190429/'].time\n",
    "dict_list = list(ddict.values())\n",
    "for item in dict_list:\n",
    "    if item.time.data[0].year == 1850 and item.time.data[-1].year == 2014:\n",
    "        item['time'] = hist_time\n",
    "    elif item.time.data[0].year == 2015 and item.time.data[-1].year == 2100:\n",
    "        item['time'] = fut_time\n",
    "\n",
    "print(hist_time)\n",
    "print(fut_time)"
   ]
  },
  {
   "cell_type": "code",
   "execution_count": 87,
   "id": "c95f3323-e61d-404b-862c-f974215a791d",
   "metadata": {},
   "outputs": [
    {
     "name": "stdout",
     "output_type": "stream",
     "text": [
      "Dataset key: MPI-ESM1-2-LR.gn.Omon.r2i1p1f1.chl\n",
      "<xarray.Dataset> Size: 27GB\n",
      "Dimensions:            (variant_label: 1, sub_experiment_id: 1, time: 3012,\n",
      "                        lev: 40, y: 220, x: 256, vertex: 4, bnds: 2)\n",
      "Coordinates: (12/14)\n",
      "    lat                (y, x) float64 451kB dask.array<chunksize=(220, 256), meta=np.ndarray>\n",
      "  * lev                (lev) float64 320B 6.0 17.0 27.0 ... 5.17e+03 5.72e+03\n",
      "    lon                (y, x) float64 451kB dask.array<chunksize=(220, 256), meta=np.ndarray>\n",
      "  * time               (time) object 24kB 1850-01-16 12:00:00 ... 2100-12-16 ...\n",
      "    lat_verticies      (y, x, vertex) float64 2MB dask.array<chunksize=(220, 256, 4), meta=np.ndarray>\n",
      "    lon_verticies      (y, x, vertex) float64 2MB dask.array<chunksize=(220, 256, 4), meta=np.ndarray>\n",
      "    ...                 ...\n",
      "  * y                  (y) int64 2kB 0 1 2 3 4 5 6 ... 214 215 216 217 218 219\n",
      "  * x                  (x) int64 2kB 0 1 2 3 4 5 6 ... 250 251 252 253 254 255\n",
      "    lon_bounds         (bnds, y, x) float64 901kB dask.array<chunksize=(1, 220, 256), meta=np.ndarray>\n",
      "    lat_bounds         (bnds, y, x) float64 901kB dask.array<chunksize=(1, 220, 256), meta=np.ndarray>\n",
      "  * variant_label      (variant_label) object 8B 'r2i1p1f1'\n",
      "  * sub_experiment_id  (sub_experiment_id) object 8B 'none'\n",
      "Dimensions without coordinates: vertex, bnds\n",
      "Data variables:\n",
      "    chl                (variant_label, sub_experiment_id, time, lev, y, x) float32 27GB dask.array<chunksize=(1, 1, 14, 40, 220, 256), meta=np.ndarray>\n",
      "Attributes: (12/49)\n",
      "    Conventions:                         CF-1.7 CMIP-6.2\n",
      "    branch_method:                       standard\n",
      "    cmor_version:                        3.5.0\n",
      "    contact:                             cmip6-mpi-esm@dkrz.de\n",
      "    data_specs_version:                  01.00.30\n",
      "    external_variables:                  areacello volcello\n",
      "    ...                                  ...\n",
      "    intake_esm_attrs:grid_label:         gn\n",
      "    intake_esm_attrs:sub_experiment_id:  none\n",
      "    intake_esm_attrs:variant_label:      r2i1p1f1\n",
      "    intake_esm_attrs:version:            v20190710\n",
      "    intake_esm_attrs:_data_format_:      zarr\n",
      "    original_key:                        CMIP.MPI-M.MPI-ESM1-2-LR.historical....\n",
      "Dims: FrozenMappingWarningOnValuesAccess({'variant_label': 1, 'sub_experiment_id': 1, 'time': 3012, 'lev': 40, 'y': 220, 'x': 256, 'vertex': 4, 'bnds': 2})\n",
      "Data variables: ['chl']\n",
      "Coordinates: ['lat', 'lev', 'lon', 'time', 'lat_verticies', 'lon_verticies', 'lev_bounds', 'time_bounds', 'y', 'x', 'lon_bounds', 'lat_bounds', 'variant_label', 'sub_experiment_id']\n"
     ]
    }
   ],
   "source": [
    "## functions like xarray.concat: chains together historical + scenario for each member, so time span is 1850-2100\n",
    "ds = concat_experiments(ddict)\n",
    "\n",
    "len(ds) # The length of ds is number of members (121) times number of variables (5: chl, SST, SSS, MLD, pCO2)\n",
    "\n",
    "# Look at the first key and see how it is structured\n",
    "first_key = list(ds.keys())[0]\n",
    "first_dataset = ds[first_key]\n",
    "print(f\"Dataset key: {first_key}\")\n",
    "print(first_dataset)        \n",
    "print(\"Dims:\", first_dataset.dims)\n",
    "print(\"Data variables:\", list(first_dataset.data_vars))\n",
    "print(\"Coordinates:\", list(first_dataset.coords))\n",
    "\n",
    "# the first key summarizes the information for the MPI-ESM1-2-LR ESM, member r2i1p1f1, for chl-a\n",
    "# also depth profiles (lev)\n",
    "# Coordinates: ['lat', 'lev', 'lon', 'time', 'lat_verticies', 'lon_verticies', 'lev_bounds', 'time_bounds', 'y', 'x', 'lon_bounds', 'lat_bounds', 'variant_label', 'sub_experiment_id']"
   ]
  },
  {
   "cell_type": "code",
   "execution_count": 89,
   "id": "00f6339c-e222-4ceb-875a-5a940affff10",
   "metadata": {
    "scrolled": true
   },
   "outputs": [
    {
     "name": "stdout",
     "output_type": "stream",
     "text": [
      "Dataset key: MPI-ESM1-2-LR.gn.Omon.r2i1p1f1\n",
      "<xarray.Dataset> Size: 30GB\n",
      "Dimensions:            (variant_label: 1, sub_experiment_id: 1, time: 3012,\n",
      "                        lev: 40, y: 220, x: 256, vertex: 4, bnds: 2)\n",
      "Coordinates: (12/14)\n",
      "    lat                (y, x) float64 451kB dask.array<chunksize=(220, 256), meta=np.ndarray>\n",
      "  * lev                (lev) float64 320B 6.0 17.0 27.0 ... 5.17e+03 5.72e+03\n",
      "    lon                (y, x) float64 451kB dask.array<chunksize=(220, 256), meta=np.ndarray>\n",
      "  * time               (time) object 24kB 1850-01-16 12:00:00 ... 2100-12-16 ...\n",
      "    lat_verticies      (y, x, vertex) float64 2MB dask.array<chunksize=(220, 256, 4), meta=np.ndarray>\n",
      "    lon_verticies      (y, x, vertex) float64 2MB dask.array<chunksize=(220, 256, 4), meta=np.ndarray>\n",
      "    ...                 ...\n",
      "  * y                  (y) int64 2kB 0 1 2 3 4 5 6 ... 214 215 216 217 218 219\n",
      "  * x                  (x) int64 2kB 0 1 2 3 4 5 6 ... 250 251 252 253 254 255\n",
      "    lon_bounds         (bnds, y, x) float64 901kB dask.array<chunksize=(1, 220, 256), meta=np.ndarray>\n",
      "    lat_bounds         (bnds, y, x) float64 901kB dask.array<chunksize=(1, 220, 256), meta=np.ndarray>\n",
      "  * variant_label      (variant_label) object 8B 'r2i1p1f1'\n",
      "  * sub_experiment_id  (sub_experiment_id) object 8B 'none'\n",
      "Dimensions without coordinates: vertex, bnds\n",
      "Data variables:\n",
      "    chl                (variant_label, sub_experiment_id, time, lev, y, x) float32 27GB dask.array<chunksize=(1, 1, 14, 40, 220, 256), meta=np.ndarray>\n",
      "    sos                (variant_label, sub_experiment_id, time, y, x) float32 679MB dask.array<chunksize=(1, 1, 455, 220, 256), meta=np.ndarray>\n",
      "    tos                (variant_label, sub_experiment_id, time, y, x) float32 679MB dask.array<chunksize=(1, 1, 398, 220, 256), meta=np.ndarray>\n",
      "    spco2              (variant_label, sub_experiment_id, time, y, x) float32 679MB dask.array<chunksize=(1, 1, 402, 220, 256), meta=np.ndarray>\n",
      "    mlotst             (variant_label, sub_experiment_id, time, y, x) float32 679MB dask.array<chunksize=(1, 1, 396, 220, 256), meta=np.ndarray>\n",
      "Attributes: (12/49)\n",
      "    Conventions:                         CF-1.7 CMIP-6.2\n",
      "    branch_method:                       standard\n",
      "    cmor_version:                        3.5.0\n",
      "    contact:                             cmip6-mpi-esm@dkrz.de\n",
      "    data_specs_version:                  01.00.30\n",
      "    forcing_index:                       1\n",
      "    ...                                  ...\n",
      "    pangeo_forge_build_git_hash:         https://github.com/leap-stc/cmip6-le...\n",
      "    pangeo_forge_build_timestamp:        2024-05-15T19:19:14.059595+00:00\n",
      "    pangeo_forge_gh_actions_url:         https://github.com/leap-stc/cmip6-le...\n",
      "    creation_date:                       2019-11-06T17:41:03Z\n",
      "    history:                             2019-11-06T17:41:03Z ; CMOR rewrote ...\n",
      "    tracking_id:                         hdl:21.14100/d15c1b9b-5318-42f1-b0d9...\n",
      "Dims: FrozenMappingWarningOnValuesAccess({'variant_label': 1, 'sub_experiment_id': 1, 'time': 3012, 'lev': 40, 'y': 220, 'x': 256, 'vertex': 4, 'bnds': 2})\n",
      "Data variables: ['chl', 'sos', 'tos', 'spco2', 'mlotst']\n",
      "Coordinates: ['lat', 'lev', 'lon', 'time', 'lat_verticies', 'lon_verticies', 'lev_bounds', 'time_bounds', 'y', 'x', 'lon_bounds', 'lat_bounds', 'variant_label', 'sub_experiment_id']\n"
     ]
    }
   ],
   "source": [
    "## functions like xarray.merge: combines separate variables into one dataset per member\n",
    "\n",
    "ds = merge_variables(ds) \n",
    "\n",
    "# lots of warnings right now, but should be fine! the warnings mean the bad members are getting removed\n",
    "# TODO: I think we can fix this bug by doing a time slice for when we want on each dataset BEFORE merging\n",
    "\n",
    "# Show the structure\n",
    "first_key = list(ds.keys())[0]\n",
    "first_dataset = ds[first_key]\n",
    "print(f\"Dataset key: {first_key}\")\n",
    "print(first_dataset)                \n",
    "print(\"Dims:\", first_dataset.dims)  \n",
    "print(\"Data variables:\", list(first_dataset.data_vars))  # should be: SST, SSS, MLD, chl-a and pCO2\n",
    "print(\"Coordinates:\", list(first_dataset.coords))      "
   ]
  },
  {
   "cell_type": "markdown",
   "id": "64569f30-6501-45c4-9237-67b1569b9cc7",
   "metadata": {},
   "source": [
    "<span style=\"color:lightblue; font-size:30px; font-weight:bold;\">Setting up target grid</span>"
   ]
  },
  {
   "cell_type": "code",
   "execution_count": 91,
   "id": "16578a5e-10d1-4ce2-89c6-41c24af847e2",
   "metadata": {},
   "outputs": [
    {
     "name": "stdout",
     "output_type": "stream",
     "text": [
      "<xarray.Dataset> Size: 8kB\n",
      "Dimensions:    (time: 503, latitude: 180, longitude: 360)\n",
      "Coordinates:\n",
      "  * time       (time) datetime64[ns] 4kB 1982-02-15 1982-03-15 ... 2023-12-15\n",
      "  * latitude   (latitude) float64 1kB -89.5 -88.5 -87.5 -86.5 ... 87.5 88.5 89.5\n",
      "  * longitude  (longitude) float64 3kB -179.5 -178.5 -177.5 ... 178.5 179.5\n",
      "Data variables:\n",
      "    *empty*\n"
     ]
    }
   ],
   "source": [
    "## create desired resolution and time frame \n",
    "# This is set up for -180 thru 180 degrees for longitude, -90 thru 90 degrees for latitude \n",
    "# ^ As opposed to 0 thru 360 for longitude, for example\n",
    "\n",
    "ylat = xr.DataArray(data=[x+.5 for x in range(-90, 90, 1)], dims=['ylat'], coords=dict( ylat=(['ylat'],[x+.5 for x in range(-90, 90, 1)]) ),)\n",
    "xlon = xr.DataArray(data=[x+.5 for x in range(-180,180,1)], dims=['xlon'], coords=dict( xlon=(['xlon'],[x+.5 for x in range(-180,180,1)]) ),)\n",
    "# alternatively: xlon = xr.DataArray(data=[x+.5 for x in range(0,360,1)], dims=['xlon'], coords=dict( xlon=(['xlon'],[x+.5 for x in range(0,360,1)]) ),)\n",
    "\n",
    "## desired start and end 'year-month' for testbed \n",
    "processed_start_yearmonth = '1982-02'\n",
    "processed_end_yearmonth = '2023-12'\n",
    "\n",
    "## desired start and end year for testbed\n",
    "# init_year = 1982\n",
    "# fin_year = 2023\n",
    "\n",
    "## time should be monthly on the middle of the month ('freq = \"MS\") refers to \"month start\" frequency, and we add 14 days to get to mid-month\n",
    "# note that the time doesnt affect regridding but we do use this time to overwrite the monthly dates so its consistent\n",
    "ttime = pd.date_range(start=str(processed_start_yearmonth), end=str(processed_end_yearmonth),freq='MS') + np.timedelta64(14, 'D') \n",
    "\n",
    "## set up our desired grid. It must be named this way for old XESFM versions\n",
    "target_grid = xr.Dataset({'time':(['time'],ttime.values), 'latitude':(['latitude'],ylat.values),'longitude':(['longitude'],xlon.values)}) \n",
    "\n",
    "#print(ylat)\n",
    "#print(xlon)\n",
    "#print(ttime)\n",
    "print(target_grid) # 3D with time x lat x lon"
   ]
  },
  {
   "cell_type": "markdown",
   "id": "e6b5010f-c94a-4666-af4f-f8bf7573cd1a",
   "metadata": {},
   "source": [
    "<span style=\"color:lightblue; font-size:30px; font-weight:bold;\">Functions for regridding data</span>"
   ]
  },
  {
   "cell_type": "code",
   "execution_count": 92,
   "id": "be3d2870-c2ce-46c7-bd90-b3708f7f1dce",
   "metadata": {
    "tags": []
   },
   "outputs": [],
   "source": [
    "def replace_calendar(ds:xr.Dataset) -> xr.Dataset:\n",
    "    \"\"\"\n",
    "    Sets new time data for xarray dataset, according to target grid defined above.\n",
    "    The purpose is to ensure the time coordinate has a consistent calendar.\n",
    "    \n",
    "    Args:\n",
    "        ds (xr.Dataset): Initial dataset with times to be fixed.\n",
    "    Returns: \n",
    "        ds (xr.Dataset): Dataset with fixed times.\n",
    "    \"\"\"\n",
    "    year = ds.time.data[0].year\n",
    "    month = ds.time.data[0].month\n",
    "    start_date = f'{year}-{month:0>2}-01'\n",
    "    new_monthly_time = xr.cftime_range(start_date, periods=len(ds.time), freq='1MS')\n",
    "    ds = ds.assign_coords(time=new_monthly_time)\n",
    "    return ds\n",
    "\n",
    "#TODO:  create a regridder dict per source_id (faster)\n",
    "\n",
    "# target_grid = xe.util.grid_global(1,1) # this is old, from julius\n",
    "def regrid(target_grid, ds:xr.Dataset) -> xr.Dataset:\n",
    "    \"\"\"\n",
    "    Regrids dataset to match times/lats/lons we want.\n",
    "\n",
    "    Args:\n",
    "        target_grid (xr.Dataset): Ideal dataset example in terms of format of times/lat/lon.\n",
    "        ds (xr.Dataset): Dataset to regrid to match format of target_grid.\n",
    "    Returns:\n",
    "        ds_regridded (xr.Dataset): Dataset changed to match target_grid format.\n",
    "    \"\"\"\n",
    "    #FIXME: This should not be done for every dataset\n",
    "    regridder = xe.Regridder(ds, target_grid,         # regridding ds to the target_grid\n",
    "                             'bilinear',              # interpolation method, other options include conservative\n",
    "                             ignore_degenerate=True,  # skips any degenerate grid cells (You skip broken cells instead of erroring)\n",
    "                             periodic=True)           # treats the longitude as circular (good for global datasets)\n",
    "    #TODO: Check if this should be conservative?\n",
    "    ds_regridded = regridder(ds, keep_attrs=True)     # preserves metadata/attributes from the original dataset.\n",
    "    \n",
    "    return ds_regridded\n",
    "\n",
    "def full_testbed_processing(target_grid, init_year_month, fin_year_month, timespan, ds:xr.Dataset) -> xr.Dataset:\n",
    "    \"\"\"\n",
    "\n",
    "    Args:\n",
    "        target_grid (xr.Dataset): Ideal dataset example in terms of format of times/lat/lon.\n",
    "        init_year_month (str): Initial year/month included in dataset.\n",
    "        fin_year_month (str): Final year/month included in dataset.\n",
    "        timespan (int): Number of months in dataset (time length of dataset).\n",
    "        ds (xr.Dataset): Dataset to regrid to match format of target_grid.\n",
    "\n",
    "    Returns:\n",
    "        ds_new_cal (xr.Dataset): Dataset gridded to match target_grid format, with changed calendar and removed extraneous variables.\n",
    "    \"\"\"\n",
    "    ds = ds.squeeze(drop=True)\n",
    "    # If the dataset has depth levels (lev), keep only the surface (level 0) and drop the lev dimension.\n",
    "    if 'lev' in ds.dims: \n",
    "        ds = ds.isel(lev=0).drop_vars(('lev'))\n",
    "    # Select the correct time window\n",
    "    ds = ds.sel(time=slice(init_year_month,fin_year_month))\n",
    "    # testing\n",
    "    assert len(ds.time) == timespan # Makes sure the dataset really has the expected number of time steps.\n",
    "    assert ds.time.data[0].year == int(init_year_month[0:4]) # Makes sure the first year matches what you asked for\n",
    "     \n",
    "    # Processing\n",
    "    ds_regridded = regrid(target_grid, ds) # function that regrids the original grid to the target grid\n",
    "    ds_new_cal = replace_calendar(ds_regridded) # function to fix the calendar\n",
    "\n",
    "    return ds_new_cal"
   ]
  },
  {
   "cell_type": "markdown",
   "id": "8378ddc1-076b-4fb1-8fcb-315066f912fe",
   "metadata": {},
   "source": [
    "<span style=\"color:lightblue; font-size:30px; font-weight:bold;\">Regridding all members and saving them</span>"
   ]
  },
  {
   "cell_type": "code",
   "execution_count": null,
   "id": "5a933728-40c5-4239-b475-c9c8dc882138",
   "metadata": {
    "scrolled": true,
    "tags": []
   },
   "outputs": [
    {
     "name": "stdout",
     "output_type": "stream",
     "text": [
      "Processing member no.0,MPI-ESM1-2-LR.gn.Omon.r2i1p1f1\n"
     ]
    },
    {
     "name": "stderr",
     "output_type": "stream",
     "text": [
      "/tmp/ipykernel_3480/3573049386.py:14: DeprecationWarning: cftime_range() is deprecated, please use xarray.date_range(..., use_cftime=True) instead.\n",
      "  new_monthly_time = xr.cftime_range(start_date, periods=len(ds.time), freq='1MS')\n"
     ]
    },
    {
     "name": "stdout",
     "output_type": "stream",
     "text": [
      "fixing spco2 units\n",
      "Writing to save_path = 'gs://leap-persistent/mauriekeppens/Ensemble_Testbed_Analysis/00_regridded_members/MPI-ESM1-2-LR/member_r2i1p1f1/MPI-ESM1-2-LR.r2i1p1f1.Omon.zarr'\n",
      "[                                        ] | 0% Completed | 287.35 us"
     ]
    },
    {
     "name": "stderr",
     "output_type": "stream",
     "text": [
      "/srv/conda/envs/notebook/lib/python3.12/site-packages/zarr/api/asynchronous.py:227: UserWarning: Consolidated metadata is currently not part in the Zarr format 3 specification. It may not be supported by other zarr implementations and may change in the future.\n",
      "  warnings.warn(\n"
     ]
    },
    {
     "name": "stdout",
     "output_type": "stream",
     "text": [
      "[########################################] | 100% Completed | 17.68 s\n",
      "Processing member no.1,UKESM1-0-LL.gn.Omon.r8i1p1f2\n"
     ]
    },
    {
     "name": "stderr",
     "output_type": "stream",
     "text": [
      "/tmp/ipykernel_3480/3573049386.py:14: DeprecationWarning: cftime_range() is deprecated, please use xarray.date_range(..., use_cftime=True) instead.\n",
      "  new_monthly_time = xr.cftime_range(start_date, periods=len(ds.time), freq='1MS')\n"
     ]
    },
    {
     "name": "stdout",
     "output_type": "stream",
     "text": [
      "fixing spco2 units\n",
      "Writing to save_path = 'gs://leap-persistent/mauriekeppens/Ensemble_Testbed_Analysis/00_regridded_members/UKESM1-0-LL/member_r8i1p1f2/UKESM1-0-LL.r8i1p1f2.Omon.zarr'\n",
      "[                                        ] | 0% Completed | 281.10 us"
     ]
    },
    {
     "name": "stderr",
     "output_type": "stream",
     "text": [
      "/srv/conda/envs/notebook/lib/python3.12/site-packages/zarr/api/asynchronous.py:227: UserWarning: Consolidated metadata is currently not part in the Zarr format 3 specification. It may not be supported by other zarr implementations and may change in the future.\n",
      "  warnings.warn(\n"
     ]
    },
    {
     "name": "stdout",
     "output_type": "stream",
     "text": [
      "[########################################] | 100% Completed | 38.57 s\n",
      "Processing member no.2,MPI-ESM1-2-LR.gn.Omon.r15i1p1f1\n"
     ]
    },
    {
     "name": "stderr",
     "output_type": "stream",
     "text": [
      "/tmp/ipykernel_3480/3573049386.py:14: DeprecationWarning: cftime_range() is deprecated, please use xarray.date_range(..., use_cftime=True) instead.\n",
      "  new_monthly_time = xr.cftime_range(start_date, periods=len(ds.time), freq='1MS')\n"
     ]
    },
    {
     "name": "stdout",
     "output_type": "stream",
     "text": [
      "fixing spco2 units\n",
      "Writing to save_path = 'gs://leap-persistent/mauriekeppens/Ensemble_Testbed_Analysis/00_regridded_members/MPI-ESM1-2-LR/member_r15i1p1f1/MPI-ESM1-2-LR.r15i1p1f1.Omon.zarr'\n",
      "[                                        ] | 0% Completed | 236.43 us"
     ]
    },
    {
     "name": "stderr",
     "output_type": "stream",
     "text": [
      "/srv/conda/envs/notebook/lib/python3.12/site-packages/zarr/api/asynchronous.py:227: UserWarning: Consolidated metadata is currently not part in the Zarr format 3 specification. It may not be supported by other zarr implementations and may change in the future.\n",
      "  warnings.warn(\n"
     ]
    },
    {
     "name": "stdout",
     "output_type": "stream",
     "text": [
      "[########################################] | 100% Completed | 17.40 s\n",
      "Processing member no.3,CESM2.gn.Omon.r4i1p1f1\n"
     ]
    },
    {
     "name": "stderr",
     "output_type": "stream",
     "text": [
      "/tmp/ipykernel_3480/3573049386.py:14: DeprecationWarning: cftime_range() is deprecated, please use xarray.date_range(..., use_cftime=True) instead.\n",
      "  new_monthly_time = xr.cftime_range(start_date, periods=len(ds.time), freq='1MS')\n"
     ]
    },
    {
     "name": "stdout",
     "output_type": "stream",
     "text": [
      "fixing spco2 units\n",
      "Writing to save_path = 'gs://leap-persistent/mauriekeppens/Ensemble_Testbed_Analysis/00_regridded_members/CESM2/member_r4i1p1f1/CESM2.r4i1p1f1.Omon.zarr'\n",
      "[                                        ] | 0% Completed | 282.82 us"
     ]
    },
    {
     "name": "stderr",
     "output_type": "stream",
     "text": [
      "/srv/conda/envs/notebook/lib/python3.12/site-packages/zarr/api/asynchronous.py:227: UserWarning: Consolidated metadata is currently not part in the Zarr format 3 specification. It may not be supported by other zarr implementations and may change in the future.\n",
      "  warnings.warn(\n"
     ]
    },
    {
     "name": "stdout",
     "output_type": "stream",
     "text": [
      "[########################################] | 100% Completed | 18.65 s\n",
      "Processing member no.4,MPI-ESM1-2-LR.gn.Omon.r19i1p1f1\n"
     ]
    },
    {
     "name": "stderr",
     "output_type": "stream",
     "text": [
      "/tmp/ipykernel_3480/3573049386.py:14: DeprecationWarning: cftime_range() is deprecated, please use xarray.date_range(..., use_cftime=True) instead.\n",
      "  new_monthly_time = xr.cftime_range(start_date, periods=len(ds.time), freq='1MS')\n"
     ]
    },
    {
     "name": "stdout",
     "output_type": "stream",
     "text": [
      "fixing spco2 units\n",
      "Writing to save_path = 'gs://leap-persistent/mauriekeppens/Ensemble_Testbed_Analysis/00_regridded_members/MPI-ESM1-2-LR/member_r19i1p1f1/MPI-ESM1-2-LR.r19i1p1f1.Omon.zarr'\n",
      "[                                        ] | 0% Completed | 201.92 us"
     ]
    },
    {
     "name": "stderr",
     "output_type": "stream",
     "text": [
      "/srv/conda/envs/notebook/lib/python3.12/site-packages/zarr/api/asynchronous.py:227: UserWarning: Consolidated metadata is currently not part in the Zarr format 3 specification. It may not be supported by other zarr implementations and may change in the future.\n",
      "  warnings.warn(\n"
     ]
    },
    {
     "name": "stdout",
     "output_type": "stream",
     "text": [
      "[########################################] | 100% Completed | 16.90 s\n",
      "Processing member no.5,ACCESS-ESM1-5.gn.Omon.r31i1p1f1\n"
     ]
    },
    {
     "name": "stderr",
     "output_type": "stream",
     "text": [
      "/tmp/ipykernel_3480/3573049386.py:14: DeprecationWarning: cftime_range() is deprecated, please use xarray.date_range(..., use_cftime=True) instead.\n",
      "  new_monthly_time = xr.cftime_range(start_date, periods=len(ds.time), freq='1MS')\n"
     ]
    },
    {
     "name": "stdout",
     "output_type": "stream",
     "text": [
      "fixing spco2 units\n",
      "Writing to save_path = 'gs://leap-persistent/mauriekeppens/Ensemble_Testbed_Analysis/00_regridded_members/ACCESS-ESM1-5/member_r31i1p1f1/ACCESS-ESM1-5.r31i1p1f1.Omon.zarr'\n",
      "[                                        ] | 0% Completed | 212.20 us"
     ]
    },
    {
     "name": "stderr",
     "output_type": "stream",
     "text": [
      "/srv/conda/envs/notebook/lib/python3.12/site-packages/zarr/api/asynchronous.py:227: UserWarning: Consolidated metadata is currently not part in the Zarr format 3 specification. It may not be supported by other zarr implementations and may change in the future.\n",
      "  warnings.warn(\n"
     ]
    },
    {
     "name": "stdout",
     "output_type": "stream",
     "text": [
      "[########################################] | 100% Completed | 31.89 s\n",
      "Processing member no.6,MPI-ESM1-2-LR.gn.Omon.r30i1p1f1\n"
     ]
    },
    {
     "name": "stderr",
     "output_type": "stream",
     "text": [
      "/tmp/ipykernel_3480/3573049386.py:14: DeprecationWarning: cftime_range() is deprecated, please use xarray.date_range(..., use_cftime=True) instead.\n",
      "  new_monthly_time = xr.cftime_range(start_date, periods=len(ds.time), freq='1MS')\n"
     ]
    },
    {
     "name": "stdout",
     "output_type": "stream",
     "text": [
      "fixing spco2 units\n",
      "Writing to save_path = 'gs://leap-persistent/mauriekeppens/Ensemble_Testbed_Analysis/00_regridded_members/MPI-ESM1-2-LR/member_r30i1p1f1/MPI-ESM1-2-LR.r30i1p1f1.Omon.zarr'\n",
      "[                                        ] | 0% Completed | 316.38 us"
     ]
    },
    {
     "name": "stderr",
     "output_type": "stream",
     "text": [
      "/srv/conda/envs/notebook/lib/python3.12/site-packages/zarr/api/asynchronous.py:227: UserWarning: Consolidated metadata is currently not part in the Zarr format 3 specification. It may not be supported by other zarr implementations and may change in the future.\n",
      "  warnings.warn(\n"
     ]
    },
    {
     "name": "stdout",
     "output_type": "stream",
     "text": [
      "[########################################] | 100% Completed | 16.73 s\n",
      "Processing member no.7,ACCESS-ESM1-5.gn.Omon.r38i1p1f1\n"
     ]
    },
    {
     "name": "stderr",
     "output_type": "stream",
     "text": [
      "/tmp/ipykernel_3480/3573049386.py:14: DeprecationWarning: cftime_range() is deprecated, please use xarray.date_range(..., use_cftime=True) instead.\n",
      "  new_monthly_time = xr.cftime_range(start_date, periods=len(ds.time), freq='1MS')\n"
     ]
    },
    {
     "name": "stdout",
     "output_type": "stream",
     "text": [
      "fixing spco2 units\n",
      "Writing to save_path = 'gs://leap-persistent/mauriekeppens/Ensemble_Testbed_Analysis/00_regridded_members/ACCESS-ESM1-5/member_r38i1p1f1/ACCESS-ESM1-5.r38i1p1f1.Omon.zarr'\n",
      "[                                        ] | 0% Completed | 307.37 us"
     ]
    },
    {
     "name": "stderr",
     "output_type": "stream",
     "text": [
      "/srv/conda/envs/notebook/lib/python3.12/site-packages/zarr/api/asynchronous.py:227: UserWarning: Consolidated metadata is currently not part in the Zarr format 3 specification. It may not be supported by other zarr implementations and may change in the future.\n",
      "  warnings.warn(\n"
     ]
    },
    {
     "name": "stdout",
     "output_type": "stream",
     "text": [
      "[########################################] | 100% Completed | 31.12 s\n",
      "Processing member no.8,MPI-ESM1-2-LR.gn.Omon.r3i1p1f1\n"
     ]
    },
    {
     "name": "stderr",
     "output_type": "stream",
     "text": [
      "/tmp/ipykernel_3480/3573049386.py:14: DeprecationWarning: cftime_range() is deprecated, please use xarray.date_range(..., use_cftime=True) instead.\n",
      "  new_monthly_time = xr.cftime_range(start_date, periods=len(ds.time), freq='1MS')\n"
     ]
    },
    {
     "name": "stdout",
     "output_type": "stream",
     "text": [
      "fixing spco2 units\n",
      "Writing to save_path = 'gs://leap-persistent/mauriekeppens/Ensemble_Testbed_Analysis/00_regridded_members/MPI-ESM1-2-LR/member_r3i1p1f1/MPI-ESM1-2-LR.r3i1p1f1.Omon.zarr'\n",
      "[                                        ] | 0% Completed | 303.22 us"
     ]
    },
    {
     "name": "stderr",
     "output_type": "stream",
     "text": [
      "/srv/conda/envs/notebook/lib/python3.12/site-packages/zarr/api/asynchronous.py:227: UserWarning: Consolidated metadata is currently not part in the Zarr format 3 specification. It may not be supported by other zarr implementations and may change in the future.\n",
      "  warnings.warn(\n"
     ]
    },
    {
     "name": "stdout",
     "output_type": "stream",
     "text": [
      "[########################################] | 100% Completed | 17.48 s\n",
      "Processing member no.9,MPI-ESM1-2-LR.gn.Omon.r16i1p1f1\n"
     ]
    },
    {
     "name": "stderr",
     "output_type": "stream",
     "text": [
      "/tmp/ipykernel_3480/3573049386.py:14: DeprecationWarning: cftime_range() is deprecated, please use xarray.date_range(..., use_cftime=True) instead.\n",
      "  new_monthly_time = xr.cftime_range(start_date, periods=len(ds.time), freq='1MS')\n"
     ]
    },
    {
     "name": "stdout",
     "output_type": "stream",
     "text": [
      "fixing spco2 units\n",
      "Writing to save_path = 'gs://leap-persistent/mauriekeppens/Ensemble_Testbed_Analysis/00_regridded_members/MPI-ESM1-2-LR/member_r16i1p1f1/MPI-ESM1-2-LR.r16i1p1f1.Omon.zarr'\n",
      "[                                        ] | 0% Completed | 307.25 us"
     ]
    },
    {
     "name": "stderr",
     "output_type": "stream",
     "text": [
      "/srv/conda/envs/notebook/lib/python3.12/site-packages/zarr/api/asynchronous.py:227: UserWarning: Consolidated metadata is currently not part in the Zarr format 3 specification. It may not be supported by other zarr implementations and may change in the future.\n",
      "  warnings.warn(\n"
     ]
    },
    {
     "name": "stdout",
     "output_type": "stream",
     "text": [
      "[########################################] | 100% Completed | 16.98 s\n",
      "Processing member no.10,MPI-ESM1-2-LR.gn.Omon.r37i1p1f1\n"
     ]
    },
    {
     "name": "stderr",
     "output_type": "stream",
     "text": [
      "/srv/conda/envs/notebook/lib/python3.12/site-packages/xarray/computation/apply_ufunc.py:445: PerformanceWarning: Regridding is increasing the number of chunks by a factor of 6.0, you might want to specify sizes in `output_chunks` in the regridder call. Default behaviour is to preserve the chunk sizes from the input (110, 128).\n",
      "  result_vars[name] = func(*variable_args)\n",
      "/tmp/ipykernel_3480/3573049386.py:14: DeprecationWarning: cftime_range() is deprecated, please use xarray.date_range(..., use_cftime=True) instead.\n",
      "  new_monthly_time = xr.cftime_range(start_date, periods=len(ds.time), freq='1MS')\n"
     ]
    },
    {
     "name": "stdout",
     "output_type": "stream",
     "text": [
      "fixing spco2 units\n",
      "Writing to save_path = 'gs://leap-persistent/mauriekeppens/Ensemble_Testbed_Analysis/00_regridded_members/MPI-ESM1-2-LR/member_r37i1p1f1/MPI-ESM1-2-LR.r37i1p1f1.Omon.zarr'\n",
      "[                                        ] | 0% Completed | 330.19 us"
     ]
    },
    {
     "name": "stderr",
     "output_type": "stream",
     "text": [
      "/srv/conda/envs/notebook/lib/python3.12/site-packages/zarr/api/asynchronous.py:227: UserWarning: Consolidated metadata is currently not part in the Zarr format 3 specification. It may not be supported by other zarr implementations and may change in the future.\n",
      "  warnings.warn(\n"
     ]
    },
    {
     "name": "stdout",
     "output_type": "stream",
     "text": [
      "[########################################] | 100% Completed | 16.36 s\n",
      "Processing member no.11,ACCESS-ESM1-5.gn.Omon.r15i1p1f1\n"
     ]
    },
    {
     "name": "stderr",
     "output_type": "stream",
     "text": [
      "/tmp/ipykernel_3480/3573049386.py:14: DeprecationWarning: cftime_range() is deprecated, please use xarray.date_range(..., use_cftime=True) instead.\n",
      "  new_monthly_time = xr.cftime_range(start_date, periods=len(ds.time), freq='1MS')\n"
     ]
    },
    {
     "name": "stdout",
     "output_type": "stream",
     "text": [
      "fixing spco2 units\n",
      "Writing to save_path = 'gs://leap-persistent/mauriekeppens/Ensemble_Testbed_Analysis/00_regridded_members/ACCESS-ESM1-5/member_r15i1p1f1/ACCESS-ESM1-5.r15i1p1f1.Omon.zarr'\n"
     ]
    },
    {
     "name": "stderr",
     "output_type": "stream",
     "text": [
      "/srv/conda/envs/notebook/lib/python3.12/site-packages/zarr/api/asynchronous.py:227: UserWarning: Consolidated metadata is currently not part in the Zarr format 3 specification. It may not be supported by other zarr implementations and may change in the future.\n",
      "  warnings.warn(\n"
     ]
    },
    {
     "name": "stdout",
     "output_type": "stream",
     "text": [
      "[########################################] | 100% Completed | 32.47 s\n",
      "Processing member no.12,MPI-ESM1-2-LR.gn.Omon.r38i1p1f1\n"
     ]
    },
    {
     "name": "stderr",
     "output_type": "stream",
     "text": [
      "/srv/conda/envs/notebook/lib/python3.12/site-packages/xarray/computation/apply_ufunc.py:445: PerformanceWarning: Regridding is increasing the number of chunks by a factor of 6.0, you might want to specify sizes in `output_chunks` in the regridder call. Default behaviour is to preserve the chunk sizes from the input (110, 128).\n",
      "  result_vars[name] = func(*variable_args)\n",
      "/tmp/ipykernel_3480/3573049386.py:14: DeprecationWarning: cftime_range() is deprecated, please use xarray.date_range(..., use_cftime=True) instead.\n",
      "  new_monthly_time = xr.cftime_range(start_date, periods=len(ds.time), freq='1MS')\n"
     ]
    },
    {
     "name": "stdout",
     "output_type": "stream",
     "text": [
      "fixing spco2 units\n",
      "Writing to save_path = 'gs://leap-persistent/mauriekeppens/Ensemble_Testbed_Analysis/00_regridded_members/MPI-ESM1-2-LR/member_r38i1p1f1/MPI-ESM1-2-LR.r38i1p1f1.Omon.zarr'\n"
     ]
    },
    {
     "name": "stderr",
     "output_type": "stream",
     "text": [
      "/srv/conda/envs/notebook/lib/python3.12/site-packages/zarr/api/asynchronous.py:227: UserWarning: Consolidated metadata is currently not part in the Zarr format 3 specification. It may not be supported by other zarr implementations and may change in the future.\n",
      "  warnings.warn(\n"
     ]
    },
    {
     "name": "stdout",
     "output_type": "stream",
     "text": [
      "[########################################] | 100% Completed | 17.37 s\n",
      "Processing member no.13,ACCESS-ESM1-5.gn.Omon.r37i1p1f1\n"
     ]
    },
    {
     "name": "stderr",
     "output_type": "stream",
     "text": [
      "/tmp/ipykernel_3480/3573049386.py:14: DeprecationWarning: cftime_range() is deprecated, please use xarray.date_range(..., use_cftime=True) instead.\n",
      "  new_monthly_time = xr.cftime_range(start_date, periods=len(ds.time), freq='1MS')\n"
     ]
    },
    {
     "name": "stdout",
     "output_type": "stream",
     "text": [
      "fixing spco2 units\n",
      "Writing to save_path = 'gs://leap-persistent/mauriekeppens/Ensemble_Testbed_Analysis/00_regridded_members/ACCESS-ESM1-5/member_r37i1p1f1/ACCESS-ESM1-5.r37i1p1f1.Omon.zarr'\n",
      "[                                        ] | 0% Completed | 227.44 us"
     ]
    },
    {
     "name": "stderr",
     "output_type": "stream",
     "text": [
      "/srv/conda/envs/notebook/lib/python3.12/site-packages/zarr/api/asynchronous.py:227: UserWarning: Consolidated metadata is currently not part in the Zarr format 3 specification. It may not be supported by other zarr implementations and may change in the future.\n",
      "  warnings.warn(\n"
     ]
    },
    {
     "name": "stdout",
     "output_type": "stream",
     "text": [
      "[########################################] | 100% Completed | 30.57 s\n",
      "Processing member no.14,CanESM5.gn.Omon.r9i1p1f1\n"
     ]
    },
    {
     "name": "stderr",
     "output_type": "stream",
     "text": [
      "/tmp/ipykernel_3480/3573049386.py:14: DeprecationWarning: cftime_range() is deprecated, please use xarray.date_range(..., use_cftime=True) instead.\n",
      "  new_monthly_time = xr.cftime_range(start_date, periods=len(ds.time), freq='1MS')\n"
     ]
    },
    {
     "name": "stdout",
     "output_type": "stream",
     "text": [
      "fixing spco2 units\n",
      "Writing to save_path = 'gs://leap-persistent/mauriekeppens/Ensemble_Testbed_Analysis/00_regridded_members/CanESM5/member_r9i1p1f1/CanESM5.r9i1p1f1.Omon.zarr'\n",
      "[                                        ] | 0% Completed | 305.83 us"
     ]
    },
    {
     "name": "stderr",
     "output_type": "stream",
     "text": [
      "/srv/conda/envs/notebook/lib/python3.12/site-packages/zarr/api/asynchronous.py:227: UserWarning: Consolidated metadata is currently not part in the Zarr format 3 specification. It may not be supported by other zarr implementations and may change in the future.\n",
      "  warnings.warn(\n"
     ]
    },
    {
     "name": "stdout",
     "output_type": "stream",
     "text": [
      "[########################################] | 100% Completed | 25.80 s\n",
      "Processing member no.15,MPI-ESM1-2-LR.gn.Omon.r18i1p1f1\n"
     ]
    },
    {
     "name": "stderr",
     "output_type": "stream",
     "text": [
      "/tmp/ipykernel_3480/3573049386.py:14: DeprecationWarning: cftime_range() is deprecated, please use xarray.date_range(..., use_cftime=True) instead.\n",
      "  new_monthly_time = xr.cftime_range(start_date, periods=len(ds.time), freq='1MS')\n"
     ]
    },
    {
     "name": "stdout",
     "output_type": "stream",
     "text": [
      "fixing spco2 units\n",
      "Writing to save_path = 'gs://leap-persistent/mauriekeppens/Ensemble_Testbed_Analysis/00_regridded_members/MPI-ESM1-2-LR/member_r18i1p1f1/MPI-ESM1-2-LR.r18i1p1f1.Omon.zarr'\n",
      "[                                        ] | 0% Completed | 105.20 ms"
     ]
    },
    {
     "name": "stderr",
     "output_type": "stream",
     "text": [
      "/srv/conda/envs/notebook/lib/python3.12/site-packages/zarr/api/asynchronous.py:227: UserWarning: Consolidated metadata is currently not part in the Zarr format 3 specification. It may not be supported by other zarr implementations and may change in the future.\n",
      "  warnings.warn(\n"
     ]
    },
    {
     "name": "stdout",
     "output_type": "stream",
     "text": [
      "[########################################] | 100% Completed | 16.37 s\n",
      "Processing member no.16,GFDL-ESM4.gr.Omon.r1i1p1f1\n"
     ]
    },
    {
     "name": "stderr",
     "output_type": "stream",
     "text": [
      "/tmp/ipykernel_3480/3573049386.py:14: DeprecationWarning: cftime_range() is deprecated, please use xarray.date_range(..., use_cftime=True) instead.\n",
      "  new_monthly_time = xr.cftime_range(start_date, periods=len(ds.time), freq='1MS')\n"
     ]
    },
    {
     "name": "stdout",
     "output_type": "stream",
     "text": [
      "fixing spco2 units\n",
      "Writing to save_path = 'gs://leap-persistent/mauriekeppens/Ensemble_Testbed_Analysis/00_regridded_members/GFDL-ESM4/member_r1i1p1f1/GFDL-ESM4.r1i1p1f1.Omon.zarr'\n",
      "[                                        ] | 0% Completed | 296.75 us"
     ]
    },
    {
     "name": "stderr",
     "output_type": "stream",
     "text": [
      "/srv/conda/envs/notebook/lib/python3.12/site-packages/zarr/api/asynchronous.py:227: UserWarning: Consolidated metadata is currently not part in the Zarr format 3 specification. It may not be supported by other zarr implementations and may change in the future.\n",
      "  warnings.warn(\n"
     ]
    },
    {
     "name": "stdout",
     "output_type": "stream",
     "text": [
      "[########################################] | 100% Completed | 15.50 s\n",
      "Processing member no.17,ACCESS-ESM1-5.gn.Omon.r27i1p1f1\n"
     ]
    },
    {
     "name": "stderr",
     "output_type": "stream",
     "text": [
      "/tmp/ipykernel_3480/3573049386.py:14: DeprecationWarning: cftime_range() is deprecated, please use xarray.date_range(..., use_cftime=True) instead.\n",
      "  new_monthly_time = xr.cftime_range(start_date, periods=len(ds.time), freq='1MS')\n"
     ]
    },
    {
     "name": "stdout",
     "output_type": "stream",
     "text": [
      "fixing spco2 units\n",
      "Writing to save_path = 'gs://leap-persistent/mauriekeppens/Ensemble_Testbed_Analysis/00_regridded_members/ACCESS-ESM1-5/member_r27i1p1f1/ACCESS-ESM1-5.r27i1p1f1.Omon.zarr'\n",
      "[                                        ] | 0% Completed | 308.24 us"
     ]
    },
    {
     "name": "stderr",
     "output_type": "stream",
     "text": [
      "/srv/conda/envs/notebook/lib/python3.12/site-packages/zarr/api/asynchronous.py:227: UserWarning: Consolidated metadata is currently not part in the Zarr format 3 specification. It may not be supported by other zarr implementations and may change in the future.\n",
      "  warnings.warn(\n"
     ]
    },
    {
     "name": "stdout",
     "output_type": "stream",
     "text": [
      "[########################################] | 100% Completed | 33.23 s\n",
      "Processing member no.18,CESM2-WACCM.gr.Omon.r2i1p1f1\n"
     ]
    },
    {
     "name": "stderr",
     "output_type": "stream",
     "text": [
      "/tmp/ipykernel_3480/3573049386.py:14: DeprecationWarning: cftime_range() is deprecated, please use xarray.date_range(..., use_cftime=True) instead.\n",
      "  new_monthly_time = xr.cftime_range(start_date, periods=len(ds.time), freq='1MS')\n"
     ]
    },
    {
     "name": "stdout",
     "output_type": "stream",
     "text": [
      "fixing spco2 units\n",
      "Writing to save_path = 'gs://leap-persistent/mauriekeppens/Ensemble_Testbed_Analysis/00_regridded_members/CESM2-WACCM/member_r2i1p1f1/CESM2-WACCM.r2i1p1f1.Omon.zarr'\n",
      "[                                        ] | 0% Completed | 101.21 ms"
     ]
    },
    {
     "name": "stderr",
     "output_type": "stream",
     "text": [
      "/srv/conda/envs/notebook/lib/python3.12/site-packages/zarr/api/asynchronous.py:227: UserWarning: Consolidated metadata is currently not part in the Zarr format 3 specification. It may not be supported by other zarr implementations and may change in the future.\n",
      "  warnings.warn(\n"
     ]
    },
    {
     "name": "stdout",
     "output_type": "stream",
     "text": [
      "[########################################] | 100% Completed | 9.93 ss\n",
      "Processing member no.19,MPI-ESM1-2-LR.gn.Omon.r34i1p1f1\n"
     ]
    },
    {
     "name": "stderr",
     "output_type": "stream",
     "text": [
      "/srv/conda/envs/notebook/lib/python3.12/site-packages/xarray/computation/apply_ufunc.py:445: PerformanceWarning: Regridding is increasing the number of chunks by a factor of 6.0, you might want to specify sizes in `output_chunks` in the regridder call. Default behaviour is to preserve the chunk sizes from the input (110, 128).\n",
      "  result_vars[name] = func(*variable_args)\n",
      "/tmp/ipykernel_3480/3573049386.py:14: DeprecationWarning: cftime_range() is deprecated, please use xarray.date_range(..., use_cftime=True) instead.\n",
      "  new_monthly_time = xr.cftime_range(start_date, periods=len(ds.time), freq='1MS')\n"
     ]
    },
    {
     "name": "stdout",
     "output_type": "stream",
     "text": [
      "fixing spco2 units\n",
      "Writing to save_path = 'gs://leap-persistent/mauriekeppens/Ensemble_Testbed_Analysis/00_regridded_members/MPI-ESM1-2-LR/member_r34i1p1f1/MPI-ESM1-2-LR.r34i1p1f1.Omon.zarr'\n",
      "[                                        ] | 0% Completed | 219.79 us"
     ]
    },
    {
     "name": "stderr",
     "output_type": "stream",
     "text": [
      "/srv/conda/envs/notebook/lib/python3.12/site-packages/zarr/api/asynchronous.py:227: UserWarning: Consolidated metadata is currently not part in the Zarr format 3 specification. It may not be supported by other zarr implementations and may change in the future.\n",
      "  warnings.warn(\n"
     ]
    },
    {
     "name": "stdout",
     "output_type": "stream",
     "text": [
      "[########################################] | 100% Completed | 16.44 s\n",
      "Processing member no.20,ACCESS-ESM1-5.gn.Omon.r32i1p1f1\n"
     ]
    },
    {
     "name": "stderr",
     "output_type": "stream",
     "text": [
      "/tmp/ipykernel_3480/3573049386.py:14: DeprecationWarning: cftime_range() is deprecated, please use xarray.date_range(..., use_cftime=True) instead.\n",
      "  new_monthly_time = xr.cftime_range(start_date, periods=len(ds.time), freq='1MS')\n"
     ]
    },
    {
     "name": "stdout",
     "output_type": "stream",
     "text": [
      "fixing spco2 units\n",
      "Writing to save_path = 'gs://leap-persistent/mauriekeppens/Ensemble_Testbed_Analysis/00_regridded_members/ACCESS-ESM1-5/member_r32i1p1f1/ACCESS-ESM1-5.r32i1p1f1.Omon.zarr'\n",
      "[                                        ] | 0% Completed | 235.72 us"
     ]
    },
    {
     "name": "stderr",
     "output_type": "stream",
     "text": [
      "/srv/conda/envs/notebook/lib/python3.12/site-packages/zarr/api/asynchronous.py:227: UserWarning: Consolidated metadata is currently not part in the Zarr format 3 specification. It may not be supported by other zarr implementations and may change in the future.\n",
      "  warnings.warn(\n"
     ]
    },
    {
     "name": "stdout",
     "output_type": "stream",
     "text": [
      "[########################################] | 100% Completed | 30.45 s\n",
      "Processing member no.21,MPI-ESM1-2-LR.gn.Omon.r50i1p1f1\n"
     ]
    },
    {
     "name": "stderr",
     "output_type": "stream",
     "text": [
      "/srv/conda/envs/notebook/lib/python3.12/site-packages/xarray/computation/apply_ufunc.py:445: PerformanceWarning: Regridding is increasing the number of chunks by a factor of 6.0, you might want to specify sizes in `output_chunks` in the regridder call. Default behaviour is to preserve the chunk sizes from the input (110, 128).\n",
      "  result_vars[name] = func(*variable_args)\n",
      "/tmp/ipykernel_3480/3573049386.py:14: DeprecationWarning: cftime_range() is deprecated, please use xarray.date_range(..., use_cftime=True) instead.\n",
      "  new_monthly_time = xr.cftime_range(start_date, periods=len(ds.time), freq='1MS')\n"
     ]
    },
    {
     "name": "stdout",
     "output_type": "stream",
     "text": [
      "fixing spco2 units\n",
      "Writing to save_path = 'gs://leap-persistent/mauriekeppens/Ensemble_Testbed_Analysis/00_regridded_members/MPI-ESM1-2-LR/member_r50i1p1f1/MPI-ESM1-2-LR.r50i1p1f1.Omon.zarr'\n",
      "[                                        ] | 0% Completed | 218.62 us"
     ]
    },
    {
     "name": "stderr",
     "output_type": "stream",
     "text": [
      "/srv/conda/envs/notebook/lib/python3.12/site-packages/zarr/api/asynchronous.py:227: UserWarning: Consolidated metadata is currently not part in the Zarr format 3 specification. It may not be supported by other zarr implementations and may change in the future.\n",
      "  warnings.warn(\n"
     ]
    },
    {
     "name": "stdout",
     "output_type": "stream",
     "text": [
      "[########################################] | 100% Completed | 15.74 s\n",
      "Processing member no.22,CESM2.gn.Omon.r10i1p1f1\n"
     ]
    },
    {
     "name": "stderr",
     "output_type": "stream",
     "text": [
      "/tmp/ipykernel_3480/3573049386.py:14: DeprecationWarning: cftime_range() is deprecated, please use xarray.date_range(..., use_cftime=True) instead.\n",
      "  new_monthly_time = xr.cftime_range(start_date, periods=len(ds.time), freq='1MS')\n"
     ]
    },
    {
     "name": "stdout",
     "output_type": "stream",
     "text": [
      "fixing spco2 units\n",
      "Writing to save_path = 'gs://leap-persistent/mauriekeppens/Ensemble_Testbed_Analysis/00_regridded_members/CESM2/member_r10i1p1f1/CESM2.r10i1p1f1.Omon.zarr'\n",
      "[                                        ] | 0% Completed | 256.95 us"
     ]
    },
    {
     "name": "stderr",
     "output_type": "stream",
     "text": [
      "/srv/conda/envs/notebook/lib/python3.12/site-packages/zarr/api/asynchronous.py:227: UserWarning: Consolidated metadata is currently not part in the Zarr format 3 specification. It may not be supported by other zarr implementations and may change in the future.\n",
      "  warnings.warn(\n"
     ]
    },
    {
     "name": "stdout",
     "output_type": "stream",
     "text": [
      "[########################################] | 100% Completed | 18.31 s\n",
      "Processing member no.23,MPI-ESM1-2-LR.gn.Omon.r21i1p1f1\n"
     ]
    },
    {
     "name": "stderr",
     "output_type": "stream",
     "text": [
      "/tmp/ipykernel_3480/3573049386.py:14: DeprecationWarning: cftime_range() is deprecated, please use xarray.date_range(..., use_cftime=True) instead.\n",
      "  new_monthly_time = xr.cftime_range(start_date, periods=len(ds.time), freq='1MS')\n"
     ]
    },
    {
     "name": "stdout",
     "output_type": "stream",
     "text": [
      "fixing spco2 units\n",
      "Writing to save_path = 'gs://leap-persistent/mauriekeppens/Ensemble_Testbed_Analysis/00_regridded_members/MPI-ESM1-2-LR/member_r21i1p1f1/MPI-ESM1-2-LR.r21i1p1f1.Omon.zarr'\n",
      "[                                        ] | 0% Completed | 200.13 us"
     ]
    },
    {
     "name": "stderr",
     "output_type": "stream",
     "text": [
      "/srv/conda/envs/notebook/lib/python3.12/site-packages/zarr/api/asynchronous.py:227: UserWarning: Consolidated metadata is currently not part in the Zarr format 3 specification. It may not be supported by other zarr implementations and may change in the future.\n",
      "  warnings.warn(\n"
     ]
    },
    {
     "name": "stdout",
     "output_type": "stream",
     "text": [
      "[########################################] | 100% Completed | 16.15 s\n",
      "Processing member no.24,CanESM5.gn.Omon.r2i1p1f1\n"
     ]
    },
    {
     "name": "stderr",
     "output_type": "stream",
     "text": [
      "/tmp/ipykernel_3480/3573049386.py:14: DeprecationWarning: cftime_range() is deprecated, please use xarray.date_range(..., use_cftime=True) instead.\n",
      "  new_monthly_time = xr.cftime_range(start_date, periods=len(ds.time), freq='1MS')\n"
     ]
    },
    {
     "name": "stdout",
     "output_type": "stream",
     "text": [
      "fixing spco2 units\n",
      "Writing to save_path = 'gs://leap-persistent/mauriekeppens/Ensemble_Testbed_Analysis/00_regridded_members/CanESM5/member_r2i1p1f1/CanESM5.r2i1p1f1.Omon.zarr'\n",
      "[                                        ] | 0% Completed | 284.19 us"
     ]
    },
    {
     "name": "stderr",
     "output_type": "stream",
     "text": [
      "/srv/conda/envs/notebook/lib/python3.12/site-packages/zarr/api/asynchronous.py:227: UserWarning: Consolidated metadata is currently not part in the Zarr format 3 specification. It may not be supported by other zarr implementations and may change in the future.\n",
      "  warnings.warn(\n"
     ]
    },
    {
     "name": "stdout",
     "output_type": "stream",
     "text": [
      "[########################################] | 100% Completed | 25.54 s\n",
      "Processing member no.25,CESM2-WACCM.gn.Omon.r3i1p1f1\n"
     ]
    },
    {
     "name": "stderr",
     "output_type": "stream",
     "text": [
      "/tmp/ipykernel_3480/3573049386.py:14: DeprecationWarning: cftime_range() is deprecated, please use xarray.date_range(..., use_cftime=True) instead.\n",
      "  new_monthly_time = xr.cftime_range(start_date, periods=len(ds.time), freq='1MS')\n"
     ]
    },
    {
     "name": "stdout",
     "output_type": "stream",
     "text": [
      "fixing spco2 units\n",
      "Writing to save_path = 'gs://leap-persistent/mauriekeppens/Ensemble_Testbed_Analysis/00_regridded_members/CESM2-WACCM/member_r3i1p1f1/CESM2-WACCM.r3i1p1f1.Omon.zarr'\n",
      "[                                        ] | 0% Completed | 189.47 us"
     ]
    },
    {
     "name": "stderr",
     "output_type": "stream",
     "text": [
      "/srv/conda/envs/notebook/lib/python3.12/site-packages/zarr/api/asynchronous.py:227: UserWarning: Consolidated metadata is currently not part in the Zarr format 3 specification. It may not be supported by other zarr implementations and may change in the future.\n",
      "  warnings.warn(\n"
     ]
    },
    {
     "name": "stdout",
     "output_type": "stream",
     "text": [
      "[########################################] | 100% Completed | 17.43 s\n",
      "Processing member no.26,MPI-ESM1-2-LR.gn.Omon.r14i1p1f1\n"
     ]
    },
    {
     "name": "stderr",
     "output_type": "stream",
     "text": [
      "/tmp/ipykernel_3480/3573049386.py:14: DeprecationWarning: cftime_range() is deprecated, please use xarray.date_range(..., use_cftime=True) instead.\n",
      "  new_monthly_time = xr.cftime_range(start_date, periods=len(ds.time), freq='1MS')\n"
     ]
    },
    {
     "name": "stdout",
     "output_type": "stream",
     "text": [
      "fixing spco2 units\n",
      "Writing to save_path = 'gs://leap-persistent/mauriekeppens/Ensemble_Testbed_Analysis/00_regridded_members/MPI-ESM1-2-LR/member_r14i1p1f1/MPI-ESM1-2-LR.r14i1p1f1.Omon.zarr'\n",
      "[                                        ] | 0% Completed | 233.66 us"
     ]
    },
    {
     "name": "stderr",
     "output_type": "stream",
     "text": [
      "/srv/conda/envs/notebook/lib/python3.12/site-packages/zarr/api/asynchronous.py:227: UserWarning: Consolidated metadata is currently not part in the Zarr format 3 specification. It may not be supported by other zarr implementations and may change in the future.\n",
      "  warnings.warn(\n"
     ]
    },
    {
     "name": "stdout",
     "output_type": "stream",
     "text": [
      "[########################################] | 100% Completed | 16.85 s\n",
      "Processing member no.27,MPI-ESM1-2-LR.gn.Omon.r8i1p1f1\n"
     ]
    },
    {
     "name": "stderr",
     "output_type": "stream",
     "text": [
      "/tmp/ipykernel_3480/3573049386.py:14: DeprecationWarning: cftime_range() is deprecated, please use xarray.date_range(..., use_cftime=True) instead.\n",
      "  new_monthly_time = xr.cftime_range(start_date, periods=len(ds.time), freq='1MS')\n"
     ]
    },
    {
     "name": "stdout",
     "output_type": "stream",
     "text": [
      "fixing spco2 units\n",
      "Writing to save_path = 'gs://leap-persistent/mauriekeppens/Ensemble_Testbed_Analysis/00_regridded_members/MPI-ESM1-2-LR/member_r8i1p1f1/MPI-ESM1-2-LR.r8i1p1f1.Omon.zarr'\n",
      "[                                        ] | 0% Completed | 284.91 us"
     ]
    },
    {
     "name": "stderr",
     "output_type": "stream",
     "text": [
      "/srv/conda/envs/notebook/lib/python3.12/site-packages/zarr/api/asynchronous.py:227: UserWarning: Consolidated metadata is currently not part in the Zarr format 3 specification. It may not be supported by other zarr implementations and may change in the future.\n",
      "  warnings.warn(\n"
     ]
    },
    {
     "name": "stdout",
     "output_type": "stream",
     "text": [
      "[########################################] | 100% Completed | 16.18 s\n",
      "Processing member no.28,CESM2-WACCM.gr.Omon.r3i1p1f1\n"
     ]
    },
    {
     "name": "stderr",
     "output_type": "stream",
     "text": [
      "/tmp/ipykernel_3480/3573049386.py:14: DeprecationWarning: cftime_range() is deprecated, please use xarray.date_range(..., use_cftime=True) instead.\n",
      "  new_monthly_time = xr.cftime_range(start_date, periods=len(ds.time), freq='1MS')\n"
     ]
    },
    {
     "name": "stdout",
     "output_type": "stream",
     "text": [
      "fixing spco2 units\n",
      "Writing to save_path = 'gs://leap-persistent/mauriekeppens/Ensemble_Testbed_Analysis/00_regridded_members/CESM2-WACCM/member_r3i1p1f1/CESM2-WACCM.r3i1p1f1.Omon.zarr'\n",
      "[                                        ] | 0% Completed | 106.47 ms"
     ]
    },
    {
     "name": "stderr",
     "output_type": "stream",
     "text": [
      "/srv/conda/envs/notebook/lib/python3.12/site-packages/zarr/api/asynchronous.py:227: UserWarning: Consolidated metadata is currently not part in the Zarr format 3 specification. It may not be supported by other zarr implementations and may change in the future.\n",
      "  warnings.warn(\n"
     ]
    },
    {
     "name": "stdout",
     "output_type": "stream",
     "text": [
      "[########################################] | 100% Completed | 9.99 sms\n",
      "Processing member no.29,ACCESS-ESM1-5.gn.Omon.r7i1p1f1\n"
     ]
    },
    {
     "name": "stderr",
     "output_type": "stream",
     "text": [
      "/tmp/ipykernel_3480/3573049386.py:14: DeprecationWarning: cftime_range() is deprecated, please use xarray.date_range(..., use_cftime=True) instead.\n",
      "  new_monthly_time = xr.cftime_range(start_date, periods=len(ds.time), freq='1MS')\n"
     ]
    },
    {
     "name": "stdout",
     "output_type": "stream",
     "text": [
      "fixing spco2 units\n",
      "Writing to save_path = 'gs://leap-persistent/mauriekeppens/Ensemble_Testbed_Analysis/00_regridded_members/ACCESS-ESM1-5/member_r7i1p1f1/ACCESS-ESM1-5.r7i1p1f1.Omon.zarr'\n",
      "[                                        ] | 0% Completed | 409.60 us"
     ]
    },
    {
     "name": "stderr",
     "output_type": "stream",
     "text": [
      "/srv/conda/envs/notebook/lib/python3.12/site-packages/zarr/api/asynchronous.py:227: UserWarning: Consolidated metadata is currently not part in the Zarr format 3 specification. It may not be supported by other zarr implementations and may change in the future.\n",
      "  warnings.warn(\n"
     ]
    },
    {
     "name": "stdout",
     "output_type": "stream",
     "text": [
      "[########################################] | 100% Completed | 31.64 s\n",
      "Processing member no.30,MPI-ESM1-2-LR.gn.Omon.r17i1p1f1\n"
     ]
    },
    {
     "name": "stderr",
     "output_type": "stream",
     "text": [
      "/tmp/ipykernel_3480/3573049386.py:14: DeprecationWarning: cftime_range() is deprecated, please use xarray.date_range(..., use_cftime=True) instead.\n",
      "  new_monthly_time = xr.cftime_range(start_date, periods=len(ds.time), freq='1MS')\n"
     ]
    },
    {
     "name": "stdout",
     "output_type": "stream",
     "text": [
      "fixing spco2 units\n",
      "Writing to save_path = 'gs://leap-persistent/mauriekeppens/Ensemble_Testbed_Analysis/00_regridded_members/MPI-ESM1-2-LR/member_r17i1p1f1/MPI-ESM1-2-LR.r17i1p1f1.Omon.zarr'\n",
      "[                                        ] | 0% Completed | 105.49 ms"
     ]
    },
    {
     "name": "stderr",
     "output_type": "stream",
     "text": [
      "/srv/conda/envs/notebook/lib/python3.12/site-packages/zarr/api/asynchronous.py:227: UserWarning: Consolidated metadata is currently not part in the Zarr format 3 specification. It may not be supported by other zarr implementations and may change in the future.\n",
      "  warnings.warn(\n"
     ]
    },
    {
     "name": "stdout",
     "output_type": "stream",
     "text": [
      "[########################################] | 100% Completed | 16.54 s\n",
      "Processing member no.31,CanESM5.gn.Omon.r3i1p2f1\n"
     ]
    },
    {
     "name": "stderr",
     "output_type": "stream",
     "text": [
      "/tmp/ipykernel_3480/3573049386.py:14: DeprecationWarning: cftime_range() is deprecated, please use xarray.date_range(..., use_cftime=True) instead.\n",
      "  new_monthly_time = xr.cftime_range(start_date, periods=len(ds.time), freq='1MS')\n"
     ]
    },
    {
     "name": "stdout",
     "output_type": "stream",
     "text": [
      "fixing spco2 units\n",
      "Writing to save_path = 'gs://leap-persistent/mauriekeppens/Ensemble_Testbed_Analysis/00_regridded_members/CanESM5/member_r3i1p2f1/CanESM5.r3i1p2f1.Omon.zarr'\n",
      "[                                        ] | 0% Completed | 428.81 us"
     ]
    },
    {
     "name": "stderr",
     "output_type": "stream",
     "text": [
      "/srv/conda/envs/notebook/lib/python3.12/site-packages/zarr/api/asynchronous.py:227: UserWarning: Consolidated metadata is currently not part in the Zarr format 3 specification. It may not be supported by other zarr implementations and may change in the future.\n",
      "  warnings.warn(\n"
     ]
    },
    {
     "name": "stdout",
     "output_type": "stream",
     "text": [
      "[########################################] | 100% Completed | 25.84 s\n",
      "Processing member no.32,ACCESS-ESM1-5.gn.Omon.r8i1p1f1\n"
     ]
    },
    {
     "name": "stderr",
     "output_type": "stream",
     "text": [
      "/tmp/ipykernel_3480/3573049386.py:14: DeprecationWarning: cftime_range() is deprecated, please use xarray.date_range(..., use_cftime=True) instead.\n",
      "  new_monthly_time = xr.cftime_range(start_date, periods=len(ds.time), freq='1MS')\n"
     ]
    },
    {
     "name": "stdout",
     "output_type": "stream",
     "text": [
      "fixing spco2 units\n",
      "Writing to save_path = 'gs://leap-persistent/mauriekeppens/Ensemble_Testbed_Analysis/00_regridded_members/ACCESS-ESM1-5/member_r8i1p1f1/ACCESS-ESM1-5.r8i1p1f1.Omon.zarr'\n",
      "[                                        ] | 0% Completed | 383.97 us"
     ]
    },
    {
     "name": "stderr",
     "output_type": "stream",
     "text": [
      "/srv/conda/envs/notebook/lib/python3.12/site-packages/zarr/api/asynchronous.py:227: UserWarning: Consolidated metadata is currently not part in the Zarr format 3 specification. It may not be supported by other zarr implementations and may change in the future.\n",
      "  warnings.warn(\n"
     ]
    },
    {
     "name": "stdout",
     "output_type": "stream",
     "text": [
      "[########################################] | 100% Completed | 30.99 s\n",
      "Processing member no.33,CanESM5.gn.Omon.r4i1p2f1\n"
     ]
    },
    {
     "name": "stderr",
     "output_type": "stream",
     "text": [
      "/tmp/ipykernel_3480/3573049386.py:14: DeprecationWarning: cftime_range() is deprecated, please use xarray.date_range(..., use_cftime=True) instead.\n",
      "  new_monthly_time = xr.cftime_range(start_date, periods=len(ds.time), freq='1MS')\n"
     ]
    },
    {
     "name": "stdout",
     "output_type": "stream",
     "text": [
      "fixing spco2 units\n",
      "Writing to save_path = 'gs://leap-persistent/mauriekeppens/Ensemble_Testbed_Analysis/00_regridded_members/CanESM5/member_r4i1p2f1/CanESM5.r4i1p2f1.Omon.zarr'\n",
      "[                                        ] | 0% Completed | 305.49 us"
     ]
    },
    {
     "name": "stderr",
     "output_type": "stream",
     "text": [
      "/srv/conda/envs/notebook/lib/python3.12/site-packages/zarr/api/asynchronous.py:227: UserWarning: Consolidated metadata is currently not part in the Zarr format 3 specification. It may not be supported by other zarr implementations and may change in the future.\n",
      "  warnings.warn(\n"
     ]
    },
    {
     "name": "stdout",
     "output_type": "stream",
     "text": [
      "[########################################] | 100% Completed | 25.68 s\n",
      "Processing member no.34,MPI-ESM1-2-LR.gn.Omon.r11i1p1f1\n"
     ]
    },
    {
     "name": "stderr",
     "output_type": "stream",
     "text": [
      "/tmp/ipykernel_3480/3573049386.py:14: DeprecationWarning: cftime_range() is deprecated, please use xarray.date_range(..., use_cftime=True) instead.\n",
      "  new_monthly_time = xr.cftime_range(start_date, periods=len(ds.time), freq='1MS')\n"
     ]
    },
    {
     "name": "stdout",
     "output_type": "stream",
     "text": [
      "fixing spco2 units\n",
      "Writing to save_path = 'gs://leap-persistent/mauriekeppens/Ensemble_Testbed_Analysis/00_regridded_members/MPI-ESM1-2-LR/member_r11i1p1f1/MPI-ESM1-2-LR.r11i1p1f1.Omon.zarr'\n",
      "[                                        ] | 0% Completed | 106.13 ms"
     ]
    },
    {
     "name": "stderr",
     "output_type": "stream",
     "text": [
      "/srv/conda/envs/notebook/lib/python3.12/site-packages/zarr/api/asynchronous.py:227: UserWarning: Consolidated metadata is currently not part in the Zarr format 3 specification. It may not be supported by other zarr implementations and may change in the future.\n",
      "  warnings.warn(\n"
     ]
    },
    {
     "name": "stdout",
     "output_type": "stream",
     "text": [
      "[########################################] | 100% Completed | 16.85 s\n",
      "Processing member no.35,CanESM5.gn.Omon.r10i1p1f1\n"
     ]
    },
    {
     "name": "stderr",
     "output_type": "stream",
     "text": [
      "/tmp/ipykernel_3480/3573049386.py:14: DeprecationWarning: cftime_range() is deprecated, please use xarray.date_range(..., use_cftime=True) instead.\n",
      "  new_monthly_time = xr.cftime_range(start_date, periods=len(ds.time), freq='1MS')\n"
     ]
    },
    {
     "name": "stdout",
     "output_type": "stream",
     "text": [
      "fixing spco2 units\n",
      "Writing to save_path = 'gs://leap-persistent/mauriekeppens/Ensemble_Testbed_Analysis/00_regridded_members/CanESM5/member_r10i1p1f1/CanESM5.r10i1p1f1.Omon.zarr'\n",
      "[                                        ] | 0% Completed | 293.86 us"
     ]
    },
    {
     "name": "stderr",
     "output_type": "stream",
     "text": [
      "/srv/conda/envs/notebook/lib/python3.12/site-packages/zarr/api/asynchronous.py:227: UserWarning: Consolidated metadata is currently not part in the Zarr format 3 specification. It may not be supported by other zarr implementations and may change in the future.\n",
      "  warnings.warn(\n"
     ]
    },
    {
     "name": "stdout",
     "output_type": "stream",
     "text": [
      "[########################################] | 100% Completed | 25.59 s\n",
      "Processing member no.36,MPI-ESM1-2-LR.gn.Omon.r23i1p1f1\n"
     ]
    },
    {
     "name": "stderr",
     "output_type": "stream",
     "text": [
      "/tmp/ipykernel_3480/3573049386.py:14: DeprecationWarning: cftime_range() is deprecated, please use xarray.date_range(..., use_cftime=True) instead.\n",
      "  new_monthly_time = xr.cftime_range(start_date, periods=len(ds.time), freq='1MS')\n"
     ]
    },
    {
     "name": "stdout",
     "output_type": "stream",
     "text": [
      "fixing spco2 units\n",
      "Writing to save_path = 'gs://leap-persistent/mauriekeppens/Ensemble_Testbed_Analysis/00_regridded_members/MPI-ESM1-2-LR/member_r23i1p1f1/MPI-ESM1-2-LR.r23i1p1f1.Omon.zarr'\n",
      "[                                        ] | 0% Completed | 202.08 us"
     ]
    },
    {
     "name": "stderr",
     "output_type": "stream",
     "text": [
      "/srv/conda/envs/notebook/lib/python3.12/site-packages/zarr/api/asynchronous.py:227: UserWarning: Consolidated metadata is currently not part in the Zarr format 3 specification. It may not be supported by other zarr implementations and may change in the future.\n",
      "  warnings.warn(\n"
     ]
    },
    {
     "name": "stdout",
     "output_type": "stream",
     "text": [
      "[########################################] | 100% Completed | 17.03 s\n",
      "Processing member no.37,MPI-ESM1-2-LR.gn.Omon.r32i1p1f1\n"
     ]
    },
    {
     "name": "stderr",
     "output_type": "stream",
     "text": [
      "/srv/conda/envs/notebook/lib/python3.12/site-packages/xarray/computation/apply_ufunc.py:445: PerformanceWarning: Regridding is increasing the number of chunks by a factor of 6.0, you might want to specify sizes in `output_chunks` in the regridder call. Default behaviour is to preserve the chunk sizes from the input (110, 128).\n",
      "  result_vars[name] = func(*variable_args)\n",
      "/tmp/ipykernel_3480/3573049386.py:14: DeprecationWarning: cftime_range() is deprecated, please use xarray.date_range(..., use_cftime=True) instead.\n",
      "  new_monthly_time = xr.cftime_range(start_date, periods=len(ds.time), freq='1MS')\n"
     ]
    },
    {
     "name": "stdout",
     "output_type": "stream",
     "text": [
      "fixing spco2 units\n",
      "Writing to save_path = 'gs://leap-persistent/mauriekeppens/Ensemble_Testbed_Analysis/00_regridded_members/MPI-ESM1-2-LR/member_r32i1p1f1/MPI-ESM1-2-LR.r32i1p1f1.Omon.zarr'\n",
      "[                                        ] | 0% Completed | 278.29 us"
     ]
    },
    {
     "name": "stderr",
     "output_type": "stream",
     "text": [
      "/srv/conda/envs/notebook/lib/python3.12/site-packages/zarr/api/asynchronous.py:227: UserWarning: Consolidated metadata is currently not part in the Zarr format 3 specification. It may not be supported by other zarr implementations and may change in the future.\n",
      "  warnings.warn(\n"
     ]
    },
    {
     "name": "stdout",
     "output_type": "stream",
     "text": [
      "[########################################] | 100% Completed | 16.31 s\n",
      "Processing member no.38,ACCESS-ESM1-5.gn.Omon.r10i1p1f1\n"
     ]
    },
    {
     "name": "stderr",
     "output_type": "stream",
     "text": [
      "/tmp/ipykernel_3480/3573049386.py:14: DeprecationWarning: cftime_range() is deprecated, please use xarray.date_range(..., use_cftime=True) instead.\n",
      "  new_monthly_time = xr.cftime_range(start_date, periods=len(ds.time), freq='1MS')\n"
     ]
    },
    {
     "name": "stdout",
     "output_type": "stream",
     "text": [
      "fixing spco2 units\n",
      "Writing to save_path = 'gs://leap-persistent/mauriekeppens/Ensemble_Testbed_Analysis/00_regridded_members/ACCESS-ESM1-5/member_r10i1p1f1/ACCESS-ESM1-5.r10i1p1f1.Omon.zarr'\n",
      "[                                        ] | 0% Completed | 329.40 us"
     ]
    },
    {
     "name": "stderr",
     "output_type": "stream",
     "text": [
      "/srv/conda/envs/notebook/lib/python3.12/site-packages/zarr/api/asynchronous.py:227: UserWarning: Consolidated metadata is currently not part in the Zarr format 3 specification. It may not be supported by other zarr implementations and may change in the future.\n",
      "  warnings.warn(\n"
     ]
    },
    {
     "name": "stdout",
     "output_type": "stream",
     "text": [
      "[########################################] | 100% Completed | 31.01 s\n",
      "Processing member no.39,ACCESS-ESM1-5.gn.Omon.r22i1p1f1\n"
     ]
    },
    {
     "name": "stderr",
     "output_type": "stream",
     "text": [
      "/tmp/ipykernel_3480/3573049386.py:14: DeprecationWarning: cftime_range() is deprecated, please use xarray.date_range(..., use_cftime=True) instead.\n",
      "  new_monthly_time = xr.cftime_range(start_date, periods=len(ds.time), freq='1MS')\n"
     ]
    },
    {
     "name": "stdout",
     "output_type": "stream",
     "text": [
      "fixing spco2 units\n",
      "Writing to save_path = 'gs://leap-persistent/mauriekeppens/Ensemble_Testbed_Analysis/00_regridded_members/ACCESS-ESM1-5/member_r22i1p1f1/ACCESS-ESM1-5.r22i1p1f1.Omon.zarr'\n",
      "[                                        ] | 0% Completed | 304.74 us"
     ]
    },
    {
     "name": "stderr",
     "output_type": "stream",
     "text": [
      "/srv/conda/envs/notebook/lib/python3.12/site-packages/zarr/api/asynchronous.py:227: UserWarning: Consolidated metadata is currently not part in the Zarr format 3 specification. It may not be supported by other zarr implementations and may change in the future.\n",
      "  warnings.warn(\n"
     ]
    },
    {
     "name": "stdout",
     "output_type": "stream",
     "text": [
      "[########################################] | 100% Completed | 33.09 s\n",
      "Processing member no.40,CanESM5-CanOE.gn.Omon.r3i1p2f1\n"
     ]
    },
    {
     "name": "stderr",
     "output_type": "stream",
     "text": [
      "/tmp/ipykernel_3480/3573049386.py:14: DeprecationWarning: cftime_range() is deprecated, please use xarray.date_range(..., use_cftime=True) instead.\n",
      "  new_monthly_time = xr.cftime_range(start_date, periods=len(ds.time), freq='1MS')\n"
     ]
    },
    {
     "name": "stdout",
     "output_type": "stream",
     "text": [
      "fixing spco2 units\n",
      "Writing to save_path = 'gs://leap-persistent/mauriekeppens/Ensemble_Testbed_Analysis/00_regridded_members/CanESM5-CanOE/member_r3i1p2f1/CanESM5-CanOE.r3i1p2f1.Omon.zarr'\n",
      "[                                        ] | 0% Completed | 272.13 us"
     ]
    },
    {
     "name": "stderr",
     "output_type": "stream",
     "text": [
      "/srv/conda/envs/notebook/lib/python3.12/site-packages/zarr/api/asynchronous.py:227: UserWarning: Consolidated metadata is currently not part in the Zarr format 3 specification. It may not be supported by other zarr implementations and may change in the future.\n",
      "  warnings.warn(\n"
     ]
    },
    {
     "name": "stdout",
     "output_type": "stream",
     "text": [
      "[########################################] | 100% Completed | 29.33 s\n",
      "Processing member no.41,ACCESS-ESM1-5.gn.Omon.r39i1p1f1\n"
     ]
    },
    {
     "name": "stderr",
     "output_type": "stream",
     "text": [
      "/tmp/ipykernel_3480/3573049386.py:14: DeprecationWarning: cftime_range() is deprecated, please use xarray.date_range(..., use_cftime=True) instead.\n",
      "  new_monthly_time = xr.cftime_range(start_date, periods=len(ds.time), freq='1MS')\n"
     ]
    },
    {
     "name": "stdout",
     "output_type": "stream",
     "text": [
      "fixing spco2 units\n",
      "Writing to save_path = 'gs://leap-persistent/mauriekeppens/Ensemble_Testbed_Analysis/00_regridded_members/ACCESS-ESM1-5/member_r39i1p1f1/ACCESS-ESM1-5.r39i1p1f1.Omon.zarr'\n",
      "[                                        ] | 0% Completed | 288.30 us"
     ]
    },
    {
     "name": "stderr",
     "output_type": "stream",
     "text": [
      "/srv/conda/envs/notebook/lib/python3.12/site-packages/zarr/api/asynchronous.py:227: UserWarning: Consolidated metadata is currently not part in the Zarr format 3 specification. It may not be supported by other zarr implementations and may change in the future.\n",
      "  warnings.warn(\n"
     ]
    },
    {
     "name": "stdout",
     "output_type": "stream",
     "text": [
      "[########################################] | 100% Completed | 34.58 s\n",
      "Processing member no.42,ACCESS-ESM1-5.gn.Omon.r3i1p1f1\n"
     ]
    },
    {
     "name": "stderr",
     "output_type": "stream",
     "text": [
      "/srv/conda/envs/notebook/lib/python3.12/site-packages/xarray/computation/apply_ufunc.py:445: PerformanceWarning: Regridding is increasing the number of chunks by a factor of 6.0, you might want to specify sizes in `output_chunks` in the regridder call. Default behaviour is to preserve the chunk sizes from the input (150, 120).\n",
      "  result_vars[name] = func(*variable_args)\n",
      "/tmp/ipykernel_3480/3573049386.py:14: DeprecationWarning: cftime_range() is deprecated, please use xarray.date_range(..., use_cftime=True) instead.\n",
      "  new_monthly_time = xr.cftime_range(start_date, periods=len(ds.time), freq='1MS')\n"
     ]
    },
    {
     "name": "stdout",
     "output_type": "stream",
     "text": [
      "fixing spco2 units\n",
      "Writing to save_path = 'gs://leap-persistent/mauriekeppens/Ensemble_Testbed_Analysis/00_regridded_members/ACCESS-ESM1-5/member_r3i1p1f1/ACCESS-ESM1-5.r3i1p1f1.Omon.zarr'\n"
     ]
    },
    {
     "name": "stderr",
     "output_type": "stream",
     "text": [
      "/srv/conda/envs/notebook/lib/python3.12/site-packages/zarr/api/asynchronous.py:227: UserWarning: Consolidated metadata is currently not part in the Zarr format 3 specification. It may not be supported by other zarr implementations and may change in the future.\n",
      "  warnings.warn(\n"
     ]
    },
    {
     "name": "stdout",
     "output_type": "stream",
     "text": [
      "[########################################] | 100% Completed | 54.48 s\n",
      "Processing member no.43,ACCESS-ESM1-5.gn.Omon.r5i1p1f1\n"
     ]
    },
    {
     "name": "stderr",
     "output_type": "stream",
     "text": [
      "/tmp/ipykernel_3480/3573049386.py:14: DeprecationWarning: cftime_range() is deprecated, please use xarray.date_range(..., use_cftime=True) instead.\n",
      "  new_monthly_time = xr.cftime_range(start_date, periods=len(ds.time), freq='1MS')\n"
     ]
    },
    {
     "name": "stdout",
     "output_type": "stream",
     "text": [
      "fixing spco2 units\n",
      "Writing to save_path = 'gs://leap-persistent/mauriekeppens/Ensemble_Testbed_Analysis/00_regridded_members/ACCESS-ESM1-5/member_r5i1p1f1/ACCESS-ESM1-5.r5i1p1f1.Omon.zarr'\n",
      "[                                        ] | 0% Completed | 279.13 us"
     ]
    },
    {
     "name": "stderr",
     "output_type": "stream",
     "text": [
      "/srv/conda/envs/notebook/lib/python3.12/site-packages/zarr/api/asynchronous.py:227: UserWarning: Consolidated metadata is currently not part in the Zarr format 3 specification. It may not be supported by other zarr implementations and may change in the future.\n",
      "  warnings.warn(\n"
     ]
    },
    {
     "name": "stdout",
     "output_type": "stream",
     "text": [
      "[########################################] | 100% Completed | 30.83 s\n",
      "Processing member no.44,CanESM5-CanOE.gn.Omon.r1i1p2f1\n"
     ]
    },
    {
     "name": "stderr",
     "output_type": "stream",
     "text": [
      "/tmp/ipykernel_3480/3573049386.py:14: DeprecationWarning: cftime_range() is deprecated, please use xarray.date_range(..., use_cftime=True) instead.\n",
      "  new_monthly_time = xr.cftime_range(start_date, periods=len(ds.time), freq='1MS')\n"
     ]
    },
    {
     "name": "stdout",
     "output_type": "stream",
     "text": [
      "fixing spco2 units\n",
      "Writing to save_path = 'gs://leap-persistent/mauriekeppens/Ensemble_Testbed_Analysis/00_regridded_members/CanESM5-CanOE/member_r1i1p2f1/CanESM5-CanOE.r1i1p2f1.Omon.zarr'\n",
      "[                                        ] | 0% Completed | 196.76 us"
     ]
    },
    {
     "name": "stderr",
     "output_type": "stream",
     "text": [
      "/srv/conda/envs/notebook/lib/python3.12/site-packages/zarr/api/asynchronous.py:227: UserWarning: Consolidated metadata is currently not part in the Zarr format 3 specification. It may not be supported by other zarr implementations and may change in the future.\n",
      "  warnings.warn(\n"
     ]
    },
    {
     "name": "stdout",
     "output_type": "stream",
     "text": [
      "[########################################] | 100% Completed | 26.44 s\n",
      "Processing member no.45,CESM2.gn.Omon.r11i1p1f1\n"
     ]
    },
    {
     "name": "stderr",
     "output_type": "stream",
     "text": [
      "/tmp/ipykernel_3480/3573049386.py:14: DeprecationWarning: cftime_range() is deprecated, please use xarray.date_range(..., use_cftime=True) instead.\n",
      "  new_monthly_time = xr.cftime_range(start_date, periods=len(ds.time), freq='1MS')\n"
     ]
    },
    {
     "name": "stdout",
     "output_type": "stream",
     "text": [
      "fixing spco2 units\n",
      "Writing to save_path = 'gs://leap-persistent/mauriekeppens/Ensemble_Testbed_Analysis/00_regridded_members/CESM2/member_r11i1p1f1/CESM2.r11i1p1f1.Omon.zarr'\n",
      "[                                        ] | 0% Completed | 205.58 us"
     ]
    },
    {
     "name": "stderr",
     "output_type": "stream",
     "text": [
      "/srv/conda/envs/notebook/lib/python3.12/site-packages/zarr/api/asynchronous.py:227: UserWarning: Consolidated metadata is currently not part in the Zarr format 3 specification. It may not be supported by other zarr implementations and may change in the future.\n",
      "  warnings.warn(\n"
     ]
    },
    {
     "name": "stdout",
     "output_type": "stream",
     "text": [
      "[########################################] | 100% Completed | 18.21 s\n",
      "Processing member no.46,CanESM5-CanOE.gn.Omon.r2i1p2f1\n"
     ]
    },
    {
     "name": "stderr",
     "output_type": "stream",
     "text": [
      "/tmp/ipykernel_3480/3573049386.py:14: DeprecationWarning: cftime_range() is deprecated, please use xarray.date_range(..., use_cftime=True) instead.\n",
      "  new_monthly_time = xr.cftime_range(start_date, periods=len(ds.time), freq='1MS')\n"
     ]
    },
    {
     "name": "stdout",
     "output_type": "stream",
     "text": [
      "fixing spco2 units\n",
      "Writing to save_path = 'gs://leap-persistent/mauriekeppens/Ensemble_Testbed_Analysis/00_regridded_members/CanESM5-CanOE/member_r2i1p2f1/CanESM5-CanOE.r2i1p2f1.Omon.zarr'\n",
      "[                                        ] | 0% Completed | 231.43 us"
     ]
    },
    {
     "name": "stderr",
     "output_type": "stream",
     "text": [
      "/srv/conda/envs/notebook/lib/python3.12/site-packages/zarr/api/asynchronous.py:227: UserWarning: Consolidated metadata is currently not part in the Zarr format 3 specification. It may not be supported by other zarr implementations and may change in the future.\n",
      "  warnings.warn(\n"
     ]
    },
    {
     "name": "stdout",
     "output_type": "stream",
     "text": [
      "[########################################] | 100% Completed | 30.95 s\n",
      "Processing member no.47,MPI-ESM1-2-LR.gn.Omon.r40i1p1f1\n"
     ]
    },
    {
     "name": "stderr",
     "output_type": "stream",
     "text": [
      "/srv/conda/envs/notebook/lib/python3.12/site-packages/xarray/computation/apply_ufunc.py:445: PerformanceWarning: Regridding is increasing the number of chunks by a factor of 6.0, you might want to specify sizes in `output_chunks` in the regridder call. Default behaviour is to preserve the chunk sizes from the input (110, 128).\n",
      "  result_vars[name] = func(*variable_args)\n",
      "/tmp/ipykernel_3480/3573049386.py:14: DeprecationWarning: cftime_range() is deprecated, please use xarray.date_range(..., use_cftime=True) instead.\n",
      "  new_monthly_time = xr.cftime_range(start_date, periods=len(ds.time), freq='1MS')\n"
     ]
    },
    {
     "name": "stdout",
     "output_type": "stream",
     "text": [
      "fixing spco2 units\n",
      "Writing to save_path = 'gs://leap-persistent/mauriekeppens/Ensemble_Testbed_Analysis/00_regridded_members/MPI-ESM1-2-LR/member_r40i1p1f1/MPI-ESM1-2-LR.r40i1p1f1.Omon.zarr'\n",
      "[                                        ] | 0% Completed | 298.97 us"
     ]
    },
    {
     "name": "stderr",
     "output_type": "stream",
     "text": [
      "/srv/conda/envs/notebook/lib/python3.12/site-packages/zarr/api/asynchronous.py:227: UserWarning: Consolidated metadata is currently not part in the Zarr format 3 specification. It may not be supported by other zarr implementations and may change in the future.\n",
      "  warnings.warn(\n"
     ]
    },
    {
     "name": "stdout",
     "output_type": "stream",
     "text": [
      "[########################################] | 100% Completed | 16.80 s\n",
      "Processing member no.48,MPI-ESM1-2-LR.gn.Omon.r22i1p1f1\n"
     ]
    },
    {
     "name": "stderr",
     "output_type": "stream",
     "text": [
      "/tmp/ipykernel_3480/3573049386.py:14: DeprecationWarning: cftime_range() is deprecated, please use xarray.date_range(..., use_cftime=True) instead.\n",
      "  new_monthly_time = xr.cftime_range(start_date, periods=len(ds.time), freq='1MS')\n"
     ]
    },
    {
     "name": "stdout",
     "output_type": "stream",
     "text": [
      "fixing spco2 units\n",
      "Writing to save_path = 'gs://leap-persistent/mauriekeppens/Ensemble_Testbed_Analysis/00_regridded_members/MPI-ESM1-2-LR/member_r22i1p1f1/MPI-ESM1-2-LR.r22i1p1f1.Omon.zarr'\n",
      "[                                        ] | 0% Completed | 302.48 us"
     ]
    },
    {
     "name": "stderr",
     "output_type": "stream",
     "text": [
      "/srv/conda/envs/notebook/lib/python3.12/site-packages/zarr/api/asynchronous.py:227: UserWarning: Consolidated metadata is currently not part in the Zarr format 3 specification. It may not be supported by other zarr implementations and may change in the future.\n",
      "  warnings.warn(\n"
     ]
    },
    {
     "name": "stdout",
     "output_type": "stream",
     "text": [
      "[########################################] | 100% Completed | 17.25 s\n",
      "Processing member no.49,MPI-ESM1-2-LR.gn.Omon.r9i1p1f1\n"
     ]
    },
    {
     "name": "stderr",
     "output_type": "stream",
     "text": [
      "/tmp/ipykernel_3480/3573049386.py:14: DeprecationWarning: cftime_range() is deprecated, please use xarray.date_range(..., use_cftime=True) instead.\n",
      "  new_monthly_time = xr.cftime_range(start_date, periods=len(ds.time), freq='1MS')\n"
     ]
    },
    {
     "name": "stdout",
     "output_type": "stream",
     "text": [
      "fixing spco2 units\n",
      "Writing to save_path = 'gs://leap-persistent/mauriekeppens/Ensemble_Testbed_Analysis/00_regridded_members/MPI-ESM1-2-LR/member_r9i1p1f1/MPI-ESM1-2-LR.r9i1p1f1.Omon.zarr'\n",
      "[                                        ] | 0% Completed | 291.50 us"
     ]
    },
    {
     "name": "stderr",
     "output_type": "stream",
     "text": [
      "/srv/conda/envs/notebook/lib/python3.12/site-packages/zarr/api/asynchronous.py:227: UserWarning: Consolidated metadata is currently not part in the Zarr format 3 specification. It may not be supported by other zarr implementations and may change in the future.\n",
      "  warnings.warn(\n"
     ]
    },
    {
     "name": "stdout",
     "output_type": "stream",
     "text": [
      "[########################################] | 100% Completed | 16.35 s\n",
      "Processing member no.50,MPI-ESM1-2-LR.gn.Omon.r12i1p1f1\n"
     ]
    },
    {
     "name": "stderr",
     "output_type": "stream",
     "text": [
      "/tmp/ipykernel_3480/3573049386.py:14: DeprecationWarning: cftime_range() is deprecated, please use xarray.date_range(..., use_cftime=True) instead.\n",
      "  new_monthly_time = xr.cftime_range(start_date, periods=len(ds.time), freq='1MS')\n"
     ]
    },
    {
     "name": "stdout",
     "output_type": "stream",
     "text": [
      "fixing spco2 units\n",
      "Writing to save_path = 'gs://leap-persistent/mauriekeppens/Ensemble_Testbed_Analysis/00_regridded_members/MPI-ESM1-2-LR/member_r12i1p1f1/MPI-ESM1-2-LR.r12i1p1f1.Omon.zarr'\n",
      "[                                        ] | 0% Completed | 282.05 us"
     ]
    },
    {
     "name": "stderr",
     "output_type": "stream",
     "text": [
      "/srv/conda/envs/notebook/lib/python3.12/site-packages/zarr/api/asynchronous.py:227: UserWarning: Consolidated metadata is currently not part in the Zarr format 3 specification. It may not be supported by other zarr implementations and may change in the future.\n",
      "  warnings.warn(\n"
     ]
    },
    {
     "name": "stdout",
     "output_type": "stream",
     "text": [
      "[########################################] | 100% Completed | 16.92 s\n",
      "Processing member no.51,MPI-ESM1-2-LR.gn.Omon.r28i1p1f1\n"
     ]
    },
    {
     "name": "stderr",
     "output_type": "stream",
     "text": [
      "/tmp/ipykernel_3480/3573049386.py:14: DeprecationWarning: cftime_range() is deprecated, please use xarray.date_range(..., use_cftime=True) instead.\n",
      "  new_monthly_time = xr.cftime_range(start_date, periods=len(ds.time), freq='1MS')\n"
     ]
    },
    {
     "name": "stdout",
     "output_type": "stream",
     "text": [
      "fixing spco2 units\n",
      "Writing to save_path = 'gs://leap-persistent/mauriekeppens/Ensemble_Testbed_Analysis/00_regridded_members/MPI-ESM1-2-LR/member_r28i1p1f1/MPI-ESM1-2-LR.r28i1p1f1.Omon.zarr'\n",
      "[                                        ] | 0% Completed | 294.48 us"
     ]
    },
    {
     "name": "stderr",
     "output_type": "stream",
     "text": [
      "/srv/conda/envs/notebook/lib/python3.12/site-packages/zarr/api/asynchronous.py:227: UserWarning: Consolidated metadata is currently not part in the Zarr format 3 specification. It may not be supported by other zarr implementations and may change in the future.\n",
      "  warnings.warn(\n"
     ]
    },
    {
     "name": "stdout",
     "output_type": "stream",
     "text": [
      "[########################################] | 100% Completed | 16.19 s\n",
      "Processing member no.52,MPI-ESM1-2-LR.gn.Omon.r33i1p1f1\n"
     ]
    },
    {
     "name": "stderr",
     "output_type": "stream",
     "text": [
      "/srv/conda/envs/notebook/lib/python3.12/site-packages/xarray/computation/apply_ufunc.py:445: PerformanceWarning: Regridding is increasing the number of chunks by a factor of 6.0, you might want to specify sizes in `output_chunks` in the regridder call. Default behaviour is to preserve the chunk sizes from the input (110, 128).\n",
      "  result_vars[name] = func(*variable_args)\n",
      "/tmp/ipykernel_3480/3573049386.py:14: DeprecationWarning: cftime_range() is deprecated, please use xarray.date_range(..., use_cftime=True) instead.\n",
      "  new_monthly_time = xr.cftime_range(start_date, periods=len(ds.time), freq='1MS')\n"
     ]
    },
    {
     "name": "stdout",
     "output_type": "stream",
     "text": [
      "fixing spco2 units\n",
      "Writing to save_path = 'gs://leap-persistent/mauriekeppens/Ensemble_Testbed_Analysis/00_regridded_members/MPI-ESM1-2-LR/member_r33i1p1f1/MPI-ESM1-2-LR.r33i1p1f1.Omon.zarr'\n",
      "[                                        ] | 0% Completed | 209.49 us"
     ]
    },
    {
     "name": "stderr",
     "output_type": "stream",
     "text": [
      "/srv/conda/envs/notebook/lib/python3.12/site-packages/zarr/api/asynchronous.py:227: UserWarning: Consolidated metadata is currently not part in the Zarr format 3 specification. It may not be supported by other zarr implementations and may change in the future.\n",
      "  warnings.warn(\n"
     ]
    },
    {
     "name": "stdout",
     "output_type": "stream",
     "text": [
      "[########################################] | 100% Completed | 16.24 s\n",
      "Processing member no.53,CanESM5.gn.Omon.r7i1p1f1\n"
     ]
    },
    {
     "name": "stderr",
     "output_type": "stream",
     "text": [
      "/tmp/ipykernel_3480/3573049386.py:14: DeprecationWarning: cftime_range() is deprecated, please use xarray.date_range(..., use_cftime=True) instead.\n",
      "  new_monthly_time = xr.cftime_range(start_date, periods=len(ds.time), freq='1MS')\n"
     ]
    },
    {
     "name": "stdout",
     "output_type": "stream",
     "text": [
      "fixing spco2 units\n",
      "Writing to save_path = 'gs://leap-persistent/mauriekeppens/Ensemble_Testbed_Analysis/00_regridded_members/CanESM5/member_r7i1p1f1/CanESM5.r7i1p1f1.Omon.zarr'\n",
      "[                                        ] | 0% Completed | 256.03 us"
     ]
    },
    {
     "name": "stderr",
     "output_type": "stream",
     "text": [
      "/srv/conda/envs/notebook/lib/python3.12/site-packages/zarr/api/asynchronous.py:227: UserWarning: Consolidated metadata is currently not part in the Zarr format 3 specification. It may not be supported by other zarr implementations and may change in the future.\n",
      "  warnings.warn(\n"
     ]
    },
    {
     "name": "stdout",
     "output_type": "stream",
     "text": [
      "[########################################] | 100% Completed | 25.97 s\n",
      "Processing member no.54,UKESM1-0-LL.gn.Omon.r1i1p1f2\n"
     ]
    },
    {
     "name": "stderr",
     "output_type": "stream",
     "text": [
      "/tmp/ipykernel_3480/3573049386.py:14: DeprecationWarning: cftime_range() is deprecated, please use xarray.date_range(..., use_cftime=True) instead.\n",
      "  new_monthly_time = xr.cftime_range(start_date, periods=len(ds.time), freq='1MS')\n"
     ]
    },
    {
     "name": "stdout",
     "output_type": "stream",
     "text": [
      "fixing spco2 units\n",
      "Writing to save_path = 'gs://leap-persistent/mauriekeppens/Ensemble_Testbed_Analysis/00_regridded_members/UKESM1-0-LL/member_r1i1p1f2/UKESM1-0-LL.r1i1p1f2.Omon.zarr'\n",
      "[                                        ] | 0% Completed | 518.60 us"
     ]
    },
    {
     "name": "stderr",
     "output_type": "stream",
     "text": [
      "/srv/conda/envs/notebook/lib/python3.12/site-packages/zarr/api/asynchronous.py:227: UserWarning: Consolidated metadata is currently not part in the Zarr format 3 specification. It may not be supported by other zarr implementations and may change in the future.\n",
      "  warnings.warn(\n"
     ]
    },
    {
     "name": "stdout",
     "output_type": "stream",
     "text": [
      "[########################################] | 100% Completed | 36.66 s\n",
      "Processing member no.55,CanESM5.gn.Omon.r1i1p2f1\n"
     ]
    },
    {
     "name": "stderr",
     "output_type": "stream",
     "text": [
      "/tmp/ipykernel_3480/3573049386.py:14: DeprecationWarning: cftime_range() is deprecated, please use xarray.date_range(..., use_cftime=True) instead.\n",
      "  new_monthly_time = xr.cftime_range(start_date, periods=len(ds.time), freq='1MS')\n"
     ]
    },
    {
     "name": "stdout",
     "output_type": "stream",
     "text": [
      "fixing spco2 units\n",
      "Writing to save_path = 'gs://leap-persistent/mauriekeppens/Ensemble_Testbed_Analysis/00_regridded_members/CanESM5/member_r1i1p2f1/CanESM5.r1i1p2f1.Omon.zarr'\n",
      "[                                        ] | 0% Completed | 234.09 us"
     ]
    },
    {
     "name": "stderr",
     "output_type": "stream",
     "text": [
      "/srv/conda/envs/notebook/lib/python3.12/site-packages/zarr/api/asynchronous.py:227: UserWarning: Consolidated metadata is currently not part in the Zarr format 3 specification. It may not be supported by other zarr implementations and may change in the future.\n",
      "  warnings.warn(\n"
     ]
    },
    {
     "name": "stdout",
     "output_type": "stream",
     "text": [
      "[########################################] | 100% Completed | 27.42 s\n",
      "Processing member no.56,CanESM5.gn.Omon.r4i1p1f1\n"
     ]
    },
    {
     "name": "stderr",
     "output_type": "stream",
     "text": [
      "/tmp/ipykernel_3480/3573049386.py:14: DeprecationWarning: cftime_range() is deprecated, please use xarray.date_range(..., use_cftime=True) instead.\n",
      "  new_monthly_time = xr.cftime_range(start_date, periods=len(ds.time), freq='1MS')\n"
     ]
    },
    {
     "name": "stdout",
     "output_type": "stream",
     "text": [
      "fixing spco2 units\n",
      "Writing to save_path = 'gs://leap-persistent/mauriekeppens/Ensemble_Testbed_Analysis/00_regridded_members/CanESM5/member_r4i1p1f1/CanESM5.r4i1p1f1.Omon.zarr'\n",
      "[                                        ] | 0% Completed | 204.08 us"
     ]
    },
    {
     "name": "stderr",
     "output_type": "stream",
     "text": [
      "/srv/conda/envs/notebook/lib/python3.12/site-packages/zarr/api/asynchronous.py:227: UserWarning: Consolidated metadata is currently not part in the Zarr format 3 specification. It may not be supported by other zarr implementations and may change in the future.\n",
      "  warnings.warn(\n"
     ]
    },
    {
     "name": "stdout",
     "output_type": "stream",
     "text": [
      "[########################################] | 100% Completed | 25.28 s\n",
      "Processing member no.57,MPI-ESM1-2-LR.gn.Omon.r25i1p1f1\n"
     ]
    },
    {
     "name": "stderr",
     "output_type": "stream",
     "text": [
      "/tmp/ipykernel_3480/3573049386.py:14: DeprecationWarning: cftime_range() is deprecated, please use xarray.date_range(..., use_cftime=True) instead.\n",
      "  new_monthly_time = xr.cftime_range(start_date, periods=len(ds.time), freq='1MS')\n"
     ]
    },
    {
     "name": "stdout",
     "output_type": "stream",
     "text": [
      "fixing spco2 units\n",
      "Writing to save_path = 'gs://leap-persistent/mauriekeppens/Ensemble_Testbed_Analysis/00_regridded_members/MPI-ESM1-2-LR/member_r25i1p1f1/MPI-ESM1-2-LR.r25i1p1f1.Omon.zarr'\n",
      "[                                        ] | 0% Completed | 296.52 us"
     ]
    },
    {
     "name": "stderr",
     "output_type": "stream",
     "text": [
      "/srv/conda/envs/notebook/lib/python3.12/site-packages/zarr/api/asynchronous.py:227: UserWarning: Consolidated metadata is currently not part in the Zarr format 3 specification. It may not be supported by other zarr implementations and may change in the future.\n",
      "  warnings.warn(\n"
     ]
    },
    {
     "name": "stdout",
     "output_type": "stream",
     "text": [
      "[########################################] | 100% Completed | 16.02 s\n",
      "Processing member no.58,MPI-ESM1-2-LR.gn.Omon.r5i1p1f1\n"
     ]
    },
    {
     "name": "stderr",
     "output_type": "stream",
     "text": [
      "/tmp/ipykernel_3480/3573049386.py:14: DeprecationWarning: cftime_range() is deprecated, please use xarray.date_range(..., use_cftime=True) instead.\n",
      "  new_monthly_time = xr.cftime_range(start_date, periods=len(ds.time), freq='1MS')\n"
     ]
    },
    {
     "name": "stdout",
     "output_type": "stream",
     "text": [
      "fixing spco2 units\n",
      "Writing to save_path = 'gs://leap-persistent/mauriekeppens/Ensemble_Testbed_Analysis/00_regridded_members/MPI-ESM1-2-LR/member_r5i1p1f1/MPI-ESM1-2-LR.r5i1p1f1.Omon.zarr'\n",
      "[                                        ] | 0% Completed | 224.44 us"
     ]
    },
    {
     "name": "stderr",
     "output_type": "stream",
     "text": [
      "/srv/conda/envs/notebook/lib/python3.12/site-packages/zarr/api/asynchronous.py:227: UserWarning: Consolidated metadata is currently not part in the Zarr format 3 specification. It may not be supported by other zarr implementations and may change in the future.\n",
      "  warnings.warn(\n"
     ]
    },
    {
     "name": "stdout",
     "output_type": "stream",
     "text": [
      "[########################################] | 100% Completed | 15.63 s\n",
      "Processing member no.59,MPI-ESM1-2-LR.gn.Omon.r7i1p1f1\n"
     ]
    },
    {
     "name": "stderr",
     "output_type": "stream",
     "text": [
      "/tmp/ipykernel_3480/3573049386.py:14: DeprecationWarning: cftime_range() is deprecated, please use xarray.date_range(..., use_cftime=True) instead.\n",
      "  new_monthly_time = xr.cftime_range(start_date, periods=len(ds.time), freq='1MS')\n"
     ]
    },
    {
     "name": "stdout",
     "output_type": "stream",
     "text": [
      "fixing spco2 units\n",
      "Writing to save_path = 'gs://leap-persistent/mauriekeppens/Ensemble_Testbed_Analysis/00_regridded_members/MPI-ESM1-2-LR/member_r7i1p1f1/MPI-ESM1-2-LR.r7i1p1f1.Omon.zarr'\n",
      "[                                        ] | 0% Completed | 185.96 us"
     ]
    },
    {
     "name": "stderr",
     "output_type": "stream",
     "text": [
      "/srv/conda/envs/notebook/lib/python3.12/site-packages/zarr/api/asynchronous.py:227: UserWarning: Consolidated metadata is currently not part in the Zarr format 3 specification. It may not be supported by other zarr implementations and may change in the future.\n",
      "  warnings.warn(\n"
     ]
    },
    {
     "name": "stdout",
     "output_type": "stream",
     "text": [
      "[########################################] | 100% Completed | 17.14 s\n",
      "Processing member no.60,CMCC-ESM2.gn.Omon.r1i1p1f1\n"
     ]
    },
    {
     "name": "stderr",
     "output_type": "stream",
     "text": [
      "/tmp/ipykernel_3480/3573049386.py:14: DeprecationWarning: cftime_range() is deprecated, please use xarray.date_range(..., use_cftime=True) instead.\n",
      "  new_monthly_time = xr.cftime_range(start_date, periods=len(ds.time), freq='1MS')\n"
     ]
    },
    {
     "name": "stdout",
     "output_type": "stream",
     "text": [
      "fixing spco2 units\n",
      "Writing to save_path = 'gs://leap-persistent/mauriekeppens/Ensemble_Testbed_Analysis/00_regridded_members/CMCC-ESM2/member_r1i1p1f1/CMCC-ESM2.r1i1p1f1.Omon.zarr'\n",
      "[                                        ] | 0% Completed | 190.91 us"
     ]
    },
    {
     "name": "stderr",
     "output_type": "stream",
     "text": [
      "/srv/conda/envs/notebook/lib/python3.12/site-packages/zarr/api/asynchronous.py:227: UserWarning: Consolidated metadata is currently not part in the Zarr format 3 specification. It may not be supported by other zarr implementations and may change in the future.\n",
      "  warnings.warn(\n"
     ]
    },
    {
     "name": "stdout",
     "output_type": "stream",
     "text": [
      "[########################################] | 100% Completed | 29.74 s\n",
      "Processing member no.61,ACCESS-ESM1-5.gn.Omon.r40i1p1f1\n"
     ]
    },
    {
     "name": "stderr",
     "output_type": "stream",
     "text": [
      "/tmp/ipykernel_3480/3573049386.py:14: DeprecationWarning: cftime_range() is deprecated, please use xarray.date_range(..., use_cftime=True) instead.\n",
      "  new_monthly_time = xr.cftime_range(start_date, periods=len(ds.time), freq='1MS')\n"
     ]
    },
    {
     "name": "stdout",
     "output_type": "stream",
     "text": [
      "fixing spco2 units\n",
      "Writing to save_path = 'gs://leap-persistent/mauriekeppens/Ensemble_Testbed_Analysis/00_regridded_members/ACCESS-ESM1-5/member_r40i1p1f1/ACCESS-ESM1-5.r40i1p1f1.Omon.zarr'\n",
      "[                                        ] | 0% Completed | 283.28 us"
     ]
    },
    {
     "name": "stderr",
     "output_type": "stream",
     "text": [
      "/srv/conda/envs/notebook/lib/python3.12/site-packages/zarr/api/asynchronous.py:227: UserWarning: Consolidated metadata is currently not part in the Zarr format 3 specification. It may not be supported by other zarr implementations and may change in the future.\n",
      "  warnings.warn(\n"
     ]
    },
    {
     "name": "stdout",
     "output_type": "stream",
     "text": [
      "[########################################] | 100% Completed | 30.48 s\n",
      "Processing member no.62,UKESM1-0-LL.gn.Omon.r4i1p1f2\n"
     ]
    },
    {
     "name": "stderr",
     "output_type": "stream",
     "text": [
      "/tmp/ipykernel_3480/3573049386.py:14: DeprecationWarning: cftime_range() is deprecated, please use xarray.date_range(..., use_cftime=True) instead.\n",
      "  new_monthly_time = xr.cftime_range(start_date, periods=len(ds.time), freq='1MS')\n"
     ]
    },
    {
     "name": "stdout",
     "output_type": "stream",
     "text": [
      "fixing spco2 units\n",
      "Writing to save_path = 'gs://leap-persistent/mauriekeppens/Ensemble_Testbed_Analysis/00_regridded_members/UKESM1-0-LL/member_r4i1p1f2/UKESM1-0-LL.r4i1p1f2.Omon.zarr'\n",
      "[                                        ] | 0% Completed | 266.90 us"
     ]
    },
    {
     "name": "stderr",
     "output_type": "stream",
     "text": [
      "/srv/conda/envs/notebook/lib/python3.12/site-packages/zarr/api/asynchronous.py:227: UserWarning: Consolidated metadata is currently not part in the Zarr format 3 specification. It may not be supported by other zarr implementations and may change in the future.\n",
      "  warnings.warn(\n"
     ]
    },
    {
     "name": "stdout",
     "output_type": "stream",
     "text": [
      "[########################################] | 100% Completed | 37.11 s\n",
      "Processing member no.63,CanESM5.gn.Omon.r5i1p1f1\n"
     ]
    },
    {
     "name": "stderr",
     "output_type": "stream",
     "text": [
      "/tmp/ipykernel_3480/3573049386.py:14: DeprecationWarning: cftime_range() is deprecated, please use xarray.date_range(..., use_cftime=True) instead.\n",
      "  new_monthly_time = xr.cftime_range(start_date, periods=len(ds.time), freq='1MS')\n"
     ]
    },
    {
     "name": "stdout",
     "output_type": "stream",
     "text": [
      "fixing spco2 units\n",
      "Writing to save_path = 'gs://leap-persistent/mauriekeppens/Ensemble_Testbed_Analysis/00_regridded_members/CanESM5/member_r5i1p1f1/CanESM5.r5i1p1f1.Omon.zarr'\n",
      "[                                        ] | 0% Completed | 262.66 us"
     ]
    },
    {
     "name": "stderr",
     "output_type": "stream",
     "text": [
      "/srv/conda/envs/notebook/lib/python3.12/site-packages/zarr/api/asynchronous.py:227: UserWarning: Consolidated metadata is currently not part in the Zarr format 3 specification. It may not be supported by other zarr implementations and may change in the future.\n",
      "  warnings.warn(\n"
     ]
    },
    {
     "name": "stdout",
     "output_type": "stream",
     "text": [
      "[########################################] | 100% Completed | 26.65 s\n",
      "Processing member no.64,MPI-ESM1-2-LR.gn.Omon.r29i1p1f1\n"
     ]
    },
    {
     "name": "stderr",
     "output_type": "stream",
     "text": [
      "/tmp/ipykernel_3480/3573049386.py:14: DeprecationWarning: cftime_range() is deprecated, please use xarray.date_range(..., use_cftime=True) instead.\n",
      "  new_monthly_time = xr.cftime_range(start_date, periods=len(ds.time), freq='1MS')\n"
     ]
    },
    {
     "name": "stdout",
     "output_type": "stream",
     "text": [
      "fixing spco2 units\n",
      "Writing to save_path = 'gs://leap-persistent/mauriekeppens/Ensemble_Testbed_Analysis/00_regridded_members/MPI-ESM1-2-LR/member_r29i1p1f1/MPI-ESM1-2-LR.r29i1p1f1.Omon.zarr'\n",
      "[                                        ] | 0% Completed | 313.41 us"
     ]
    },
    {
     "name": "stderr",
     "output_type": "stream",
     "text": [
      "/srv/conda/envs/notebook/lib/python3.12/site-packages/zarr/api/asynchronous.py:227: UserWarning: Consolidated metadata is currently not part in the Zarr format 3 specification. It may not be supported by other zarr implementations and may change in the future.\n",
      "  warnings.warn(\n"
     ]
    },
    {
     "name": "stdout",
     "output_type": "stream",
     "text": [
      "[########################################] | 100% Completed | 16.69 s\n",
      "Processing member no.65,CanESM5.gn.Omon.r7i1p2f1\n"
     ]
    },
    {
     "name": "stderr",
     "output_type": "stream",
     "text": [
      "/tmp/ipykernel_3480/3573049386.py:14: DeprecationWarning: cftime_range() is deprecated, please use xarray.date_range(..., use_cftime=True) instead.\n",
      "  new_monthly_time = xr.cftime_range(start_date, periods=len(ds.time), freq='1MS')\n"
     ]
    },
    {
     "name": "stdout",
     "output_type": "stream",
     "text": [
      "fixing spco2 units\n",
      "Writing to save_path = 'gs://leap-persistent/mauriekeppens/Ensemble_Testbed_Analysis/00_regridded_members/CanESM5/member_r7i1p2f1/CanESM5.r7i1p2f1.Omon.zarr'\n",
      "[                                        ] | 0% Completed | 296.78 us"
     ]
    },
    {
     "name": "stderr",
     "output_type": "stream",
     "text": [
      "/srv/conda/envs/notebook/lib/python3.12/site-packages/zarr/api/asynchronous.py:227: UserWarning: Consolidated metadata is currently not part in the Zarr format 3 specification. It may not be supported by other zarr implementations and may change in the future.\n",
      "  warnings.warn(\n"
     ]
    },
    {
     "name": "stdout",
     "output_type": "stream",
     "text": [
      "[########################################] | 100% Completed | 26.14 s\n",
      "Processing member no.66,MPI-ESM1-2-LR.gn.Omon.r27i1p1f1\n"
     ]
    },
    {
     "name": "stderr",
     "output_type": "stream",
     "text": [
      "/tmp/ipykernel_3480/3573049386.py:14: DeprecationWarning: cftime_range() is deprecated, please use xarray.date_range(..., use_cftime=True) instead.\n",
      "  new_monthly_time = xr.cftime_range(start_date, periods=len(ds.time), freq='1MS')\n"
     ]
    },
    {
     "name": "stdout",
     "output_type": "stream",
     "text": [
      "fixing spco2 units\n",
      "Writing to save_path = 'gs://leap-persistent/mauriekeppens/Ensemble_Testbed_Analysis/00_regridded_members/MPI-ESM1-2-LR/member_r27i1p1f1/MPI-ESM1-2-LR.r27i1p1f1.Omon.zarr'\n",
      "[                                        ] | 0% Completed | 196.63 us"
     ]
    },
    {
     "name": "stderr",
     "output_type": "stream",
     "text": [
      "/srv/conda/envs/notebook/lib/python3.12/site-packages/zarr/api/asynchronous.py:227: UserWarning: Consolidated metadata is currently not part in the Zarr format 3 specification. It may not be supported by other zarr implementations and may change in the future.\n",
      "  warnings.warn(\n"
     ]
    },
    {
     "name": "stdout",
     "output_type": "stream",
     "text": [
      "[########################################] | 100% Completed | 17.06 s\n",
      "Processing member no.67,CanESM5.gn.Omon.r10i1p2f1\n"
     ]
    },
    {
     "name": "stderr",
     "output_type": "stream",
     "text": [
      "/tmp/ipykernel_3480/3573049386.py:14: DeprecationWarning: cftime_range() is deprecated, please use xarray.date_range(..., use_cftime=True) instead.\n",
      "  new_monthly_time = xr.cftime_range(start_date, periods=len(ds.time), freq='1MS')\n"
     ]
    },
    {
     "name": "stdout",
     "output_type": "stream",
     "text": [
      "fixing spco2 units\n",
      "Writing to save_path = 'gs://leap-persistent/mauriekeppens/Ensemble_Testbed_Analysis/00_regridded_members/CanESM5/member_r10i1p2f1/CanESM5.r10i1p2f1.Omon.zarr'\n",
      "[                                        ] | 0% Completed | 210.14 us"
     ]
    },
    {
     "name": "stderr",
     "output_type": "stream",
     "text": [
      "/srv/conda/envs/notebook/lib/python3.12/site-packages/zarr/api/asynchronous.py:227: UserWarning: Consolidated metadata is currently not part in the Zarr format 3 specification. It may not be supported by other zarr implementations and may change in the future.\n",
      "  warnings.warn(\n"
     ]
    },
    {
     "name": "stdout",
     "output_type": "stream",
     "text": [
      "[########################################] | 100% Completed | 26.11 s\n",
      "Processing member no.68,MPI-ESM1-2-LR.gn.Omon.r49i1p1f1\n"
     ]
    },
    {
     "name": "stderr",
     "output_type": "stream",
     "text": [
      "/srv/conda/envs/notebook/lib/python3.12/site-packages/xarray/computation/apply_ufunc.py:445: PerformanceWarning: Regridding is increasing the number of chunks by a factor of 6.0, you might want to specify sizes in `output_chunks` in the regridder call. Default behaviour is to preserve the chunk sizes from the input (110, 128).\n",
      "  result_vars[name] = func(*variable_args)\n",
      "/tmp/ipykernel_3480/3573049386.py:14: DeprecationWarning: cftime_range() is deprecated, please use xarray.date_range(..., use_cftime=True) instead.\n",
      "  new_monthly_time = xr.cftime_range(start_date, periods=len(ds.time), freq='1MS')\n"
     ]
    },
    {
     "name": "stdout",
     "output_type": "stream",
     "text": [
      "fixing spco2 units\n",
      "Writing to save_path = 'gs://leap-persistent/mauriekeppens/Ensemble_Testbed_Analysis/00_regridded_members/MPI-ESM1-2-LR/member_r49i1p1f1/MPI-ESM1-2-LR.r49i1p1f1.Omon.zarr'\n",
      "[                                        ] | 0% Completed | 216.34 us"
     ]
    },
    {
     "name": "stderr",
     "output_type": "stream",
     "text": [
      "/srv/conda/envs/notebook/lib/python3.12/site-packages/zarr/api/asynchronous.py:227: UserWarning: Consolidated metadata is currently not part in the Zarr format 3 specification. It may not be supported by other zarr implementations and may change in the future.\n",
      "  warnings.warn(\n"
     ]
    },
    {
     "name": "stdout",
     "output_type": "stream",
     "text": [
      "[########################################] | 100% Completed | 15.86 s\n",
      "Processing member no.69,CESM2-WACCM.gn.Omon.r2i1p1f1\n"
     ]
    },
    {
     "name": "stderr",
     "output_type": "stream",
     "text": [
      "/tmp/ipykernel_3480/3573049386.py:14: DeprecationWarning: cftime_range() is deprecated, please use xarray.date_range(..., use_cftime=True) instead.\n",
      "  new_monthly_time = xr.cftime_range(start_date, periods=len(ds.time), freq='1MS')\n"
     ]
    },
    {
     "name": "stdout",
     "output_type": "stream",
     "text": [
      "fixing spco2 units\n",
      "Writing to save_path = 'gs://leap-persistent/mauriekeppens/Ensemble_Testbed_Analysis/00_regridded_members/CESM2-WACCM/member_r2i1p1f1/CESM2-WACCM.r2i1p1f1.Omon.zarr'\n",
      "[                                        ] | 0% Completed | 183.09 us"
     ]
    },
    {
     "name": "stderr",
     "output_type": "stream",
     "text": [
      "/srv/conda/envs/notebook/lib/python3.12/site-packages/zarr/api/asynchronous.py:227: UserWarning: Consolidated metadata is currently not part in the Zarr format 3 specification. It may not be supported by other zarr implementations and may change in the future.\n",
      "  warnings.warn(\n"
     ]
    },
    {
     "name": "stdout",
     "output_type": "stream",
     "text": [
      "[########################################] | 100% Completed | 17.27 s\n",
      "Processing member no.70,ACCESS-ESM1-5.gn.Omon.r26i1p1f1\n"
     ]
    },
    {
     "name": "stderr",
     "output_type": "stream",
     "text": [
      "/tmp/ipykernel_3480/3573049386.py:14: DeprecationWarning: cftime_range() is deprecated, please use xarray.date_range(..., use_cftime=True) instead.\n",
      "  new_monthly_time = xr.cftime_range(start_date, periods=len(ds.time), freq='1MS')\n"
     ]
    },
    {
     "name": "stdout",
     "output_type": "stream",
     "text": [
      "fixing spco2 units\n",
      "Writing to save_path = 'gs://leap-persistent/mauriekeppens/Ensemble_Testbed_Analysis/00_regridded_members/ACCESS-ESM1-5/member_r26i1p1f1/ACCESS-ESM1-5.r26i1p1f1.Omon.zarr'\n"
     ]
    },
    {
     "name": "stderr",
     "output_type": "stream",
     "text": [
      "/srv/conda/envs/notebook/lib/python3.12/site-packages/zarr/api/asynchronous.py:227: UserWarning: Consolidated metadata is currently not part in the Zarr format 3 specification. It may not be supported by other zarr implementations and may change in the future.\n",
      "  warnings.warn(\n"
     ]
    },
    {
     "name": "stdout",
     "output_type": "stream",
     "text": [
      "[########################################] | 100% Completed | 31.36 s\n",
      "Processing member no.71,MPI-ESM1-2-LR.gn.Omon.r26i1p1f1\n"
     ]
    },
    {
     "name": "stderr",
     "output_type": "stream",
     "text": [
      "/tmp/ipykernel_3480/3573049386.py:14: DeprecationWarning: cftime_range() is deprecated, please use xarray.date_range(..., use_cftime=True) instead.\n",
      "  new_monthly_time = xr.cftime_range(start_date, periods=len(ds.time), freq='1MS')\n"
     ]
    },
    {
     "name": "stdout",
     "output_type": "stream",
     "text": [
      "fixing spco2 units\n",
      "Writing to save_path = 'gs://leap-persistent/mauriekeppens/Ensemble_Testbed_Analysis/00_regridded_members/MPI-ESM1-2-LR/member_r26i1p1f1/MPI-ESM1-2-LR.r26i1p1f1.Omon.zarr'\n",
      "[                                        ] | 0% Completed | 272.49 us"
     ]
    },
    {
     "name": "stderr",
     "output_type": "stream",
     "text": [
      "/srv/conda/envs/notebook/lib/python3.12/site-packages/zarr/api/asynchronous.py:227: UserWarning: Consolidated metadata is currently not part in the Zarr format 3 specification. It may not be supported by other zarr implementations and may change in the future.\n",
      "  warnings.warn(\n"
     ]
    },
    {
     "name": "stdout",
     "output_type": "stream",
     "text": [
      "[########################################] | 100% Completed | 16.79 s\n",
      "Processing member no.72,ACCESS-ESM1-5.gn.Omon.r1i1p1f1\n"
     ]
    },
    {
     "name": "stderr",
     "output_type": "stream",
     "text": [
      "/srv/conda/envs/notebook/lib/python3.12/site-packages/xarray/computation/apply_ufunc.py:445: PerformanceWarning: Regridding is increasing the number of chunks by a factor of 6.0, you might want to specify sizes in `output_chunks` in the regridder call. Default behaviour is to preserve the chunk sizes from the input (150, 120).\n",
      "  result_vars[name] = func(*variable_args)\n",
      "/tmp/ipykernel_3480/3573049386.py:14: DeprecationWarning: cftime_range() is deprecated, please use xarray.date_range(..., use_cftime=True) instead.\n",
      "  new_monthly_time = xr.cftime_range(start_date, periods=len(ds.time), freq='1MS')\n"
     ]
    },
    {
     "name": "stdout",
     "output_type": "stream",
     "text": [
      "fixing spco2 units\n",
      "Writing to save_path = 'gs://leap-persistent/mauriekeppens/Ensemble_Testbed_Analysis/00_regridded_members/ACCESS-ESM1-5/member_r1i1p1f1/ACCESS-ESM1-5.r1i1p1f1.Omon.zarr'\n"
     ]
    },
    {
     "name": "stderr",
     "output_type": "stream",
     "text": [
      "/srv/conda/envs/notebook/lib/python3.12/site-packages/zarr/api/asynchronous.py:227: UserWarning: Consolidated metadata is currently not part in the Zarr format 3 specification. It may not be supported by other zarr implementations and may change in the future.\n",
      "  warnings.warn(\n"
     ]
    },
    {
     "name": "stdout",
     "output_type": "stream",
     "text": [
      "[########################################] | 100% Completed | 51.64 s\n",
      "Processing member no.73,ACCESS-ESM1-5.gn.Omon.r34i1p1f1\n"
     ]
    },
    {
     "name": "stderr",
     "output_type": "stream",
     "text": [
      "/tmp/ipykernel_3480/3573049386.py:14: DeprecationWarning: cftime_range() is deprecated, please use xarray.date_range(..., use_cftime=True) instead.\n",
      "  new_monthly_time = xr.cftime_range(start_date, periods=len(ds.time), freq='1MS')\n"
     ]
    },
    {
     "name": "stdout",
     "output_type": "stream",
     "text": [
      "fixing spco2 units\n",
      "Writing to save_path = 'gs://leap-persistent/mauriekeppens/Ensemble_Testbed_Analysis/00_regridded_members/ACCESS-ESM1-5/member_r34i1p1f1/ACCESS-ESM1-5.r34i1p1f1.Omon.zarr'\n",
      "[                                        ] | 0% Completed | 329.91 us"
     ]
    },
    {
     "name": "stderr",
     "output_type": "stream",
     "text": [
      "/srv/conda/envs/notebook/lib/python3.12/site-packages/zarr/api/asynchronous.py:227: UserWarning: Consolidated metadata is currently not part in the Zarr format 3 specification. It may not be supported by other zarr implementations and may change in the future.\n",
      "  warnings.warn(\n"
     ]
    },
    {
     "name": "stdout",
     "output_type": "stream",
     "text": [
      "[########################################] | 100% Completed | 30.69 s\n",
      "Processing member no.74,UKESM1-0-LL.gn.Omon.r3i1p1f2\n"
     ]
    },
    {
     "name": "stderr",
     "output_type": "stream",
     "text": [
      "/tmp/ipykernel_3480/3573049386.py:14: DeprecationWarning: cftime_range() is deprecated, please use xarray.date_range(..., use_cftime=True) instead.\n",
      "  new_monthly_time = xr.cftime_range(start_date, periods=len(ds.time), freq='1MS')\n"
     ]
    },
    {
     "name": "stdout",
     "output_type": "stream",
     "text": [
      "fixing spco2 units\n",
      "Writing to save_path = 'gs://leap-persistent/mauriekeppens/Ensemble_Testbed_Analysis/00_regridded_members/UKESM1-0-LL/member_r3i1p1f2/UKESM1-0-LL.r3i1p1f2.Omon.zarr'\n",
      "[                                        ] | 0% Completed | 197.43 us"
     ]
    },
    {
     "name": "stderr",
     "output_type": "stream",
     "text": [
      "/srv/conda/envs/notebook/lib/python3.12/site-packages/zarr/api/asynchronous.py:227: UserWarning: Consolidated metadata is currently not part in the Zarr format 3 specification. It may not be supported by other zarr implementations and may change in the future.\n",
      "  warnings.warn(\n"
     ]
    },
    {
     "name": "stdout",
     "output_type": "stream",
     "text": [
      "[########################################] | 100% Completed | 36.98 s\n",
      "Processing member no.75,CanESM5.gn.Omon.r9i1p2f1\n"
     ]
    },
    {
     "name": "stderr",
     "output_type": "stream",
     "text": [
      "/tmp/ipykernel_3480/3573049386.py:14: DeprecationWarning: cftime_range() is deprecated, please use xarray.date_range(..., use_cftime=True) instead.\n",
      "  new_monthly_time = xr.cftime_range(start_date, periods=len(ds.time), freq='1MS')\n"
     ]
    },
    {
     "name": "stdout",
     "output_type": "stream",
     "text": [
      "fixing spco2 units\n",
      "Writing to save_path = 'gs://leap-persistent/mauriekeppens/Ensemble_Testbed_Analysis/00_regridded_members/CanESM5/member_r9i1p2f1/CanESM5.r9i1p2f1.Omon.zarr'\n",
      "[                                        ] | 0% Completed | 276.07 us"
     ]
    },
    {
     "name": "stderr",
     "output_type": "stream",
     "text": [
      "/srv/conda/envs/notebook/lib/python3.12/site-packages/zarr/api/asynchronous.py:227: UserWarning: Consolidated metadata is currently not part in the Zarr format 3 specification. It may not be supported by other zarr implementations and may change in the future.\n",
      "  warnings.warn(\n"
     ]
    },
    {
     "name": "stdout",
     "output_type": "stream",
     "text": [
      "[########################################] | 100% Completed | 25.76 s\n",
      "Processing member no.76,CanESM5.gn.Omon.r8i1p1f1\n"
     ]
    },
    {
     "name": "stderr",
     "output_type": "stream",
     "text": [
      "/tmp/ipykernel_3480/3573049386.py:14: DeprecationWarning: cftime_range() is deprecated, please use xarray.date_range(..., use_cftime=True) instead.\n",
      "  new_monthly_time = xr.cftime_range(start_date, periods=len(ds.time), freq='1MS')\n"
     ]
    },
    {
     "name": "stdout",
     "output_type": "stream",
     "text": [
      "fixing spco2 units\n",
      "Writing to save_path = 'gs://leap-persistent/mauriekeppens/Ensemble_Testbed_Analysis/00_regridded_members/CanESM5/member_r8i1p1f1/CanESM5.r8i1p1f1.Omon.zarr'\n",
      "[                                        ] | 0% Completed | 225.09 us"
     ]
    },
    {
     "name": "stderr",
     "output_type": "stream",
     "text": [
      "/srv/conda/envs/notebook/lib/python3.12/site-packages/zarr/api/asynchronous.py:227: UserWarning: Consolidated metadata is currently not part in the Zarr format 3 specification. It may not be supported by other zarr implementations and may change in the future.\n",
      "  warnings.warn(\n"
     ]
    },
    {
     "name": "stdout",
     "output_type": "stream",
     "text": [
      "[########################################] | 100% Completed | 26.24 s\n",
      "Processing member no.77,CanESM5.gn.Omon.r2i1p2f1\n"
     ]
    },
    {
     "name": "stderr",
     "output_type": "stream",
     "text": [
      "/tmp/ipykernel_3480/3573049386.py:14: DeprecationWarning: cftime_range() is deprecated, please use xarray.date_range(..., use_cftime=True) instead.\n",
      "  new_monthly_time = xr.cftime_range(start_date, periods=len(ds.time), freq='1MS')\n"
     ]
    },
    {
     "name": "stdout",
     "output_type": "stream",
     "text": [
      "fixing spco2 units\n",
      "Writing to save_path = 'gs://leap-persistent/mauriekeppens/Ensemble_Testbed_Analysis/00_regridded_members/CanESM5/member_r2i1p2f1/CanESM5.r2i1p2f1.Omon.zarr'\n",
      "[                                        ] | 0% Completed | 262.68 us"
     ]
    },
    {
     "name": "stderr",
     "output_type": "stream",
     "text": [
      "/srv/conda/envs/notebook/lib/python3.12/site-packages/zarr/api/asynchronous.py:227: UserWarning: Consolidated metadata is currently not part in the Zarr format 3 specification. It may not be supported by other zarr implementations and may change in the future.\n",
      "  warnings.warn(\n"
     ]
    },
    {
     "name": "stdout",
     "output_type": "stream",
     "text": [
      "[########################################] | 100% Completed | 25.68 s\n",
      "Processing member no.78,MPI-ESM1-2-LR.gn.Omon.r10i1p1f1\n"
     ]
    },
    {
     "name": "stderr",
     "output_type": "stream",
     "text": [
      "/tmp/ipykernel_3480/3573049386.py:14: DeprecationWarning: cftime_range() is deprecated, please use xarray.date_range(..., use_cftime=True) instead.\n",
      "  new_monthly_time = xr.cftime_range(start_date, periods=len(ds.time), freq='1MS')\n"
     ]
    },
    {
     "name": "stdout",
     "output_type": "stream",
     "text": [
      "fixing spco2 units\n",
      "Writing to save_path = 'gs://leap-persistent/mauriekeppens/Ensemble_Testbed_Analysis/00_regridded_members/MPI-ESM1-2-LR/member_r10i1p1f1/MPI-ESM1-2-LR.r10i1p1f1.Omon.zarr'\n",
      "[                                        ] | 0% Completed | 199.17 us"
     ]
    },
    {
     "name": "stderr",
     "output_type": "stream",
     "text": [
      "/srv/conda/envs/notebook/lib/python3.12/site-packages/zarr/api/asynchronous.py:227: UserWarning: Consolidated metadata is currently not part in the Zarr format 3 specification. It may not be supported by other zarr implementations and may change in the future.\n",
      "  warnings.warn(\n"
     ]
    },
    {
     "name": "stdout",
     "output_type": "stream",
     "text": [
      "[########################################] | 100% Completed | 16.54 s\n",
      "Processing member no.79,UKESM1-0-LL.gn.Omon.r2i1p1f2\n"
     ]
    },
    {
     "name": "stderr",
     "output_type": "stream",
     "text": [
      "/tmp/ipykernel_3480/3573049386.py:14: DeprecationWarning: cftime_range() is deprecated, please use xarray.date_range(..., use_cftime=True) instead.\n",
      "  new_monthly_time = xr.cftime_range(start_date, periods=len(ds.time), freq='1MS')\n"
     ]
    },
    {
     "name": "stdout",
     "output_type": "stream",
     "text": [
      "fixing spco2 units\n",
      "Writing to save_path = 'gs://leap-persistent/mauriekeppens/Ensemble_Testbed_Analysis/00_regridded_members/UKESM1-0-LL/member_r2i1p1f2/UKESM1-0-LL.r2i1p1f2.Omon.zarr'\n",
      "[                                        ] | 0% Completed | 215.21 us"
     ]
    },
    {
     "name": "stderr",
     "output_type": "stream",
     "text": [
      "/srv/conda/envs/notebook/lib/python3.12/site-packages/zarr/api/asynchronous.py:227: UserWarning: Consolidated metadata is currently not part in the Zarr format 3 specification. It may not be supported by other zarr implementations and may change in the future.\n",
      "  warnings.warn(\n"
     ]
    },
    {
     "name": "stdout",
     "output_type": "stream",
     "text": [
      "[########################################] | 100% Completed | 36.42 s\n",
      "Processing member no.80,CanESM5.gn.Omon.r6i1p1f1\n"
     ]
    },
    {
     "name": "stderr",
     "output_type": "stream",
     "text": [
      "/tmp/ipykernel_3480/3573049386.py:14: DeprecationWarning: cftime_range() is deprecated, please use xarray.date_range(..., use_cftime=True) instead.\n",
      "  new_monthly_time = xr.cftime_range(start_date, periods=len(ds.time), freq='1MS')\n"
     ]
    },
    {
     "name": "stdout",
     "output_type": "stream",
     "text": [
      "fixing spco2 units\n",
      "Writing to save_path = 'gs://leap-persistent/mauriekeppens/Ensemble_Testbed_Analysis/00_regridded_members/CanESM5/member_r6i1p1f1/CanESM5.r6i1p1f1.Omon.zarr'\n",
      "[                                        ] | 0% Completed | 206.76 us"
     ]
    },
    {
     "name": "stderr",
     "output_type": "stream",
     "text": [
      "/srv/conda/envs/notebook/lib/python3.12/site-packages/zarr/api/asynchronous.py:227: UserWarning: Consolidated metadata is currently not part in the Zarr format 3 specification. It may not be supported by other zarr implementations and may change in the future.\n",
      "  warnings.warn(\n"
     ]
    },
    {
     "name": "stdout",
     "output_type": "stream",
     "text": [
      "[########################################] | 100% Completed | 25.46 s\n",
      "Processing member no.81,CanESM5.gn.Omon.r5i1p2f1\n"
     ]
    },
    {
     "name": "stderr",
     "output_type": "stream",
     "text": [
      "/tmp/ipykernel_3480/3573049386.py:14: DeprecationWarning: cftime_range() is deprecated, please use xarray.date_range(..., use_cftime=True) instead.\n",
      "  new_monthly_time = xr.cftime_range(start_date, periods=len(ds.time), freq='1MS')\n"
     ]
    },
    {
     "name": "stdout",
     "output_type": "stream",
     "text": [
      "fixing spco2 units\n",
      "Writing to save_path = 'gs://leap-persistent/mauriekeppens/Ensemble_Testbed_Analysis/00_regridded_members/CanESM5/member_r5i1p2f1/CanESM5.r5i1p2f1.Omon.zarr'\n",
      "[                                        ] | 0% Completed | 210.06 us"
     ]
    },
    {
     "name": "stderr",
     "output_type": "stream",
     "text": [
      "/srv/conda/envs/notebook/lib/python3.12/site-packages/zarr/api/asynchronous.py:227: UserWarning: Consolidated metadata is currently not part in the Zarr format 3 specification. It may not be supported by other zarr implementations and may change in the future.\n",
      "  warnings.warn(\n"
     ]
    },
    {
     "name": "stdout",
     "output_type": "stream",
     "text": [
      "[########################################] | 100% Completed | 26.47 s\n",
      "Processing member no.82,ACCESS-ESM1-5.gn.Omon.r35i1p1f1\n"
     ]
    },
    {
     "name": "stderr",
     "output_type": "stream",
     "text": [
      "/tmp/ipykernel_3480/3573049386.py:14: DeprecationWarning: cftime_range() is deprecated, please use xarray.date_range(..., use_cftime=True) instead.\n",
      "  new_monthly_time = xr.cftime_range(start_date, periods=len(ds.time), freq='1MS')\n"
     ]
    },
    {
     "name": "stdout",
     "output_type": "stream",
     "text": [
      "fixing spco2 units\n",
      "Writing to save_path = 'gs://leap-persistent/mauriekeppens/Ensemble_Testbed_Analysis/00_regridded_members/ACCESS-ESM1-5/member_r35i1p1f1/ACCESS-ESM1-5.r35i1p1f1.Omon.zarr'\n",
      "[                                        ] | 0% Completed | 319.84 us"
     ]
    },
    {
     "name": "stderr",
     "output_type": "stream",
     "text": [
      "/srv/conda/envs/notebook/lib/python3.12/site-packages/zarr/api/asynchronous.py:227: UserWarning: Consolidated metadata is currently not part in the Zarr format 3 specification. It may not be supported by other zarr implementations and may change in the future.\n",
      "  warnings.warn(\n"
     ]
    },
    {
     "name": "stdout",
     "output_type": "stream",
     "text": [
      "[########################################] | 100% Completed | 31.84 s\n",
      "Processing member no.83,MPI-ESM1-2-LR.gn.Omon.r48i1p1f1\n"
     ]
    },
    {
     "name": "stderr",
     "output_type": "stream",
     "text": [
      "/srv/conda/envs/notebook/lib/python3.12/site-packages/xarray/computation/apply_ufunc.py:445: PerformanceWarning: Regridding is increasing the number of chunks by a factor of 6.0, you might want to specify sizes in `output_chunks` in the regridder call. Default behaviour is to preserve the chunk sizes from the input (110, 128).\n",
      "  result_vars[name] = func(*variable_args)\n",
      "/tmp/ipykernel_3480/3573049386.py:14: DeprecationWarning: cftime_range() is deprecated, please use xarray.date_range(..., use_cftime=True) instead.\n",
      "  new_monthly_time = xr.cftime_range(start_date, periods=len(ds.time), freq='1MS')\n"
     ]
    },
    {
     "name": "stdout",
     "output_type": "stream",
     "text": [
      "fixing spco2 units\n",
      "Writing to save_path = 'gs://leap-persistent/mauriekeppens/Ensemble_Testbed_Analysis/00_regridded_members/MPI-ESM1-2-LR/member_r48i1p1f1/MPI-ESM1-2-LR.r48i1p1f1.Omon.zarr'\n",
      "[                                        ] | 0% Completed | 225.45 us"
     ]
    },
    {
     "name": "stderr",
     "output_type": "stream",
     "text": [
      "/srv/conda/envs/notebook/lib/python3.12/site-packages/zarr/api/asynchronous.py:227: UserWarning: Consolidated metadata is currently not part in the Zarr format 3 specification. It may not be supported by other zarr implementations and may change in the future.\n",
      "  warnings.warn(\n"
     ]
    },
    {
     "name": "stdout",
     "output_type": "stream",
     "text": [
      "[########################################] | 100% Completed | 16.16 s\n",
      "Processing member no.84,CanESM5.gn.Omon.r1i1p1f1\n"
     ]
    },
    {
     "name": "stderr",
     "output_type": "stream",
     "text": [
      "/tmp/ipykernel_3480/3573049386.py:14: DeprecationWarning: cftime_range() is deprecated, please use xarray.date_range(..., use_cftime=True) instead.\n",
      "  new_monthly_time = xr.cftime_range(start_date, periods=len(ds.time), freq='1MS')\n"
     ]
    },
    {
     "name": "stdout",
     "output_type": "stream",
     "text": [
      "fixing spco2 units\n",
      "Writing to save_path = 'gs://leap-persistent/mauriekeppens/Ensemble_Testbed_Analysis/00_regridded_members/CanESM5/member_r1i1p1f1/CanESM5.r1i1p1f1.Omon.zarr'\n",
      "[                                        ] | 0% Completed | 387.70 us"
     ]
    },
    {
     "name": "stderr",
     "output_type": "stream",
     "text": [
      "/srv/conda/envs/notebook/lib/python3.12/site-packages/zarr/api/asynchronous.py:227: UserWarning: Consolidated metadata is currently not part in the Zarr format 3 specification. It may not be supported by other zarr implementations and may change in the future.\n",
      "  warnings.warn(\n"
     ]
    },
    {
     "name": "stdout",
     "output_type": "stream",
     "text": [
      "[########################################] | 100% Completed | 26.07 s\n",
      "Processing member no.85,MPI-ESM1-2-LR.gn.Omon.r46i1p1f1\n"
     ]
    },
    {
     "name": "stderr",
     "output_type": "stream",
     "text": [
      "/srv/conda/envs/notebook/lib/python3.12/site-packages/xarray/computation/apply_ufunc.py:445: PerformanceWarning: Regridding is increasing the number of chunks by a factor of 6.0, you might want to specify sizes in `output_chunks` in the regridder call. Default behaviour is to preserve the chunk sizes from the input (110, 128).\n",
      "  result_vars[name] = func(*variable_args)\n",
      "/tmp/ipykernel_3480/3573049386.py:14: DeprecationWarning: cftime_range() is deprecated, please use xarray.date_range(..., use_cftime=True) instead.\n",
      "  new_monthly_time = xr.cftime_range(start_date, periods=len(ds.time), freq='1MS')\n"
     ]
    },
    {
     "name": "stdout",
     "output_type": "stream",
     "text": [
      "fixing spco2 units\n",
      "Writing to save_path = 'gs://leap-persistent/mauriekeppens/Ensemble_Testbed_Analysis/00_regridded_members/MPI-ESM1-2-LR/member_r46i1p1f1/MPI-ESM1-2-LR.r46i1p1f1.Omon.zarr'\n",
      "[                                        ] | 0% Completed | 311.05 us"
     ]
    },
    {
     "name": "stderr",
     "output_type": "stream",
     "text": [
      "/srv/conda/envs/notebook/lib/python3.12/site-packages/zarr/api/asynchronous.py:227: UserWarning: Consolidated metadata is currently not part in the Zarr format 3 specification. It may not be supported by other zarr implementations and may change in the future.\n",
      "  warnings.warn(\n"
     ]
    },
    {
     "name": "stdout",
     "output_type": "stream",
     "text": [
      "[########################################] | 100% Completed | 16.52 s\n",
      "Processing member no.86,CanESM5.gn.Omon.r8i1p2f1\n"
     ]
    },
    {
     "name": "stderr",
     "output_type": "stream",
     "text": [
      "/tmp/ipykernel_3480/3573049386.py:14: DeprecationWarning: cftime_range() is deprecated, please use xarray.date_range(..., use_cftime=True) instead.\n",
      "  new_monthly_time = xr.cftime_range(start_date, periods=len(ds.time), freq='1MS')\n"
     ]
    },
    {
     "name": "stdout",
     "output_type": "stream",
     "text": [
      "fixing spco2 units\n",
      "Writing to save_path = 'gs://leap-persistent/mauriekeppens/Ensemble_Testbed_Analysis/00_regridded_members/CanESM5/member_r8i1p2f1/CanESM5.r8i1p2f1.Omon.zarr'\n",
      "[                                        ] | 0% Completed | 230.92 us"
     ]
    },
    {
     "name": "stderr",
     "output_type": "stream",
     "text": [
      "/srv/conda/envs/notebook/lib/python3.12/site-packages/zarr/api/asynchronous.py:227: UserWarning: Consolidated metadata is currently not part in the Zarr format 3 specification. It may not be supported by other zarr implementations and may change in the future.\n",
      "  warnings.warn(\n"
     ]
    },
    {
     "name": "stdout",
     "output_type": "stream",
     "text": [
      "[########################################] | 100% Completed | 26.29 s\n",
      "Processing member no.87,MPI-ESM1-2-LR.gn.Omon.r31i1p1f1\n"
     ]
    },
    {
     "name": "stderr",
     "output_type": "stream",
     "text": [
      "/srv/conda/envs/notebook/lib/python3.12/site-packages/xarray/computation/apply_ufunc.py:445: PerformanceWarning: Regridding is increasing the number of chunks by a factor of 6.0, you might want to specify sizes in `output_chunks` in the regridder call. Default behaviour is to preserve the chunk sizes from the input (110, 128).\n",
      "  result_vars[name] = func(*variable_args)\n",
      "/tmp/ipykernel_3480/3573049386.py:14: DeprecationWarning: cftime_range() is deprecated, please use xarray.date_range(..., use_cftime=True) instead.\n",
      "  new_monthly_time = xr.cftime_range(start_date, periods=len(ds.time), freq='1MS')\n"
     ]
    },
    {
     "name": "stdout",
     "output_type": "stream",
     "text": [
      "fixing spco2 units\n",
      "Writing to save_path = 'gs://leap-persistent/mauriekeppens/Ensemble_Testbed_Analysis/00_regridded_members/MPI-ESM1-2-LR/member_r31i1p1f1/MPI-ESM1-2-LR.r31i1p1f1.Omon.zarr'\n",
      "[                                        ] | 0% Completed | 310.50 us"
     ]
    },
    {
     "name": "stderr",
     "output_type": "stream",
     "text": [
      "/srv/conda/envs/notebook/lib/python3.12/site-packages/zarr/api/asynchronous.py:227: UserWarning: Consolidated metadata is currently not part in the Zarr format 3 specification. It may not be supported by other zarr implementations and may change in the future.\n",
      "  warnings.warn(\n"
     ]
    },
    {
     "name": "stdout",
     "output_type": "stream",
     "text": [
      "[########################################] | 100% Completed | 16.61 s\n",
      "Processing member no.88,CanESM5.gn.Omon.r6i1p2f1\n"
     ]
    },
    {
     "name": "stderr",
     "output_type": "stream",
     "text": [
      "/tmp/ipykernel_3480/3573049386.py:14: DeprecationWarning: cftime_range() is deprecated, please use xarray.date_range(..., use_cftime=True) instead.\n",
      "  new_monthly_time = xr.cftime_range(start_date, periods=len(ds.time), freq='1MS')\n"
     ]
    },
    {
     "name": "stdout",
     "output_type": "stream",
     "text": [
      "fixing spco2 units\n",
      "Writing to save_path = 'gs://leap-persistent/mauriekeppens/Ensemble_Testbed_Analysis/00_regridded_members/CanESM5/member_r6i1p2f1/CanESM5.r6i1p2f1.Omon.zarr'\n",
      "[                                        ] | 0% Completed | 293.72 us"
     ]
    },
    {
     "name": "stderr",
     "output_type": "stream",
     "text": [
      "/srv/conda/envs/notebook/lib/python3.12/site-packages/zarr/api/asynchronous.py:227: UserWarning: Consolidated metadata is currently not part in the Zarr format 3 specification. It may not be supported by other zarr implementations and may change in the future.\n",
      "  warnings.warn(\n"
     ]
    },
    {
     "name": "stdout",
     "output_type": "stream",
     "text": [
      "[########################################] | 100% Completed | 26.33 s\n",
      "Processing member no.89,CanESM5.gn.Omon.r3i1p1f1\n"
     ]
    },
    {
     "name": "stderr",
     "output_type": "stream",
     "text": [
      "/tmp/ipykernel_3480/3573049386.py:14: DeprecationWarning: cftime_range() is deprecated, please use xarray.date_range(..., use_cftime=True) instead.\n",
      "  new_monthly_time = xr.cftime_range(start_date, periods=len(ds.time), freq='1MS')\n"
     ]
    },
    {
     "name": "stdout",
     "output_type": "stream",
     "text": [
      "fixing spco2 units\n",
      "Writing to save_path = 'gs://leap-persistent/mauriekeppens/Ensemble_Testbed_Analysis/00_regridded_members/CanESM5/member_r3i1p1f1/CanESM5.r3i1p1f1.Omon.zarr'\n",
      "[                                        ] | 0% Completed | 207.22 us"
     ]
    },
    {
     "name": "stderr",
     "output_type": "stream",
     "text": [
      "/srv/conda/envs/notebook/lib/python3.12/site-packages/zarr/api/asynchronous.py:227: UserWarning: Consolidated metadata is currently not part in the Zarr format 3 specification. It may not be supported by other zarr implementations and may change in the future.\n",
      "  warnings.warn(\n"
     ]
    },
    {
     "name": "stdout",
     "output_type": "stream",
     "text": [
      "[########################################] | 100% Completed | 26.15 s\n",
      "Processing member no.90,ACCESS-ESM1-5.gn.Omon.r36i1p1f1\n"
     ]
    },
    {
     "name": "stderr",
     "output_type": "stream",
     "text": [
      "/tmp/ipykernel_3480/3573049386.py:14: DeprecationWarning: cftime_range() is deprecated, please use xarray.date_range(..., use_cftime=True) instead.\n",
      "  new_monthly_time = xr.cftime_range(start_date, periods=len(ds.time), freq='1MS')\n"
     ]
    },
    {
     "name": "stdout",
     "output_type": "stream",
     "text": [
      "fixing spco2 units\n",
      "Writing to save_path = 'gs://leap-persistent/mauriekeppens/Ensemble_Testbed_Analysis/00_regridded_members/ACCESS-ESM1-5/member_r36i1p1f1/ACCESS-ESM1-5.r36i1p1f1.Omon.zarr'\n",
      "[                                        ] | 0% Completed | 219.36 us"
     ]
    },
    {
     "name": "stderr",
     "output_type": "stream",
     "text": [
      "/srv/conda/envs/notebook/lib/python3.12/site-packages/zarr/api/asynchronous.py:227: UserWarning: Consolidated metadata is currently not part in the Zarr format 3 specification. It may not be supported by other zarr implementations and may change in the future.\n",
      "  warnings.warn(\n"
     ]
    },
    {
     "name": "stdout",
     "output_type": "stream",
     "text": [
      "[########################################] | 100% Completed | 30.76 s\n",
      "Processing member no.91,MPI-ESM1-2-LR.gn.Omon.r36i1p1f1\n"
     ]
    },
    {
     "name": "stderr",
     "output_type": "stream",
     "text": [
      "/srv/conda/envs/notebook/lib/python3.12/site-packages/xarray/computation/apply_ufunc.py:445: PerformanceWarning: Regridding is increasing the number of chunks by a factor of 6.0, you might want to specify sizes in `output_chunks` in the regridder call. Default behaviour is to preserve the chunk sizes from the input (110, 128).\n",
      "  result_vars[name] = func(*variable_args)\n",
      "/tmp/ipykernel_3480/3573049386.py:14: DeprecationWarning: cftime_range() is deprecated, please use xarray.date_range(..., use_cftime=True) instead.\n",
      "  new_monthly_time = xr.cftime_range(start_date, periods=len(ds.time), freq='1MS')\n"
     ]
    },
    {
     "name": "stdout",
     "output_type": "stream",
     "text": [
      "fixing spco2 units\n",
      "Writing to save_path = 'gs://leap-persistent/mauriekeppens/Ensemble_Testbed_Analysis/00_regridded_members/MPI-ESM1-2-LR/member_r36i1p1f1/MPI-ESM1-2-LR.r36i1p1f1.Omon.zarr'\n",
      "[                                        ] | 0% Completed | 288.86 us"
     ]
    },
    {
     "name": "stderr",
     "output_type": "stream",
     "text": [
      "/srv/conda/envs/notebook/lib/python3.12/site-packages/zarr/api/asynchronous.py:227: UserWarning: Consolidated metadata is currently not part in the Zarr format 3 specification. It may not be supported by other zarr implementations and may change in the future.\n",
      "  warnings.warn(\n"
     ]
    },
    {
     "name": "stdout",
     "output_type": "stream",
     "text": [
      "[########################################] | 100% Completed | 16.23 s\n",
      "Processing member no.92,MPI-ESM1-2-LR.gn.Omon.r24i1p1f1\n"
     ]
    },
    {
     "name": "stderr",
     "output_type": "stream",
     "text": [
      "/tmp/ipykernel_3480/3573049386.py:14: DeprecationWarning: cftime_range() is deprecated, please use xarray.date_range(..., use_cftime=True) instead.\n",
      "  new_monthly_time = xr.cftime_range(start_date, periods=len(ds.time), freq='1MS')\n"
     ]
    },
    {
     "name": "stdout",
     "output_type": "stream",
     "text": [
      "fixing spco2 units\n",
      "Writing to save_path = 'gs://leap-persistent/mauriekeppens/Ensemble_Testbed_Analysis/00_regridded_members/MPI-ESM1-2-LR/member_r24i1p1f1/MPI-ESM1-2-LR.r24i1p1f1.Omon.zarr'\n",
      "[                                        ] | 0% Completed | 290.81 us"
     ]
    },
    {
     "name": "stderr",
     "output_type": "stream",
     "text": [
      "/srv/conda/envs/notebook/lib/python3.12/site-packages/zarr/api/asynchronous.py:227: UserWarning: Consolidated metadata is currently not part in the Zarr format 3 specification. It may not be supported by other zarr implementations and may change in the future.\n",
      "  warnings.warn(\n"
     ]
    },
    {
     "name": "stdout",
     "output_type": "stream",
     "text": [
      "[########################################] | 100% Completed | 16.21 s\n",
      "Processing member no.93,MPI-ESM1-2-LR.gn.Omon.r4i1p1f1\n"
     ]
    },
    {
     "name": "stderr",
     "output_type": "stream",
     "text": [
      "/tmp/ipykernel_3480/3573049386.py:14: DeprecationWarning: cftime_range() is deprecated, please use xarray.date_range(..., use_cftime=True) instead.\n",
      "  new_monthly_time = xr.cftime_range(start_date, periods=len(ds.time), freq='1MS')\n"
     ]
    },
    {
     "name": "stdout",
     "output_type": "stream",
     "text": [
      "fixing spco2 units\n",
      "Writing to save_path = 'gs://leap-persistent/mauriekeppens/Ensemble_Testbed_Analysis/00_regridded_members/MPI-ESM1-2-LR/member_r4i1p1f1/MPI-ESM1-2-LR.r4i1p1f1.Omon.zarr'\n",
      "[                                        ] | 0% Completed | 220.72 us"
     ]
    },
    {
     "name": "stderr",
     "output_type": "stream",
     "text": [
      "/srv/conda/envs/notebook/lib/python3.12/site-packages/zarr/api/asynchronous.py:227: UserWarning: Consolidated metadata is currently not part in the Zarr format 3 specification. It may not be supported by other zarr implementations and may change in the future.\n",
      "  warnings.warn(\n"
     ]
    },
    {
     "name": "stdout",
     "output_type": "stream",
     "text": [
      "[########################################] | 100% Completed | 15.82 s\n",
      "Processing member no.94,MPI-ESM1-2-LR.gn.Omon.r13i1p1f1\n"
     ]
    },
    {
     "name": "stderr",
     "output_type": "stream",
     "text": [
      "/tmp/ipykernel_3480/3573049386.py:14: DeprecationWarning: cftime_range() is deprecated, please use xarray.date_range(..., use_cftime=True) instead.\n",
      "  new_monthly_time = xr.cftime_range(start_date, periods=len(ds.time), freq='1MS')\n"
     ]
    },
    {
     "name": "stdout",
     "output_type": "stream",
     "text": [
      "fixing spco2 units\n",
      "Writing to save_path = 'gs://leap-persistent/mauriekeppens/Ensemble_Testbed_Analysis/00_regridded_members/MPI-ESM1-2-LR/member_r13i1p1f1/MPI-ESM1-2-LR.r13i1p1f1.Omon.zarr'\n",
      "[                                        ] | 0% Completed | 292.00 us"
     ]
    },
    {
     "name": "stderr",
     "output_type": "stream",
     "text": [
      "/srv/conda/envs/notebook/lib/python3.12/site-packages/zarr/api/asynchronous.py:227: UserWarning: Consolidated metadata is currently not part in the Zarr format 3 specification. It may not be supported by other zarr implementations and may change in the future.\n",
      "  warnings.warn(\n"
     ]
    },
    {
     "name": "stdout",
     "output_type": "stream",
     "text": [
      "[########################################] | 100% Completed | 16.29 s\n",
      "Processing member no.95,ACCESS-ESM1-5.gn.Omon.r2i1p1f1\n"
     ]
    },
    {
     "name": "stderr",
     "output_type": "stream",
     "text": [
      "/srv/conda/envs/notebook/lib/python3.12/site-packages/xarray/computation/apply_ufunc.py:445: PerformanceWarning: Regridding is increasing the number of chunks by a factor of 6.0, you might want to specify sizes in `output_chunks` in the regridder call. Default behaviour is to preserve the chunk sizes from the input (150, 120).\n",
      "  result_vars[name] = func(*variable_args)\n",
      "/tmp/ipykernel_3480/3573049386.py:14: DeprecationWarning: cftime_range() is deprecated, please use xarray.date_range(..., use_cftime=True) instead.\n",
      "  new_monthly_time = xr.cftime_range(start_date, periods=len(ds.time), freq='1MS')\n"
     ]
    },
    {
     "name": "stdout",
     "output_type": "stream",
     "text": [
      "fixing spco2 units\n",
      "Writing to save_path = 'gs://leap-persistent/mauriekeppens/Ensemble_Testbed_Analysis/00_regridded_members/ACCESS-ESM1-5/member_r2i1p1f1/ACCESS-ESM1-5.r2i1p1f1.Omon.zarr'\n"
     ]
    },
    {
     "name": "stderr",
     "output_type": "stream",
     "text": [
      "/srv/conda/envs/notebook/lib/python3.12/site-packages/zarr/api/asynchronous.py:227: UserWarning: Consolidated metadata is currently not part in the Zarr format 3 specification. It may not be supported by other zarr implementations and may change in the future.\n",
      "  warnings.warn(\n"
     ]
    },
    {
     "name": "stdout",
     "output_type": "stream",
     "text": [
      "[########################################] | 100% Completed | 49.70 s\n",
      "Processing member no.96,ACCESS-ESM1-5.gn.Omon.r33i1p1f1\n"
     ]
    },
    {
     "name": "stderr",
     "output_type": "stream",
     "text": [
      "/tmp/ipykernel_3480/3573049386.py:14: DeprecationWarning: cftime_range() is deprecated, please use xarray.date_range(..., use_cftime=True) instead.\n",
      "  new_monthly_time = xr.cftime_range(start_date, periods=len(ds.time), freq='1MS')\n"
     ]
    },
    {
     "name": "stdout",
     "output_type": "stream",
     "text": [
      "fixing spco2 units\n",
      "Writing to save_path = 'gs://leap-persistent/mauriekeppens/Ensemble_Testbed_Analysis/00_regridded_members/ACCESS-ESM1-5/member_r33i1p1f1/ACCESS-ESM1-5.r33i1p1f1.Omon.zarr'\n",
      "[                                        ] | 0% Completed | 256.90 us"
     ]
    },
    {
     "name": "stderr",
     "output_type": "stream",
     "text": [
      "/srv/conda/envs/notebook/lib/python3.12/site-packages/zarr/api/asynchronous.py:227: UserWarning: Consolidated metadata is currently not part in the Zarr format 3 specification. It may not be supported by other zarr implementations and may change in the future.\n",
      "  warnings.warn(\n"
     ]
    },
    {
     "name": "stdout",
     "output_type": "stream",
     "text": [
      "[########################################] | 100% Completed | 30.54 s\n",
      "Processing member no.97,MPI-ESM1-2-LR.gn.Omon.r6i1p1f1\n"
     ]
    },
    {
     "name": "stderr",
     "output_type": "stream",
     "text": [
      "/tmp/ipykernel_3480/3573049386.py:14: DeprecationWarning: cftime_range() is deprecated, please use xarray.date_range(..., use_cftime=True) instead.\n",
      "  new_monthly_time = xr.cftime_range(start_date, periods=len(ds.time), freq='1MS')\n"
     ]
    },
    {
     "name": "stdout",
     "output_type": "stream",
     "text": [
      "fixing spco2 units\n",
      "Writing to save_path = 'gs://leap-persistent/mauriekeppens/Ensemble_Testbed_Analysis/00_regridded_members/MPI-ESM1-2-LR/member_r6i1p1f1/MPI-ESM1-2-LR.r6i1p1f1.Omon.zarr'\n",
      "[                                        ] | 0% Completed | 305.26 us"
     ]
    },
    {
     "name": "stderr",
     "output_type": "stream",
     "text": [
      "/srv/conda/envs/notebook/lib/python3.12/site-packages/zarr/api/asynchronous.py:227: UserWarning: Consolidated metadata is currently not part in the Zarr format 3 specification. It may not be supported by other zarr implementations and may change in the future.\n",
      "  warnings.warn(\n"
     ]
    },
    {
     "name": "stdout",
     "output_type": "stream",
     "text": [
      "[########################################] | 100% Completed | 16.22 s\n",
      "Processing member no.98,MPI-ESM1-2-LR.gn.Omon.r45i1p1f1\n"
     ]
    },
    {
     "name": "stderr",
     "output_type": "stream",
     "text": [
      "/srv/conda/envs/notebook/lib/python3.12/site-packages/xarray/computation/apply_ufunc.py:445: PerformanceWarning: Regridding is increasing the number of chunks by a factor of 6.0, you might want to specify sizes in `output_chunks` in the regridder call. Default behaviour is to preserve the chunk sizes from the input (110, 128).\n",
      "  result_vars[name] = func(*variable_args)\n",
      "/tmp/ipykernel_3480/3573049386.py:14: DeprecationWarning: cftime_range() is deprecated, please use xarray.date_range(..., use_cftime=True) instead.\n",
      "  new_monthly_time = xr.cftime_range(start_date, periods=len(ds.time), freq='1MS')\n"
     ]
    },
    {
     "name": "stdout",
     "output_type": "stream",
     "text": [
      "fixing spco2 units\n",
      "Writing to save_path = 'gs://leap-persistent/mauriekeppens/Ensemble_Testbed_Analysis/00_regridded_members/MPI-ESM1-2-LR/member_r45i1p1f1/MPI-ESM1-2-LR.r45i1p1f1.Omon.zarr'\n",
      "[                                        ] | 0% Completed | 243.18 us"
     ]
    },
    {
     "name": "stderr",
     "output_type": "stream",
     "text": [
      "/srv/conda/envs/notebook/lib/python3.12/site-packages/zarr/api/asynchronous.py:227: UserWarning: Consolidated metadata is currently not part in the Zarr format 3 specification. It may not be supported by other zarr implementations and may change in the future.\n",
      "  warnings.warn(\n"
     ]
    },
    {
     "name": "stdout",
     "output_type": "stream",
     "text": [
      "[########################################] | 100% Completed | 16.31 s\n",
      "Processing member no.99,MPI-ESM1-2-LR.gn.Omon.r20i1p1f1\n"
     ]
    },
    {
     "name": "stderr",
     "output_type": "stream",
     "text": [
      "/tmp/ipykernel_3480/3573049386.py:14: DeprecationWarning: cftime_range() is deprecated, please use xarray.date_range(..., use_cftime=True) instead.\n",
      "  new_monthly_time = xr.cftime_range(start_date, periods=len(ds.time), freq='1MS')\n"
     ]
    },
    {
     "name": "stdout",
     "output_type": "stream",
     "text": [
      "fixing spco2 units\n",
      "Writing to save_path = 'gs://leap-persistent/mauriekeppens/Ensemble_Testbed_Analysis/00_regridded_members/MPI-ESM1-2-LR/member_r20i1p1f1/MPI-ESM1-2-LR.r20i1p1f1.Omon.zarr'\n",
      "[                                        ] | 0% Completed | 334.76 us"
     ]
    },
    {
     "name": "stderr",
     "output_type": "stream",
     "text": [
      "/srv/conda/envs/notebook/lib/python3.12/site-packages/zarr/api/asynchronous.py:227: UserWarning: Consolidated metadata is currently not part in the Zarr format 3 specification. It may not be supported by other zarr implementations and may change in the future.\n",
      "  warnings.warn(\n"
     ]
    },
    {
     "name": "stdout",
     "output_type": "stream",
     "text": [
      "[########################################] | 100% Completed | 16.41 s\n",
      "Processing member no.100,ACCESS-ESM1-5.gn.Omon.r4i1p1f1\n"
     ]
    },
    {
     "name": "stderr",
     "output_type": "stream",
     "text": [
      "/tmp/ipykernel_3480/3573049386.py:14: DeprecationWarning: cftime_range() is deprecated, please use xarray.date_range(..., use_cftime=True) instead.\n",
      "  new_monthly_time = xr.cftime_range(start_date, periods=len(ds.time), freq='1MS')\n"
     ]
    },
    {
     "name": "stdout",
     "output_type": "stream",
     "text": [
      "fixing spco2 units\n",
      "Writing to save_path = 'gs://leap-persistent/mauriekeppens/Ensemble_Testbed_Analysis/00_regridded_members/ACCESS-ESM1-5/member_r4i1p1f1/ACCESS-ESM1-5.r4i1p1f1.Omon.zarr'\n",
      "[                                        ] | 0% Completed | 194.11 us"
     ]
    },
    {
     "name": "stderr",
     "output_type": "stream",
     "text": [
      "/srv/conda/envs/notebook/lib/python3.12/site-packages/zarr/api/asynchronous.py:227: UserWarning: Consolidated metadata is currently not part in the Zarr format 3 specification. It may not be supported by other zarr implementations and may change in the future.\n",
      "  warnings.warn(\n"
     ]
    },
    {
     "name": "stdout",
     "output_type": "stream",
     "text": [
      "[########################################] | 100% Completed | 31.45 s\n",
      "Processing member no.101,CESM2-WACCM.gr.Omon.r1i1p1f1\n"
     ]
    },
    {
     "name": "stderr",
     "output_type": "stream",
     "text": [
      "/tmp/ipykernel_3480/3573049386.py:14: DeprecationWarning: cftime_range() is deprecated, please use xarray.date_range(..., use_cftime=True) instead.\n",
      "  new_monthly_time = xr.cftime_range(start_date, periods=len(ds.time), freq='1MS')\n"
     ]
    },
    {
     "name": "stdout",
     "output_type": "stream",
     "text": [
      "fixing spco2 units\n",
      "Writing to save_path = 'gs://leap-persistent/mauriekeppens/Ensemble_Testbed_Analysis/00_regridded_members/CESM2-WACCM/member_r1i1p1f1/CESM2-WACCM.r1i1p1f1.Omon.zarr'\n",
      "[                                        ] | 0% Completed | 309.93 us"
     ]
    },
    {
     "name": "stderr",
     "output_type": "stream",
     "text": [
      "/srv/conda/envs/notebook/lib/python3.12/site-packages/zarr/api/asynchronous.py:227: UserWarning: Consolidated metadata is currently not part in the Zarr format 3 specification. It may not be supported by other zarr implementations and may change in the future.\n",
      "  warnings.warn(\n"
     ]
    },
    {
     "name": "stdout",
     "output_type": "stream",
     "text": [
      "[########################################] | 100% Completed | 10.30 ss\n",
      "Processing member no.102,ACCESS-ESM1-5.gn.Omon.r17i1p1f1\n"
     ]
    },
    {
     "name": "stderr",
     "output_type": "stream",
     "text": [
      "/tmp/ipykernel_3480/3573049386.py:14: DeprecationWarning: cftime_range() is deprecated, please use xarray.date_range(..., use_cftime=True) instead.\n",
      "  new_monthly_time = xr.cftime_range(start_date, periods=len(ds.time), freq='1MS')\n"
     ]
    },
    {
     "name": "stdout",
     "output_type": "stream",
     "text": [
      "fixing spco2 units\n",
      "Writing to save_path = 'gs://leap-persistent/mauriekeppens/Ensemble_Testbed_Analysis/00_regridded_members/ACCESS-ESM1-5/member_r17i1p1f1/ACCESS-ESM1-5.r17i1p1f1.Omon.zarr'\n",
      "[                                        ] | 0% Completed | 304.42 us"
     ]
    },
    {
     "name": "stderr",
     "output_type": "stream",
     "text": [
      "/srv/conda/envs/notebook/lib/python3.12/site-packages/zarr/api/asynchronous.py:227: UserWarning: Consolidated metadata is currently not part in the Zarr format 3 specification. It may not be supported by other zarr implementations and may change in the future.\n",
      "  warnings.warn(\n"
     ]
    },
    {
     "name": "stdout",
     "output_type": "stream",
     "text": [
      "[########################################] | 100% Completed | 31.64 s\n",
      "Processing member no.103,MPI-ESM1-2-LR.gn.Omon.r1i1p1f1\n"
     ]
    },
    {
     "name": "stderr",
     "output_type": "stream",
     "text": [
      "/tmp/ipykernel_3480/3573049386.py:14: DeprecationWarning: cftime_range() is deprecated, please use xarray.date_range(..., use_cftime=True) instead.\n",
      "  new_monthly_time = xr.cftime_range(start_date, periods=len(ds.time), freq='1MS')\n"
     ]
    },
    {
     "name": "stdout",
     "output_type": "stream",
     "text": [
      "fixing spco2 units\n",
      "Writing to save_path = 'gs://leap-persistent/mauriekeppens/Ensemble_Testbed_Analysis/00_regridded_members/MPI-ESM1-2-LR/member_r1i1p1f1/MPI-ESM1-2-LR.r1i1p1f1.Omon.zarr'\n",
      "[                                        ] | 0% Completed | 191.95 us"
     ]
    },
    {
     "name": "stderr",
     "output_type": "stream",
     "text": [
      "/srv/conda/envs/notebook/lib/python3.12/site-packages/zarr/api/asynchronous.py:227: UserWarning: Consolidated metadata is currently not part in the Zarr format 3 specification. It may not be supported by other zarr implementations and may change in the future.\n",
      "  warnings.warn(\n"
     ]
    },
    {
     "name": "stdout",
     "output_type": "stream",
     "text": [
      "[########################################] | 100% Completed | 16.21 s\n",
      "Processing member no.104,MPI-ESM1-2-LR.gn.Omon.r35i1p1f1\n"
     ]
    },
    {
     "name": "stderr",
     "output_type": "stream",
     "text": [
      "/srv/conda/envs/notebook/lib/python3.12/site-packages/xarray/computation/apply_ufunc.py:445: PerformanceWarning: Regridding is increasing the number of chunks by a factor of 6.0, you might want to specify sizes in `output_chunks` in the regridder call. Default behaviour is to preserve the chunk sizes from the input (110, 128).\n",
      "  result_vars[name] = func(*variable_args)\n",
      "/tmp/ipykernel_3480/3573049386.py:14: DeprecationWarning: cftime_range() is deprecated, please use xarray.date_range(..., use_cftime=True) instead.\n",
      "  new_monthly_time = xr.cftime_range(start_date, periods=len(ds.time), freq='1MS')\n"
     ]
    },
    {
     "name": "stdout",
     "output_type": "stream",
     "text": [
      "fixing spco2 units\n",
      "Writing to save_path = 'gs://leap-persistent/mauriekeppens/Ensemble_Testbed_Analysis/00_regridded_members/MPI-ESM1-2-LR/member_r35i1p1f1/MPI-ESM1-2-LR.r35i1p1f1.Omon.zarr'\n"
     ]
    },
    {
     "name": "stderr",
     "output_type": "stream",
     "text": [
      "/srv/conda/envs/notebook/lib/python3.12/site-packages/zarr/api/asynchronous.py:227: UserWarning: Consolidated metadata is currently not part in the Zarr format 3 specification. It may not be supported by other zarr implementations and may change in the future.\n",
      "  warnings.warn(\n"
     ]
    },
    {
     "name": "stdout",
     "output_type": "stream",
     "text": [
      "[########################################] | 100% Completed | 16.45 s\n",
      "Processing member no.105,MPI-ESM1-2-LR.gn.Omon.r47i1p1f1\n"
     ]
    }
   ],
   "source": [
    "member_counter = 0\n",
    "\n",
    "## loop through all members (this is a combination of ESM and a member of that ESM)\n",
    "for k,item in ds.items():\n",
    "        print(f\"Processing member no.{member_counter},{k}\")\n",
    "\n",
    "        ## regridding step here\n",
    "        item_out = full_testbed_processing(target_grid, processed_start_yearmonth, processed_end_yearmonth, len(ttime), item) \n",
    "                # Runs your cleaning/regridding pipeline on each dataset.\n",
    "                # applying the cleaning/regridding pipeline to the entire dataset for one ESM member, i.e. all its variables at once. (chla, SST, SSS, MLD, pCO2)\n",
    "                # item_out.keys() -> chl, SSS, SST, MLD, pCO2\n",
    "    \n",
    "        ## get CMIP6 ID for member\n",
    "        item_id = cmip6_dataset_id(item_out, id_attrs=[\n",
    "            'source_id',\n",
    "            'variant_label',\n",
    "            'table_id'\n",
    "        ])\n",
    "\n",
    "        ## converting pco2 to microatmospheres, from pascals!\n",
    "        if 'spco2' in list(item_out.keys()):\n",
    "            if item_out['spco2'].attrs['units'] == 'Pa':\n",
    "                print('fixing spco2 units')\n",
    "                new_spco2 = item_out.spco2 * 10**6 / 101325  #to get to microatm\n",
    "                item_out['spco2'].values = new_spco2\n",
    "                item_out['spco2'].attrs[\"units\"] = 'microatmospheres'\n",
    "        \n",
    "        ### removing unneccessary variables ###\n",
    "        if 'lev_bounds' in item_out:\n",
    "            item_out = item_out.drop_vars(('lev_bounds'))\n",
    "        if 'time_bounds' in item_out:\n",
    "            item_out = item_out.drop_vars(('time_bounds'))\n",
    "        if 'lev_partial' in item_out:\n",
    "            item_out = item_out.drop_vars(('lev_partial'))\n",
    "        if 'nbnd' in item_out:\n",
    "            item_out = item_out.drop_vars(('nbnd'))\n",
    "        if 'lev_partial' in item_out.chl.dims:\n",
    "            item_out['chl'] = item_out['chl'].sel({'lev_partial':1},drop=True)\n",
    "    \n",
    "        ## fixing variable/coord names ###\n",
    "        fixed_names = ['ylat','xlon','mld','sss','sst']\n",
    "        old_names = ['latitude','longitude','mlotst','sos','tos']\n",
    "        \n",
    "        for new,old in zip(fixed_names,old_names):\n",
    "            item_out = item_out.rename({old:new})\n",
    "        \n",
    "        ## calculate pco2-T (temperature component of pco2) and pco2-residual (or \"non-T pco2\")\n",
    "        pco2_T_calc = item_out['spco2'].mean('time') * np.exp(0.0423 * (item_out['sst'] - item_out['sst'].mean(\"time\"))) \n",
    "                        # the part of pCO₂ variability that can be explained just by temperature effects explained by an exponential relationship\n",
    "        pco2_resid_calc = item_out['spco2'] - pco2_T_calc # pCO2 residual -> our target variable\n",
    "        \n",
    "        item_out = item_out.assign(pco2_T = pco2_T_calc)               # add temporal component of pCO2 as variable \n",
    "        item_out = item_out.assign(pco2_residual = pco2_resid_calc)    # add the pCO2 residual as variable\n",
    "\n",
    "        ## to make sure dimensions are lined up for all variables\n",
    "        item_out = item_out.transpose('time','ylat','xlon')\n",
    "\n",
    "        ## save regridded member data\n",
    "        save_path = f\"{ensemble_dir}/{item.attrs['source_id']}/member_{item.attrs['intake_esm_attrs:member_id']}/{item_id}.zarr\"\n",
    "                        # saved in: ESM model > Member ID name > ESM_member.Omon.zarr\n",
    "        print(f\"Writing to {save_path = }\")\n",
    "        with ProgressBar():\n",
    "            item_out.chunk({'time':200}).to_zarr(save_path, mode='w')\n",
    "        member_counter +=1"
   ]
  },
  {
   "cell_type": "code",
   "execution_count": null,
   "id": "a0fc24ee-86c6-48d6-8bec-3edad1d506c4",
   "metadata": {},
   "outputs": [],
   "source": [
    "fs.ls('gs://leap-persistent/mauriekeppens/Ensemble_Testbed_Analysis/00_regridded_members')"
   ]
  },
  {
   "cell_type": "code",
   "execution_count": 7,
   "id": "2acd3d48-7eef-408d-bfb2-dd05a06f06b3",
   "metadata": {},
   "outputs": [
    {
     "data": {
      "text/plain": [
       "['leap-persistent/mauriekeppens/pco2_residual/post00_regridded_members/CESM2/member_r10i1p1f1/CESM2.r10i1p1f1.Omon.zarr']"
      ]
     },
     "execution_count": 7,
     "metadata": {},
     "output_type": "execute_result"
    }
   ],
   "source": [
    "all_members = []\n",
    "for model_folder in fs.ls('gs://leap-persistent/mauriekeppens/Ensemble_Testbed_Analysis/00_regridded_members'):\n",
    "    members = fs.ls(model_folder)\n",
    "    all_members.extend(members)\n",
    "\n",
    "print(\"Number of saved ESM members:\", len(all_members))"
   ]
  },
  {
   "cell_type": "code",
   "execution_count": 41,
   "id": "1cfd0f19-f3fa-49be-8e2b-abbe4bf5d830",
   "metadata": {},
   "outputs": [
    {
     "data": {
      "text/plain": [
       "['leap-persistent/mauriekeppens/pco2_residual']"
      ]
     },
     "execution_count": 41,
     "metadata": {},
     "output_type": "execute_result"
    }
   ],
   "source": [
    "fs.ls('gs://leap-persistent/mauriekeppens')"
   ]
  },
  {
   "cell_type": "code",
   "execution_count": null,
   "id": "e0f594f3-2890-466c-9533-f2893e4881d3",
   "metadata": {},
   "outputs": [],
   "source": []
  }
 ],
 "metadata": {
  "kernelspec": {
   "display_name": "Python 3 (ipykernel)",
   "language": "python",
   "name": "python3"
  },
  "language_info": {
   "codemirror_mode": {
    "name": "ipython",
    "version": 3
   },
   "file_extension": ".py",
   "mimetype": "text/x-python",
   "name": "python",
   "nbconvert_exporter": "python",
   "pygments_lexer": "ipython3",
   "version": "3.12.11"
  }
 },
 "nbformat": 4,
 "nbformat_minor": 5
}
